{
 "cells": [
  {
   "cell_type": "markdown",
   "metadata": {},
   "source": [
    "___\n",
    "\n",
    "<a href='http://www.pieriandata.com'> <img src='../Pierian_Data_Logo.png' /></a>\n",
    "___\n",
    "# Plotly and Cufflinks"
   ]
  },
  {
   "cell_type": "markdown",
   "metadata": {},
   "source": [
    "Plotly is a library that allows you to create interactive plots that you can use in dashboards or websites (you can save them as html files or static images).\n",
    "\n",
    "## Installation\n",
    "\n",
    "In order for this all to work, you'll need to install plotly and cufflinks to call plots directly off of a pandas dataframe. These libraries are not currently available through **conda** but are available through **pip**. Install the libraries at your command line/terminal using:\n",
    "\n",
    "    pip install plotly\n",
    "    pip install cufflinks\n",
    "\n",
    "** NOTE: Make sure you only have one installation of Python on your computer when you do this, otherwise the installation may not work. **\n",
    "\n",
    "## Imports and Set-up"
   ]
  },
  {
   "cell_type": "code",
   "execution_count": 1,
   "metadata": {
    "collapsed": true
   },
   "outputs": [],
   "source": [
    "import pandas as pd\n",
    "import numpy as np\n",
    "%matplotlib inline"
   ]
  },
  {
   "cell_type": "code",
   "execution_count": 2,
   "metadata": {
    "collapsed": false
   },
   "outputs": [
    {
     "name": "stdout",
     "output_type": "stream",
     "text": [
      "5.16.1\n"
     ]
    }
   ],
   "source": [
    "from plotly import __version__\n",
    "from plotly.offline import download_plotlyjs, init_notebook_mode, plot, iplot\n",
    "\n",
    "print(__version__) # requires version >= 1.9.0"
   ]
  },
  {
   "cell_type": "code",
   "execution_count": 3,
   "metadata": {
    "collapsed": true
   },
   "outputs": [],
   "source": [
    "import cufflinks as cf"
   ]
  },
  {
   "cell_type": "code",
   "execution_count": 4,
   "metadata": {
    "collapsed": false
   },
   "outputs": [
    {
     "data": {
      "text/html": [
       "        <script type=\"text/javascript\">\n",
       "        window.PlotlyConfig = {MathJaxConfig: 'local'};\n",
       "        if (window.MathJax && window.MathJax.Hub && window.MathJax.Hub.Config) {window.MathJax.Hub.Config({SVG: {font: \"STIX-Web\"}});}\n",
       "        if (typeof require !== 'undefined') {\n",
       "        require.undef(\"plotly\");\n",
       "        requirejs.config({\n",
       "            paths: {\n",
       "                'plotly': ['https://cdn.plot.ly/plotly-2.25.2.min']\n",
       "            }\n",
       "        });\n",
       "        require(['plotly'], function(Plotly) {\n",
       "            window._Plotly = Plotly;\n",
       "        });\n",
       "        }\n",
       "        </script>\n",
       "        "
      ]
     },
     "metadata": {},
     "output_type": "display_data"
    }
   ],
   "source": [
    "# For Notebooks\n",
    "init_notebook_mode(connected=True)"
   ]
  },
  {
   "cell_type": "code",
   "execution_count": 5,
   "metadata": {
    "collapsed": false
   },
   "outputs": [
    {
     "data": {
      "text/html": [
       "        <script type=\"text/javascript\">\n",
       "        window.PlotlyConfig = {MathJaxConfig: 'local'};\n",
       "        if (window.MathJax && window.MathJax.Hub && window.MathJax.Hub.Config) {window.MathJax.Hub.Config({SVG: {font: \"STIX-Web\"}});}\n",
       "        if (typeof require !== 'undefined') {\n",
       "        require.undef(\"plotly\");\n",
       "        requirejs.config({\n",
       "            paths: {\n",
       "                'plotly': ['https://cdn.plot.ly/plotly-2.25.2.min']\n",
       "            }\n",
       "        });\n",
       "        require(['plotly'], function(Plotly) {\n",
       "            window._Plotly = Plotly;\n",
       "        });\n",
       "        }\n",
       "        </script>\n",
       "        "
      ]
     },
     "metadata": {},
     "output_type": "display_data"
    }
   ],
   "source": [
    "# For offline use\n",
    "cf.go_offline()"
   ]
  },
  {
   "cell_type": "markdown",
   "metadata": {},
   "source": [
    "### Fake Data"
   ]
  },
  {
   "cell_type": "code",
   "execution_count": 6,
   "metadata": {
    "collapsed": false
   },
   "outputs": [],
   "source": [
    "df = pd.DataFrame(np.random.randn(100,4),columns='A B C D'.split())"
   ]
  },
  {
   "cell_type": "code",
   "execution_count": 7,
   "metadata": {
    "collapsed": false
   },
   "outputs": [
    {
     "data": {
      "text/html": [
       "<div>\n",
       "<style scoped>\n",
       "    .dataframe tbody tr th:only-of-type {\n",
       "        vertical-align: middle;\n",
       "    }\n",
       "\n",
       "    .dataframe tbody tr th {\n",
       "        vertical-align: top;\n",
       "    }\n",
       "\n",
       "    .dataframe thead th {\n",
       "        text-align: right;\n",
       "    }\n",
       "</style>\n",
       "<table border=\"1\" class=\"dataframe\">\n",
       "  <thead>\n",
       "    <tr style=\"text-align: right;\">\n",
       "      <th></th>\n",
       "      <th>A</th>\n",
       "      <th>B</th>\n",
       "      <th>C</th>\n",
       "      <th>D</th>\n",
       "    </tr>\n",
       "  </thead>\n",
       "  <tbody>\n",
       "    <tr>\n",
       "      <th>0</th>\n",
       "      <td>-1.340202</td>\n",
       "      <td>-0.969024</td>\n",
       "      <td>-0.317612</td>\n",
       "      <td>0.484022</td>\n",
       "    </tr>\n",
       "    <tr>\n",
       "      <th>1</th>\n",
       "      <td>-0.649020</td>\n",
       "      <td>-0.240910</td>\n",
       "      <td>-0.771386</td>\n",
       "      <td>-0.102240</td>\n",
       "    </tr>\n",
       "    <tr>\n",
       "      <th>2</th>\n",
       "      <td>-0.168226</td>\n",
       "      <td>0.061727</td>\n",
       "      <td>0.651014</td>\n",
       "      <td>0.118117</td>\n",
       "    </tr>\n",
       "    <tr>\n",
       "      <th>3</th>\n",
       "      <td>2.193351</td>\n",
       "      <td>-1.335842</td>\n",
       "      <td>-1.181198</td>\n",
       "      <td>-1.066635</td>\n",
       "    </tr>\n",
       "    <tr>\n",
       "      <th>4</th>\n",
       "      <td>-0.035732</td>\n",
       "      <td>0.409612</td>\n",
       "      <td>-1.169743</td>\n",
       "      <td>0.966576</td>\n",
       "    </tr>\n",
       "  </tbody>\n",
       "</table>\n",
       "</div>"
      ],
      "text/plain": [
       "          A         B         C         D\n",
       "0 -1.340202 -0.969024 -0.317612  0.484022\n",
       "1 -0.649020 -0.240910 -0.771386 -0.102240\n",
       "2 -0.168226  0.061727  0.651014  0.118117\n",
       "3  2.193351 -1.335842 -1.181198 -1.066635\n",
       "4 -0.035732  0.409612 -1.169743  0.966576"
      ]
     },
     "execution_count": 7,
     "metadata": {},
     "output_type": "execute_result"
    }
   ],
   "source": [
    "df.head()"
   ]
  },
  {
   "cell_type": "code",
   "execution_count": 8,
   "metadata": {
    "collapsed": true
   },
   "outputs": [],
   "source": [
    "df2 = pd.DataFrame({'Category':['A','B','C'],'Values':[32,43,50]})"
   ]
  },
  {
   "cell_type": "code",
   "execution_count": 9,
   "metadata": {
    "collapsed": false
   },
   "outputs": [
    {
     "data": {
      "text/html": [
       "<div>\n",
       "<style scoped>\n",
       "    .dataframe tbody tr th:only-of-type {\n",
       "        vertical-align: middle;\n",
       "    }\n",
       "\n",
       "    .dataframe tbody tr th {\n",
       "        vertical-align: top;\n",
       "    }\n",
       "\n",
       "    .dataframe thead th {\n",
       "        text-align: right;\n",
       "    }\n",
       "</style>\n",
       "<table border=\"1\" class=\"dataframe\">\n",
       "  <thead>\n",
       "    <tr style=\"text-align: right;\">\n",
       "      <th></th>\n",
       "      <th>Category</th>\n",
       "      <th>Values</th>\n",
       "    </tr>\n",
       "  </thead>\n",
       "  <tbody>\n",
       "    <tr>\n",
       "      <th>0</th>\n",
       "      <td>A</td>\n",
       "      <td>32</td>\n",
       "    </tr>\n",
       "    <tr>\n",
       "      <th>1</th>\n",
       "      <td>B</td>\n",
       "      <td>43</td>\n",
       "    </tr>\n",
       "    <tr>\n",
       "      <th>2</th>\n",
       "      <td>C</td>\n",
       "      <td>50</td>\n",
       "    </tr>\n",
       "  </tbody>\n",
       "</table>\n",
       "</div>"
      ],
      "text/plain": [
       "  Category  Values\n",
       "0        A      32\n",
       "1        B      43\n",
       "2        C      50"
      ]
     },
     "execution_count": 9,
     "metadata": {},
     "output_type": "execute_result"
    }
   ],
   "source": [
    "df2.head()"
   ]
  },
  {
   "cell_type": "markdown",
   "metadata": {},
   "source": [
    "## Using Cufflinks and iplot()\n",
    "\n",
    "* scatter\n",
    "* bar\n",
    "* box\n",
    "* spread\n",
    "* ratio\n",
    "* heatmap\n",
    "* surface\n",
    "* histogram\n",
    "* bubble"
   ]
  },
  {
   "cell_type": "markdown",
   "metadata": {},
   "source": [
    "## Scatter"
   ]
  },
  {
   "cell_type": "code",
   "execution_count": 19,
   "metadata": {
    "collapsed": false
   },
   "outputs": [
    {
     "data": {
      "application/vnd.plotly.v1+json": {
       "config": {
        "linkText": "Export to plot.ly",
        "plotlyServerURL": "https://plot.ly",
        "showLink": true
       },
       "data": [
        {
         "line": {
          "color": "rgba(255, 153, 51, 1.0)",
          "dash": "solid",
          "shape": "linear",
          "width": 1.3
         },
         "marker": {
          "size": 10,
          "symbol": "circle"
         },
         "mode": "markers",
         "name": "B",
         "text": "",
         "type": "scatter",
         "x": [
          -1.3402016232243987,
          -0.649020214887379,
          -0.1682257323904412,
          2.193351046396256,
          -0.03573185326863341,
          -1.0307989329934075,
          -0.31001491329916697,
          0.22297126297492637,
          0.6122609371476259,
          -2.117750882736682,
          0.3272545474121727,
          1.1386299196654515,
          -0.4154436052538386,
          1.0779279014688374,
          -0.33924919653852054,
          -0.05106266578488151,
          -1.2273122208986817,
          0.13163095652086673,
          0.6861422996774701,
          -1.4929644029779623,
          0.7150917642789755,
          1.814864989428972,
          0.9247864218619752,
          0.1584202308262772,
          1.3776632444592147,
          -0.8326001639401515,
          1.181045793801218,
          -0.374786520171287,
          -1.0314030959357248,
          -1.405302986742882,
          1.307505538855658,
          0.28061501742315353,
          -0.27765619411536585,
          1.037160257723475,
          -0.06440534965266251,
          -0.793112145628941,
          -2.123781691651395,
          0.7175911466979235,
          -0.9935809840486913,
          0.102082618948086,
          2.5401308092916937,
          0.6994358348094193,
          0.37786736051270964,
          0.36914437145631324,
          -0.18534855714732013,
          -0.2839090460128509,
          -0.6674685004133002,
          -1.1939521780587363,
          0.22405329359385473,
          0.30397583811713497,
          2.150058233613433,
          -0.6912701612509979,
          0.24011301797624413,
          -0.8920054636597202,
          -1.1362101375723168,
          -0.2445198402137013,
          -1.464257619736692,
          -1.131466171469585,
          0.5006879161128014,
          -0.0060776854956445915,
          -0.24392875687830465,
          0.6797274182867651,
          -0.029234509609762142,
          -1.062499955977877,
          0.6439254781690764,
          0.5783337153396132,
          -0.1944123189471814,
          -0.2167287075789601,
          -0.024164469729240884,
          0.05793902626343979,
          0.8986897207398744,
          1.0031118779125756,
          2.031724621187272,
          -0.10250037152497271,
          -1.1186755466234815,
          -1.1843577588561136,
          -1.5662760148060901,
          -1.219161823281136,
          -1.1593766556630698,
          -0.027439127229870085,
          0.018316738046942258,
          -0.6922784874155976,
          0.07979753670333341,
          0.22962384107885242,
          0.20152715612661043,
          -0.3285086721135077,
          -0.4779892642970852,
          -0.42324897569430525,
          -2.738587292705288,
          -0.35618875561801133,
          1.1560776988758348,
          -0.7923919414392832,
          0.7825784632218197,
          0.08966821419878798,
          -0.6329579247795905,
          -0.375129963188778,
          -0.8639214742522782,
          0.40125309184897434,
          0.5185039514250023,
          0.05590068286289588
         ],
         "y": [
          -0.9690244560766667,
          -0.24091027670686352,
          0.06172657545459743,
          -1.3358418161138446,
          0.4096119688660683,
          0.21648207305952347,
          1.5494564109673212,
          -0.5272035737836958,
          0.9936728832488787,
          1.6998421007416729,
          -0.5350070839408002,
          1.142373991163409,
          0.28043404231004704,
          -0.12769281150264328,
          -1.6037993962606607,
          0.5265483510398294,
          0.6901568262269182,
          0.15982885802970115,
          0.39314699605901254,
          0.11442065176845712,
          1.1243539020059987,
          1.1152052967861483,
          0.2780180827228744,
          1.4584229801030515,
          1.4978308842176264,
          -0.5437462494865144,
          0.18413726991006588,
          0.6269539326224163,
          -2.5047420918321257,
          -0.6212320955813105,
          0.08172489190197559,
          -0.6399969402483794,
          -0.15252884600524794,
          0.7774564761486727,
          0.37641731136611345,
          -0.6411375959139302,
          1.4093851243875426,
          -0.7630593139882308,
          0.10385408112188718,
          0.9157584272126849,
          0.06737938308580205,
          0.4412611451538305,
          -0.42090358284399665,
          0.4232808577387168,
          0.2761393043199375,
          1.138092905016683,
          1.8973244739280186,
          0.19108988361415394,
          0.13251187903126746,
          1.5160740123760557,
          -0.47908398458207774,
          0.2849672103236269,
          -0.3767923189387514,
          2.2667184992162563,
          1.975737356877006,
          -0.3133790957536171,
          0.42849388398643246,
          -1.1098435632620174,
          0.7432415272682933,
          0.8773264563497847,
          -1.5027064039710905,
          -0.5467087382492198,
          -0.22462087224068003,
          0.9213508618810443,
          1.382123867957571,
          -0.7145203155188684,
          -0.7637499403917496,
          0.37410803547132204,
          0.372442129996429,
          -0.599660356333412,
          -0.02335861163390679,
          0.4139060275767294,
          0.19756760881077232,
          0.4696597038850513,
          0.3168977038265884,
          0.28168663667665017,
          -1.116787362925828,
          0.1991967912578874,
          0.6389382678317415,
          0.13410834811540082,
          0.0031633990525533,
          -0.6308432596799884,
          1.5266337378580441,
          -0.2036437953940007,
          -2.105541619115384,
          0.5987154691588157,
          0.8289444115085323,
          -1.3488492705330655,
          -0.28987568392444796,
          -1.3420110021319405,
          0.2729186132865296,
          0.6159737529548067,
          0.7078416094987383,
          -0.5693004239201993,
          0.1797509878233235,
          -0.2736610552159289,
          1.2706296230538061,
          0.041079620995538205,
          1.5558794301479135,
          1.23589773548267
         ]
        }
       ],
       "layout": {
        "legend": {
         "bgcolor": "#F5F6F9",
         "font": {
          "color": "#4D5663"
         }
        },
        "paper_bgcolor": "#F5F6F9",
        "plot_bgcolor": "#F5F6F9",
        "template": {
         "data": {
          "bar": [
           {
            "error_x": {
             "color": "#2a3f5f"
            },
            "error_y": {
             "color": "#2a3f5f"
            },
            "marker": {
             "line": {
              "color": "#E5ECF6",
              "width": 0.5
             },
             "pattern": {
              "fillmode": "overlay",
              "size": 10,
              "solidity": 0.2
             }
            },
            "type": "bar"
           }
          ],
          "barpolar": [
           {
            "marker": {
             "line": {
              "color": "#E5ECF6",
              "width": 0.5
             },
             "pattern": {
              "fillmode": "overlay",
              "size": 10,
              "solidity": 0.2
             }
            },
            "type": "barpolar"
           }
          ],
          "carpet": [
           {
            "aaxis": {
             "endlinecolor": "#2a3f5f",
             "gridcolor": "white",
             "linecolor": "white",
             "minorgridcolor": "white",
             "startlinecolor": "#2a3f5f"
            },
            "baxis": {
             "endlinecolor": "#2a3f5f",
             "gridcolor": "white",
             "linecolor": "white",
             "minorgridcolor": "white",
             "startlinecolor": "#2a3f5f"
            },
            "type": "carpet"
           }
          ],
          "choropleth": [
           {
            "colorbar": {
             "outlinewidth": 0,
             "ticks": ""
            },
            "type": "choropleth"
           }
          ],
          "contour": [
           {
            "colorbar": {
             "outlinewidth": 0,
             "ticks": ""
            },
            "colorscale": [
             [
              0,
              "#0d0887"
             ],
             [
              0.1111111111111111,
              "#46039f"
             ],
             [
              0.2222222222222222,
              "#7201a8"
             ],
             [
              0.3333333333333333,
              "#9c179e"
             ],
             [
              0.4444444444444444,
              "#bd3786"
             ],
             [
              0.5555555555555556,
              "#d8576b"
             ],
             [
              0.6666666666666666,
              "#ed7953"
             ],
             [
              0.7777777777777778,
              "#fb9f3a"
             ],
             [
              0.8888888888888888,
              "#fdca26"
             ],
             [
              1,
              "#f0f921"
             ]
            ],
            "type": "contour"
           }
          ],
          "contourcarpet": [
           {
            "colorbar": {
             "outlinewidth": 0,
             "ticks": ""
            },
            "type": "contourcarpet"
           }
          ],
          "heatmap": [
           {
            "colorbar": {
             "outlinewidth": 0,
             "ticks": ""
            },
            "colorscale": [
             [
              0,
              "#0d0887"
             ],
             [
              0.1111111111111111,
              "#46039f"
             ],
             [
              0.2222222222222222,
              "#7201a8"
             ],
             [
              0.3333333333333333,
              "#9c179e"
             ],
             [
              0.4444444444444444,
              "#bd3786"
             ],
             [
              0.5555555555555556,
              "#d8576b"
             ],
             [
              0.6666666666666666,
              "#ed7953"
             ],
             [
              0.7777777777777778,
              "#fb9f3a"
             ],
             [
              0.8888888888888888,
              "#fdca26"
             ],
             [
              1,
              "#f0f921"
             ]
            ],
            "type": "heatmap"
           }
          ],
          "heatmapgl": [
           {
            "colorbar": {
             "outlinewidth": 0,
             "ticks": ""
            },
            "colorscale": [
             [
              0,
              "#0d0887"
             ],
             [
              0.1111111111111111,
              "#46039f"
             ],
             [
              0.2222222222222222,
              "#7201a8"
             ],
             [
              0.3333333333333333,
              "#9c179e"
             ],
             [
              0.4444444444444444,
              "#bd3786"
             ],
             [
              0.5555555555555556,
              "#d8576b"
             ],
             [
              0.6666666666666666,
              "#ed7953"
             ],
             [
              0.7777777777777778,
              "#fb9f3a"
             ],
             [
              0.8888888888888888,
              "#fdca26"
             ],
             [
              1,
              "#f0f921"
             ]
            ],
            "type": "heatmapgl"
           }
          ],
          "histogram": [
           {
            "marker": {
             "pattern": {
              "fillmode": "overlay",
              "size": 10,
              "solidity": 0.2
             }
            },
            "type": "histogram"
           }
          ],
          "histogram2d": [
           {
            "colorbar": {
             "outlinewidth": 0,
             "ticks": ""
            },
            "colorscale": [
             [
              0,
              "#0d0887"
             ],
             [
              0.1111111111111111,
              "#46039f"
             ],
             [
              0.2222222222222222,
              "#7201a8"
             ],
             [
              0.3333333333333333,
              "#9c179e"
             ],
             [
              0.4444444444444444,
              "#bd3786"
             ],
             [
              0.5555555555555556,
              "#d8576b"
             ],
             [
              0.6666666666666666,
              "#ed7953"
             ],
             [
              0.7777777777777778,
              "#fb9f3a"
             ],
             [
              0.8888888888888888,
              "#fdca26"
             ],
             [
              1,
              "#f0f921"
             ]
            ],
            "type": "histogram2d"
           }
          ],
          "histogram2dcontour": [
           {
            "colorbar": {
             "outlinewidth": 0,
             "ticks": ""
            },
            "colorscale": [
             [
              0,
              "#0d0887"
             ],
             [
              0.1111111111111111,
              "#46039f"
             ],
             [
              0.2222222222222222,
              "#7201a8"
             ],
             [
              0.3333333333333333,
              "#9c179e"
             ],
             [
              0.4444444444444444,
              "#bd3786"
             ],
             [
              0.5555555555555556,
              "#d8576b"
             ],
             [
              0.6666666666666666,
              "#ed7953"
             ],
             [
              0.7777777777777778,
              "#fb9f3a"
             ],
             [
              0.8888888888888888,
              "#fdca26"
             ],
             [
              1,
              "#f0f921"
             ]
            ],
            "type": "histogram2dcontour"
           }
          ],
          "mesh3d": [
           {
            "colorbar": {
             "outlinewidth": 0,
             "ticks": ""
            },
            "type": "mesh3d"
           }
          ],
          "parcoords": [
           {
            "line": {
             "colorbar": {
              "outlinewidth": 0,
              "ticks": ""
             }
            },
            "type": "parcoords"
           }
          ],
          "pie": [
           {
            "automargin": true,
            "type": "pie"
           }
          ],
          "scatter": [
           {
            "fillpattern": {
             "fillmode": "overlay",
             "size": 10,
             "solidity": 0.2
            },
            "type": "scatter"
           }
          ],
          "scatter3d": [
           {
            "line": {
             "colorbar": {
              "outlinewidth": 0,
              "ticks": ""
             }
            },
            "marker": {
             "colorbar": {
              "outlinewidth": 0,
              "ticks": ""
             }
            },
            "type": "scatter3d"
           }
          ],
          "scattercarpet": [
           {
            "marker": {
             "colorbar": {
              "outlinewidth": 0,
              "ticks": ""
             }
            },
            "type": "scattercarpet"
           }
          ],
          "scattergeo": [
           {
            "marker": {
             "colorbar": {
              "outlinewidth": 0,
              "ticks": ""
             }
            },
            "type": "scattergeo"
           }
          ],
          "scattergl": [
           {
            "marker": {
             "colorbar": {
              "outlinewidth": 0,
              "ticks": ""
             }
            },
            "type": "scattergl"
           }
          ],
          "scattermapbox": [
           {
            "marker": {
             "colorbar": {
              "outlinewidth": 0,
              "ticks": ""
             }
            },
            "type": "scattermapbox"
           }
          ],
          "scatterpolar": [
           {
            "marker": {
             "colorbar": {
              "outlinewidth": 0,
              "ticks": ""
             }
            },
            "type": "scatterpolar"
           }
          ],
          "scatterpolargl": [
           {
            "marker": {
             "colorbar": {
              "outlinewidth": 0,
              "ticks": ""
             }
            },
            "type": "scatterpolargl"
           }
          ],
          "scatterternary": [
           {
            "marker": {
             "colorbar": {
              "outlinewidth": 0,
              "ticks": ""
             }
            },
            "type": "scatterternary"
           }
          ],
          "surface": [
           {
            "colorbar": {
             "outlinewidth": 0,
             "ticks": ""
            },
            "colorscale": [
             [
              0,
              "#0d0887"
             ],
             [
              0.1111111111111111,
              "#46039f"
             ],
             [
              0.2222222222222222,
              "#7201a8"
             ],
             [
              0.3333333333333333,
              "#9c179e"
             ],
             [
              0.4444444444444444,
              "#bd3786"
             ],
             [
              0.5555555555555556,
              "#d8576b"
             ],
             [
              0.6666666666666666,
              "#ed7953"
             ],
             [
              0.7777777777777778,
              "#fb9f3a"
             ],
             [
              0.8888888888888888,
              "#fdca26"
             ],
             [
              1,
              "#f0f921"
             ]
            ],
            "type": "surface"
           }
          ],
          "table": [
           {
            "cells": {
             "fill": {
              "color": "#EBF0F8"
             },
             "line": {
              "color": "white"
             }
            },
            "header": {
             "fill": {
              "color": "#C8D4E3"
             },
             "line": {
              "color": "white"
             }
            },
            "type": "table"
           }
          ]
         },
         "layout": {
          "annotationdefaults": {
           "arrowcolor": "#2a3f5f",
           "arrowhead": 0,
           "arrowwidth": 1
          },
          "autotypenumbers": "strict",
          "coloraxis": {
           "colorbar": {
            "outlinewidth": 0,
            "ticks": ""
           }
          },
          "colorscale": {
           "diverging": [
            [
             0,
             "#8e0152"
            ],
            [
             0.1,
             "#c51b7d"
            ],
            [
             0.2,
             "#de77ae"
            ],
            [
             0.3,
             "#f1b6da"
            ],
            [
             0.4,
             "#fde0ef"
            ],
            [
             0.5,
             "#f7f7f7"
            ],
            [
             0.6,
             "#e6f5d0"
            ],
            [
             0.7,
             "#b8e186"
            ],
            [
             0.8,
             "#7fbc41"
            ],
            [
             0.9,
             "#4d9221"
            ],
            [
             1,
             "#276419"
            ]
           ],
           "sequential": [
            [
             0,
             "#0d0887"
            ],
            [
             0.1111111111111111,
             "#46039f"
            ],
            [
             0.2222222222222222,
             "#7201a8"
            ],
            [
             0.3333333333333333,
             "#9c179e"
            ],
            [
             0.4444444444444444,
             "#bd3786"
            ],
            [
             0.5555555555555556,
             "#d8576b"
            ],
            [
             0.6666666666666666,
             "#ed7953"
            ],
            [
             0.7777777777777778,
             "#fb9f3a"
            ],
            [
             0.8888888888888888,
             "#fdca26"
            ],
            [
             1,
             "#f0f921"
            ]
           ],
           "sequentialminus": [
            [
             0,
             "#0d0887"
            ],
            [
             0.1111111111111111,
             "#46039f"
            ],
            [
             0.2222222222222222,
             "#7201a8"
            ],
            [
             0.3333333333333333,
             "#9c179e"
            ],
            [
             0.4444444444444444,
             "#bd3786"
            ],
            [
             0.5555555555555556,
             "#d8576b"
            ],
            [
             0.6666666666666666,
             "#ed7953"
            ],
            [
             0.7777777777777778,
             "#fb9f3a"
            ],
            [
             0.8888888888888888,
             "#fdca26"
            ],
            [
             1,
             "#f0f921"
            ]
           ]
          },
          "colorway": [
           "#636efa",
           "#EF553B",
           "#00cc96",
           "#ab63fa",
           "#FFA15A",
           "#19d3f3",
           "#FF6692",
           "#B6E880",
           "#FF97FF",
           "#FECB52"
          ],
          "font": {
           "color": "#2a3f5f"
          },
          "geo": {
           "bgcolor": "white",
           "lakecolor": "white",
           "landcolor": "#E5ECF6",
           "showlakes": true,
           "showland": true,
           "subunitcolor": "white"
          },
          "hoverlabel": {
           "align": "left"
          },
          "hovermode": "closest",
          "mapbox": {
           "style": "light"
          },
          "paper_bgcolor": "white",
          "plot_bgcolor": "#E5ECF6",
          "polar": {
           "angularaxis": {
            "gridcolor": "white",
            "linecolor": "white",
            "ticks": ""
           },
           "bgcolor": "#E5ECF6",
           "radialaxis": {
            "gridcolor": "white",
            "linecolor": "white",
            "ticks": ""
           }
          },
          "scene": {
           "xaxis": {
            "backgroundcolor": "#E5ECF6",
            "gridcolor": "white",
            "gridwidth": 2,
            "linecolor": "white",
            "showbackground": true,
            "ticks": "",
            "zerolinecolor": "white"
           },
           "yaxis": {
            "backgroundcolor": "#E5ECF6",
            "gridcolor": "white",
            "gridwidth": 2,
            "linecolor": "white",
            "showbackground": true,
            "ticks": "",
            "zerolinecolor": "white"
           },
           "zaxis": {
            "backgroundcolor": "#E5ECF6",
            "gridcolor": "white",
            "gridwidth": 2,
            "linecolor": "white",
            "showbackground": true,
            "ticks": "",
            "zerolinecolor": "white"
           }
          },
          "shapedefaults": {
           "line": {
            "color": "#2a3f5f"
           }
          },
          "ternary": {
           "aaxis": {
            "gridcolor": "white",
            "linecolor": "white",
            "ticks": ""
           },
           "baxis": {
            "gridcolor": "white",
            "linecolor": "white",
            "ticks": ""
           },
           "bgcolor": "#E5ECF6",
           "caxis": {
            "gridcolor": "white",
            "linecolor": "white",
            "ticks": ""
           }
          },
          "title": {
           "x": 0.05
          },
          "xaxis": {
           "automargin": true,
           "gridcolor": "white",
           "linecolor": "white",
           "ticks": "",
           "title": {
            "standoff": 15
           },
           "zerolinecolor": "white",
           "zerolinewidth": 2
          },
          "yaxis": {
           "automargin": true,
           "gridcolor": "white",
           "linecolor": "white",
           "ticks": "",
           "title": {
            "standoff": 15
           },
           "zerolinecolor": "white",
           "zerolinewidth": 2
          }
         }
        },
        "title": {
         "font": {
          "color": "#4D5663"
         }
        },
        "xaxis": {
         "gridcolor": "#E1E5ED",
         "showgrid": true,
         "tickfont": {
          "color": "#4D5663"
         },
         "title": {
          "font": {
           "color": "#4D5663"
          },
          "text": ""
         },
         "zerolinecolor": "#E1E5ED"
        },
        "yaxis": {
         "gridcolor": "#E1E5ED",
         "showgrid": true,
         "tickfont": {
          "color": "#4D5663"
         },
         "title": {
          "font": {
           "color": "#4D5663"
          },
          "text": ""
         },
         "zerolinecolor": "#E1E5ED"
        }
       }
      },
      "text/html": [
       "<div>                            <div id=\"56a79dd8-47f7-4151-8960-38fc521258a1\" class=\"plotly-graph-div\" style=\"height:525px; width:100%;\"></div>            <script type=\"text/javascript\">                require([\"plotly\"], function(Plotly) {                    window.PLOTLYENV=window.PLOTLYENV || {};\n",
       "                    window.PLOTLYENV.BASE_URL='https://plot.ly';                                    if (document.getElementById(\"56a79dd8-47f7-4151-8960-38fc521258a1\")) {                    Plotly.newPlot(                        \"56a79dd8-47f7-4151-8960-38fc521258a1\",                        [{\"line\":{\"color\":\"rgba(255, 153, 51, 1.0)\",\"dash\":\"solid\",\"shape\":\"linear\",\"width\":1.3},\"marker\":{\"size\":10,\"symbol\":\"circle\"},\"mode\":\"markers\",\"name\":\"B\",\"text\":\"\",\"x\":[-1.3402016232243987,-0.649020214887379,-0.1682257323904412,2.193351046396256,-0.03573185326863341,-1.0307989329934075,-0.31001491329916697,0.22297126297492637,0.6122609371476259,-2.117750882736682,0.3272545474121727,1.1386299196654515,-0.4154436052538386,1.0779279014688374,-0.33924919653852054,-0.05106266578488151,-1.2273122208986817,0.13163095652086673,0.6861422996774701,-1.4929644029779623,0.7150917642789755,1.814864989428972,0.9247864218619752,0.1584202308262772,1.3776632444592147,-0.8326001639401515,1.181045793801218,-0.374786520171287,-1.0314030959357248,-1.405302986742882,1.307505538855658,0.28061501742315353,-0.27765619411536585,1.037160257723475,-0.06440534965266251,-0.793112145628941,-2.123781691651395,0.7175911466979235,-0.9935809840486913,0.102082618948086,2.5401308092916937,0.6994358348094193,0.37786736051270964,0.36914437145631324,-0.18534855714732013,-0.2839090460128509,-0.6674685004133002,-1.1939521780587363,0.22405329359385473,0.30397583811713497,2.150058233613433,-0.6912701612509979,0.24011301797624413,-0.8920054636597202,-1.1362101375723168,-0.2445198402137013,-1.464257619736692,-1.131466171469585,0.5006879161128014,-0.0060776854956445915,-0.24392875687830465,0.6797274182867651,-0.029234509609762142,-1.062499955977877,0.6439254781690764,0.5783337153396132,-0.1944123189471814,-0.2167287075789601,-0.024164469729240884,0.05793902626343979,0.8986897207398744,1.0031118779125756,2.031724621187272,-0.10250037152497271,-1.1186755466234815,-1.1843577588561136,-1.5662760148060901,-1.219161823281136,-1.1593766556630698,-0.027439127229870085,0.018316738046942258,-0.6922784874155976,0.07979753670333341,0.22962384107885242,0.20152715612661043,-0.3285086721135077,-0.4779892642970852,-0.42324897569430525,-2.738587292705288,-0.35618875561801133,1.1560776988758348,-0.7923919414392832,0.7825784632218197,0.08966821419878798,-0.6329579247795905,-0.375129963188778,-0.8639214742522782,0.40125309184897434,0.5185039514250023,0.05590068286289588],\"y\":[-0.9690244560766667,-0.24091027670686352,0.06172657545459743,-1.3358418161138446,0.4096119688660683,0.21648207305952347,1.5494564109673212,-0.5272035737836958,0.9936728832488787,1.6998421007416729,-0.5350070839408002,1.142373991163409,0.28043404231004704,-0.12769281150264328,-1.6037993962606607,0.5265483510398294,0.6901568262269182,0.15982885802970115,0.39314699605901254,0.11442065176845712,1.1243539020059987,1.1152052967861483,0.2780180827228744,1.4584229801030515,1.4978308842176264,-0.5437462494865144,0.18413726991006588,0.6269539326224163,-2.5047420918321257,-0.6212320955813105,0.08172489190197559,-0.6399969402483794,-0.15252884600524794,0.7774564761486727,0.37641731136611345,-0.6411375959139302,1.4093851243875426,-0.7630593139882308,0.10385408112188718,0.9157584272126849,0.06737938308580205,0.4412611451538305,-0.42090358284399665,0.4232808577387168,0.2761393043199375,1.138092905016683,1.8973244739280186,0.19108988361415394,0.13251187903126746,1.5160740123760557,-0.47908398458207774,0.2849672103236269,-0.3767923189387514,2.2667184992162563,1.975737356877006,-0.3133790957536171,0.42849388398643246,-1.1098435632620174,0.7432415272682933,0.8773264563497847,-1.5027064039710905,-0.5467087382492198,-0.22462087224068003,0.9213508618810443,1.382123867957571,-0.7145203155188684,-0.7637499403917496,0.37410803547132204,0.372442129996429,-0.599660356333412,-0.02335861163390679,0.4139060275767294,0.19756760881077232,0.4696597038850513,0.3168977038265884,0.28168663667665017,-1.116787362925828,0.1991967912578874,0.6389382678317415,0.13410834811540082,0.0031633990525533,-0.6308432596799884,1.5266337378580441,-0.2036437953940007,-2.105541619115384,0.5987154691588157,0.8289444115085323,-1.3488492705330655,-0.28987568392444796,-1.3420110021319405,0.2729186132865296,0.6159737529548067,0.7078416094987383,-0.5693004239201993,0.1797509878233235,-0.2736610552159289,1.2706296230538061,0.041079620995538205,1.5558794301479135,1.23589773548267],\"type\":\"scatter\"}],                        {\"legend\":{\"bgcolor\":\"#F5F6F9\",\"font\":{\"color\":\"#4D5663\"}},\"paper_bgcolor\":\"#F5F6F9\",\"plot_bgcolor\":\"#F5F6F9\",\"template\":{\"data\":{\"barpolar\":[{\"marker\":{\"line\":{\"color\":\"#E5ECF6\",\"width\":0.5},\"pattern\":{\"fillmode\":\"overlay\",\"size\":10,\"solidity\":0.2}},\"type\":\"barpolar\"}],\"bar\":[{\"error_x\":{\"color\":\"#2a3f5f\"},\"error_y\":{\"color\":\"#2a3f5f\"},\"marker\":{\"line\":{\"color\":\"#E5ECF6\",\"width\":0.5},\"pattern\":{\"fillmode\":\"overlay\",\"size\":10,\"solidity\":0.2}},\"type\":\"bar\"}],\"carpet\":[{\"aaxis\":{\"endlinecolor\":\"#2a3f5f\",\"gridcolor\":\"white\",\"linecolor\":\"white\",\"minorgridcolor\":\"white\",\"startlinecolor\":\"#2a3f5f\"},\"baxis\":{\"endlinecolor\":\"#2a3f5f\",\"gridcolor\":\"white\",\"linecolor\":\"white\",\"minorgridcolor\":\"white\",\"startlinecolor\":\"#2a3f5f\"},\"type\":\"carpet\"}],\"choropleth\":[{\"colorbar\":{\"outlinewidth\":0,\"ticks\":\"\"},\"type\":\"choropleth\"}],\"contourcarpet\":[{\"colorbar\":{\"outlinewidth\":0,\"ticks\":\"\"},\"type\":\"contourcarpet\"}],\"contour\":[{\"colorbar\":{\"outlinewidth\":0,\"ticks\":\"\"},\"colorscale\":[[0.0,\"#0d0887\"],[0.1111111111111111,\"#46039f\"],[0.2222222222222222,\"#7201a8\"],[0.3333333333333333,\"#9c179e\"],[0.4444444444444444,\"#bd3786\"],[0.5555555555555556,\"#d8576b\"],[0.6666666666666666,\"#ed7953\"],[0.7777777777777778,\"#fb9f3a\"],[0.8888888888888888,\"#fdca26\"],[1.0,\"#f0f921\"]],\"type\":\"contour\"}],\"heatmapgl\":[{\"colorbar\":{\"outlinewidth\":0,\"ticks\":\"\"},\"colorscale\":[[0.0,\"#0d0887\"],[0.1111111111111111,\"#46039f\"],[0.2222222222222222,\"#7201a8\"],[0.3333333333333333,\"#9c179e\"],[0.4444444444444444,\"#bd3786\"],[0.5555555555555556,\"#d8576b\"],[0.6666666666666666,\"#ed7953\"],[0.7777777777777778,\"#fb9f3a\"],[0.8888888888888888,\"#fdca26\"],[1.0,\"#f0f921\"]],\"type\":\"heatmapgl\"}],\"heatmap\":[{\"colorbar\":{\"outlinewidth\":0,\"ticks\":\"\"},\"colorscale\":[[0.0,\"#0d0887\"],[0.1111111111111111,\"#46039f\"],[0.2222222222222222,\"#7201a8\"],[0.3333333333333333,\"#9c179e\"],[0.4444444444444444,\"#bd3786\"],[0.5555555555555556,\"#d8576b\"],[0.6666666666666666,\"#ed7953\"],[0.7777777777777778,\"#fb9f3a\"],[0.8888888888888888,\"#fdca26\"],[1.0,\"#f0f921\"]],\"type\":\"heatmap\"}],\"histogram2dcontour\":[{\"colorbar\":{\"outlinewidth\":0,\"ticks\":\"\"},\"colorscale\":[[0.0,\"#0d0887\"],[0.1111111111111111,\"#46039f\"],[0.2222222222222222,\"#7201a8\"],[0.3333333333333333,\"#9c179e\"],[0.4444444444444444,\"#bd3786\"],[0.5555555555555556,\"#d8576b\"],[0.6666666666666666,\"#ed7953\"],[0.7777777777777778,\"#fb9f3a\"],[0.8888888888888888,\"#fdca26\"],[1.0,\"#f0f921\"]],\"type\":\"histogram2dcontour\"}],\"histogram2d\":[{\"colorbar\":{\"outlinewidth\":0,\"ticks\":\"\"},\"colorscale\":[[0.0,\"#0d0887\"],[0.1111111111111111,\"#46039f\"],[0.2222222222222222,\"#7201a8\"],[0.3333333333333333,\"#9c179e\"],[0.4444444444444444,\"#bd3786\"],[0.5555555555555556,\"#d8576b\"],[0.6666666666666666,\"#ed7953\"],[0.7777777777777778,\"#fb9f3a\"],[0.8888888888888888,\"#fdca26\"],[1.0,\"#f0f921\"]],\"type\":\"histogram2d\"}],\"histogram\":[{\"marker\":{\"pattern\":{\"fillmode\":\"overlay\",\"size\":10,\"solidity\":0.2}},\"type\":\"histogram\"}],\"mesh3d\":[{\"colorbar\":{\"outlinewidth\":0,\"ticks\":\"\"},\"type\":\"mesh3d\"}],\"parcoords\":[{\"line\":{\"colorbar\":{\"outlinewidth\":0,\"ticks\":\"\"}},\"type\":\"parcoords\"}],\"pie\":[{\"automargin\":true,\"type\":\"pie\"}],\"scatter3d\":[{\"line\":{\"colorbar\":{\"outlinewidth\":0,\"ticks\":\"\"}},\"marker\":{\"colorbar\":{\"outlinewidth\":0,\"ticks\":\"\"}},\"type\":\"scatter3d\"}],\"scattercarpet\":[{\"marker\":{\"colorbar\":{\"outlinewidth\":0,\"ticks\":\"\"}},\"type\":\"scattercarpet\"}],\"scattergeo\":[{\"marker\":{\"colorbar\":{\"outlinewidth\":0,\"ticks\":\"\"}},\"type\":\"scattergeo\"}],\"scattergl\":[{\"marker\":{\"colorbar\":{\"outlinewidth\":0,\"ticks\":\"\"}},\"type\":\"scattergl\"}],\"scattermapbox\":[{\"marker\":{\"colorbar\":{\"outlinewidth\":0,\"ticks\":\"\"}},\"type\":\"scattermapbox\"}],\"scatterpolargl\":[{\"marker\":{\"colorbar\":{\"outlinewidth\":0,\"ticks\":\"\"}},\"type\":\"scatterpolargl\"}],\"scatterpolar\":[{\"marker\":{\"colorbar\":{\"outlinewidth\":0,\"ticks\":\"\"}},\"type\":\"scatterpolar\"}],\"scatter\":[{\"fillpattern\":{\"fillmode\":\"overlay\",\"size\":10,\"solidity\":0.2},\"type\":\"scatter\"}],\"scatterternary\":[{\"marker\":{\"colorbar\":{\"outlinewidth\":0,\"ticks\":\"\"}},\"type\":\"scatterternary\"}],\"surface\":[{\"colorbar\":{\"outlinewidth\":0,\"ticks\":\"\"},\"colorscale\":[[0.0,\"#0d0887\"],[0.1111111111111111,\"#46039f\"],[0.2222222222222222,\"#7201a8\"],[0.3333333333333333,\"#9c179e\"],[0.4444444444444444,\"#bd3786\"],[0.5555555555555556,\"#d8576b\"],[0.6666666666666666,\"#ed7953\"],[0.7777777777777778,\"#fb9f3a\"],[0.8888888888888888,\"#fdca26\"],[1.0,\"#f0f921\"]],\"type\":\"surface\"}],\"table\":[{\"cells\":{\"fill\":{\"color\":\"#EBF0F8\"},\"line\":{\"color\":\"white\"}},\"header\":{\"fill\":{\"color\":\"#C8D4E3\"},\"line\":{\"color\":\"white\"}},\"type\":\"table\"}]},\"layout\":{\"annotationdefaults\":{\"arrowcolor\":\"#2a3f5f\",\"arrowhead\":0,\"arrowwidth\":1},\"autotypenumbers\":\"strict\",\"coloraxis\":{\"colorbar\":{\"outlinewidth\":0,\"ticks\":\"\"}},\"colorscale\":{\"diverging\":[[0,\"#8e0152\"],[0.1,\"#c51b7d\"],[0.2,\"#de77ae\"],[0.3,\"#f1b6da\"],[0.4,\"#fde0ef\"],[0.5,\"#f7f7f7\"],[0.6,\"#e6f5d0\"],[0.7,\"#b8e186\"],[0.8,\"#7fbc41\"],[0.9,\"#4d9221\"],[1,\"#276419\"]],\"sequential\":[[0.0,\"#0d0887\"],[0.1111111111111111,\"#46039f\"],[0.2222222222222222,\"#7201a8\"],[0.3333333333333333,\"#9c179e\"],[0.4444444444444444,\"#bd3786\"],[0.5555555555555556,\"#d8576b\"],[0.6666666666666666,\"#ed7953\"],[0.7777777777777778,\"#fb9f3a\"],[0.8888888888888888,\"#fdca26\"],[1.0,\"#f0f921\"]],\"sequentialminus\":[[0.0,\"#0d0887\"],[0.1111111111111111,\"#46039f\"],[0.2222222222222222,\"#7201a8\"],[0.3333333333333333,\"#9c179e\"],[0.4444444444444444,\"#bd3786\"],[0.5555555555555556,\"#d8576b\"],[0.6666666666666666,\"#ed7953\"],[0.7777777777777778,\"#fb9f3a\"],[0.8888888888888888,\"#fdca26\"],[1.0,\"#f0f921\"]]},\"colorway\":[\"#636efa\",\"#EF553B\",\"#00cc96\",\"#ab63fa\",\"#FFA15A\",\"#19d3f3\",\"#FF6692\",\"#B6E880\",\"#FF97FF\",\"#FECB52\"],\"font\":{\"color\":\"#2a3f5f\"},\"geo\":{\"bgcolor\":\"white\",\"lakecolor\":\"white\",\"landcolor\":\"#E5ECF6\",\"showlakes\":true,\"showland\":true,\"subunitcolor\":\"white\"},\"hoverlabel\":{\"align\":\"left\"},\"hovermode\":\"closest\",\"mapbox\":{\"style\":\"light\"},\"paper_bgcolor\":\"white\",\"plot_bgcolor\":\"#E5ECF6\",\"polar\":{\"angularaxis\":{\"gridcolor\":\"white\",\"linecolor\":\"white\",\"ticks\":\"\"},\"bgcolor\":\"#E5ECF6\",\"radialaxis\":{\"gridcolor\":\"white\",\"linecolor\":\"white\",\"ticks\":\"\"}},\"scene\":{\"xaxis\":{\"backgroundcolor\":\"#E5ECF6\",\"gridcolor\":\"white\",\"gridwidth\":2,\"linecolor\":\"white\",\"showbackground\":true,\"ticks\":\"\",\"zerolinecolor\":\"white\"},\"yaxis\":{\"backgroundcolor\":\"#E5ECF6\",\"gridcolor\":\"white\",\"gridwidth\":2,\"linecolor\":\"white\",\"showbackground\":true,\"ticks\":\"\",\"zerolinecolor\":\"white\"},\"zaxis\":{\"backgroundcolor\":\"#E5ECF6\",\"gridcolor\":\"white\",\"gridwidth\":2,\"linecolor\":\"white\",\"showbackground\":true,\"ticks\":\"\",\"zerolinecolor\":\"white\"}},\"shapedefaults\":{\"line\":{\"color\":\"#2a3f5f\"}},\"ternary\":{\"aaxis\":{\"gridcolor\":\"white\",\"linecolor\":\"white\",\"ticks\":\"\"},\"baxis\":{\"gridcolor\":\"white\",\"linecolor\":\"white\",\"ticks\":\"\"},\"bgcolor\":\"#E5ECF6\",\"caxis\":{\"gridcolor\":\"white\",\"linecolor\":\"white\",\"ticks\":\"\"}},\"title\":{\"x\":0.05},\"xaxis\":{\"automargin\":true,\"gridcolor\":\"white\",\"linecolor\":\"white\",\"ticks\":\"\",\"title\":{\"standoff\":15},\"zerolinecolor\":\"white\",\"zerolinewidth\":2},\"yaxis\":{\"automargin\":true,\"gridcolor\":\"white\",\"linecolor\":\"white\",\"ticks\":\"\",\"title\":{\"standoff\":15},\"zerolinecolor\":\"white\",\"zerolinewidth\":2}}},\"title\":{\"font\":{\"color\":\"#4D5663\"}},\"xaxis\":{\"gridcolor\":\"#E1E5ED\",\"showgrid\":true,\"tickfont\":{\"color\":\"#4D5663\"},\"title\":{\"font\":{\"color\":\"#4D5663\"},\"text\":\"\"},\"zerolinecolor\":\"#E1E5ED\"},\"yaxis\":{\"gridcolor\":\"#E1E5ED\",\"showgrid\":true,\"tickfont\":{\"color\":\"#4D5663\"},\"title\":{\"font\":{\"color\":\"#4D5663\"},\"text\":\"\"},\"zerolinecolor\":\"#E1E5ED\"}},                        {\"showLink\": true, \"linkText\": \"Export to plot.ly\", \"plotlyServerURL\": \"https://plot.ly\", \"responsive\": true}                    ).then(function(){\n",
       "                            \n",
       "var gd = document.getElementById('56a79dd8-47f7-4151-8960-38fc521258a1');\n",
       "var x = new MutationObserver(function (mutations, observer) {{\n",
       "        var display = window.getComputedStyle(gd).display;\n",
       "        if (!display || display === 'none') {{\n",
       "            console.log([gd, 'removed!']);\n",
       "            Plotly.purge(gd);\n",
       "            observer.disconnect();\n",
       "        }}\n",
       "}});\n",
       "\n",
       "// Listen for the removal of the full notebook cells\n",
       "var notebookContainer = gd.closest('#notebook-container');\n",
       "if (notebookContainer) {{\n",
       "    x.observe(notebookContainer, {childList: true});\n",
       "}}\n",
       "\n",
       "// Listen for the clearing of the current output cell\n",
       "var outputEl = gd.closest('.output');\n",
       "if (outputEl) {{\n",
       "    x.observe(outputEl, {childList: true});\n",
       "}}\n",
       "\n",
       "                        })                };                });            </script>        </div>"
      ]
     },
     "metadata": {},
     "output_type": "display_data"
    }
   ],
   "source": [
    "df.iplot(kind='scatter',x='A',y='B',mode='markers',size=10)"
   ]
  },
  {
   "cell_type": "markdown",
   "metadata": {},
   "source": [
    "## Bar Plots"
   ]
  },
  {
   "cell_type": "code",
   "execution_count": 11,
   "metadata": {
    "collapsed": false
   },
   "outputs": [
    {
     "data": {
      "application/vnd.plotly.v1+json": {
       "config": {
        "linkText": "Export to plot.ly",
        "plotlyServerURL": "https://plot.ly",
        "showLink": true
       },
       "data": [
        {
         "marker": {
          "color": "rgba(255, 153, 51, 0.6)",
          "line": {
           "color": "rgba(255, 153, 51, 1.0)",
           "width": 1
          }
         },
         "name": "Values",
         "orientation": "v",
         "text": "",
         "type": "bar",
         "x": [
          "A",
          "B",
          "C"
         ],
         "y": [
          32,
          43,
          50
         ]
        }
       ],
       "layout": {
        "legend": {
         "bgcolor": "#F5F6F9",
         "font": {
          "color": "#4D5663"
         }
        },
        "paper_bgcolor": "#F5F6F9",
        "plot_bgcolor": "#F5F6F9",
        "template": {
         "data": {
          "bar": [
           {
            "error_x": {
             "color": "#2a3f5f"
            },
            "error_y": {
             "color": "#2a3f5f"
            },
            "marker": {
             "line": {
              "color": "#E5ECF6",
              "width": 0.5
             },
             "pattern": {
              "fillmode": "overlay",
              "size": 10,
              "solidity": 0.2
             }
            },
            "type": "bar"
           }
          ],
          "barpolar": [
           {
            "marker": {
             "line": {
              "color": "#E5ECF6",
              "width": 0.5
             },
             "pattern": {
              "fillmode": "overlay",
              "size": 10,
              "solidity": 0.2
             }
            },
            "type": "barpolar"
           }
          ],
          "carpet": [
           {
            "aaxis": {
             "endlinecolor": "#2a3f5f",
             "gridcolor": "white",
             "linecolor": "white",
             "minorgridcolor": "white",
             "startlinecolor": "#2a3f5f"
            },
            "baxis": {
             "endlinecolor": "#2a3f5f",
             "gridcolor": "white",
             "linecolor": "white",
             "minorgridcolor": "white",
             "startlinecolor": "#2a3f5f"
            },
            "type": "carpet"
           }
          ],
          "choropleth": [
           {
            "colorbar": {
             "outlinewidth": 0,
             "ticks": ""
            },
            "type": "choropleth"
           }
          ],
          "contour": [
           {
            "colorbar": {
             "outlinewidth": 0,
             "ticks": ""
            },
            "colorscale": [
             [
              0,
              "#0d0887"
             ],
             [
              0.1111111111111111,
              "#46039f"
             ],
             [
              0.2222222222222222,
              "#7201a8"
             ],
             [
              0.3333333333333333,
              "#9c179e"
             ],
             [
              0.4444444444444444,
              "#bd3786"
             ],
             [
              0.5555555555555556,
              "#d8576b"
             ],
             [
              0.6666666666666666,
              "#ed7953"
             ],
             [
              0.7777777777777778,
              "#fb9f3a"
             ],
             [
              0.8888888888888888,
              "#fdca26"
             ],
             [
              1,
              "#f0f921"
             ]
            ],
            "type": "contour"
           }
          ],
          "contourcarpet": [
           {
            "colorbar": {
             "outlinewidth": 0,
             "ticks": ""
            },
            "type": "contourcarpet"
           }
          ],
          "heatmap": [
           {
            "colorbar": {
             "outlinewidth": 0,
             "ticks": ""
            },
            "colorscale": [
             [
              0,
              "#0d0887"
             ],
             [
              0.1111111111111111,
              "#46039f"
             ],
             [
              0.2222222222222222,
              "#7201a8"
             ],
             [
              0.3333333333333333,
              "#9c179e"
             ],
             [
              0.4444444444444444,
              "#bd3786"
             ],
             [
              0.5555555555555556,
              "#d8576b"
             ],
             [
              0.6666666666666666,
              "#ed7953"
             ],
             [
              0.7777777777777778,
              "#fb9f3a"
             ],
             [
              0.8888888888888888,
              "#fdca26"
             ],
             [
              1,
              "#f0f921"
             ]
            ],
            "type": "heatmap"
           }
          ],
          "heatmapgl": [
           {
            "colorbar": {
             "outlinewidth": 0,
             "ticks": ""
            },
            "colorscale": [
             [
              0,
              "#0d0887"
             ],
             [
              0.1111111111111111,
              "#46039f"
             ],
             [
              0.2222222222222222,
              "#7201a8"
             ],
             [
              0.3333333333333333,
              "#9c179e"
             ],
             [
              0.4444444444444444,
              "#bd3786"
             ],
             [
              0.5555555555555556,
              "#d8576b"
             ],
             [
              0.6666666666666666,
              "#ed7953"
             ],
             [
              0.7777777777777778,
              "#fb9f3a"
             ],
             [
              0.8888888888888888,
              "#fdca26"
             ],
             [
              1,
              "#f0f921"
             ]
            ],
            "type": "heatmapgl"
           }
          ],
          "histogram": [
           {
            "marker": {
             "pattern": {
              "fillmode": "overlay",
              "size": 10,
              "solidity": 0.2
             }
            },
            "type": "histogram"
           }
          ],
          "histogram2d": [
           {
            "colorbar": {
             "outlinewidth": 0,
             "ticks": ""
            },
            "colorscale": [
             [
              0,
              "#0d0887"
             ],
             [
              0.1111111111111111,
              "#46039f"
             ],
             [
              0.2222222222222222,
              "#7201a8"
             ],
             [
              0.3333333333333333,
              "#9c179e"
             ],
             [
              0.4444444444444444,
              "#bd3786"
             ],
             [
              0.5555555555555556,
              "#d8576b"
             ],
             [
              0.6666666666666666,
              "#ed7953"
             ],
             [
              0.7777777777777778,
              "#fb9f3a"
             ],
             [
              0.8888888888888888,
              "#fdca26"
             ],
             [
              1,
              "#f0f921"
             ]
            ],
            "type": "histogram2d"
           }
          ],
          "histogram2dcontour": [
           {
            "colorbar": {
             "outlinewidth": 0,
             "ticks": ""
            },
            "colorscale": [
             [
              0,
              "#0d0887"
             ],
             [
              0.1111111111111111,
              "#46039f"
             ],
             [
              0.2222222222222222,
              "#7201a8"
             ],
             [
              0.3333333333333333,
              "#9c179e"
             ],
             [
              0.4444444444444444,
              "#bd3786"
             ],
             [
              0.5555555555555556,
              "#d8576b"
             ],
             [
              0.6666666666666666,
              "#ed7953"
             ],
             [
              0.7777777777777778,
              "#fb9f3a"
             ],
             [
              0.8888888888888888,
              "#fdca26"
             ],
             [
              1,
              "#f0f921"
             ]
            ],
            "type": "histogram2dcontour"
           }
          ],
          "mesh3d": [
           {
            "colorbar": {
             "outlinewidth": 0,
             "ticks": ""
            },
            "type": "mesh3d"
           }
          ],
          "parcoords": [
           {
            "line": {
             "colorbar": {
              "outlinewidth": 0,
              "ticks": ""
             }
            },
            "type": "parcoords"
           }
          ],
          "pie": [
           {
            "automargin": true,
            "type": "pie"
           }
          ],
          "scatter": [
           {
            "fillpattern": {
             "fillmode": "overlay",
             "size": 10,
             "solidity": 0.2
            },
            "type": "scatter"
           }
          ],
          "scatter3d": [
           {
            "line": {
             "colorbar": {
              "outlinewidth": 0,
              "ticks": ""
             }
            },
            "marker": {
             "colorbar": {
              "outlinewidth": 0,
              "ticks": ""
             }
            },
            "type": "scatter3d"
           }
          ],
          "scattercarpet": [
           {
            "marker": {
             "colorbar": {
              "outlinewidth": 0,
              "ticks": ""
             }
            },
            "type": "scattercarpet"
           }
          ],
          "scattergeo": [
           {
            "marker": {
             "colorbar": {
              "outlinewidth": 0,
              "ticks": ""
             }
            },
            "type": "scattergeo"
           }
          ],
          "scattergl": [
           {
            "marker": {
             "colorbar": {
              "outlinewidth": 0,
              "ticks": ""
             }
            },
            "type": "scattergl"
           }
          ],
          "scattermapbox": [
           {
            "marker": {
             "colorbar": {
              "outlinewidth": 0,
              "ticks": ""
             }
            },
            "type": "scattermapbox"
           }
          ],
          "scatterpolar": [
           {
            "marker": {
             "colorbar": {
              "outlinewidth": 0,
              "ticks": ""
             }
            },
            "type": "scatterpolar"
           }
          ],
          "scatterpolargl": [
           {
            "marker": {
             "colorbar": {
              "outlinewidth": 0,
              "ticks": ""
             }
            },
            "type": "scatterpolargl"
           }
          ],
          "scatterternary": [
           {
            "marker": {
             "colorbar": {
              "outlinewidth": 0,
              "ticks": ""
             }
            },
            "type": "scatterternary"
           }
          ],
          "surface": [
           {
            "colorbar": {
             "outlinewidth": 0,
             "ticks": ""
            },
            "colorscale": [
             [
              0,
              "#0d0887"
             ],
             [
              0.1111111111111111,
              "#46039f"
             ],
             [
              0.2222222222222222,
              "#7201a8"
             ],
             [
              0.3333333333333333,
              "#9c179e"
             ],
             [
              0.4444444444444444,
              "#bd3786"
             ],
             [
              0.5555555555555556,
              "#d8576b"
             ],
             [
              0.6666666666666666,
              "#ed7953"
             ],
             [
              0.7777777777777778,
              "#fb9f3a"
             ],
             [
              0.8888888888888888,
              "#fdca26"
             ],
             [
              1,
              "#f0f921"
             ]
            ],
            "type": "surface"
           }
          ],
          "table": [
           {
            "cells": {
             "fill": {
              "color": "#EBF0F8"
             },
             "line": {
              "color": "white"
             }
            },
            "header": {
             "fill": {
              "color": "#C8D4E3"
             },
             "line": {
              "color": "white"
             }
            },
            "type": "table"
           }
          ]
         },
         "layout": {
          "annotationdefaults": {
           "arrowcolor": "#2a3f5f",
           "arrowhead": 0,
           "arrowwidth": 1
          },
          "autotypenumbers": "strict",
          "coloraxis": {
           "colorbar": {
            "outlinewidth": 0,
            "ticks": ""
           }
          },
          "colorscale": {
           "diverging": [
            [
             0,
             "#8e0152"
            ],
            [
             0.1,
             "#c51b7d"
            ],
            [
             0.2,
             "#de77ae"
            ],
            [
             0.3,
             "#f1b6da"
            ],
            [
             0.4,
             "#fde0ef"
            ],
            [
             0.5,
             "#f7f7f7"
            ],
            [
             0.6,
             "#e6f5d0"
            ],
            [
             0.7,
             "#b8e186"
            ],
            [
             0.8,
             "#7fbc41"
            ],
            [
             0.9,
             "#4d9221"
            ],
            [
             1,
             "#276419"
            ]
           ],
           "sequential": [
            [
             0,
             "#0d0887"
            ],
            [
             0.1111111111111111,
             "#46039f"
            ],
            [
             0.2222222222222222,
             "#7201a8"
            ],
            [
             0.3333333333333333,
             "#9c179e"
            ],
            [
             0.4444444444444444,
             "#bd3786"
            ],
            [
             0.5555555555555556,
             "#d8576b"
            ],
            [
             0.6666666666666666,
             "#ed7953"
            ],
            [
             0.7777777777777778,
             "#fb9f3a"
            ],
            [
             0.8888888888888888,
             "#fdca26"
            ],
            [
             1,
             "#f0f921"
            ]
           ],
           "sequentialminus": [
            [
             0,
             "#0d0887"
            ],
            [
             0.1111111111111111,
             "#46039f"
            ],
            [
             0.2222222222222222,
             "#7201a8"
            ],
            [
             0.3333333333333333,
             "#9c179e"
            ],
            [
             0.4444444444444444,
             "#bd3786"
            ],
            [
             0.5555555555555556,
             "#d8576b"
            ],
            [
             0.6666666666666666,
             "#ed7953"
            ],
            [
             0.7777777777777778,
             "#fb9f3a"
            ],
            [
             0.8888888888888888,
             "#fdca26"
            ],
            [
             1,
             "#f0f921"
            ]
           ]
          },
          "colorway": [
           "#636efa",
           "#EF553B",
           "#00cc96",
           "#ab63fa",
           "#FFA15A",
           "#19d3f3",
           "#FF6692",
           "#B6E880",
           "#FF97FF",
           "#FECB52"
          ],
          "font": {
           "color": "#2a3f5f"
          },
          "geo": {
           "bgcolor": "white",
           "lakecolor": "white",
           "landcolor": "#E5ECF6",
           "showlakes": true,
           "showland": true,
           "subunitcolor": "white"
          },
          "hoverlabel": {
           "align": "left"
          },
          "hovermode": "closest",
          "mapbox": {
           "style": "light"
          },
          "paper_bgcolor": "white",
          "plot_bgcolor": "#E5ECF6",
          "polar": {
           "angularaxis": {
            "gridcolor": "white",
            "linecolor": "white",
            "ticks": ""
           },
           "bgcolor": "#E5ECF6",
           "radialaxis": {
            "gridcolor": "white",
            "linecolor": "white",
            "ticks": ""
           }
          },
          "scene": {
           "xaxis": {
            "backgroundcolor": "#E5ECF6",
            "gridcolor": "white",
            "gridwidth": 2,
            "linecolor": "white",
            "showbackground": true,
            "ticks": "",
            "zerolinecolor": "white"
           },
           "yaxis": {
            "backgroundcolor": "#E5ECF6",
            "gridcolor": "white",
            "gridwidth": 2,
            "linecolor": "white",
            "showbackground": true,
            "ticks": "",
            "zerolinecolor": "white"
           },
           "zaxis": {
            "backgroundcolor": "#E5ECF6",
            "gridcolor": "white",
            "gridwidth": 2,
            "linecolor": "white",
            "showbackground": true,
            "ticks": "",
            "zerolinecolor": "white"
           }
          },
          "shapedefaults": {
           "line": {
            "color": "#2a3f5f"
           }
          },
          "ternary": {
           "aaxis": {
            "gridcolor": "white",
            "linecolor": "white",
            "ticks": ""
           },
           "baxis": {
            "gridcolor": "white",
            "linecolor": "white",
            "ticks": ""
           },
           "bgcolor": "#E5ECF6",
           "caxis": {
            "gridcolor": "white",
            "linecolor": "white",
            "ticks": ""
           }
          },
          "title": {
           "x": 0.05
          },
          "xaxis": {
           "automargin": true,
           "gridcolor": "white",
           "linecolor": "white",
           "ticks": "",
           "title": {
            "standoff": 15
           },
           "zerolinecolor": "white",
           "zerolinewidth": 2
          },
          "yaxis": {
           "automargin": true,
           "gridcolor": "white",
           "linecolor": "white",
           "ticks": "",
           "title": {
            "standoff": 15
           },
           "zerolinecolor": "white",
           "zerolinewidth": 2
          }
         }
        },
        "title": {
         "font": {
          "color": "#4D5663"
         }
        },
        "xaxis": {
         "gridcolor": "#E1E5ED",
         "showgrid": true,
         "tickfont": {
          "color": "#4D5663"
         },
         "title": {
          "font": {
           "color": "#4D5663"
          },
          "text": ""
         },
         "zerolinecolor": "#E1E5ED"
        },
        "yaxis": {
         "gridcolor": "#E1E5ED",
         "showgrid": true,
         "tickfont": {
          "color": "#4D5663"
         },
         "title": {
          "font": {
           "color": "#4D5663"
          },
          "text": ""
         },
         "zerolinecolor": "#E1E5ED"
        }
       }
      },
      "text/html": [
       "<div>                            <div id=\"7aebe8fe-5507-4c82-add4-074bc5f3da17\" class=\"plotly-graph-div\" style=\"height:525px; width:100%;\"></div>            <script type=\"text/javascript\">                require([\"plotly\"], function(Plotly) {                    window.PLOTLYENV=window.PLOTLYENV || {};\n",
       "                    window.PLOTLYENV.BASE_URL='https://plot.ly';                                    if (document.getElementById(\"7aebe8fe-5507-4c82-add4-074bc5f3da17\")) {                    Plotly.newPlot(                        \"7aebe8fe-5507-4c82-add4-074bc5f3da17\",                        [{\"marker\":{\"color\":\"rgba(255, 153, 51, 0.6)\",\"line\":{\"color\":\"rgba(255, 153, 51, 1.0)\",\"width\":1}},\"name\":\"Values\",\"orientation\":\"v\",\"text\":\"\",\"x\":[\"A\",\"B\",\"C\"],\"y\":[32,43,50],\"type\":\"bar\"}],                        {\"legend\":{\"bgcolor\":\"#F5F6F9\",\"font\":{\"color\":\"#4D5663\"}},\"paper_bgcolor\":\"#F5F6F9\",\"plot_bgcolor\":\"#F5F6F9\",\"template\":{\"data\":{\"barpolar\":[{\"marker\":{\"line\":{\"color\":\"#E5ECF6\",\"width\":0.5},\"pattern\":{\"fillmode\":\"overlay\",\"size\":10,\"solidity\":0.2}},\"type\":\"barpolar\"}],\"bar\":[{\"error_x\":{\"color\":\"#2a3f5f\"},\"error_y\":{\"color\":\"#2a3f5f\"},\"marker\":{\"line\":{\"color\":\"#E5ECF6\",\"width\":0.5},\"pattern\":{\"fillmode\":\"overlay\",\"size\":10,\"solidity\":0.2}},\"type\":\"bar\"}],\"carpet\":[{\"aaxis\":{\"endlinecolor\":\"#2a3f5f\",\"gridcolor\":\"white\",\"linecolor\":\"white\",\"minorgridcolor\":\"white\",\"startlinecolor\":\"#2a3f5f\"},\"baxis\":{\"endlinecolor\":\"#2a3f5f\",\"gridcolor\":\"white\",\"linecolor\":\"white\",\"minorgridcolor\":\"white\",\"startlinecolor\":\"#2a3f5f\"},\"type\":\"carpet\"}],\"choropleth\":[{\"colorbar\":{\"outlinewidth\":0,\"ticks\":\"\"},\"type\":\"choropleth\"}],\"contourcarpet\":[{\"colorbar\":{\"outlinewidth\":0,\"ticks\":\"\"},\"type\":\"contourcarpet\"}],\"contour\":[{\"colorbar\":{\"outlinewidth\":0,\"ticks\":\"\"},\"colorscale\":[[0.0,\"#0d0887\"],[0.1111111111111111,\"#46039f\"],[0.2222222222222222,\"#7201a8\"],[0.3333333333333333,\"#9c179e\"],[0.4444444444444444,\"#bd3786\"],[0.5555555555555556,\"#d8576b\"],[0.6666666666666666,\"#ed7953\"],[0.7777777777777778,\"#fb9f3a\"],[0.8888888888888888,\"#fdca26\"],[1.0,\"#f0f921\"]],\"type\":\"contour\"}],\"heatmapgl\":[{\"colorbar\":{\"outlinewidth\":0,\"ticks\":\"\"},\"colorscale\":[[0.0,\"#0d0887\"],[0.1111111111111111,\"#46039f\"],[0.2222222222222222,\"#7201a8\"],[0.3333333333333333,\"#9c179e\"],[0.4444444444444444,\"#bd3786\"],[0.5555555555555556,\"#d8576b\"],[0.6666666666666666,\"#ed7953\"],[0.7777777777777778,\"#fb9f3a\"],[0.8888888888888888,\"#fdca26\"],[1.0,\"#f0f921\"]],\"type\":\"heatmapgl\"}],\"heatmap\":[{\"colorbar\":{\"outlinewidth\":0,\"ticks\":\"\"},\"colorscale\":[[0.0,\"#0d0887\"],[0.1111111111111111,\"#46039f\"],[0.2222222222222222,\"#7201a8\"],[0.3333333333333333,\"#9c179e\"],[0.4444444444444444,\"#bd3786\"],[0.5555555555555556,\"#d8576b\"],[0.6666666666666666,\"#ed7953\"],[0.7777777777777778,\"#fb9f3a\"],[0.8888888888888888,\"#fdca26\"],[1.0,\"#f0f921\"]],\"type\":\"heatmap\"}],\"histogram2dcontour\":[{\"colorbar\":{\"outlinewidth\":0,\"ticks\":\"\"},\"colorscale\":[[0.0,\"#0d0887\"],[0.1111111111111111,\"#46039f\"],[0.2222222222222222,\"#7201a8\"],[0.3333333333333333,\"#9c179e\"],[0.4444444444444444,\"#bd3786\"],[0.5555555555555556,\"#d8576b\"],[0.6666666666666666,\"#ed7953\"],[0.7777777777777778,\"#fb9f3a\"],[0.8888888888888888,\"#fdca26\"],[1.0,\"#f0f921\"]],\"type\":\"histogram2dcontour\"}],\"histogram2d\":[{\"colorbar\":{\"outlinewidth\":0,\"ticks\":\"\"},\"colorscale\":[[0.0,\"#0d0887\"],[0.1111111111111111,\"#46039f\"],[0.2222222222222222,\"#7201a8\"],[0.3333333333333333,\"#9c179e\"],[0.4444444444444444,\"#bd3786\"],[0.5555555555555556,\"#d8576b\"],[0.6666666666666666,\"#ed7953\"],[0.7777777777777778,\"#fb9f3a\"],[0.8888888888888888,\"#fdca26\"],[1.0,\"#f0f921\"]],\"type\":\"histogram2d\"}],\"histogram\":[{\"marker\":{\"pattern\":{\"fillmode\":\"overlay\",\"size\":10,\"solidity\":0.2}},\"type\":\"histogram\"}],\"mesh3d\":[{\"colorbar\":{\"outlinewidth\":0,\"ticks\":\"\"},\"type\":\"mesh3d\"}],\"parcoords\":[{\"line\":{\"colorbar\":{\"outlinewidth\":0,\"ticks\":\"\"}},\"type\":\"parcoords\"}],\"pie\":[{\"automargin\":true,\"type\":\"pie\"}],\"scatter3d\":[{\"line\":{\"colorbar\":{\"outlinewidth\":0,\"ticks\":\"\"}},\"marker\":{\"colorbar\":{\"outlinewidth\":0,\"ticks\":\"\"}},\"type\":\"scatter3d\"}],\"scattercarpet\":[{\"marker\":{\"colorbar\":{\"outlinewidth\":0,\"ticks\":\"\"}},\"type\":\"scattercarpet\"}],\"scattergeo\":[{\"marker\":{\"colorbar\":{\"outlinewidth\":0,\"ticks\":\"\"}},\"type\":\"scattergeo\"}],\"scattergl\":[{\"marker\":{\"colorbar\":{\"outlinewidth\":0,\"ticks\":\"\"}},\"type\":\"scattergl\"}],\"scattermapbox\":[{\"marker\":{\"colorbar\":{\"outlinewidth\":0,\"ticks\":\"\"}},\"type\":\"scattermapbox\"}],\"scatterpolargl\":[{\"marker\":{\"colorbar\":{\"outlinewidth\":0,\"ticks\":\"\"}},\"type\":\"scatterpolargl\"}],\"scatterpolar\":[{\"marker\":{\"colorbar\":{\"outlinewidth\":0,\"ticks\":\"\"}},\"type\":\"scatterpolar\"}],\"scatter\":[{\"fillpattern\":{\"fillmode\":\"overlay\",\"size\":10,\"solidity\":0.2},\"type\":\"scatter\"}],\"scatterternary\":[{\"marker\":{\"colorbar\":{\"outlinewidth\":0,\"ticks\":\"\"}},\"type\":\"scatterternary\"}],\"surface\":[{\"colorbar\":{\"outlinewidth\":0,\"ticks\":\"\"},\"colorscale\":[[0.0,\"#0d0887\"],[0.1111111111111111,\"#46039f\"],[0.2222222222222222,\"#7201a8\"],[0.3333333333333333,\"#9c179e\"],[0.4444444444444444,\"#bd3786\"],[0.5555555555555556,\"#d8576b\"],[0.6666666666666666,\"#ed7953\"],[0.7777777777777778,\"#fb9f3a\"],[0.8888888888888888,\"#fdca26\"],[1.0,\"#f0f921\"]],\"type\":\"surface\"}],\"table\":[{\"cells\":{\"fill\":{\"color\":\"#EBF0F8\"},\"line\":{\"color\":\"white\"}},\"header\":{\"fill\":{\"color\":\"#C8D4E3\"},\"line\":{\"color\":\"white\"}},\"type\":\"table\"}]},\"layout\":{\"annotationdefaults\":{\"arrowcolor\":\"#2a3f5f\",\"arrowhead\":0,\"arrowwidth\":1},\"autotypenumbers\":\"strict\",\"coloraxis\":{\"colorbar\":{\"outlinewidth\":0,\"ticks\":\"\"}},\"colorscale\":{\"diverging\":[[0,\"#8e0152\"],[0.1,\"#c51b7d\"],[0.2,\"#de77ae\"],[0.3,\"#f1b6da\"],[0.4,\"#fde0ef\"],[0.5,\"#f7f7f7\"],[0.6,\"#e6f5d0\"],[0.7,\"#b8e186\"],[0.8,\"#7fbc41\"],[0.9,\"#4d9221\"],[1,\"#276419\"]],\"sequential\":[[0.0,\"#0d0887\"],[0.1111111111111111,\"#46039f\"],[0.2222222222222222,\"#7201a8\"],[0.3333333333333333,\"#9c179e\"],[0.4444444444444444,\"#bd3786\"],[0.5555555555555556,\"#d8576b\"],[0.6666666666666666,\"#ed7953\"],[0.7777777777777778,\"#fb9f3a\"],[0.8888888888888888,\"#fdca26\"],[1.0,\"#f0f921\"]],\"sequentialminus\":[[0.0,\"#0d0887\"],[0.1111111111111111,\"#46039f\"],[0.2222222222222222,\"#7201a8\"],[0.3333333333333333,\"#9c179e\"],[0.4444444444444444,\"#bd3786\"],[0.5555555555555556,\"#d8576b\"],[0.6666666666666666,\"#ed7953\"],[0.7777777777777778,\"#fb9f3a\"],[0.8888888888888888,\"#fdca26\"],[1.0,\"#f0f921\"]]},\"colorway\":[\"#636efa\",\"#EF553B\",\"#00cc96\",\"#ab63fa\",\"#FFA15A\",\"#19d3f3\",\"#FF6692\",\"#B6E880\",\"#FF97FF\",\"#FECB52\"],\"font\":{\"color\":\"#2a3f5f\"},\"geo\":{\"bgcolor\":\"white\",\"lakecolor\":\"white\",\"landcolor\":\"#E5ECF6\",\"showlakes\":true,\"showland\":true,\"subunitcolor\":\"white\"},\"hoverlabel\":{\"align\":\"left\"},\"hovermode\":\"closest\",\"mapbox\":{\"style\":\"light\"},\"paper_bgcolor\":\"white\",\"plot_bgcolor\":\"#E5ECF6\",\"polar\":{\"angularaxis\":{\"gridcolor\":\"white\",\"linecolor\":\"white\",\"ticks\":\"\"},\"bgcolor\":\"#E5ECF6\",\"radialaxis\":{\"gridcolor\":\"white\",\"linecolor\":\"white\",\"ticks\":\"\"}},\"scene\":{\"xaxis\":{\"backgroundcolor\":\"#E5ECF6\",\"gridcolor\":\"white\",\"gridwidth\":2,\"linecolor\":\"white\",\"showbackground\":true,\"ticks\":\"\",\"zerolinecolor\":\"white\"},\"yaxis\":{\"backgroundcolor\":\"#E5ECF6\",\"gridcolor\":\"white\",\"gridwidth\":2,\"linecolor\":\"white\",\"showbackground\":true,\"ticks\":\"\",\"zerolinecolor\":\"white\"},\"zaxis\":{\"backgroundcolor\":\"#E5ECF6\",\"gridcolor\":\"white\",\"gridwidth\":2,\"linecolor\":\"white\",\"showbackground\":true,\"ticks\":\"\",\"zerolinecolor\":\"white\"}},\"shapedefaults\":{\"line\":{\"color\":\"#2a3f5f\"}},\"ternary\":{\"aaxis\":{\"gridcolor\":\"white\",\"linecolor\":\"white\",\"ticks\":\"\"},\"baxis\":{\"gridcolor\":\"white\",\"linecolor\":\"white\",\"ticks\":\"\"},\"bgcolor\":\"#E5ECF6\",\"caxis\":{\"gridcolor\":\"white\",\"linecolor\":\"white\",\"ticks\":\"\"}},\"title\":{\"x\":0.05},\"xaxis\":{\"automargin\":true,\"gridcolor\":\"white\",\"linecolor\":\"white\",\"ticks\":\"\",\"title\":{\"standoff\":15},\"zerolinecolor\":\"white\",\"zerolinewidth\":2},\"yaxis\":{\"automargin\":true,\"gridcolor\":\"white\",\"linecolor\":\"white\",\"ticks\":\"\",\"title\":{\"standoff\":15},\"zerolinecolor\":\"white\",\"zerolinewidth\":2}}},\"title\":{\"font\":{\"color\":\"#4D5663\"}},\"xaxis\":{\"gridcolor\":\"#E1E5ED\",\"showgrid\":true,\"tickfont\":{\"color\":\"#4D5663\"},\"title\":{\"font\":{\"color\":\"#4D5663\"},\"text\":\"\"},\"zerolinecolor\":\"#E1E5ED\"},\"yaxis\":{\"gridcolor\":\"#E1E5ED\",\"showgrid\":true,\"tickfont\":{\"color\":\"#4D5663\"},\"title\":{\"font\":{\"color\":\"#4D5663\"},\"text\":\"\"},\"zerolinecolor\":\"#E1E5ED\"}},                        {\"showLink\": true, \"linkText\": \"Export to plot.ly\", \"plotlyServerURL\": \"https://plot.ly\", \"responsive\": true}                    ).then(function(){\n",
       "                            \n",
       "var gd = document.getElementById('7aebe8fe-5507-4c82-add4-074bc5f3da17');\n",
       "var x = new MutationObserver(function (mutations, observer) {{\n",
       "        var display = window.getComputedStyle(gd).display;\n",
       "        if (!display || display === 'none') {{\n",
       "            console.log([gd, 'removed!']);\n",
       "            Plotly.purge(gd);\n",
       "            observer.disconnect();\n",
       "        }}\n",
       "}});\n",
       "\n",
       "// Listen for the removal of the full notebook cells\n",
       "var notebookContainer = gd.closest('#notebook-container');\n",
       "if (notebookContainer) {{\n",
       "    x.observe(notebookContainer, {childList: true});\n",
       "}}\n",
       "\n",
       "// Listen for the clearing of the current output cell\n",
       "var outputEl = gd.closest('.output');\n",
       "if (outputEl) {{\n",
       "    x.observe(outputEl, {childList: true});\n",
       "}}\n",
       "\n",
       "                        })                };                });            </script>        </div>"
      ]
     },
     "metadata": {},
     "output_type": "display_data"
    }
   ],
   "source": [
    "df2.iplot(kind='bar',x='Category',y='Values')"
   ]
  },
  {
   "cell_type": "code",
   "execution_count": 12,
   "metadata": {
    "collapsed": false
   },
   "outputs": [
    {
     "data": {
      "application/vnd.plotly.v1+json": {
       "config": {
        "linkText": "Export to plot.ly",
        "plotlyServerURL": "https://plot.ly",
        "showLink": true
       },
       "data": [
        {
         "marker": {
          "color": "rgba(255, 153, 51, 0.6)",
          "line": {
           "color": "rgba(255, 153, 51, 1.0)",
           "width": 1
          }
         },
         "name": "None",
         "orientation": "v",
         "text": "",
         "type": "bar",
         "x": [
          "A",
          "B",
          "C",
          "D"
         ],
         "y": [
          100,
          100,
          100,
          100
         ]
        }
       ],
       "layout": {
        "legend": {
         "bgcolor": "#F5F6F9",
         "font": {
          "color": "#4D5663"
         }
        },
        "paper_bgcolor": "#F5F6F9",
        "plot_bgcolor": "#F5F6F9",
        "template": {
         "data": {
          "bar": [
           {
            "error_x": {
             "color": "#2a3f5f"
            },
            "error_y": {
             "color": "#2a3f5f"
            },
            "marker": {
             "line": {
              "color": "#E5ECF6",
              "width": 0.5
             },
             "pattern": {
              "fillmode": "overlay",
              "size": 10,
              "solidity": 0.2
             }
            },
            "type": "bar"
           }
          ],
          "barpolar": [
           {
            "marker": {
             "line": {
              "color": "#E5ECF6",
              "width": 0.5
             },
             "pattern": {
              "fillmode": "overlay",
              "size": 10,
              "solidity": 0.2
             }
            },
            "type": "barpolar"
           }
          ],
          "carpet": [
           {
            "aaxis": {
             "endlinecolor": "#2a3f5f",
             "gridcolor": "white",
             "linecolor": "white",
             "minorgridcolor": "white",
             "startlinecolor": "#2a3f5f"
            },
            "baxis": {
             "endlinecolor": "#2a3f5f",
             "gridcolor": "white",
             "linecolor": "white",
             "minorgridcolor": "white",
             "startlinecolor": "#2a3f5f"
            },
            "type": "carpet"
           }
          ],
          "choropleth": [
           {
            "colorbar": {
             "outlinewidth": 0,
             "ticks": ""
            },
            "type": "choropleth"
           }
          ],
          "contour": [
           {
            "colorbar": {
             "outlinewidth": 0,
             "ticks": ""
            },
            "colorscale": [
             [
              0,
              "#0d0887"
             ],
             [
              0.1111111111111111,
              "#46039f"
             ],
             [
              0.2222222222222222,
              "#7201a8"
             ],
             [
              0.3333333333333333,
              "#9c179e"
             ],
             [
              0.4444444444444444,
              "#bd3786"
             ],
             [
              0.5555555555555556,
              "#d8576b"
             ],
             [
              0.6666666666666666,
              "#ed7953"
             ],
             [
              0.7777777777777778,
              "#fb9f3a"
             ],
             [
              0.8888888888888888,
              "#fdca26"
             ],
             [
              1,
              "#f0f921"
             ]
            ],
            "type": "contour"
           }
          ],
          "contourcarpet": [
           {
            "colorbar": {
             "outlinewidth": 0,
             "ticks": ""
            },
            "type": "contourcarpet"
           }
          ],
          "heatmap": [
           {
            "colorbar": {
             "outlinewidth": 0,
             "ticks": ""
            },
            "colorscale": [
             [
              0,
              "#0d0887"
             ],
             [
              0.1111111111111111,
              "#46039f"
             ],
             [
              0.2222222222222222,
              "#7201a8"
             ],
             [
              0.3333333333333333,
              "#9c179e"
             ],
             [
              0.4444444444444444,
              "#bd3786"
             ],
             [
              0.5555555555555556,
              "#d8576b"
             ],
             [
              0.6666666666666666,
              "#ed7953"
             ],
             [
              0.7777777777777778,
              "#fb9f3a"
             ],
             [
              0.8888888888888888,
              "#fdca26"
             ],
             [
              1,
              "#f0f921"
             ]
            ],
            "type": "heatmap"
           }
          ],
          "heatmapgl": [
           {
            "colorbar": {
             "outlinewidth": 0,
             "ticks": ""
            },
            "colorscale": [
             [
              0,
              "#0d0887"
             ],
             [
              0.1111111111111111,
              "#46039f"
             ],
             [
              0.2222222222222222,
              "#7201a8"
             ],
             [
              0.3333333333333333,
              "#9c179e"
             ],
             [
              0.4444444444444444,
              "#bd3786"
             ],
             [
              0.5555555555555556,
              "#d8576b"
             ],
             [
              0.6666666666666666,
              "#ed7953"
             ],
             [
              0.7777777777777778,
              "#fb9f3a"
             ],
             [
              0.8888888888888888,
              "#fdca26"
             ],
             [
              1,
              "#f0f921"
             ]
            ],
            "type": "heatmapgl"
           }
          ],
          "histogram": [
           {
            "marker": {
             "pattern": {
              "fillmode": "overlay",
              "size": 10,
              "solidity": 0.2
             }
            },
            "type": "histogram"
           }
          ],
          "histogram2d": [
           {
            "colorbar": {
             "outlinewidth": 0,
             "ticks": ""
            },
            "colorscale": [
             [
              0,
              "#0d0887"
             ],
             [
              0.1111111111111111,
              "#46039f"
             ],
             [
              0.2222222222222222,
              "#7201a8"
             ],
             [
              0.3333333333333333,
              "#9c179e"
             ],
             [
              0.4444444444444444,
              "#bd3786"
             ],
             [
              0.5555555555555556,
              "#d8576b"
             ],
             [
              0.6666666666666666,
              "#ed7953"
             ],
             [
              0.7777777777777778,
              "#fb9f3a"
             ],
             [
              0.8888888888888888,
              "#fdca26"
             ],
             [
              1,
              "#f0f921"
             ]
            ],
            "type": "histogram2d"
           }
          ],
          "histogram2dcontour": [
           {
            "colorbar": {
             "outlinewidth": 0,
             "ticks": ""
            },
            "colorscale": [
             [
              0,
              "#0d0887"
             ],
             [
              0.1111111111111111,
              "#46039f"
             ],
             [
              0.2222222222222222,
              "#7201a8"
             ],
             [
              0.3333333333333333,
              "#9c179e"
             ],
             [
              0.4444444444444444,
              "#bd3786"
             ],
             [
              0.5555555555555556,
              "#d8576b"
             ],
             [
              0.6666666666666666,
              "#ed7953"
             ],
             [
              0.7777777777777778,
              "#fb9f3a"
             ],
             [
              0.8888888888888888,
              "#fdca26"
             ],
             [
              1,
              "#f0f921"
             ]
            ],
            "type": "histogram2dcontour"
           }
          ],
          "mesh3d": [
           {
            "colorbar": {
             "outlinewidth": 0,
             "ticks": ""
            },
            "type": "mesh3d"
           }
          ],
          "parcoords": [
           {
            "line": {
             "colorbar": {
              "outlinewidth": 0,
              "ticks": ""
             }
            },
            "type": "parcoords"
           }
          ],
          "pie": [
           {
            "automargin": true,
            "type": "pie"
           }
          ],
          "scatter": [
           {
            "fillpattern": {
             "fillmode": "overlay",
             "size": 10,
             "solidity": 0.2
            },
            "type": "scatter"
           }
          ],
          "scatter3d": [
           {
            "line": {
             "colorbar": {
              "outlinewidth": 0,
              "ticks": ""
             }
            },
            "marker": {
             "colorbar": {
              "outlinewidth": 0,
              "ticks": ""
             }
            },
            "type": "scatter3d"
           }
          ],
          "scattercarpet": [
           {
            "marker": {
             "colorbar": {
              "outlinewidth": 0,
              "ticks": ""
             }
            },
            "type": "scattercarpet"
           }
          ],
          "scattergeo": [
           {
            "marker": {
             "colorbar": {
              "outlinewidth": 0,
              "ticks": ""
             }
            },
            "type": "scattergeo"
           }
          ],
          "scattergl": [
           {
            "marker": {
             "colorbar": {
              "outlinewidth": 0,
              "ticks": ""
             }
            },
            "type": "scattergl"
           }
          ],
          "scattermapbox": [
           {
            "marker": {
             "colorbar": {
              "outlinewidth": 0,
              "ticks": ""
             }
            },
            "type": "scattermapbox"
           }
          ],
          "scatterpolar": [
           {
            "marker": {
             "colorbar": {
              "outlinewidth": 0,
              "ticks": ""
             }
            },
            "type": "scatterpolar"
           }
          ],
          "scatterpolargl": [
           {
            "marker": {
             "colorbar": {
              "outlinewidth": 0,
              "ticks": ""
             }
            },
            "type": "scatterpolargl"
           }
          ],
          "scatterternary": [
           {
            "marker": {
             "colorbar": {
              "outlinewidth": 0,
              "ticks": ""
             }
            },
            "type": "scatterternary"
           }
          ],
          "surface": [
           {
            "colorbar": {
             "outlinewidth": 0,
             "ticks": ""
            },
            "colorscale": [
             [
              0,
              "#0d0887"
             ],
             [
              0.1111111111111111,
              "#46039f"
             ],
             [
              0.2222222222222222,
              "#7201a8"
             ],
             [
              0.3333333333333333,
              "#9c179e"
             ],
             [
              0.4444444444444444,
              "#bd3786"
             ],
             [
              0.5555555555555556,
              "#d8576b"
             ],
             [
              0.6666666666666666,
              "#ed7953"
             ],
             [
              0.7777777777777778,
              "#fb9f3a"
             ],
             [
              0.8888888888888888,
              "#fdca26"
             ],
             [
              1,
              "#f0f921"
             ]
            ],
            "type": "surface"
           }
          ],
          "table": [
           {
            "cells": {
             "fill": {
              "color": "#EBF0F8"
             },
             "line": {
              "color": "white"
             }
            },
            "header": {
             "fill": {
              "color": "#C8D4E3"
             },
             "line": {
              "color": "white"
             }
            },
            "type": "table"
           }
          ]
         },
         "layout": {
          "annotationdefaults": {
           "arrowcolor": "#2a3f5f",
           "arrowhead": 0,
           "arrowwidth": 1
          },
          "autotypenumbers": "strict",
          "coloraxis": {
           "colorbar": {
            "outlinewidth": 0,
            "ticks": ""
           }
          },
          "colorscale": {
           "diverging": [
            [
             0,
             "#8e0152"
            ],
            [
             0.1,
             "#c51b7d"
            ],
            [
             0.2,
             "#de77ae"
            ],
            [
             0.3,
             "#f1b6da"
            ],
            [
             0.4,
             "#fde0ef"
            ],
            [
             0.5,
             "#f7f7f7"
            ],
            [
             0.6,
             "#e6f5d0"
            ],
            [
             0.7,
             "#b8e186"
            ],
            [
             0.8,
             "#7fbc41"
            ],
            [
             0.9,
             "#4d9221"
            ],
            [
             1,
             "#276419"
            ]
           ],
           "sequential": [
            [
             0,
             "#0d0887"
            ],
            [
             0.1111111111111111,
             "#46039f"
            ],
            [
             0.2222222222222222,
             "#7201a8"
            ],
            [
             0.3333333333333333,
             "#9c179e"
            ],
            [
             0.4444444444444444,
             "#bd3786"
            ],
            [
             0.5555555555555556,
             "#d8576b"
            ],
            [
             0.6666666666666666,
             "#ed7953"
            ],
            [
             0.7777777777777778,
             "#fb9f3a"
            ],
            [
             0.8888888888888888,
             "#fdca26"
            ],
            [
             1,
             "#f0f921"
            ]
           ],
           "sequentialminus": [
            [
             0,
             "#0d0887"
            ],
            [
             0.1111111111111111,
             "#46039f"
            ],
            [
             0.2222222222222222,
             "#7201a8"
            ],
            [
             0.3333333333333333,
             "#9c179e"
            ],
            [
             0.4444444444444444,
             "#bd3786"
            ],
            [
             0.5555555555555556,
             "#d8576b"
            ],
            [
             0.6666666666666666,
             "#ed7953"
            ],
            [
             0.7777777777777778,
             "#fb9f3a"
            ],
            [
             0.8888888888888888,
             "#fdca26"
            ],
            [
             1,
             "#f0f921"
            ]
           ]
          },
          "colorway": [
           "#636efa",
           "#EF553B",
           "#00cc96",
           "#ab63fa",
           "#FFA15A",
           "#19d3f3",
           "#FF6692",
           "#B6E880",
           "#FF97FF",
           "#FECB52"
          ],
          "font": {
           "color": "#2a3f5f"
          },
          "geo": {
           "bgcolor": "white",
           "lakecolor": "white",
           "landcolor": "#E5ECF6",
           "showlakes": true,
           "showland": true,
           "subunitcolor": "white"
          },
          "hoverlabel": {
           "align": "left"
          },
          "hovermode": "closest",
          "mapbox": {
           "style": "light"
          },
          "paper_bgcolor": "white",
          "plot_bgcolor": "#E5ECF6",
          "polar": {
           "angularaxis": {
            "gridcolor": "white",
            "linecolor": "white",
            "ticks": ""
           },
           "bgcolor": "#E5ECF6",
           "radialaxis": {
            "gridcolor": "white",
            "linecolor": "white",
            "ticks": ""
           }
          },
          "scene": {
           "xaxis": {
            "backgroundcolor": "#E5ECF6",
            "gridcolor": "white",
            "gridwidth": 2,
            "linecolor": "white",
            "showbackground": true,
            "ticks": "",
            "zerolinecolor": "white"
           },
           "yaxis": {
            "backgroundcolor": "#E5ECF6",
            "gridcolor": "white",
            "gridwidth": 2,
            "linecolor": "white",
            "showbackground": true,
            "ticks": "",
            "zerolinecolor": "white"
           },
           "zaxis": {
            "backgroundcolor": "#E5ECF6",
            "gridcolor": "white",
            "gridwidth": 2,
            "linecolor": "white",
            "showbackground": true,
            "ticks": "",
            "zerolinecolor": "white"
           }
          },
          "shapedefaults": {
           "line": {
            "color": "#2a3f5f"
           }
          },
          "ternary": {
           "aaxis": {
            "gridcolor": "white",
            "linecolor": "white",
            "ticks": ""
           },
           "baxis": {
            "gridcolor": "white",
            "linecolor": "white",
            "ticks": ""
           },
           "bgcolor": "#E5ECF6",
           "caxis": {
            "gridcolor": "white",
            "linecolor": "white",
            "ticks": ""
           }
          },
          "title": {
           "x": 0.05
          },
          "xaxis": {
           "automargin": true,
           "gridcolor": "white",
           "linecolor": "white",
           "ticks": "",
           "title": {
            "standoff": 15
           },
           "zerolinecolor": "white",
           "zerolinewidth": 2
          },
          "yaxis": {
           "automargin": true,
           "gridcolor": "white",
           "linecolor": "white",
           "ticks": "",
           "title": {
            "standoff": 15
           },
           "zerolinecolor": "white",
           "zerolinewidth": 2
          }
         }
        },
        "title": {
         "font": {
          "color": "#4D5663"
         }
        },
        "xaxis": {
         "gridcolor": "#E1E5ED",
         "showgrid": true,
         "tickfont": {
          "color": "#4D5663"
         },
         "title": {
          "font": {
           "color": "#4D5663"
          },
          "text": ""
         },
         "zerolinecolor": "#E1E5ED"
        },
        "yaxis": {
         "gridcolor": "#E1E5ED",
         "showgrid": true,
         "tickfont": {
          "color": "#4D5663"
         },
         "title": {
          "font": {
           "color": "#4D5663"
          },
          "text": ""
         },
         "zerolinecolor": "#E1E5ED"
        }
       }
      },
      "text/html": [
       "<div>                            <div id=\"7fb3dcf7-67f6-4c19-95d0-98c42c951aba\" class=\"plotly-graph-div\" style=\"height:525px; width:100%;\"></div>            <script type=\"text/javascript\">                require([\"plotly\"], function(Plotly) {                    window.PLOTLYENV=window.PLOTLYENV || {};\n",
       "                    window.PLOTLYENV.BASE_URL='https://plot.ly';                                    if (document.getElementById(\"7fb3dcf7-67f6-4c19-95d0-98c42c951aba\")) {                    Plotly.newPlot(                        \"7fb3dcf7-67f6-4c19-95d0-98c42c951aba\",                        [{\"marker\":{\"color\":\"rgba(255, 153, 51, 0.6)\",\"line\":{\"color\":\"rgba(255, 153, 51, 1.0)\",\"width\":1}},\"name\":\"None\",\"orientation\":\"v\",\"text\":\"\",\"x\":[\"A\",\"B\",\"C\",\"D\"],\"y\":[100,100,100,100],\"type\":\"bar\"}],                        {\"legend\":{\"bgcolor\":\"#F5F6F9\",\"font\":{\"color\":\"#4D5663\"}},\"paper_bgcolor\":\"#F5F6F9\",\"plot_bgcolor\":\"#F5F6F9\",\"template\":{\"data\":{\"barpolar\":[{\"marker\":{\"line\":{\"color\":\"#E5ECF6\",\"width\":0.5},\"pattern\":{\"fillmode\":\"overlay\",\"size\":10,\"solidity\":0.2}},\"type\":\"barpolar\"}],\"bar\":[{\"error_x\":{\"color\":\"#2a3f5f\"},\"error_y\":{\"color\":\"#2a3f5f\"},\"marker\":{\"line\":{\"color\":\"#E5ECF6\",\"width\":0.5},\"pattern\":{\"fillmode\":\"overlay\",\"size\":10,\"solidity\":0.2}},\"type\":\"bar\"}],\"carpet\":[{\"aaxis\":{\"endlinecolor\":\"#2a3f5f\",\"gridcolor\":\"white\",\"linecolor\":\"white\",\"minorgridcolor\":\"white\",\"startlinecolor\":\"#2a3f5f\"},\"baxis\":{\"endlinecolor\":\"#2a3f5f\",\"gridcolor\":\"white\",\"linecolor\":\"white\",\"minorgridcolor\":\"white\",\"startlinecolor\":\"#2a3f5f\"},\"type\":\"carpet\"}],\"choropleth\":[{\"colorbar\":{\"outlinewidth\":0,\"ticks\":\"\"},\"type\":\"choropleth\"}],\"contourcarpet\":[{\"colorbar\":{\"outlinewidth\":0,\"ticks\":\"\"},\"type\":\"contourcarpet\"}],\"contour\":[{\"colorbar\":{\"outlinewidth\":0,\"ticks\":\"\"},\"colorscale\":[[0.0,\"#0d0887\"],[0.1111111111111111,\"#46039f\"],[0.2222222222222222,\"#7201a8\"],[0.3333333333333333,\"#9c179e\"],[0.4444444444444444,\"#bd3786\"],[0.5555555555555556,\"#d8576b\"],[0.6666666666666666,\"#ed7953\"],[0.7777777777777778,\"#fb9f3a\"],[0.8888888888888888,\"#fdca26\"],[1.0,\"#f0f921\"]],\"type\":\"contour\"}],\"heatmapgl\":[{\"colorbar\":{\"outlinewidth\":0,\"ticks\":\"\"},\"colorscale\":[[0.0,\"#0d0887\"],[0.1111111111111111,\"#46039f\"],[0.2222222222222222,\"#7201a8\"],[0.3333333333333333,\"#9c179e\"],[0.4444444444444444,\"#bd3786\"],[0.5555555555555556,\"#d8576b\"],[0.6666666666666666,\"#ed7953\"],[0.7777777777777778,\"#fb9f3a\"],[0.8888888888888888,\"#fdca26\"],[1.0,\"#f0f921\"]],\"type\":\"heatmapgl\"}],\"heatmap\":[{\"colorbar\":{\"outlinewidth\":0,\"ticks\":\"\"},\"colorscale\":[[0.0,\"#0d0887\"],[0.1111111111111111,\"#46039f\"],[0.2222222222222222,\"#7201a8\"],[0.3333333333333333,\"#9c179e\"],[0.4444444444444444,\"#bd3786\"],[0.5555555555555556,\"#d8576b\"],[0.6666666666666666,\"#ed7953\"],[0.7777777777777778,\"#fb9f3a\"],[0.8888888888888888,\"#fdca26\"],[1.0,\"#f0f921\"]],\"type\":\"heatmap\"}],\"histogram2dcontour\":[{\"colorbar\":{\"outlinewidth\":0,\"ticks\":\"\"},\"colorscale\":[[0.0,\"#0d0887\"],[0.1111111111111111,\"#46039f\"],[0.2222222222222222,\"#7201a8\"],[0.3333333333333333,\"#9c179e\"],[0.4444444444444444,\"#bd3786\"],[0.5555555555555556,\"#d8576b\"],[0.6666666666666666,\"#ed7953\"],[0.7777777777777778,\"#fb9f3a\"],[0.8888888888888888,\"#fdca26\"],[1.0,\"#f0f921\"]],\"type\":\"histogram2dcontour\"}],\"histogram2d\":[{\"colorbar\":{\"outlinewidth\":0,\"ticks\":\"\"},\"colorscale\":[[0.0,\"#0d0887\"],[0.1111111111111111,\"#46039f\"],[0.2222222222222222,\"#7201a8\"],[0.3333333333333333,\"#9c179e\"],[0.4444444444444444,\"#bd3786\"],[0.5555555555555556,\"#d8576b\"],[0.6666666666666666,\"#ed7953\"],[0.7777777777777778,\"#fb9f3a\"],[0.8888888888888888,\"#fdca26\"],[1.0,\"#f0f921\"]],\"type\":\"histogram2d\"}],\"histogram\":[{\"marker\":{\"pattern\":{\"fillmode\":\"overlay\",\"size\":10,\"solidity\":0.2}},\"type\":\"histogram\"}],\"mesh3d\":[{\"colorbar\":{\"outlinewidth\":0,\"ticks\":\"\"},\"type\":\"mesh3d\"}],\"parcoords\":[{\"line\":{\"colorbar\":{\"outlinewidth\":0,\"ticks\":\"\"}},\"type\":\"parcoords\"}],\"pie\":[{\"automargin\":true,\"type\":\"pie\"}],\"scatter3d\":[{\"line\":{\"colorbar\":{\"outlinewidth\":0,\"ticks\":\"\"}},\"marker\":{\"colorbar\":{\"outlinewidth\":0,\"ticks\":\"\"}},\"type\":\"scatter3d\"}],\"scattercarpet\":[{\"marker\":{\"colorbar\":{\"outlinewidth\":0,\"ticks\":\"\"}},\"type\":\"scattercarpet\"}],\"scattergeo\":[{\"marker\":{\"colorbar\":{\"outlinewidth\":0,\"ticks\":\"\"}},\"type\":\"scattergeo\"}],\"scattergl\":[{\"marker\":{\"colorbar\":{\"outlinewidth\":0,\"ticks\":\"\"}},\"type\":\"scattergl\"}],\"scattermapbox\":[{\"marker\":{\"colorbar\":{\"outlinewidth\":0,\"ticks\":\"\"}},\"type\":\"scattermapbox\"}],\"scatterpolargl\":[{\"marker\":{\"colorbar\":{\"outlinewidth\":0,\"ticks\":\"\"}},\"type\":\"scatterpolargl\"}],\"scatterpolar\":[{\"marker\":{\"colorbar\":{\"outlinewidth\":0,\"ticks\":\"\"}},\"type\":\"scatterpolar\"}],\"scatter\":[{\"fillpattern\":{\"fillmode\":\"overlay\",\"size\":10,\"solidity\":0.2},\"type\":\"scatter\"}],\"scatterternary\":[{\"marker\":{\"colorbar\":{\"outlinewidth\":0,\"ticks\":\"\"}},\"type\":\"scatterternary\"}],\"surface\":[{\"colorbar\":{\"outlinewidth\":0,\"ticks\":\"\"},\"colorscale\":[[0.0,\"#0d0887\"],[0.1111111111111111,\"#46039f\"],[0.2222222222222222,\"#7201a8\"],[0.3333333333333333,\"#9c179e\"],[0.4444444444444444,\"#bd3786\"],[0.5555555555555556,\"#d8576b\"],[0.6666666666666666,\"#ed7953\"],[0.7777777777777778,\"#fb9f3a\"],[0.8888888888888888,\"#fdca26\"],[1.0,\"#f0f921\"]],\"type\":\"surface\"}],\"table\":[{\"cells\":{\"fill\":{\"color\":\"#EBF0F8\"},\"line\":{\"color\":\"white\"}},\"header\":{\"fill\":{\"color\":\"#C8D4E3\"},\"line\":{\"color\":\"white\"}},\"type\":\"table\"}]},\"layout\":{\"annotationdefaults\":{\"arrowcolor\":\"#2a3f5f\",\"arrowhead\":0,\"arrowwidth\":1},\"autotypenumbers\":\"strict\",\"coloraxis\":{\"colorbar\":{\"outlinewidth\":0,\"ticks\":\"\"}},\"colorscale\":{\"diverging\":[[0,\"#8e0152\"],[0.1,\"#c51b7d\"],[0.2,\"#de77ae\"],[0.3,\"#f1b6da\"],[0.4,\"#fde0ef\"],[0.5,\"#f7f7f7\"],[0.6,\"#e6f5d0\"],[0.7,\"#b8e186\"],[0.8,\"#7fbc41\"],[0.9,\"#4d9221\"],[1,\"#276419\"]],\"sequential\":[[0.0,\"#0d0887\"],[0.1111111111111111,\"#46039f\"],[0.2222222222222222,\"#7201a8\"],[0.3333333333333333,\"#9c179e\"],[0.4444444444444444,\"#bd3786\"],[0.5555555555555556,\"#d8576b\"],[0.6666666666666666,\"#ed7953\"],[0.7777777777777778,\"#fb9f3a\"],[0.8888888888888888,\"#fdca26\"],[1.0,\"#f0f921\"]],\"sequentialminus\":[[0.0,\"#0d0887\"],[0.1111111111111111,\"#46039f\"],[0.2222222222222222,\"#7201a8\"],[0.3333333333333333,\"#9c179e\"],[0.4444444444444444,\"#bd3786\"],[0.5555555555555556,\"#d8576b\"],[0.6666666666666666,\"#ed7953\"],[0.7777777777777778,\"#fb9f3a\"],[0.8888888888888888,\"#fdca26\"],[1.0,\"#f0f921\"]]},\"colorway\":[\"#636efa\",\"#EF553B\",\"#00cc96\",\"#ab63fa\",\"#FFA15A\",\"#19d3f3\",\"#FF6692\",\"#B6E880\",\"#FF97FF\",\"#FECB52\"],\"font\":{\"color\":\"#2a3f5f\"},\"geo\":{\"bgcolor\":\"white\",\"lakecolor\":\"white\",\"landcolor\":\"#E5ECF6\",\"showlakes\":true,\"showland\":true,\"subunitcolor\":\"white\"},\"hoverlabel\":{\"align\":\"left\"},\"hovermode\":\"closest\",\"mapbox\":{\"style\":\"light\"},\"paper_bgcolor\":\"white\",\"plot_bgcolor\":\"#E5ECF6\",\"polar\":{\"angularaxis\":{\"gridcolor\":\"white\",\"linecolor\":\"white\",\"ticks\":\"\"},\"bgcolor\":\"#E5ECF6\",\"radialaxis\":{\"gridcolor\":\"white\",\"linecolor\":\"white\",\"ticks\":\"\"}},\"scene\":{\"xaxis\":{\"backgroundcolor\":\"#E5ECF6\",\"gridcolor\":\"white\",\"gridwidth\":2,\"linecolor\":\"white\",\"showbackground\":true,\"ticks\":\"\",\"zerolinecolor\":\"white\"},\"yaxis\":{\"backgroundcolor\":\"#E5ECF6\",\"gridcolor\":\"white\",\"gridwidth\":2,\"linecolor\":\"white\",\"showbackground\":true,\"ticks\":\"\",\"zerolinecolor\":\"white\"},\"zaxis\":{\"backgroundcolor\":\"#E5ECF6\",\"gridcolor\":\"white\",\"gridwidth\":2,\"linecolor\":\"white\",\"showbackground\":true,\"ticks\":\"\",\"zerolinecolor\":\"white\"}},\"shapedefaults\":{\"line\":{\"color\":\"#2a3f5f\"}},\"ternary\":{\"aaxis\":{\"gridcolor\":\"white\",\"linecolor\":\"white\",\"ticks\":\"\"},\"baxis\":{\"gridcolor\":\"white\",\"linecolor\":\"white\",\"ticks\":\"\"},\"bgcolor\":\"#E5ECF6\",\"caxis\":{\"gridcolor\":\"white\",\"linecolor\":\"white\",\"ticks\":\"\"}},\"title\":{\"x\":0.05},\"xaxis\":{\"automargin\":true,\"gridcolor\":\"white\",\"linecolor\":\"white\",\"ticks\":\"\",\"title\":{\"standoff\":15},\"zerolinecolor\":\"white\",\"zerolinewidth\":2},\"yaxis\":{\"automargin\":true,\"gridcolor\":\"white\",\"linecolor\":\"white\",\"ticks\":\"\",\"title\":{\"standoff\":15},\"zerolinecolor\":\"white\",\"zerolinewidth\":2}}},\"title\":{\"font\":{\"color\":\"#4D5663\"}},\"xaxis\":{\"gridcolor\":\"#E1E5ED\",\"showgrid\":true,\"tickfont\":{\"color\":\"#4D5663\"},\"title\":{\"font\":{\"color\":\"#4D5663\"},\"text\":\"\"},\"zerolinecolor\":\"#E1E5ED\"},\"yaxis\":{\"gridcolor\":\"#E1E5ED\",\"showgrid\":true,\"tickfont\":{\"color\":\"#4D5663\"},\"title\":{\"font\":{\"color\":\"#4D5663\"},\"text\":\"\"},\"zerolinecolor\":\"#E1E5ED\"}},                        {\"showLink\": true, \"linkText\": \"Export to plot.ly\", \"plotlyServerURL\": \"https://plot.ly\", \"responsive\": true}                    ).then(function(){\n",
       "                            \n",
       "var gd = document.getElementById('7fb3dcf7-67f6-4c19-95d0-98c42c951aba');\n",
       "var x = new MutationObserver(function (mutations, observer) {{\n",
       "        var display = window.getComputedStyle(gd).display;\n",
       "        if (!display || display === 'none') {{\n",
       "            console.log([gd, 'removed!']);\n",
       "            Plotly.purge(gd);\n",
       "            observer.disconnect();\n",
       "        }}\n",
       "}});\n",
       "\n",
       "// Listen for the removal of the full notebook cells\n",
       "var notebookContainer = gd.closest('#notebook-container');\n",
       "if (notebookContainer) {{\n",
       "    x.observe(notebookContainer, {childList: true});\n",
       "}}\n",
       "\n",
       "// Listen for the clearing of the current output cell\n",
       "var outputEl = gd.closest('.output');\n",
       "if (outputEl) {{\n",
       "    x.observe(outputEl, {childList: true});\n",
       "}}\n",
       "\n",
       "                        })                };                });            </script>        </div>"
      ]
     },
     "metadata": {},
     "output_type": "display_data"
    }
   ],
   "source": [
    "df.count().iplot(kind='bar')"
   ]
  },
  {
   "cell_type": "markdown",
   "metadata": {},
   "source": [
    "## Boxplots"
   ]
  },
  {
   "cell_type": "code",
   "execution_count": 13,
   "metadata": {
    "collapsed": false
   },
   "outputs": [
    {
     "data": {
      "application/vnd.plotly.v1+json": {
       "config": {
        "linkText": "Export to plot.ly",
        "plotlyServerURL": "https://plot.ly",
        "showLink": true
       },
       "data": [
        {
         "boxpoints": false,
         "line": {
          "width": 1.3
         },
         "marker": {
          "color": "rgba(255, 153, 51, 1.0)"
         },
         "name": "A",
         "orientation": "v",
         "type": "box",
         "y": [
          -1.3402016232243987,
          -0.649020214887379,
          -0.1682257323904412,
          2.193351046396256,
          -0.03573185326863341,
          -1.0307989329934075,
          -0.31001491329916697,
          0.22297126297492637,
          0.6122609371476259,
          -2.117750882736682,
          0.3272545474121727,
          1.1386299196654515,
          -0.4154436052538386,
          1.0779279014688374,
          -0.33924919653852054,
          -0.05106266578488151,
          -1.2273122208986817,
          0.13163095652086673,
          0.6861422996774701,
          -1.4929644029779623,
          0.7150917642789755,
          1.814864989428972,
          0.9247864218619752,
          0.1584202308262772,
          1.3776632444592147,
          -0.8326001639401515,
          1.181045793801218,
          -0.374786520171287,
          -1.0314030959357248,
          -1.405302986742882,
          1.307505538855658,
          0.28061501742315353,
          -0.27765619411536585,
          1.037160257723475,
          -0.06440534965266251,
          -0.793112145628941,
          -2.123781691651395,
          0.7175911466979235,
          -0.9935809840486913,
          0.102082618948086,
          2.5401308092916937,
          0.6994358348094193,
          0.37786736051270964,
          0.36914437145631324,
          -0.18534855714732013,
          -0.2839090460128509,
          -0.6674685004133002,
          -1.1939521780587363,
          0.22405329359385473,
          0.30397583811713497,
          2.150058233613433,
          -0.6912701612509979,
          0.24011301797624413,
          -0.8920054636597202,
          -1.1362101375723168,
          -0.2445198402137013,
          -1.464257619736692,
          -1.131466171469585,
          0.5006879161128014,
          -0.0060776854956445915,
          -0.24392875687830465,
          0.6797274182867651,
          -0.029234509609762142,
          -1.062499955977877,
          0.6439254781690764,
          0.5783337153396132,
          -0.1944123189471814,
          -0.2167287075789601,
          -0.024164469729240884,
          0.05793902626343979,
          0.8986897207398744,
          1.0031118779125756,
          2.031724621187272,
          -0.10250037152497271,
          -1.1186755466234815,
          -1.1843577588561136,
          -1.5662760148060901,
          -1.219161823281136,
          -1.1593766556630698,
          -0.027439127229870085,
          0.018316738046942258,
          -0.6922784874155976,
          0.07979753670333341,
          0.22962384107885242,
          0.20152715612661043,
          -0.3285086721135077,
          -0.4779892642970852,
          -0.42324897569430525,
          -2.738587292705288,
          -0.35618875561801133,
          1.1560776988758348,
          -0.7923919414392832,
          0.7825784632218197,
          0.08966821419878798,
          -0.6329579247795905,
          -0.375129963188778,
          -0.8639214742522782,
          0.40125309184897434,
          0.5185039514250023,
          0.05590068286289588
         ]
        },
        {
         "boxpoints": false,
         "line": {
          "width": 1.3
         },
         "marker": {
          "color": "rgba(55, 128, 191, 1.0)"
         },
         "name": "B",
         "orientation": "v",
         "type": "box",
         "y": [
          -0.9690244560766667,
          -0.24091027670686352,
          0.06172657545459743,
          -1.3358418161138446,
          0.4096119688660683,
          0.21648207305952347,
          1.5494564109673212,
          -0.5272035737836958,
          0.9936728832488787,
          1.6998421007416729,
          -0.5350070839408002,
          1.142373991163409,
          0.28043404231004704,
          -0.12769281150264328,
          -1.6037993962606607,
          0.5265483510398294,
          0.6901568262269182,
          0.15982885802970115,
          0.39314699605901254,
          0.11442065176845712,
          1.1243539020059987,
          1.1152052967861483,
          0.2780180827228744,
          1.4584229801030515,
          1.4978308842176264,
          -0.5437462494865144,
          0.18413726991006588,
          0.6269539326224163,
          -2.5047420918321257,
          -0.6212320955813105,
          0.08172489190197559,
          -0.6399969402483794,
          -0.15252884600524794,
          0.7774564761486727,
          0.37641731136611345,
          -0.6411375959139302,
          1.4093851243875426,
          -0.7630593139882308,
          0.10385408112188718,
          0.9157584272126849,
          0.06737938308580205,
          0.4412611451538305,
          -0.42090358284399665,
          0.4232808577387168,
          0.2761393043199375,
          1.138092905016683,
          1.8973244739280186,
          0.19108988361415394,
          0.13251187903126746,
          1.5160740123760557,
          -0.47908398458207774,
          0.2849672103236269,
          -0.3767923189387514,
          2.2667184992162563,
          1.975737356877006,
          -0.3133790957536171,
          0.42849388398643246,
          -1.1098435632620174,
          0.7432415272682933,
          0.8773264563497847,
          -1.5027064039710905,
          -0.5467087382492198,
          -0.22462087224068003,
          0.9213508618810443,
          1.382123867957571,
          -0.7145203155188684,
          -0.7637499403917496,
          0.37410803547132204,
          0.372442129996429,
          -0.599660356333412,
          -0.02335861163390679,
          0.4139060275767294,
          0.19756760881077232,
          0.4696597038850513,
          0.3168977038265884,
          0.28168663667665017,
          -1.116787362925828,
          0.1991967912578874,
          0.6389382678317415,
          0.13410834811540082,
          0.0031633990525533,
          -0.6308432596799884,
          1.5266337378580441,
          -0.2036437953940007,
          -2.105541619115384,
          0.5987154691588157,
          0.8289444115085323,
          -1.3488492705330655,
          -0.28987568392444796,
          -1.3420110021319405,
          0.2729186132865296,
          0.6159737529548067,
          0.7078416094987383,
          -0.5693004239201993,
          0.1797509878233235,
          -0.2736610552159289,
          1.2706296230538061,
          0.041079620995538205,
          1.5558794301479135,
          1.23589773548267
         ]
        },
        {
         "boxpoints": false,
         "line": {
          "width": 1.3
         },
         "marker": {
          "color": "rgba(50, 171, 96, 1.0)"
         },
         "name": "C",
         "orientation": "v",
         "type": "box",
         "y": [
          -0.31761216767426204,
          -0.7713855262248842,
          0.6510143387152343,
          -1.1811984242585574,
          -1.1697432254377702,
          0.5489771618833647,
          1.1862225843114564,
          -0.7245272592059752,
          -0.14792973672494128,
          1.5722515552182135,
          1.4341592490956658,
          -0.8570156609414016,
          -1.680520022665643,
          -0.9680166170648011,
          1.311281663993853,
          -1.8862897337383335,
          0.2556671335044036,
          -0.42854058169515186,
          0.021496573924532865,
          -0.9301714438666704,
          -0.7784602628726872,
          0.5253013752651645,
          -1.1331607602104599,
          1.380155974255039,
          -1.4258118060932672,
          1.0519287902179193,
          -0.5483907903629059,
          -0.4736793472289787,
          0.5008072725857905,
          1.9524746034663378,
          0.7760705877414437,
          -0.7024923559689906,
          -1.0723973849428952,
          -0.08883437399867769,
          1.1516644440104995,
          0.14492508387561012,
          -1.329113015464814,
          -1.768554760981793,
          -1.1089511004990398,
          -0.9256720747159527,
          -0.607940857474674,
          -0.7643597429653168,
          2.116175430688474,
          0.5254370534840804,
          -0.8627621038011164,
          -0.18705903746517677,
          0.4969700990114964,
          1.3775880018466966,
          0.5422496160610358,
          0.585665596672673,
          1.607985533045647,
          -0.14937880582303528,
          0.31304196224506375,
          -0.949083115083279,
          1.3527610635614198,
          -0.7229800726709068,
          -0.72744238172861,
          -0.8903502064701029,
          0.19856824359792294,
          0.07938708606902466,
          -0.8048320733054841,
          0.9639879157595301,
          -0.10116584307740642,
          -0.40395266893604703,
          -1.4659250635248866,
          -1.3416566932851965,
          -0.17915563258237827,
          -1.0205832094322478,
          -1.348546808665269,
          1.244533874754698,
          -0.08330079467972014,
          -0.21109143856870685,
          -0.049408929386735294,
          -0.6357858113735209,
          0.3159283014544451,
          -1.4088745925162722,
          1.2069505204575266,
          0.5896351522404546,
          0.5686334336003075,
          0.41991449053903257,
          -0.915112909217904,
          -0.7950586560618741,
          -2.1036162765740736,
          0.30013241310694716,
          -0.7015981150125078,
          0.19965514925218483,
          -1.7509003793519868,
          0.003082167692337168,
          1.1546511368384644,
          0.46855349338478686,
          -1.4260884081435767,
          -0.12707196437390098,
          0.15753904614090358,
          0.7152257131572535,
          -0.7607448920579295,
          -0.20845227848020811,
          0.9630898870419832,
          0.07864516588430184,
          -0.6766380804599007,
          -1.7568453910546822
         ]
        },
        {
         "boxpoints": false,
         "line": {
          "width": 1.3
         },
         "marker": {
          "color": "rgba(128, 0, 128, 1.0)"
         },
         "name": "D",
         "orientation": "v",
         "type": "box",
         "y": [
          0.48402231351696223,
          -0.10224008216294853,
          0.1181167177112375,
          -1.0666352011557814,
          0.9665761653846904,
          -1.357467284764471,
          -0.9284302790533993,
          0.6345284482882199,
          -0.0740403721093706,
          -0.4639975999755965,
          0.08721289374435162,
          2.5052961075647073,
          0.43481143614950385,
          0.044696324209182695,
          1.0038024561243661,
          0.5792773036591153,
          -0.9387504452926381,
          0.38816513983244655,
          0.7125625273567961,
          -0.9014570313492231,
          0.617734999692759,
          -0.1607937369778756,
          0.47256217897592473,
          0.9849914909342756,
          -0.11588845516963875,
          0.935370911058539,
          0.6814187457481841,
          -1.093908749200606,
          -1.4770940250558757,
          -0.4681968101286804,
          0.003804239951599719,
          -0.8654816613491302,
          -0.5388942804224948,
          -0.04185039340724913,
          -1.6113178414836005,
          -0.0003678996224740092,
          0.8407392704361697,
          0.8533804774379177,
          -0.059350929952908534,
          1.0205634363676772,
          -1.7799932042531268,
          0.2317262664177079,
          -0.43506433070992123,
          0.21885734354175732,
          0.12191237624937491,
          0.18524173055924198,
          1.0448868828422513,
          -1.0693628956754957,
          -0.41071363662322125,
          -1.2017076759706053,
          0.36453795842358444,
          0.048199844587854104,
          0.06988559244102713,
          -1.302062250615279,
          2.0868259885989198,
          -0.8867554121873944,
          -0.4991233846826625,
          0.6624829896563093,
          -0.08644530990479748,
          0.05376519275306745,
          0.6105915466200568,
          1.5880147270494087,
          -2.6059443100785398,
          1.113681623122705,
          -2.4808034446004505,
          0.7950575875647712,
          -1.7216964395170653,
          0.9714435277856804,
          -0.2276106106055289,
          -0.1445109611895521,
          -1.3269143168436681,
          -2.0694832857147674,
          -0.7742834005575784,
          -0.6461480867969325,
          -0.6757574665431837,
          0.9722038475153926,
          0.9775585773247587,
          0.46947999658130235,
          0.9322149470058937,
          -0.21609438336289588,
          2.248124938605876,
          -0.32137434342729276,
          -2.438336521811027,
          0.7591164420275582,
          -0.5280112163401659,
          -0.46329575071946916,
          0.597968464659016,
          -0.6701092888978968,
          -1.2261745344221369,
          -1.2143797733898316,
          0.4103104662761871,
          -0.05196950755972925,
          -0.0706104909389996,
          -1.9771998405899995,
          1.759130100764726,
          -0.6872895951785153,
          -0.16848677083892882,
          -0.5170754348269515,
          -1.0486590728578142,
          1.6818373695865567
         ]
        }
       ],
       "layout": {
        "legend": {
         "bgcolor": "#F5F6F9",
         "font": {
          "color": "#4D5663"
         }
        },
        "paper_bgcolor": "#F5F6F9",
        "plot_bgcolor": "#F5F6F9",
        "template": {
         "data": {
          "bar": [
           {
            "error_x": {
             "color": "#2a3f5f"
            },
            "error_y": {
             "color": "#2a3f5f"
            },
            "marker": {
             "line": {
              "color": "#E5ECF6",
              "width": 0.5
             },
             "pattern": {
              "fillmode": "overlay",
              "size": 10,
              "solidity": 0.2
             }
            },
            "type": "bar"
           }
          ],
          "barpolar": [
           {
            "marker": {
             "line": {
              "color": "#E5ECF6",
              "width": 0.5
             },
             "pattern": {
              "fillmode": "overlay",
              "size": 10,
              "solidity": 0.2
             }
            },
            "type": "barpolar"
           }
          ],
          "carpet": [
           {
            "aaxis": {
             "endlinecolor": "#2a3f5f",
             "gridcolor": "white",
             "linecolor": "white",
             "minorgridcolor": "white",
             "startlinecolor": "#2a3f5f"
            },
            "baxis": {
             "endlinecolor": "#2a3f5f",
             "gridcolor": "white",
             "linecolor": "white",
             "minorgridcolor": "white",
             "startlinecolor": "#2a3f5f"
            },
            "type": "carpet"
           }
          ],
          "choropleth": [
           {
            "colorbar": {
             "outlinewidth": 0,
             "ticks": ""
            },
            "type": "choropleth"
           }
          ],
          "contour": [
           {
            "colorbar": {
             "outlinewidth": 0,
             "ticks": ""
            },
            "colorscale": [
             [
              0,
              "#0d0887"
             ],
             [
              0.1111111111111111,
              "#46039f"
             ],
             [
              0.2222222222222222,
              "#7201a8"
             ],
             [
              0.3333333333333333,
              "#9c179e"
             ],
             [
              0.4444444444444444,
              "#bd3786"
             ],
             [
              0.5555555555555556,
              "#d8576b"
             ],
             [
              0.6666666666666666,
              "#ed7953"
             ],
             [
              0.7777777777777778,
              "#fb9f3a"
             ],
             [
              0.8888888888888888,
              "#fdca26"
             ],
             [
              1,
              "#f0f921"
             ]
            ],
            "type": "contour"
           }
          ],
          "contourcarpet": [
           {
            "colorbar": {
             "outlinewidth": 0,
             "ticks": ""
            },
            "type": "contourcarpet"
           }
          ],
          "heatmap": [
           {
            "colorbar": {
             "outlinewidth": 0,
             "ticks": ""
            },
            "colorscale": [
             [
              0,
              "#0d0887"
             ],
             [
              0.1111111111111111,
              "#46039f"
             ],
             [
              0.2222222222222222,
              "#7201a8"
             ],
             [
              0.3333333333333333,
              "#9c179e"
             ],
             [
              0.4444444444444444,
              "#bd3786"
             ],
             [
              0.5555555555555556,
              "#d8576b"
             ],
             [
              0.6666666666666666,
              "#ed7953"
             ],
             [
              0.7777777777777778,
              "#fb9f3a"
             ],
             [
              0.8888888888888888,
              "#fdca26"
             ],
             [
              1,
              "#f0f921"
             ]
            ],
            "type": "heatmap"
           }
          ],
          "heatmapgl": [
           {
            "colorbar": {
             "outlinewidth": 0,
             "ticks": ""
            },
            "colorscale": [
             [
              0,
              "#0d0887"
             ],
             [
              0.1111111111111111,
              "#46039f"
             ],
             [
              0.2222222222222222,
              "#7201a8"
             ],
             [
              0.3333333333333333,
              "#9c179e"
             ],
             [
              0.4444444444444444,
              "#bd3786"
             ],
             [
              0.5555555555555556,
              "#d8576b"
             ],
             [
              0.6666666666666666,
              "#ed7953"
             ],
             [
              0.7777777777777778,
              "#fb9f3a"
             ],
             [
              0.8888888888888888,
              "#fdca26"
             ],
             [
              1,
              "#f0f921"
             ]
            ],
            "type": "heatmapgl"
           }
          ],
          "histogram": [
           {
            "marker": {
             "pattern": {
              "fillmode": "overlay",
              "size": 10,
              "solidity": 0.2
             }
            },
            "type": "histogram"
           }
          ],
          "histogram2d": [
           {
            "colorbar": {
             "outlinewidth": 0,
             "ticks": ""
            },
            "colorscale": [
             [
              0,
              "#0d0887"
             ],
             [
              0.1111111111111111,
              "#46039f"
             ],
             [
              0.2222222222222222,
              "#7201a8"
             ],
             [
              0.3333333333333333,
              "#9c179e"
             ],
             [
              0.4444444444444444,
              "#bd3786"
             ],
             [
              0.5555555555555556,
              "#d8576b"
             ],
             [
              0.6666666666666666,
              "#ed7953"
             ],
             [
              0.7777777777777778,
              "#fb9f3a"
             ],
             [
              0.8888888888888888,
              "#fdca26"
             ],
             [
              1,
              "#f0f921"
             ]
            ],
            "type": "histogram2d"
           }
          ],
          "histogram2dcontour": [
           {
            "colorbar": {
             "outlinewidth": 0,
             "ticks": ""
            },
            "colorscale": [
             [
              0,
              "#0d0887"
             ],
             [
              0.1111111111111111,
              "#46039f"
             ],
             [
              0.2222222222222222,
              "#7201a8"
             ],
             [
              0.3333333333333333,
              "#9c179e"
             ],
             [
              0.4444444444444444,
              "#bd3786"
             ],
             [
              0.5555555555555556,
              "#d8576b"
             ],
             [
              0.6666666666666666,
              "#ed7953"
             ],
             [
              0.7777777777777778,
              "#fb9f3a"
             ],
             [
              0.8888888888888888,
              "#fdca26"
             ],
             [
              1,
              "#f0f921"
             ]
            ],
            "type": "histogram2dcontour"
           }
          ],
          "mesh3d": [
           {
            "colorbar": {
             "outlinewidth": 0,
             "ticks": ""
            },
            "type": "mesh3d"
           }
          ],
          "parcoords": [
           {
            "line": {
             "colorbar": {
              "outlinewidth": 0,
              "ticks": ""
             }
            },
            "type": "parcoords"
           }
          ],
          "pie": [
           {
            "automargin": true,
            "type": "pie"
           }
          ],
          "scatter": [
           {
            "fillpattern": {
             "fillmode": "overlay",
             "size": 10,
             "solidity": 0.2
            },
            "type": "scatter"
           }
          ],
          "scatter3d": [
           {
            "line": {
             "colorbar": {
              "outlinewidth": 0,
              "ticks": ""
             }
            },
            "marker": {
             "colorbar": {
              "outlinewidth": 0,
              "ticks": ""
             }
            },
            "type": "scatter3d"
           }
          ],
          "scattercarpet": [
           {
            "marker": {
             "colorbar": {
              "outlinewidth": 0,
              "ticks": ""
             }
            },
            "type": "scattercarpet"
           }
          ],
          "scattergeo": [
           {
            "marker": {
             "colorbar": {
              "outlinewidth": 0,
              "ticks": ""
             }
            },
            "type": "scattergeo"
           }
          ],
          "scattergl": [
           {
            "marker": {
             "colorbar": {
              "outlinewidth": 0,
              "ticks": ""
             }
            },
            "type": "scattergl"
           }
          ],
          "scattermapbox": [
           {
            "marker": {
             "colorbar": {
              "outlinewidth": 0,
              "ticks": ""
             }
            },
            "type": "scattermapbox"
           }
          ],
          "scatterpolar": [
           {
            "marker": {
             "colorbar": {
              "outlinewidth": 0,
              "ticks": ""
             }
            },
            "type": "scatterpolar"
           }
          ],
          "scatterpolargl": [
           {
            "marker": {
             "colorbar": {
              "outlinewidth": 0,
              "ticks": ""
             }
            },
            "type": "scatterpolargl"
           }
          ],
          "scatterternary": [
           {
            "marker": {
             "colorbar": {
              "outlinewidth": 0,
              "ticks": ""
             }
            },
            "type": "scatterternary"
           }
          ],
          "surface": [
           {
            "colorbar": {
             "outlinewidth": 0,
             "ticks": ""
            },
            "colorscale": [
             [
              0,
              "#0d0887"
             ],
             [
              0.1111111111111111,
              "#46039f"
             ],
             [
              0.2222222222222222,
              "#7201a8"
             ],
             [
              0.3333333333333333,
              "#9c179e"
             ],
             [
              0.4444444444444444,
              "#bd3786"
             ],
             [
              0.5555555555555556,
              "#d8576b"
             ],
             [
              0.6666666666666666,
              "#ed7953"
             ],
             [
              0.7777777777777778,
              "#fb9f3a"
             ],
             [
              0.8888888888888888,
              "#fdca26"
             ],
             [
              1,
              "#f0f921"
             ]
            ],
            "type": "surface"
           }
          ],
          "table": [
           {
            "cells": {
             "fill": {
              "color": "#EBF0F8"
             },
             "line": {
              "color": "white"
             }
            },
            "header": {
             "fill": {
              "color": "#C8D4E3"
             },
             "line": {
              "color": "white"
             }
            },
            "type": "table"
           }
          ]
         },
         "layout": {
          "annotationdefaults": {
           "arrowcolor": "#2a3f5f",
           "arrowhead": 0,
           "arrowwidth": 1
          },
          "autotypenumbers": "strict",
          "coloraxis": {
           "colorbar": {
            "outlinewidth": 0,
            "ticks": ""
           }
          },
          "colorscale": {
           "diverging": [
            [
             0,
             "#8e0152"
            ],
            [
             0.1,
             "#c51b7d"
            ],
            [
             0.2,
             "#de77ae"
            ],
            [
             0.3,
             "#f1b6da"
            ],
            [
             0.4,
             "#fde0ef"
            ],
            [
             0.5,
             "#f7f7f7"
            ],
            [
             0.6,
             "#e6f5d0"
            ],
            [
             0.7,
             "#b8e186"
            ],
            [
             0.8,
             "#7fbc41"
            ],
            [
             0.9,
             "#4d9221"
            ],
            [
             1,
             "#276419"
            ]
           ],
           "sequential": [
            [
             0,
             "#0d0887"
            ],
            [
             0.1111111111111111,
             "#46039f"
            ],
            [
             0.2222222222222222,
             "#7201a8"
            ],
            [
             0.3333333333333333,
             "#9c179e"
            ],
            [
             0.4444444444444444,
             "#bd3786"
            ],
            [
             0.5555555555555556,
             "#d8576b"
            ],
            [
             0.6666666666666666,
             "#ed7953"
            ],
            [
             0.7777777777777778,
             "#fb9f3a"
            ],
            [
             0.8888888888888888,
             "#fdca26"
            ],
            [
             1,
             "#f0f921"
            ]
           ],
           "sequentialminus": [
            [
             0,
             "#0d0887"
            ],
            [
             0.1111111111111111,
             "#46039f"
            ],
            [
             0.2222222222222222,
             "#7201a8"
            ],
            [
             0.3333333333333333,
             "#9c179e"
            ],
            [
             0.4444444444444444,
             "#bd3786"
            ],
            [
             0.5555555555555556,
             "#d8576b"
            ],
            [
             0.6666666666666666,
             "#ed7953"
            ],
            [
             0.7777777777777778,
             "#fb9f3a"
            ],
            [
             0.8888888888888888,
             "#fdca26"
            ],
            [
             1,
             "#f0f921"
            ]
           ]
          },
          "colorway": [
           "#636efa",
           "#EF553B",
           "#00cc96",
           "#ab63fa",
           "#FFA15A",
           "#19d3f3",
           "#FF6692",
           "#B6E880",
           "#FF97FF",
           "#FECB52"
          ],
          "font": {
           "color": "#2a3f5f"
          },
          "geo": {
           "bgcolor": "white",
           "lakecolor": "white",
           "landcolor": "#E5ECF6",
           "showlakes": true,
           "showland": true,
           "subunitcolor": "white"
          },
          "hoverlabel": {
           "align": "left"
          },
          "hovermode": "closest",
          "mapbox": {
           "style": "light"
          },
          "paper_bgcolor": "white",
          "plot_bgcolor": "#E5ECF6",
          "polar": {
           "angularaxis": {
            "gridcolor": "white",
            "linecolor": "white",
            "ticks": ""
           },
           "bgcolor": "#E5ECF6",
           "radialaxis": {
            "gridcolor": "white",
            "linecolor": "white",
            "ticks": ""
           }
          },
          "scene": {
           "xaxis": {
            "backgroundcolor": "#E5ECF6",
            "gridcolor": "white",
            "gridwidth": 2,
            "linecolor": "white",
            "showbackground": true,
            "ticks": "",
            "zerolinecolor": "white"
           },
           "yaxis": {
            "backgroundcolor": "#E5ECF6",
            "gridcolor": "white",
            "gridwidth": 2,
            "linecolor": "white",
            "showbackground": true,
            "ticks": "",
            "zerolinecolor": "white"
           },
           "zaxis": {
            "backgroundcolor": "#E5ECF6",
            "gridcolor": "white",
            "gridwidth": 2,
            "linecolor": "white",
            "showbackground": true,
            "ticks": "",
            "zerolinecolor": "white"
           }
          },
          "shapedefaults": {
           "line": {
            "color": "#2a3f5f"
           }
          },
          "ternary": {
           "aaxis": {
            "gridcolor": "white",
            "linecolor": "white",
            "ticks": ""
           },
           "baxis": {
            "gridcolor": "white",
            "linecolor": "white",
            "ticks": ""
           },
           "bgcolor": "#E5ECF6",
           "caxis": {
            "gridcolor": "white",
            "linecolor": "white",
            "ticks": ""
           }
          },
          "title": {
           "x": 0.05
          },
          "xaxis": {
           "automargin": true,
           "gridcolor": "white",
           "linecolor": "white",
           "ticks": "",
           "title": {
            "standoff": 15
           },
           "zerolinecolor": "white",
           "zerolinewidth": 2
          },
          "yaxis": {
           "automargin": true,
           "gridcolor": "white",
           "linecolor": "white",
           "ticks": "",
           "title": {
            "standoff": 15
           },
           "zerolinecolor": "white",
           "zerolinewidth": 2
          }
         }
        },
        "title": {
         "font": {
          "color": "#4D5663"
         }
        },
        "xaxis": {
         "gridcolor": "#E1E5ED",
         "showgrid": true,
         "tickfont": {
          "color": "#4D5663"
         },
         "title": {
          "font": {
           "color": "#4D5663"
          },
          "text": ""
         },
         "zerolinecolor": "#E1E5ED"
        },
        "yaxis": {
         "gridcolor": "#E1E5ED",
         "showgrid": true,
         "tickfont": {
          "color": "#4D5663"
         },
         "title": {
          "font": {
           "color": "#4D5663"
          },
          "text": ""
         },
         "zerolinecolor": "#E1E5ED"
        }
       }
      },
      "text/html": [
       "<div>                            <div id=\"e2c54998-f4a5-45b8-825e-d7a6e78fe23a\" class=\"plotly-graph-div\" style=\"height:525px; width:100%;\"></div>            <script type=\"text/javascript\">                require([\"plotly\"], function(Plotly) {                    window.PLOTLYENV=window.PLOTLYENV || {};\n",
       "                    window.PLOTLYENV.BASE_URL='https://plot.ly';                                    if (document.getElementById(\"e2c54998-f4a5-45b8-825e-d7a6e78fe23a\")) {                    Plotly.newPlot(                        \"e2c54998-f4a5-45b8-825e-d7a6e78fe23a\",                        [{\"boxpoints\":false,\"line\":{\"width\":1.3},\"marker\":{\"color\":\"rgba(255, 153, 51, 1.0)\"},\"name\":\"A\",\"orientation\":\"v\",\"y\":[-1.3402016232243987,-0.649020214887379,-0.1682257323904412,2.193351046396256,-0.03573185326863341,-1.0307989329934075,-0.31001491329916697,0.22297126297492637,0.6122609371476259,-2.117750882736682,0.3272545474121727,1.1386299196654515,-0.4154436052538386,1.0779279014688374,-0.33924919653852054,-0.05106266578488151,-1.2273122208986817,0.13163095652086673,0.6861422996774701,-1.4929644029779623,0.7150917642789755,1.814864989428972,0.9247864218619752,0.1584202308262772,1.3776632444592147,-0.8326001639401515,1.181045793801218,-0.374786520171287,-1.0314030959357248,-1.405302986742882,1.307505538855658,0.28061501742315353,-0.27765619411536585,1.037160257723475,-0.06440534965266251,-0.793112145628941,-2.123781691651395,0.7175911466979235,-0.9935809840486913,0.102082618948086,2.5401308092916937,0.6994358348094193,0.37786736051270964,0.36914437145631324,-0.18534855714732013,-0.2839090460128509,-0.6674685004133002,-1.1939521780587363,0.22405329359385473,0.30397583811713497,2.150058233613433,-0.6912701612509979,0.24011301797624413,-0.8920054636597202,-1.1362101375723168,-0.2445198402137013,-1.464257619736692,-1.131466171469585,0.5006879161128014,-0.0060776854956445915,-0.24392875687830465,0.6797274182867651,-0.029234509609762142,-1.062499955977877,0.6439254781690764,0.5783337153396132,-0.1944123189471814,-0.2167287075789601,-0.024164469729240884,0.05793902626343979,0.8986897207398744,1.0031118779125756,2.031724621187272,-0.10250037152497271,-1.1186755466234815,-1.1843577588561136,-1.5662760148060901,-1.219161823281136,-1.1593766556630698,-0.027439127229870085,0.018316738046942258,-0.6922784874155976,0.07979753670333341,0.22962384107885242,0.20152715612661043,-0.3285086721135077,-0.4779892642970852,-0.42324897569430525,-2.738587292705288,-0.35618875561801133,1.1560776988758348,-0.7923919414392832,0.7825784632218197,0.08966821419878798,-0.6329579247795905,-0.375129963188778,-0.8639214742522782,0.40125309184897434,0.5185039514250023,0.05590068286289588],\"type\":\"box\"},{\"boxpoints\":false,\"line\":{\"width\":1.3},\"marker\":{\"color\":\"rgba(55, 128, 191, 1.0)\"},\"name\":\"B\",\"orientation\":\"v\",\"y\":[-0.9690244560766667,-0.24091027670686352,0.06172657545459743,-1.3358418161138446,0.4096119688660683,0.21648207305952347,1.5494564109673212,-0.5272035737836958,0.9936728832488787,1.6998421007416729,-0.5350070839408002,1.142373991163409,0.28043404231004704,-0.12769281150264328,-1.6037993962606607,0.5265483510398294,0.6901568262269182,0.15982885802970115,0.39314699605901254,0.11442065176845712,1.1243539020059987,1.1152052967861483,0.2780180827228744,1.4584229801030515,1.4978308842176264,-0.5437462494865144,0.18413726991006588,0.6269539326224163,-2.5047420918321257,-0.6212320955813105,0.08172489190197559,-0.6399969402483794,-0.15252884600524794,0.7774564761486727,0.37641731136611345,-0.6411375959139302,1.4093851243875426,-0.7630593139882308,0.10385408112188718,0.9157584272126849,0.06737938308580205,0.4412611451538305,-0.42090358284399665,0.4232808577387168,0.2761393043199375,1.138092905016683,1.8973244739280186,0.19108988361415394,0.13251187903126746,1.5160740123760557,-0.47908398458207774,0.2849672103236269,-0.3767923189387514,2.2667184992162563,1.975737356877006,-0.3133790957536171,0.42849388398643246,-1.1098435632620174,0.7432415272682933,0.8773264563497847,-1.5027064039710905,-0.5467087382492198,-0.22462087224068003,0.9213508618810443,1.382123867957571,-0.7145203155188684,-0.7637499403917496,0.37410803547132204,0.372442129996429,-0.599660356333412,-0.02335861163390679,0.4139060275767294,0.19756760881077232,0.4696597038850513,0.3168977038265884,0.28168663667665017,-1.116787362925828,0.1991967912578874,0.6389382678317415,0.13410834811540082,0.0031633990525533,-0.6308432596799884,1.5266337378580441,-0.2036437953940007,-2.105541619115384,0.5987154691588157,0.8289444115085323,-1.3488492705330655,-0.28987568392444796,-1.3420110021319405,0.2729186132865296,0.6159737529548067,0.7078416094987383,-0.5693004239201993,0.1797509878233235,-0.2736610552159289,1.2706296230538061,0.041079620995538205,1.5558794301479135,1.23589773548267],\"type\":\"box\"},{\"boxpoints\":false,\"line\":{\"width\":1.3},\"marker\":{\"color\":\"rgba(50, 171, 96, 1.0)\"},\"name\":\"C\",\"orientation\":\"v\",\"y\":[-0.31761216767426204,-0.7713855262248842,0.6510143387152343,-1.1811984242585574,-1.1697432254377702,0.5489771618833647,1.1862225843114564,-0.7245272592059752,-0.14792973672494128,1.5722515552182135,1.4341592490956658,-0.8570156609414016,-1.680520022665643,-0.9680166170648011,1.311281663993853,-1.8862897337383335,0.2556671335044036,-0.42854058169515186,0.021496573924532865,-0.9301714438666704,-0.7784602628726872,0.5253013752651645,-1.1331607602104599,1.380155974255039,-1.4258118060932672,1.0519287902179193,-0.5483907903629059,-0.4736793472289787,0.5008072725857905,1.9524746034663378,0.7760705877414437,-0.7024923559689906,-1.0723973849428952,-0.08883437399867769,1.1516644440104995,0.14492508387561012,-1.329113015464814,-1.768554760981793,-1.1089511004990398,-0.9256720747159527,-0.607940857474674,-0.7643597429653168,2.116175430688474,0.5254370534840804,-0.8627621038011164,-0.18705903746517677,0.4969700990114964,1.3775880018466966,0.5422496160610358,0.585665596672673,1.607985533045647,-0.14937880582303528,0.31304196224506375,-0.949083115083279,1.3527610635614198,-0.7229800726709068,-0.72744238172861,-0.8903502064701029,0.19856824359792294,0.07938708606902466,-0.8048320733054841,0.9639879157595301,-0.10116584307740642,-0.40395266893604703,-1.4659250635248866,-1.3416566932851965,-0.17915563258237827,-1.0205832094322478,-1.348546808665269,1.244533874754698,-0.08330079467972014,-0.21109143856870685,-0.049408929386735294,-0.6357858113735209,0.3159283014544451,-1.4088745925162722,1.2069505204575266,0.5896351522404546,0.5686334336003075,0.41991449053903257,-0.915112909217904,-0.7950586560618741,-2.1036162765740736,0.30013241310694716,-0.7015981150125078,0.19965514925218483,-1.7509003793519868,0.003082167692337168,1.1546511368384644,0.46855349338478686,-1.4260884081435767,-0.12707196437390098,0.15753904614090358,0.7152257131572535,-0.7607448920579295,-0.20845227848020811,0.9630898870419832,0.07864516588430184,-0.6766380804599007,-1.7568453910546822],\"type\":\"box\"},{\"boxpoints\":false,\"line\":{\"width\":1.3},\"marker\":{\"color\":\"rgba(128, 0, 128, 1.0)\"},\"name\":\"D\",\"orientation\":\"v\",\"y\":[0.48402231351696223,-0.10224008216294853,0.1181167177112375,-1.0666352011557814,0.9665761653846904,-1.357467284764471,-0.9284302790533993,0.6345284482882199,-0.0740403721093706,-0.4639975999755965,0.08721289374435162,2.5052961075647073,0.43481143614950385,0.044696324209182695,1.0038024561243661,0.5792773036591153,-0.9387504452926381,0.38816513983244655,0.7125625273567961,-0.9014570313492231,0.617734999692759,-0.1607937369778756,0.47256217897592473,0.9849914909342756,-0.11588845516963875,0.935370911058539,0.6814187457481841,-1.093908749200606,-1.4770940250558757,-0.4681968101286804,0.003804239951599719,-0.8654816613491302,-0.5388942804224948,-0.04185039340724913,-1.6113178414836005,-0.0003678996224740092,0.8407392704361697,0.8533804774379177,-0.059350929952908534,1.0205634363676772,-1.7799932042531268,0.2317262664177079,-0.43506433070992123,0.21885734354175732,0.12191237624937491,0.18524173055924198,1.0448868828422513,-1.0693628956754957,-0.41071363662322125,-1.2017076759706053,0.36453795842358444,0.048199844587854104,0.06988559244102713,-1.302062250615279,2.0868259885989198,-0.8867554121873944,-0.4991233846826625,0.6624829896563093,-0.08644530990479748,0.05376519275306745,0.6105915466200568,1.5880147270494087,-2.6059443100785398,1.113681623122705,-2.4808034446004505,0.7950575875647712,-1.7216964395170653,0.9714435277856804,-0.2276106106055289,-0.1445109611895521,-1.3269143168436681,-2.0694832857147674,-0.7742834005575784,-0.6461480867969325,-0.6757574665431837,0.9722038475153926,0.9775585773247587,0.46947999658130235,0.9322149470058937,-0.21609438336289588,2.248124938605876,-0.32137434342729276,-2.438336521811027,0.7591164420275582,-0.5280112163401659,-0.46329575071946916,0.597968464659016,-0.6701092888978968,-1.2261745344221369,-1.2143797733898316,0.4103104662761871,-0.05196950755972925,-0.0706104909389996,-1.9771998405899995,1.759130100764726,-0.6872895951785153,-0.16848677083892882,-0.5170754348269515,-1.0486590728578142,1.6818373695865567],\"type\":\"box\"}],                        {\"legend\":{\"bgcolor\":\"#F5F6F9\",\"font\":{\"color\":\"#4D5663\"}},\"paper_bgcolor\":\"#F5F6F9\",\"plot_bgcolor\":\"#F5F6F9\",\"template\":{\"data\":{\"barpolar\":[{\"marker\":{\"line\":{\"color\":\"#E5ECF6\",\"width\":0.5},\"pattern\":{\"fillmode\":\"overlay\",\"size\":10,\"solidity\":0.2}},\"type\":\"barpolar\"}],\"bar\":[{\"error_x\":{\"color\":\"#2a3f5f\"},\"error_y\":{\"color\":\"#2a3f5f\"},\"marker\":{\"line\":{\"color\":\"#E5ECF6\",\"width\":0.5},\"pattern\":{\"fillmode\":\"overlay\",\"size\":10,\"solidity\":0.2}},\"type\":\"bar\"}],\"carpet\":[{\"aaxis\":{\"endlinecolor\":\"#2a3f5f\",\"gridcolor\":\"white\",\"linecolor\":\"white\",\"minorgridcolor\":\"white\",\"startlinecolor\":\"#2a3f5f\"},\"baxis\":{\"endlinecolor\":\"#2a3f5f\",\"gridcolor\":\"white\",\"linecolor\":\"white\",\"minorgridcolor\":\"white\",\"startlinecolor\":\"#2a3f5f\"},\"type\":\"carpet\"}],\"choropleth\":[{\"colorbar\":{\"outlinewidth\":0,\"ticks\":\"\"},\"type\":\"choropleth\"}],\"contourcarpet\":[{\"colorbar\":{\"outlinewidth\":0,\"ticks\":\"\"},\"type\":\"contourcarpet\"}],\"contour\":[{\"colorbar\":{\"outlinewidth\":0,\"ticks\":\"\"},\"colorscale\":[[0.0,\"#0d0887\"],[0.1111111111111111,\"#46039f\"],[0.2222222222222222,\"#7201a8\"],[0.3333333333333333,\"#9c179e\"],[0.4444444444444444,\"#bd3786\"],[0.5555555555555556,\"#d8576b\"],[0.6666666666666666,\"#ed7953\"],[0.7777777777777778,\"#fb9f3a\"],[0.8888888888888888,\"#fdca26\"],[1.0,\"#f0f921\"]],\"type\":\"contour\"}],\"heatmapgl\":[{\"colorbar\":{\"outlinewidth\":0,\"ticks\":\"\"},\"colorscale\":[[0.0,\"#0d0887\"],[0.1111111111111111,\"#46039f\"],[0.2222222222222222,\"#7201a8\"],[0.3333333333333333,\"#9c179e\"],[0.4444444444444444,\"#bd3786\"],[0.5555555555555556,\"#d8576b\"],[0.6666666666666666,\"#ed7953\"],[0.7777777777777778,\"#fb9f3a\"],[0.8888888888888888,\"#fdca26\"],[1.0,\"#f0f921\"]],\"type\":\"heatmapgl\"}],\"heatmap\":[{\"colorbar\":{\"outlinewidth\":0,\"ticks\":\"\"},\"colorscale\":[[0.0,\"#0d0887\"],[0.1111111111111111,\"#46039f\"],[0.2222222222222222,\"#7201a8\"],[0.3333333333333333,\"#9c179e\"],[0.4444444444444444,\"#bd3786\"],[0.5555555555555556,\"#d8576b\"],[0.6666666666666666,\"#ed7953\"],[0.7777777777777778,\"#fb9f3a\"],[0.8888888888888888,\"#fdca26\"],[1.0,\"#f0f921\"]],\"type\":\"heatmap\"}],\"histogram2dcontour\":[{\"colorbar\":{\"outlinewidth\":0,\"ticks\":\"\"},\"colorscale\":[[0.0,\"#0d0887\"],[0.1111111111111111,\"#46039f\"],[0.2222222222222222,\"#7201a8\"],[0.3333333333333333,\"#9c179e\"],[0.4444444444444444,\"#bd3786\"],[0.5555555555555556,\"#d8576b\"],[0.6666666666666666,\"#ed7953\"],[0.7777777777777778,\"#fb9f3a\"],[0.8888888888888888,\"#fdca26\"],[1.0,\"#f0f921\"]],\"type\":\"histogram2dcontour\"}],\"histogram2d\":[{\"colorbar\":{\"outlinewidth\":0,\"ticks\":\"\"},\"colorscale\":[[0.0,\"#0d0887\"],[0.1111111111111111,\"#46039f\"],[0.2222222222222222,\"#7201a8\"],[0.3333333333333333,\"#9c179e\"],[0.4444444444444444,\"#bd3786\"],[0.5555555555555556,\"#d8576b\"],[0.6666666666666666,\"#ed7953\"],[0.7777777777777778,\"#fb9f3a\"],[0.8888888888888888,\"#fdca26\"],[1.0,\"#f0f921\"]],\"type\":\"histogram2d\"}],\"histogram\":[{\"marker\":{\"pattern\":{\"fillmode\":\"overlay\",\"size\":10,\"solidity\":0.2}},\"type\":\"histogram\"}],\"mesh3d\":[{\"colorbar\":{\"outlinewidth\":0,\"ticks\":\"\"},\"type\":\"mesh3d\"}],\"parcoords\":[{\"line\":{\"colorbar\":{\"outlinewidth\":0,\"ticks\":\"\"}},\"type\":\"parcoords\"}],\"pie\":[{\"automargin\":true,\"type\":\"pie\"}],\"scatter3d\":[{\"line\":{\"colorbar\":{\"outlinewidth\":0,\"ticks\":\"\"}},\"marker\":{\"colorbar\":{\"outlinewidth\":0,\"ticks\":\"\"}},\"type\":\"scatter3d\"}],\"scattercarpet\":[{\"marker\":{\"colorbar\":{\"outlinewidth\":0,\"ticks\":\"\"}},\"type\":\"scattercarpet\"}],\"scattergeo\":[{\"marker\":{\"colorbar\":{\"outlinewidth\":0,\"ticks\":\"\"}},\"type\":\"scattergeo\"}],\"scattergl\":[{\"marker\":{\"colorbar\":{\"outlinewidth\":0,\"ticks\":\"\"}},\"type\":\"scattergl\"}],\"scattermapbox\":[{\"marker\":{\"colorbar\":{\"outlinewidth\":0,\"ticks\":\"\"}},\"type\":\"scattermapbox\"}],\"scatterpolargl\":[{\"marker\":{\"colorbar\":{\"outlinewidth\":0,\"ticks\":\"\"}},\"type\":\"scatterpolargl\"}],\"scatterpolar\":[{\"marker\":{\"colorbar\":{\"outlinewidth\":0,\"ticks\":\"\"}},\"type\":\"scatterpolar\"}],\"scatter\":[{\"fillpattern\":{\"fillmode\":\"overlay\",\"size\":10,\"solidity\":0.2},\"type\":\"scatter\"}],\"scatterternary\":[{\"marker\":{\"colorbar\":{\"outlinewidth\":0,\"ticks\":\"\"}},\"type\":\"scatterternary\"}],\"surface\":[{\"colorbar\":{\"outlinewidth\":0,\"ticks\":\"\"},\"colorscale\":[[0.0,\"#0d0887\"],[0.1111111111111111,\"#46039f\"],[0.2222222222222222,\"#7201a8\"],[0.3333333333333333,\"#9c179e\"],[0.4444444444444444,\"#bd3786\"],[0.5555555555555556,\"#d8576b\"],[0.6666666666666666,\"#ed7953\"],[0.7777777777777778,\"#fb9f3a\"],[0.8888888888888888,\"#fdca26\"],[1.0,\"#f0f921\"]],\"type\":\"surface\"}],\"table\":[{\"cells\":{\"fill\":{\"color\":\"#EBF0F8\"},\"line\":{\"color\":\"white\"}},\"header\":{\"fill\":{\"color\":\"#C8D4E3\"},\"line\":{\"color\":\"white\"}},\"type\":\"table\"}]},\"layout\":{\"annotationdefaults\":{\"arrowcolor\":\"#2a3f5f\",\"arrowhead\":0,\"arrowwidth\":1},\"autotypenumbers\":\"strict\",\"coloraxis\":{\"colorbar\":{\"outlinewidth\":0,\"ticks\":\"\"}},\"colorscale\":{\"diverging\":[[0,\"#8e0152\"],[0.1,\"#c51b7d\"],[0.2,\"#de77ae\"],[0.3,\"#f1b6da\"],[0.4,\"#fde0ef\"],[0.5,\"#f7f7f7\"],[0.6,\"#e6f5d0\"],[0.7,\"#b8e186\"],[0.8,\"#7fbc41\"],[0.9,\"#4d9221\"],[1,\"#276419\"]],\"sequential\":[[0.0,\"#0d0887\"],[0.1111111111111111,\"#46039f\"],[0.2222222222222222,\"#7201a8\"],[0.3333333333333333,\"#9c179e\"],[0.4444444444444444,\"#bd3786\"],[0.5555555555555556,\"#d8576b\"],[0.6666666666666666,\"#ed7953\"],[0.7777777777777778,\"#fb9f3a\"],[0.8888888888888888,\"#fdca26\"],[1.0,\"#f0f921\"]],\"sequentialminus\":[[0.0,\"#0d0887\"],[0.1111111111111111,\"#46039f\"],[0.2222222222222222,\"#7201a8\"],[0.3333333333333333,\"#9c179e\"],[0.4444444444444444,\"#bd3786\"],[0.5555555555555556,\"#d8576b\"],[0.6666666666666666,\"#ed7953\"],[0.7777777777777778,\"#fb9f3a\"],[0.8888888888888888,\"#fdca26\"],[1.0,\"#f0f921\"]]},\"colorway\":[\"#636efa\",\"#EF553B\",\"#00cc96\",\"#ab63fa\",\"#FFA15A\",\"#19d3f3\",\"#FF6692\",\"#B6E880\",\"#FF97FF\",\"#FECB52\"],\"font\":{\"color\":\"#2a3f5f\"},\"geo\":{\"bgcolor\":\"white\",\"lakecolor\":\"white\",\"landcolor\":\"#E5ECF6\",\"showlakes\":true,\"showland\":true,\"subunitcolor\":\"white\"},\"hoverlabel\":{\"align\":\"left\"},\"hovermode\":\"closest\",\"mapbox\":{\"style\":\"light\"},\"paper_bgcolor\":\"white\",\"plot_bgcolor\":\"#E5ECF6\",\"polar\":{\"angularaxis\":{\"gridcolor\":\"white\",\"linecolor\":\"white\",\"ticks\":\"\"},\"bgcolor\":\"#E5ECF6\",\"radialaxis\":{\"gridcolor\":\"white\",\"linecolor\":\"white\",\"ticks\":\"\"}},\"scene\":{\"xaxis\":{\"backgroundcolor\":\"#E5ECF6\",\"gridcolor\":\"white\",\"gridwidth\":2,\"linecolor\":\"white\",\"showbackground\":true,\"ticks\":\"\",\"zerolinecolor\":\"white\"},\"yaxis\":{\"backgroundcolor\":\"#E5ECF6\",\"gridcolor\":\"white\",\"gridwidth\":2,\"linecolor\":\"white\",\"showbackground\":true,\"ticks\":\"\",\"zerolinecolor\":\"white\"},\"zaxis\":{\"backgroundcolor\":\"#E5ECF6\",\"gridcolor\":\"white\",\"gridwidth\":2,\"linecolor\":\"white\",\"showbackground\":true,\"ticks\":\"\",\"zerolinecolor\":\"white\"}},\"shapedefaults\":{\"line\":{\"color\":\"#2a3f5f\"}},\"ternary\":{\"aaxis\":{\"gridcolor\":\"white\",\"linecolor\":\"white\",\"ticks\":\"\"},\"baxis\":{\"gridcolor\":\"white\",\"linecolor\":\"white\",\"ticks\":\"\"},\"bgcolor\":\"#E5ECF6\",\"caxis\":{\"gridcolor\":\"white\",\"linecolor\":\"white\",\"ticks\":\"\"}},\"title\":{\"x\":0.05},\"xaxis\":{\"automargin\":true,\"gridcolor\":\"white\",\"linecolor\":\"white\",\"ticks\":\"\",\"title\":{\"standoff\":15},\"zerolinecolor\":\"white\",\"zerolinewidth\":2},\"yaxis\":{\"automargin\":true,\"gridcolor\":\"white\",\"linecolor\":\"white\",\"ticks\":\"\",\"title\":{\"standoff\":15},\"zerolinecolor\":\"white\",\"zerolinewidth\":2}}},\"title\":{\"font\":{\"color\":\"#4D5663\"}},\"xaxis\":{\"gridcolor\":\"#E1E5ED\",\"showgrid\":true,\"tickfont\":{\"color\":\"#4D5663\"},\"title\":{\"font\":{\"color\":\"#4D5663\"},\"text\":\"\"},\"zerolinecolor\":\"#E1E5ED\"},\"yaxis\":{\"gridcolor\":\"#E1E5ED\",\"showgrid\":true,\"tickfont\":{\"color\":\"#4D5663\"},\"title\":{\"font\":{\"color\":\"#4D5663\"},\"text\":\"\"},\"zerolinecolor\":\"#E1E5ED\"}},                        {\"showLink\": true, \"linkText\": \"Export to plot.ly\", \"plotlyServerURL\": \"https://plot.ly\", \"responsive\": true}                    ).then(function(){\n",
       "                            \n",
       "var gd = document.getElementById('e2c54998-f4a5-45b8-825e-d7a6e78fe23a');\n",
       "var x = new MutationObserver(function (mutations, observer) {{\n",
       "        var display = window.getComputedStyle(gd).display;\n",
       "        if (!display || display === 'none') {{\n",
       "            console.log([gd, 'removed!']);\n",
       "            Plotly.purge(gd);\n",
       "            observer.disconnect();\n",
       "        }}\n",
       "}});\n",
       "\n",
       "// Listen for the removal of the full notebook cells\n",
       "var notebookContainer = gd.closest('#notebook-container');\n",
       "if (notebookContainer) {{\n",
       "    x.observe(notebookContainer, {childList: true});\n",
       "}}\n",
       "\n",
       "// Listen for the clearing of the current output cell\n",
       "var outputEl = gd.closest('.output');\n",
       "if (outputEl) {{\n",
       "    x.observe(outputEl, {childList: true});\n",
       "}}\n",
       "\n",
       "                        })                };                });            </script>        </div>"
      ]
     },
     "metadata": {},
     "output_type": "display_data"
    }
   ],
   "source": [
    "df.iplot(kind='box')"
   ]
  },
  {
   "cell_type": "markdown",
   "metadata": {},
   "source": [
    "## 3d Surface"
   ]
  },
  {
   "cell_type": "code",
   "execution_count": 14,
   "metadata": {
    "collapsed": false
   },
   "outputs": [
    {
     "data": {
      "application/vnd.plotly.v1+json": {
       "config": {
        "linkText": "Export to plot.ly",
        "plotlyServerURL": "https://plot.ly",
        "showLink": true
       },
       "data": [
        {
         "colorscale": [
          [
           0,
           "rgb(165,0,38)"
          ],
          [
           0.1,
           "rgb(215,48,39)"
          ],
          [
           0.2,
           "rgb(244,109,67)"
          ],
          [
           0.3,
           "rgb(253,174,97)"
          ],
          [
           0.4,
           "rgb(254,224,144)"
          ],
          [
           0.5,
           "rgb(255,255,191)"
          ],
          [
           0.6,
           "rgb(224,243,248)"
          ],
          [
           0.7,
           "rgb(171,217,233)"
          ],
          [
           0.8,
           "rgb(116,173,209)"
          ],
          [
           0.9,
           "rgb(69,117,180)"
          ],
          [
           1,
           "rgb(49,54,149)"
          ]
         ],
         "type": "surface",
         "x": [
          0,
          1,
          2,
          3,
          4
         ],
         "y": [
          "x",
          "y",
          "z"
         ],
         "z": [
          [
           1,
           2,
           3,
           4,
           5
          ],
          [
           10,
           20,
           30,
           20,
           10
          ],
          [
           5,
           4,
           3,
           2,
           1
          ]
         ]
        }
       ],
       "layout": {
        "legend": {
         "bgcolor": "#F5F6F9",
         "font": {
          "color": "#4D5663"
         }
        },
        "paper_bgcolor": "#F5F6F9",
        "plot_bgcolor": "#F5F6F9",
        "template": {
         "data": {
          "bar": [
           {
            "error_x": {
             "color": "#2a3f5f"
            },
            "error_y": {
             "color": "#2a3f5f"
            },
            "marker": {
             "line": {
              "color": "#E5ECF6",
              "width": 0.5
             },
             "pattern": {
              "fillmode": "overlay",
              "size": 10,
              "solidity": 0.2
             }
            },
            "type": "bar"
           }
          ],
          "barpolar": [
           {
            "marker": {
             "line": {
              "color": "#E5ECF6",
              "width": 0.5
             },
             "pattern": {
              "fillmode": "overlay",
              "size": 10,
              "solidity": 0.2
             }
            },
            "type": "barpolar"
           }
          ],
          "carpet": [
           {
            "aaxis": {
             "endlinecolor": "#2a3f5f",
             "gridcolor": "white",
             "linecolor": "white",
             "minorgridcolor": "white",
             "startlinecolor": "#2a3f5f"
            },
            "baxis": {
             "endlinecolor": "#2a3f5f",
             "gridcolor": "white",
             "linecolor": "white",
             "minorgridcolor": "white",
             "startlinecolor": "#2a3f5f"
            },
            "type": "carpet"
           }
          ],
          "choropleth": [
           {
            "colorbar": {
             "outlinewidth": 0,
             "ticks": ""
            },
            "type": "choropleth"
           }
          ],
          "contour": [
           {
            "colorbar": {
             "outlinewidth": 0,
             "ticks": ""
            },
            "colorscale": [
             [
              0,
              "#0d0887"
             ],
             [
              0.1111111111111111,
              "#46039f"
             ],
             [
              0.2222222222222222,
              "#7201a8"
             ],
             [
              0.3333333333333333,
              "#9c179e"
             ],
             [
              0.4444444444444444,
              "#bd3786"
             ],
             [
              0.5555555555555556,
              "#d8576b"
             ],
             [
              0.6666666666666666,
              "#ed7953"
             ],
             [
              0.7777777777777778,
              "#fb9f3a"
             ],
             [
              0.8888888888888888,
              "#fdca26"
             ],
             [
              1,
              "#f0f921"
             ]
            ],
            "type": "contour"
           }
          ],
          "contourcarpet": [
           {
            "colorbar": {
             "outlinewidth": 0,
             "ticks": ""
            },
            "type": "contourcarpet"
           }
          ],
          "heatmap": [
           {
            "colorbar": {
             "outlinewidth": 0,
             "ticks": ""
            },
            "colorscale": [
             [
              0,
              "#0d0887"
             ],
             [
              0.1111111111111111,
              "#46039f"
             ],
             [
              0.2222222222222222,
              "#7201a8"
             ],
             [
              0.3333333333333333,
              "#9c179e"
             ],
             [
              0.4444444444444444,
              "#bd3786"
             ],
             [
              0.5555555555555556,
              "#d8576b"
             ],
             [
              0.6666666666666666,
              "#ed7953"
             ],
             [
              0.7777777777777778,
              "#fb9f3a"
             ],
             [
              0.8888888888888888,
              "#fdca26"
             ],
             [
              1,
              "#f0f921"
             ]
            ],
            "type": "heatmap"
           }
          ],
          "heatmapgl": [
           {
            "colorbar": {
             "outlinewidth": 0,
             "ticks": ""
            },
            "colorscale": [
             [
              0,
              "#0d0887"
             ],
             [
              0.1111111111111111,
              "#46039f"
             ],
             [
              0.2222222222222222,
              "#7201a8"
             ],
             [
              0.3333333333333333,
              "#9c179e"
             ],
             [
              0.4444444444444444,
              "#bd3786"
             ],
             [
              0.5555555555555556,
              "#d8576b"
             ],
             [
              0.6666666666666666,
              "#ed7953"
             ],
             [
              0.7777777777777778,
              "#fb9f3a"
             ],
             [
              0.8888888888888888,
              "#fdca26"
             ],
             [
              1,
              "#f0f921"
             ]
            ],
            "type": "heatmapgl"
           }
          ],
          "histogram": [
           {
            "marker": {
             "pattern": {
              "fillmode": "overlay",
              "size": 10,
              "solidity": 0.2
             }
            },
            "type": "histogram"
           }
          ],
          "histogram2d": [
           {
            "colorbar": {
             "outlinewidth": 0,
             "ticks": ""
            },
            "colorscale": [
             [
              0,
              "#0d0887"
             ],
             [
              0.1111111111111111,
              "#46039f"
             ],
             [
              0.2222222222222222,
              "#7201a8"
             ],
             [
              0.3333333333333333,
              "#9c179e"
             ],
             [
              0.4444444444444444,
              "#bd3786"
             ],
             [
              0.5555555555555556,
              "#d8576b"
             ],
             [
              0.6666666666666666,
              "#ed7953"
             ],
             [
              0.7777777777777778,
              "#fb9f3a"
             ],
             [
              0.8888888888888888,
              "#fdca26"
             ],
             [
              1,
              "#f0f921"
             ]
            ],
            "type": "histogram2d"
           }
          ],
          "histogram2dcontour": [
           {
            "colorbar": {
             "outlinewidth": 0,
             "ticks": ""
            },
            "colorscale": [
             [
              0,
              "#0d0887"
             ],
             [
              0.1111111111111111,
              "#46039f"
             ],
             [
              0.2222222222222222,
              "#7201a8"
             ],
             [
              0.3333333333333333,
              "#9c179e"
             ],
             [
              0.4444444444444444,
              "#bd3786"
             ],
             [
              0.5555555555555556,
              "#d8576b"
             ],
             [
              0.6666666666666666,
              "#ed7953"
             ],
             [
              0.7777777777777778,
              "#fb9f3a"
             ],
             [
              0.8888888888888888,
              "#fdca26"
             ],
             [
              1,
              "#f0f921"
             ]
            ],
            "type": "histogram2dcontour"
           }
          ],
          "mesh3d": [
           {
            "colorbar": {
             "outlinewidth": 0,
             "ticks": ""
            },
            "type": "mesh3d"
           }
          ],
          "parcoords": [
           {
            "line": {
             "colorbar": {
              "outlinewidth": 0,
              "ticks": ""
             }
            },
            "type": "parcoords"
           }
          ],
          "pie": [
           {
            "automargin": true,
            "type": "pie"
           }
          ],
          "scatter": [
           {
            "fillpattern": {
             "fillmode": "overlay",
             "size": 10,
             "solidity": 0.2
            },
            "type": "scatter"
           }
          ],
          "scatter3d": [
           {
            "line": {
             "colorbar": {
              "outlinewidth": 0,
              "ticks": ""
             }
            },
            "marker": {
             "colorbar": {
              "outlinewidth": 0,
              "ticks": ""
             }
            },
            "type": "scatter3d"
           }
          ],
          "scattercarpet": [
           {
            "marker": {
             "colorbar": {
              "outlinewidth": 0,
              "ticks": ""
             }
            },
            "type": "scattercarpet"
           }
          ],
          "scattergeo": [
           {
            "marker": {
             "colorbar": {
              "outlinewidth": 0,
              "ticks": ""
             }
            },
            "type": "scattergeo"
           }
          ],
          "scattergl": [
           {
            "marker": {
             "colorbar": {
              "outlinewidth": 0,
              "ticks": ""
             }
            },
            "type": "scattergl"
           }
          ],
          "scattermapbox": [
           {
            "marker": {
             "colorbar": {
              "outlinewidth": 0,
              "ticks": ""
             }
            },
            "type": "scattermapbox"
           }
          ],
          "scatterpolar": [
           {
            "marker": {
             "colorbar": {
              "outlinewidth": 0,
              "ticks": ""
             }
            },
            "type": "scatterpolar"
           }
          ],
          "scatterpolargl": [
           {
            "marker": {
             "colorbar": {
              "outlinewidth": 0,
              "ticks": ""
             }
            },
            "type": "scatterpolargl"
           }
          ],
          "scatterternary": [
           {
            "marker": {
             "colorbar": {
              "outlinewidth": 0,
              "ticks": ""
             }
            },
            "type": "scatterternary"
           }
          ],
          "surface": [
           {
            "colorbar": {
             "outlinewidth": 0,
             "ticks": ""
            },
            "colorscale": [
             [
              0,
              "#0d0887"
             ],
             [
              0.1111111111111111,
              "#46039f"
             ],
             [
              0.2222222222222222,
              "#7201a8"
             ],
             [
              0.3333333333333333,
              "#9c179e"
             ],
             [
              0.4444444444444444,
              "#bd3786"
             ],
             [
              0.5555555555555556,
              "#d8576b"
             ],
             [
              0.6666666666666666,
              "#ed7953"
             ],
             [
              0.7777777777777778,
              "#fb9f3a"
             ],
             [
              0.8888888888888888,
              "#fdca26"
             ],
             [
              1,
              "#f0f921"
             ]
            ],
            "type": "surface"
           }
          ],
          "table": [
           {
            "cells": {
             "fill": {
              "color": "#EBF0F8"
             },
             "line": {
              "color": "white"
             }
            },
            "header": {
             "fill": {
              "color": "#C8D4E3"
             },
             "line": {
              "color": "white"
             }
            },
            "type": "table"
           }
          ]
         },
         "layout": {
          "annotationdefaults": {
           "arrowcolor": "#2a3f5f",
           "arrowhead": 0,
           "arrowwidth": 1
          },
          "autotypenumbers": "strict",
          "coloraxis": {
           "colorbar": {
            "outlinewidth": 0,
            "ticks": ""
           }
          },
          "colorscale": {
           "diverging": [
            [
             0,
             "#8e0152"
            ],
            [
             0.1,
             "#c51b7d"
            ],
            [
             0.2,
             "#de77ae"
            ],
            [
             0.3,
             "#f1b6da"
            ],
            [
             0.4,
             "#fde0ef"
            ],
            [
             0.5,
             "#f7f7f7"
            ],
            [
             0.6,
             "#e6f5d0"
            ],
            [
             0.7,
             "#b8e186"
            ],
            [
             0.8,
             "#7fbc41"
            ],
            [
             0.9,
             "#4d9221"
            ],
            [
             1,
             "#276419"
            ]
           ],
           "sequential": [
            [
             0,
             "#0d0887"
            ],
            [
             0.1111111111111111,
             "#46039f"
            ],
            [
             0.2222222222222222,
             "#7201a8"
            ],
            [
             0.3333333333333333,
             "#9c179e"
            ],
            [
             0.4444444444444444,
             "#bd3786"
            ],
            [
             0.5555555555555556,
             "#d8576b"
            ],
            [
             0.6666666666666666,
             "#ed7953"
            ],
            [
             0.7777777777777778,
             "#fb9f3a"
            ],
            [
             0.8888888888888888,
             "#fdca26"
            ],
            [
             1,
             "#f0f921"
            ]
           ],
           "sequentialminus": [
            [
             0,
             "#0d0887"
            ],
            [
             0.1111111111111111,
             "#46039f"
            ],
            [
             0.2222222222222222,
             "#7201a8"
            ],
            [
             0.3333333333333333,
             "#9c179e"
            ],
            [
             0.4444444444444444,
             "#bd3786"
            ],
            [
             0.5555555555555556,
             "#d8576b"
            ],
            [
             0.6666666666666666,
             "#ed7953"
            ],
            [
             0.7777777777777778,
             "#fb9f3a"
            ],
            [
             0.8888888888888888,
             "#fdca26"
            ],
            [
             1,
             "#f0f921"
            ]
           ]
          },
          "colorway": [
           "#636efa",
           "#EF553B",
           "#00cc96",
           "#ab63fa",
           "#FFA15A",
           "#19d3f3",
           "#FF6692",
           "#B6E880",
           "#FF97FF",
           "#FECB52"
          ],
          "font": {
           "color": "#2a3f5f"
          },
          "geo": {
           "bgcolor": "white",
           "lakecolor": "white",
           "landcolor": "#E5ECF6",
           "showlakes": true,
           "showland": true,
           "subunitcolor": "white"
          },
          "hoverlabel": {
           "align": "left"
          },
          "hovermode": "closest",
          "mapbox": {
           "style": "light"
          },
          "paper_bgcolor": "white",
          "plot_bgcolor": "#E5ECF6",
          "polar": {
           "angularaxis": {
            "gridcolor": "white",
            "linecolor": "white",
            "ticks": ""
           },
           "bgcolor": "#E5ECF6",
           "radialaxis": {
            "gridcolor": "white",
            "linecolor": "white",
            "ticks": ""
           }
          },
          "scene": {
           "xaxis": {
            "backgroundcolor": "#E5ECF6",
            "gridcolor": "white",
            "gridwidth": 2,
            "linecolor": "white",
            "showbackground": true,
            "ticks": "",
            "zerolinecolor": "white"
           },
           "yaxis": {
            "backgroundcolor": "#E5ECF6",
            "gridcolor": "white",
            "gridwidth": 2,
            "linecolor": "white",
            "showbackground": true,
            "ticks": "",
            "zerolinecolor": "white"
           },
           "zaxis": {
            "backgroundcolor": "#E5ECF6",
            "gridcolor": "white",
            "gridwidth": 2,
            "linecolor": "white",
            "showbackground": true,
            "ticks": "",
            "zerolinecolor": "white"
           }
          },
          "shapedefaults": {
           "line": {
            "color": "#2a3f5f"
           }
          },
          "ternary": {
           "aaxis": {
            "gridcolor": "white",
            "linecolor": "white",
            "ticks": ""
           },
           "baxis": {
            "gridcolor": "white",
            "linecolor": "white",
            "ticks": ""
           },
           "bgcolor": "#E5ECF6",
           "caxis": {
            "gridcolor": "white",
            "linecolor": "white",
            "ticks": ""
           }
          },
          "title": {
           "x": 0.05
          },
          "xaxis": {
           "automargin": true,
           "gridcolor": "white",
           "linecolor": "white",
           "ticks": "",
           "title": {
            "standoff": 15
           },
           "zerolinecolor": "white",
           "zerolinewidth": 2
          },
          "yaxis": {
           "automargin": true,
           "gridcolor": "white",
           "linecolor": "white",
           "ticks": "",
           "title": {
            "standoff": 15
           },
           "zerolinecolor": "white",
           "zerolinewidth": 2
          }
         }
        },
        "title": {
         "font": {
          "color": "#4D5663"
         }
        },
        "xaxis": {
         "gridcolor": "#E1E5ED",
         "showgrid": true,
         "tickfont": {
          "color": "#4D5663"
         },
         "title": {
          "font": {
           "color": "#4D5663"
          },
          "text": ""
         },
         "zerolinecolor": "#E1E5ED"
        },
        "yaxis": {
         "gridcolor": "#E1E5ED",
         "showgrid": true,
         "tickfont": {
          "color": "#4D5663"
         },
         "title": {
          "font": {
           "color": "#4D5663"
          },
          "text": ""
         },
         "zerolinecolor": "#E1E5ED"
        }
       }
      },
      "text/html": [
       "<div>                            <div id=\"b9d0e23e-adc3-42d0-b317-ba811089f013\" class=\"plotly-graph-div\" style=\"height:525px; width:100%;\"></div>            <script type=\"text/javascript\">                require([\"plotly\"], function(Plotly) {                    window.PLOTLYENV=window.PLOTLYENV || {};\n",
       "                    window.PLOTLYENV.BASE_URL='https://plot.ly';                                    if (document.getElementById(\"b9d0e23e-adc3-42d0-b317-ba811089f013\")) {                    Plotly.newPlot(                        \"b9d0e23e-adc3-42d0-b317-ba811089f013\",                        [{\"colorscale\":[[0.0,\"rgb(165,0,38)\"],[0.1,\"rgb(215,48,39)\"],[0.2,\"rgb(244,109,67)\"],[0.3,\"rgb(253,174,97)\"],[0.4,\"rgb(254,224,144)\"],[0.5,\"rgb(255,255,191)\"],[0.6,\"rgb(224,243,248)\"],[0.7,\"rgb(171,217,233)\"],[0.8,\"rgb(116,173,209)\"],[0.9,\"rgb(69,117,180)\"],[1.0,\"rgb(49,54,149)\"]],\"x\":[0,1,2,3,4],\"y\":[\"x\",\"y\",\"z\"],\"z\":[[1,2,3,4,5],[10,20,30,20,10],[5,4,3,2,1]],\"type\":\"surface\"}],                        {\"legend\":{\"bgcolor\":\"#F5F6F9\",\"font\":{\"color\":\"#4D5663\"}},\"paper_bgcolor\":\"#F5F6F9\",\"plot_bgcolor\":\"#F5F6F9\",\"template\":{\"data\":{\"barpolar\":[{\"marker\":{\"line\":{\"color\":\"#E5ECF6\",\"width\":0.5},\"pattern\":{\"fillmode\":\"overlay\",\"size\":10,\"solidity\":0.2}},\"type\":\"barpolar\"}],\"bar\":[{\"error_x\":{\"color\":\"#2a3f5f\"},\"error_y\":{\"color\":\"#2a3f5f\"},\"marker\":{\"line\":{\"color\":\"#E5ECF6\",\"width\":0.5},\"pattern\":{\"fillmode\":\"overlay\",\"size\":10,\"solidity\":0.2}},\"type\":\"bar\"}],\"carpet\":[{\"aaxis\":{\"endlinecolor\":\"#2a3f5f\",\"gridcolor\":\"white\",\"linecolor\":\"white\",\"minorgridcolor\":\"white\",\"startlinecolor\":\"#2a3f5f\"},\"baxis\":{\"endlinecolor\":\"#2a3f5f\",\"gridcolor\":\"white\",\"linecolor\":\"white\",\"minorgridcolor\":\"white\",\"startlinecolor\":\"#2a3f5f\"},\"type\":\"carpet\"}],\"choropleth\":[{\"colorbar\":{\"outlinewidth\":0,\"ticks\":\"\"},\"type\":\"choropleth\"}],\"contourcarpet\":[{\"colorbar\":{\"outlinewidth\":0,\"ticks\":\"\"},\"type\":\"contourcarpet\"}],\"contour\":[{\"colorbar\":{\"outlinewidth\":0,\"ticks\":\"\"},\"colorscale\":[[0.0,\"#0d0887\"],[0.1111111111111111,\"#46039f\"],[0.2222222222222222,\"#7201a8\"],[0.3333333333333333,\"#9c179e\"],[0.4444444444444444,\"#bd3786\"],[0.5555555555555556,\"#d8576b\"],[0.6666666666666666,\"#ed7953\"],[0.7777777777777778,\"#fb9f3a\"],[0.8888888888888888,\"#fdca26\"],[1.0,\"#f0f921\"]],\"type\":\"contour\"}],\"heatmapgl\":[{\"colorbar\":{\"outlinewidth\":0,\"ticks\":\"\"},\"colorscale\":[[0.0,\"#0d0887\"],[0.1111111111111111,\"#46039f\"],[0.2222222222222222,\"#7201a8\"],[0.3333333333333333,\"#9c179e\"],[0.4444444444444444,\"#bd3786\"],[0.5555555555555556,\"#d8576b\"],[0.6666666666666666,\"#ed7953\"],[0.7777777777777778,\"#fb9f3a\"],[0.8888888888888888,\"#fdca26\"],[1.0,\"#f0f921\"]],\"type\":\"heatmapgl\"}],\"heatmap\":[{\"colorbar\":{\"outlinewidth\":0,\"ticks\":\"\"},\"colorscale\":[[0.0,\"#0d0887\"],[0.1111111111111111,\"#46039f\"],[0.2222222222222222,\"#7201a8\"],[0.3333333333333333,\"#9c179e\"],[0.4444444444444444,\"#bd3786\"],[0.5555555555555556,\"#d8576b\"],[0.6666666666666666,\"#ed7953\"],[0.7777777777777778,\"#fb9f3a\"],[0.8888888888888888,\"#fdca26\"],[1.0,\"#f0f921\"]],\"type\":\"heatmap\"}],\"histogram2dcontour\":[{\"colorbar\":{\"outlinewidth\":0,\"ticks\":\"\"},\"colorscale\":[[0.0,\"#0d0887\"],[0.1111111111111111,\"#46039f\"],[0.2222222222222222,\"#7201a8\"],[0.3333333333333333,\"#9c179e\"],[0.4444444444444444,\"#bd3786\"],[0.5555555555555556,\"#d8576b\"],[0.6666666666666666,\"#ed7953\"],[0.7777777777777778,\"#fb9f3a\"],[0.8888888888888888,\"#fdca26\"],[1.0,\"#f0f921\"]],\"type\":\"histogram2dcontour\"}],\"histogram2d\":[{\"colorbar\":{\"outlinewidth\":0,\"ticks\":\"\"},\"colorscale\":[[0.0,\"#0d0887\"],[0.1111111111111111,\"#46039f\"],[0.2222222222222222,\"#7201a8\"],[0.3333333333333333,\"#9c179e\"],[0.4444444444444444,\"#bd3786\"],[0.5555555555555556,\"#d8576b\"],[0.6666666666666666,\"#ed7953\"],[0.7777777777777778,\"#fb9f3a\"],[0.8888888888888888,\"#fdca26\"],[1.0,\"#f0f921\"]],\"type\":\"histogram2d\"}],\"histogram\":[{\"marker\":{\"pattern\":{\"fillmode\":\"overlay\",\"size\":10,\"solidity\":0.2}},\"type\":\"histogram\"}],\"mesh3d\":[{\"colorbar\":{\"outlinewidth\":0,\"ticks\":\"\"},\"type\":\"mesh3d\"}],\"parcoords\":[{\"line\":{\"colorbar\":{\"outlinewidth\":0,\"ticks\":\"\"}},\"type\":\"parcoords\"}],\"pie\":[{\"automargin\":true,\"type\":\"pie\"}],\"scatter3d\":[{\"line\":{\"colorbar\":{\"outlinewidth\":0,\"ticks\":\"\"}},\"marker\":{\"colorbar\":{\"outlinewidth\":0,\"ticks\":\"\"}},\"type\":\"scatter3d\"}],\"scattercarpet\":[{\"marker\":{\"colorbar\":{\"outlinewidth\":0,\"ticks\":\"\"}},\"type\":\"scattercarpet\"}],\"scattergeo\":[{\"marker\":{\"colorbar\":{\"outlinewidth\":0,\"ticks\":\"\"}},\"type\":\"scattergeo\"}],\"scattergl\":[{\"marker\":{\"colorbar\":{\"outlinewidth\":0,\"ticks\":\"\"}},\"type\":\"scattergl\"}],\"scattermapbox\":[{\"marker\":{\"colorbar\":{\"outlinewidth\":0,\"ticks\":\"\"}},\"type\":\"scattermapbox\"}],\"scatterpolargl\":[{\"marker\":{\"colorbar\":{\"outlinewidth\":0,\"ticks\":\"\"}},\"type\":\"scatterpolargl\"}],\"scatterpolar\":[{\"marker\":{\"colorbar\":{\"outlinewidth\":0,\"ticks\":\"\"}},\"type\":\"scatterpolar\"}],\"scatter\":[{\"fillpattern\":{\"fillmode\":\"overlay\",\"size\":10,\"solidity\":0.2},\"type\":\"scatter\"}],\"scatterternary\":[{\"marker\":{\"colorbar\":{\"outlinewidth\":0,\"ticks\":\"\"}},\"type\":\"scatterternary\"}],\"surface\":[{\"colorbar\":{\"outlinewidth\":0,\"ticks\":\"\"},\"colorscale\":[[0.0,\"#0d0887\"],[0.1111111111111111,\"#46039f\"],[0.2222222222222222,\"#7201a8\"],[0.3333333333333333,\"#9c179e\"],[0.4444444444444444,\"#bd3786\"],[0.5555555555555556,\"#d8576b\"],[0.6666666666666666,\"#ed7953\"],[0.7777777777777778,\"#fb9f3a\"],[0.8888888888888888,\"#fdca26\"],[1.0,\"#f0f921\"]],\"type\":\"surface\"}],\"table\":[{\"cells\":{\"fill\":{\"color\":\"#EBF0F8\"},\"line\":{\"color\":\"white\"}},\"header\":{\"fill\":{\"color\":\"#C8D4E3\"},\"line\":{\"color\":\"white\"}},\"type\":\"table\"}]},\"layout\":{\"annotationdefaults\":{\"arrowcolor\":\"#2a3f5f\",\"arrowhead\":0,\"arrowwidth\":1},\"autotypenumbers\":\"strict\",\"coloraxis\":{\"colorbar\":{\"outlinewidth\":0,\"ticks\":\"\"}},\"colorscale\":{\"diverging\":[[0,\"#8e0152\"],[0.1,\"#c51b7d\"],[0.2,\"#de77ae\"],[0.3,\"#f1b6da\"],[0.4,\"#fde0ef\"],[0.5,\"#f7f7f7\"],[0.6,\"#e6f5d0\"],[0.7,\"#b8e186\"],[0.8,\"#7fbc41\"],[0.9,\"#4d9221\"],[1,\"#276419\"]],\"sequential\":[[0.0,\"#0d0887\"],[0.1111111111111111,\"#46039f\"],[0.2222222222222222,\"#7201a8\"],[0.3333333333333333,\"#9c179e\"],[0.4444444444444444,\"#bd3786\"],[0.5555555555555556,\"#d8576b\"],[0.6666666666666666,\"#ed7953\"],[0.7777777777777778,\"#fb9f3a\"],[0.8888888888888888,\"#fdca26\"],[1.0,\"#f0f921\"]],\"sequentialminus\":[[0.0,\"#0d0887\"],[0.1111111111111111,\"#46039f\"],[0.2222222222222222,\"#7201a8\"],[0.3333333333333333,\"#9c179e\"],[0.4444444444444444,\"#bd3786\"],[0.5555555555555556,\"#d8576b\"],[0.6666666666666666,\"#ed7953\"],[0.7777777777777778,\"#fb9f3a\"],[0.8888888888888888,\"#fdca26\"],[1.0,\"#f0f921\"]]},\"colorway\":[\"#636efa\",\"#EF553B\",\"#00cc96\",\"#ab63fa\",\"#FFA15A\",\"#19d3f3\",\"#FF6692\",\"#B6E880\",\"#FF97FF\",\"#FECB52\"],\"font\":{\"color\":\"#2a3f5f\"},\"geo\":{\"bgcolor\":\"white\",\"lakecolor\":\"white\",\"landcolor\":\"#E5ECF6\",\"showlakes\":true,\"showland\":true,\"subunitcolor\":\"white\"},\"hoverlabel\":{\"align\":\"left\"},\"hovermode\":\"closest\",\"mapbox\":{\"style\":\"light\"},\"paper_bgcolor\":\"white\",\"plot_bgcolor\":\"#E5ECF6\",\"polar\":{\"angularaxis\":{\"gridcolor\":\"white\",\"linecolor\":\"white\",\"ticks\":\"\"},\"bgcolor\":\"#E5ECF6\",\"radialaxis\":{\"gridcolor\":\"white\",\"linecolor\":\"white\",\"ticks\":\"\"}},\"scene\":{\"xaxis\":{\"backgroundcolor\":\"#E5ECF6\",\"gridcolor\":\"white\",\"gridwidth\":2,\"linecolor\":\"white\",\"showbackground\":true,\"ticks\":\"\",\"zerolinecolor\":\"white\"},\"yaxis\":{\"backgroundcolor\":\"#E5ECF6\",\"gridcolor\":\"white\",\"gridwidth\":2,\"linecolor\":\"white\",\"showbackground\":true,\"ticks\":\"\",\"zerolinecolor\":\"white\"},\"zaxis\":{\"backgroundcolor\":\"#E5ECF6\",\"gridcolor\":\"white\",\"gridwidth\":2,\"linecolor\":\"white\",\"showbackground\":true,\"ticks\":\"\",\"zerolinecolor\":\"white\"}},\"shapedefaults\":{\"line\":{\"color\":\"#2a3f5f\"}},\"ternary\":{\"aaxis\":{\"gridcolor\":\"white\",\"linecolor\":\"white\",\"ticks\":\"\"},\"baxis\":{\"gridcolor\":\"white\",\"linecolor\":\"white\",\"ticks\":\"\"},\"bgcolor\":\"#E5ECF6\",\"caxis\":{\"gridcolor\":\"white\",\"linecolor\":\"white\",\"ticks\":\"\"}},\"title\":{\"x\":0.05},\"xaxis\":{\"automargin\":true,\"gridcolor\":\"white\",\"linecolor\":\"white\",\"ticks\":\"\",\"title\":{\"standoff\":15},\"zerolinecolor\":\"white\",\"zerolinewidth\":2},\"yaxis\":{\"automargin\":true,\"gridcolor\":\"white\",\"linecolor\":\"white\",\"ticks\":\"\",\"title\":{\"standoff\":15},\"zerolinecolor\":\"white\",\"zerolinewidth\":2}}},\"title\":{\"font\":{\"color\":\"#4D5663\"}},\"xaxis\":{\"gridcolor\":\"#E1E5ED\",\"showgrid\":true,\"tickfont\":{\"color\":\"#4D5663\"},\"title\":{\"font\":{\"color\":\"#4D5663\"},\"text\":\"\"},\"zerolinecolor\":\"#E1E5ED\"},\"yaxis\":{\"gridcolor\":\"#E1E5ED\",\"showgrid\":true,\"tickfont\":{\"color\":\"#4D5663\"},\"title\":{\"font\":{\"color\":\"#4D5663\"},\"text\":\"\"},\"zerolinecolor\":\"#E1E5ED\"}},                        {\"showLink\": true, \"linkText\": \"Export to plot.ly\", \"plotlyServerURL\": \"https://plot.ly\", \"responsive\": true}                    ).then(function(){\n",
       "                            \n",
       "var gd = document.getElementById('b9d0e23e-adc3-42d0-b317-ba811089f013');\n",
       "var x = new MutationObserver(function (mutations, observer) {{\n",
       "        var display = window.getComputedStyle(gd).display;\n",
       "        if (!display || display === 'none') {{\n",
       "            console.log([gd, 'removed!']);\n",
       "            Plotly.purge(gd);\n",
       "            observer.disconnect();\n",
       "        }}\n",
       "}});\n",
       "\n",
       "// Listen for the removal of the full notebook cells\n",
       "var notebookContainer = gd.closest('#notebook-container');\n",
       "if (notebookContainer) {{\n",
       "    x.observe(notebookContainer, {childList: true});\n",
       "}}\n",
       "\n",
       "// Listen for the clearing of the current output cell\n",
       "var outputEl = gd.closest('.output');\n",
       "if (outputEl) {{\n",
       "    x.observe(outputEl, {childList: true});\n",
       "}}\n",
       "\n",
       "                        })                };                });            </script>        </div>"
      ]
     },
     "metadata": {},
     "output_type": "display_data"
    }
   ],
   "source": [
    "df3 = pd.DataFrame({'x':[1,2,3,4,5],'y':[10,20,30,20,10],'z':[5,4,3,2,1]})\n",
    "df3.iplot(kind='surface',colorscale='rdylbu')"
   ]
  },
  {
   "cell_type": "markdown",
   "metadata": {},
   "source": []
  },
  {
   "cell_type": "markdown",
   "metadata": {},
   "source": [
    "## Spread"
   ]
  },
  {
   "cell_type": "code",
   "execution_count": 15,
   "metadata": {
    "collapsed": false
   },
   "outputs": [
    {
     "name": "stderr",
     "output_type": "stream",
     "text": [
      "c:\\Users\\titof\\AppData\\Local\\Programs\\Python\\Python311\\Lib\\site-packages\\cufflinks\\plotlytools.py:849: FutureWarning:\n",
      "\n",
      "The pandas.np module is deprecated and will be removed from pandas in a future version. Import numpy directly instead.\n",
      "\n",
      "c:\\Users\\titof\\AppData\\Local\\Programs\\Python\\Python311\\Lib\\site-packages\\cufflinks\\plotlytools.py:850: FutureWarning:\n",
      "\n",
      "The pandas.np module is deprecated and will be removed from pandas in a future version. Import numpy directly instead.\n",
      "\n"
     ]
    },
    {
     "data": {
      "application/vnd.plotly.v1+json": {
       "config": {
        "linkText": "Export to plot.ly",
        "plotlyServerURL": "https://plot.ly",
        "showLink": true
       },
       "data": [
        {
         "line": {
          "color": "rgba(255, 153, 51, 1.0)",
          "dash": "solid",
          "shape": "linear",
          "width": 1.3
         },
         "mode": "lines",
         "name": "A",
         "text": "",
         "type": "scatter",
         "x": [
          0,
          1,
          2,
          3,
          4,
          5,
          6,
          7,
          8,
          9,
          10,
          11,
          12,
          13,
          14,
          15,
          16,
          17,
          18,
          19,
          20,
          21,
          22,
          23,
          24,
          25,
          26,
          27,
          28,
          29,
          30,
          31,
          32,
          33,
          34,
          35,
          36,
          37,
          38,
          39,
          40,
          41,
          42,
          43,
          44,
          45,
          46,
          47,
          48,
          49,
          50,
          51,
          52,
          53,
          54,
          55,
          56,
          57,
          58,
          59,
          60,
          61,
          62,
          63,
          64,
          65,
          66,
          67,
          68,
          69,
          70,
          71,
          72,
          73,
          74,
          75,
          76,
          77,
          78,
          79,
          80,
          81,
          82,
          83,
          84,
          85,
          86,
          87,
          88,
          89,
          90,
          91,
          92,
          93,
          94,
          95,
          96,
          97,
          98,
          99
         ],
         "y": [
          -1.3402016232243987,
          -0.649020214887379,
          -0.1682257323904412,
          2.193351046396256,
          -0.03573185326863341,
          -1.0307989329934075,
          -0.31001491329916697,
          0.22297126297492637,
          0.6122609371476259,
          -2.117750882736682,
          0.3272545474121727,
          1.1386299196654515,
          -0.4154436052538386,
          1.0779279014688374,
          -0.33924919653852054,
          -0.05106266578488151,
          -1.2273122208986817,
          0.13163095652086673,
          0.6861422996774701,
          -1.4929644029779623,
          0.7150917642789755,
          1.814864989428972,
          0.9247864218619752,
          0.1584202308262772,
          1.3776632444592147,
          -0.8326001639401515,
          1.181045793801218,
          -0.374786520171287,
          -1.0314030959357248,
          -1.405302986742882,
          1.307505538855658,
          0.28061501742315353,
          -0.27765619411536585,
          1.037160257723475,
          -0.06440534965266251,
          -0.793112145628941,
          -2.123781691651395,
          0.7175911466979235,
          -0.9935809840486913,
          0.102082618948086,
          2.5401308092916937,
          0.6994358348094193,
          0.37786736051270964,
          0.36914437145631324,
          -0.18534855714732013,
          -0.2839090460128509,
          -0.6674685004133002,
          -1.1939521780587363,
          0.22405329359385473,
          0.30397583811713497,
          2.150058233613433,
          -0.6912701612509979,
          0.24011301797624413,
          -0.8920054636597202,
          -1.1362101375723168,
          -0.2445198402137013,
          -1.464257619736692,
          -1.131466171469585,
          0.5006879161128014,
          -0.0060776854956445915,
          -0.24392875687830465,
          0.6797274182867651,
          -0.029234509609762142,
          -1.062499955977877,
          0.6439254781690764,
          0.5783337153396132,
          -0.1944123189471814,
          -0.2167287075789601,
          -0.024164469729240884,
          0.05793902626343979,
          0.8986897207398744,
          1.0031118779125756,
          2.031724621187272,
          -0.10250037152497271,
          -1.1186755466234815,
          -1.1843577588561136,
          -1.5662760148060901,
          -1.219161823281136,
          -1.1593766556630698,
          -0.027439127229870085,
          0.018316738046942258,
          -0.6922784874155976,
          0.07979753670333341,
          0.22962384107885242,
          0.20152715612661043,
          -0.3285086721135077,
          -0.4779892642970852,
          -0.42324897569430525,
          -2.738587292705288,
          -0.35618875561801133,
          1.1560776988758348,
          -0.7923919414392832,
          0.7825784632218197,
          0.08966821419878798,
          -0.6329579247795905,
          -0.375129963188778,
          -0.8639214742522782,
          0.40125309184897434,
          0.5185039514250023,
          0.05590068286289588
         ]
        },
        {
         "line": {
          "color": "rgba(55, 128, 191, 1.0)",
          "dash": "solid",
          "shape": "linear",
          "width": 1.3
         },
         "mode": "lines",
         "name": "B",
         "text": "",
         "type": "scatter",
         "x": [
          0,
          1,
          2,
          3,
          4,
          5,
          6,
          7,
          8,
          9,
          10,
          11,
          12,
          13,
          14,
          15,
          16,
          17,
          18,
          19,
          20,
          21,
          22,
          23,
          24,
          25,
          26,
          27,
          28,
          29,
          30,
          31,
          32,
          33,
          34,
          35,
          36,
          37,
          38,
          39,
          40,
          41,
          42,
          43,
          44,
          45,
          46,
          47,
          48,
          49,
          50,
          51,
          52,
          53,
          54,
          55,
          56,
          57,
          58,
          59,
          60,
          61,
          62,
          63,
          64,
          65,
          66,
          67,
          68,
          69,
          70,
          71,
          72,
          73,
          74,
          75,
          76,
          77,
          78,
          79,
          80,
          81,
          82,
          83,
          84,
          85,
          86,
          87,
          88,
          89,
          90,
          91,
          92,
          93,
          94,
          95,
          96,
          97,
          98,
          99
         ],
         "y": [
          -0.9690244560766667,
          -0.24091027670686352,
          0.06172657545459743,
          -1.3358418161138446,
          0.4096119688660683,
          0.21648207305952347,
          1.5494564109673212,
          -0.5272035737836958,
          0.9936728832488787,
          1.6998421007416729,
          -0.5350070839408002,
          1.142373991163409,
          0.28043404231004704,
          -0.12769281150264328,
          -1.6037993962606607,
          0.5265483510398294,
          0.6901568262269182,
          0.15982885802970115,
          0.39314699605901254,
          0.11442065176845712,
          1.1243539020059987,
          1.1152052967861483,
          0.2780180827228744,
          1.4584229801030515,
          1.4978308842176264,
          -0.5437462494865144,
          0.18413726991006588,
          0.6269539326224163,
          -2.5047420918321257,
          -0.6212320955813105,
          0.08172489190197559,
          -0.6399969402483794,
          -0.15252884600524794,
          0.7774564761486727,
          0.37641731136611345,
          -0.6411375959139302,
          1.4093851243875426,
          -0.7630593139882308,
          0.10385408112188718,
          0.9157584272126849,
          0.06737938308580205,
          0.4412611451538305,
          -0.42090358284399665,
          0.4232808577387168,
          0.2761393043199375,
          1.138092905016683,
          1.8973244739280186,
          0.19108988361415394,
          0.13251187903126746,
          1.5160740123760557,
          -0.47908398458207774,
          0.2849672103236269,
          -0.3767923189387514,
          2.2667184992162563,
          1.975737356877006,
          -0.3133790957536171,
          0.42849388398643246,
          -1.1098435632620174,
          0.7432415272682933,
          0.8773264563497847,
          -1.5027064039710905,
          -0.5467087382492198,
          -0.22462087224068003,
          0.9213508618810443,
          1.382123867957571,
          -0.7145203155188684,
          -0.7637499403917496,
          0.37410803547132204,
          0.372442129996429,
          -0.599660356333412,
          -0.02335861163390679,
          0.4139060275767294,
          0.19756760881077232,
          0.4696597038850513,
          0.3168977038265884,
          0.28168663667665017,
          -1.116787362925828,
          0.1991967912578874,
          0.6389382678317415,
          0.13410834811540082,
          0.0031633990525533,
          -0.6308432596799884,
          1.5266337378580441,
          -0.2036437953940007,
          -2.105541619115384,
          0.5987154691588157,
          0.8289444115085323,
          -1.3488492705330655,
          -0.28987568392444796,
          -1.3420110021319405,
          0.2729186132865296,
          0.6159737529548067,
          0.7078416094987383,
          -0.5693004239201993,
          0.1797509878233235,
          -0.2736610552159289,
          1.2706296230538061,
          0.041079620995538205,
          1.5558794301479135,
          1.23589773548267
         ]
        },
        {
         "connectgaps": false,
         "fill": "tozeroy",
         "line": {
          "color": "green",
          "dash": "solid",
          "shape": "linear",
          "width": 0.5
         },
         "mode": "lines",
         "name": "Spread",
         "showlegend": false,
         "type": "scatter",
         "x": [
          0,
          1,
          2,
          3,
          4,
          5,
          6,
          7,
          8,
          9,
          10,
          11,
          12,
          13,
          14,
          15,
          16,
          17,
          18,
          19,
          20,
          21,
          22,
          23,
          24,
          25,
          26,
          27,
          28,
          29,
          30,
          31,
          32,
          33,
          34,
          35,
          36,
          37,
          38,
          39,
          40,
          41,
          42,
          43,
          44,
          45,
          46,
          47,
          48,
          49,
          50,
          51,
          52,
          53,
          54,
          55,
          56,
          57,
          58,
          59,
          60,
          61,
          62,
          63,
          64,
          65,
          66,
          67,
          68,
          69,
          70,
          71,
          72,
          73,
          74,
          75,
          76,
          77,
          78,
          79,
          80,
          81,
          82,
          83,
          84,
          85,
          86,
          87,
          88,
          89,
          90,
          91,
          92,
          93,
          94,
          95,
          96,
          97,
          98,
          99
         ],
         "xaxis": "x2",
         "y": [
          "",
          "",
          "",
          3.529192862510101,
          "",
          "",
          "",
          0.7501748367586221,
          "",
          "",
          0.862261631352973,
          "",
          "",
          1.2056207129714807,
          1.2645501997221402,
          "",
          "",
          "",
          0.29299530361845755,
          "",
          "",
          0.6996596926428236,
          0.6467683391391008,
          "",
          "",
          "",
          0.9969085238911521,
          "",
          1.473338995896401,
          "",
          1.2257806469536825,
          0.9206119576715329,
          "",
          0.25970378157480234,
          "",
          "",
          "",
          1.4806504606861544,
          "",
          "",
          2.4727514262058916,
          0.25817468965558876,
          0.7987709433567063,
          "",
          "",
          "",
          "",
          "",
          0.09154141456258727,
          "",
          2.629142218195511,
          "",
          0.6169053369149955,
          "",
          "",
          0.06885925553991581,
          "",
          "",
          "",
          "",
          1.2587776470927858,
          1.226436156535985,
          0.19538636263091788,
          "",
          "",
          1.2928540308584817,
          0.5693376214445682,
          "",
          "",
          0.6575993825968518,
          0.9220483323737811,
          0.5892058503358462,
          1.8341570123764996,
          "",
          "",
          "",
          "",
          "",
          "",
          "",
          0.015153338994388959,
          "",
          "",
          0.43326763647285316,
          2.3070687752419943,
          "",
          "",
          0.9256002948387603,
          "",
          0.9858222465139291,
          0.8831590855893052,
          "",
          0.07473685372308136,
          0.6589686381189873,
          "",
          "",
          "",
          0.36017347085343615,
          "",
          ""
         ],
         "yaxis": "y2"
        },
        {
         "connectgaps": false,
         "fill": "tozeroy",
         "line": {
          "color": "red",
          "dash": "solid",
          "shape": "linear",
          "width": 0.5
         },
         "mode": "lines",
         "name": "Spread",
         "showlegend": false,
         "type": "scatter",
         "x": [
          0,
          1,
          2,
          3,
          4,
          5,
          6,
          7,
          8,
          9,
          10,
          11,
          12,
          13,
          14,
          15,
          16,
          17,
          18,
          19,
          20,
          21,
          22,
          23,
          24,
          25,
          26,
          27,
          28,
          29,
          30,
          31,
          32,
          33,
          34,
          35,
          36,
          37,
          38,
          39,
          40,
          41,
          42,
          43,
          44,
          45,
          46,
          47,
          48,
          49,
          50,
          51,
          52,
          53,
          54,
          55,
          56,
          57,
          58,
          59,
          60,
          61,
          62,
          63,
          64,
          65,
          66,
          67,
          68,
          69,
          70,
          71,
          72,
          73,
          74,
          75,
          76,
          77,
          78,
          79,
          80,
          81,
          82,
          83,
          84,
          85,
          86,
          87,
          88,
          89,
          90,
          91,
          92,
          93,
          94,
          95,
          96,
          97,
          98,
          99
         ],
         "xaxis": "x2",
         "y": [
          -0.3711771671477321,
          -0.40810993818051555,
          -0.22995230784503862,
          "",
          -0.44534382213470175,
          -1.247281006052931,
          -1.8594713242664882,
          "",
          -0.38141194610125284,
          -3.817592983478355,
          "",
          -0.003744071497957524,
          -0.6958776475638857,
          "",
          "",
          -0.5776110168247109,
          -1.9174690471256,
          -0.028197901508834416,
          "",
          -1.6073850547464195,
          -0.40926213772702325,
          "",
          "",
          -1.3000027492767743,
          -0.12016763975841172,
          -0.28885391445363706,
          "",
          -1.0017404527937033,
          "",
          -0.7840708911615714,
          "",
          "",
          -0.12512734811011791,
          "",
          -0.440822661018776,
          -0.1519745497150108,
          -3.5331668160389373,
          "",
          -1.0974350651705784,
          -0.8136758082645988,
          "",
          "",
          "",
          -0.054136486282403584,
          -0.4614878614672576,
          -1.4220019510295339,
          -2.564792974341319,
          -1.3850420616728902,
          "",
          -1.2120981742589207,
          "",
          -0.9762373715746249,
          "",
          -3.1587239628759765,
          -3.111947494449323,
          "",
          -1.8927515037231246,
          -0.021622608207567673,
          -0.2425536111554919,
          -0.8834041418454293,
          "",
          "",
          "",
          -1.9838508178589214,
          -0.7381983897884945,
          "",
          "",
          -0.5908367430502821,
          -0.3966065997256699,
          "",
          "",
          "",
          "",
          -0.572160075410024,
          -1.4355732504500698,
          -1.4660443955327638,
          -0.4494886518802621,
          -1.4183586145390235,
          -1.7983149234948113,
          -0.1615474753452709,
          "",
          -0.061435227735609166,
          -1.4468362011547107,
          "",
          "",
          -0.9272241412723234,
          -1.3069336758056176,
          "",
          -2.44871160878084,
          "",
          "",
          -1.4083656943940899,
          "",
          "",
          -0.8127089126029139,
          -0.10146890797284913,
          -2.134551097306084,
          "",
          -1.0373754787229112,
          -1.179997052619774
         ],
         "yaxis": "y2"
        }
       ],
       "layout": {
        "hovermode": "x",
        "legend": {
         "bgcolor": "#F5F6F9",
         "font": {
          "color": "#4D5663"
         }
        },
        "paper_bgcolor": "#F5F6F9",
        "plot_bgcolor": "#F5F6F9",
        "template": {
         "data": {
          "bar": [
           {
            "error_x": {
             "color": "#2a3f5f"
            },
            "error_y": {
             "color": "#2a3f5f"
            },
            "marker": {
             "line": {
              "color": "#E5ECF6",
              "width": 0.5
             },
             "pattern": {
              "fillmode": "overlay",
              "size": 10,
              "solidity": 0.2
             }
            },
            "type": "bar"
           }
          ],
          "barpolar": [
           {
            "marker": {
             "line": {
              "color": "#E5ECF6",
              "width": 0.5
             },
             "pattern": {
              "fillmode": "overlay",
              "size": 10,
              "solidity": 0.2
             }
            },
            "type": "barpolar"
           }
          ],
          "carpet": [
           {
            "aaxis": {
             "endlinecolor": "#2a3f5f",
             "gridcolor": "white",
             "linecolor": "white",
             "minorgridcolor": "white",
             "startlinecolor": "#2a3f5f"
            },
            "baxis": {
             "endlinecolor": "#2a3f5f",
             "gridcolor": "white",
             "linecolor": "white",
             "minorgridcolor": "white",
             "startlinecolor": "#2a3f5f"
            },
            "type": "carpet"
           }
          ],
          "choropleth": [
           {
            "colorbar": {
             "outlinewidth": 0,
             "ticks": ""
            },
            "type": "choropleth"
           }
          ],
          "contour": [
           {
            "colorbar": {
             "outlinewidth": 0,
             "ticks": ""
            },
            "colorscale": [
             [
              0,
              "#0d0887"
             ],
             [
              0.1111111111111111,
              "#46039f"
             ],
             [
              0.2222222222222222,
              "#7201a8"
             ],
             [
              0.3333333333333333,
              "#9c179e"
             ],
             [
              0.4444444444444444,
              "#bd3786"
             ],
             [
              0.5555555555555556,
              "#d8576b"
             ],
             [
              0.6666666666666666,
              "#ed7953"
             ],
             [
              0.7777777777777778,
              "#fb9f3a"
             ],
             [
              0.8888888888888888,
              "#fdca26"
             ],
             [
              1,
              "#f0f921"
             ]
            ],
            "type": "contour"
           }
          ],
          "contourcarpet": [
           {
            "colorbar": {
             "outlinewidth": 0,
             "ticks": ""
            },
            "type": "contourcarpet"
           }
          ],
          "heatmap": [
           {
            "colorbar": {
             "outlinewidth": 0,
             "ticks": ""
            },
            "colorscale": [
             [
              0,
              "#0d0887"
             ],
             [
              0.1111111111111111,
              "#46039f"
             ],
             [
              0.2222222222222222,
              "#7201a8"
             ],
             [
              0.3333333333333333,
              "#9c179e"
             ],
             [
              0.4444444444444444,
              "#bd3786"
             ],
             [
              0.5555555555555556,
              "#d8576b"
             ],
             [
              0.6666666666666666,
              "#ed7953"
             ],
             [
              0.7777777777777778,
              "#fb9f3a"
             ],
             [
              0.8888888888888888,
              "#fdca26"
             ],
             [
              1,
              "#f0f921"
             ]
            ],
            "type": "heatmap"
           }
          ],
          "heatmapgl": [
           {
            "colorbar": {
             "outlinewidth": 0,
             "ticks": ""
            },
            "colorscale": [
             [
              0,
              "#0d0887"
             ],
             [
              0.1111111111111111,
              "#46039f"
             ],
             [
              0.2222222222222222,
              "#7201a8"
             ],
             [
              0.3333333333333333,
              "#9c179e"
             ],
             [
              0.4444444444444444,
              "#bd3786"
             ],
             [
              0.5555555555555556,
              "#d8576b"
             ],
             [
              0.6666666666666666,
              "#ed7953"
             ],
             [
              0.7777777777777778,
              "#fb9f3a"
             ],
             [
              0.8888888888888888,
              "#fdca26"
             ],
             [
              1,
              "#f0f921"
             ]
            ],
            "type": "heatmapgl"
           }
          ],
          "histogram": [
           {
            "marker": {
             "pattern": {
              "fillmode": "overlay",
              "size": 10,
              "solidity": 0.2
             }
            },
            "type": "histogram"
           }
          ],
          "histogram2d": [
           {
            "colorbar": {
             "outlinewidth": 0,
             "ticks": ""
            },
            "colorscale": [
             [
              0,
              "#0d0887"
             ],
             [
              0.1111111111111111,
              "#46039f"
             ],
             [
              0.2222222222222222,
              "#7201a8"
             ],
             [
              0.3333333333333333,
              "#9c179e"
             ],
             [
              0.4444444444444444,
              "#bd3786"
             ],
             [
              0.5555555555555556,
              "#d8576b"
             ],
             [
              0.6666666666666666,
              "#ed7953"
             ],
             [
              0.7777777777777778,
              "#fb9f3a"
             ],
             [
              0.8888888888888888,
              "#fdca26"
             ],
             [
              1,
              "#f0f921"
             ]
            ],
            "type": "histogram2d"
           }
          ],
          "histogram2dcontour": [
           {
            "colorbar": {
             "outlinewidth": 0,
             "ticks": ""
            },
            "colorscale": [
             [
              0,
              "#0d0887"
             ],
             [
              0.1111111111111111,
              "#46039f"
             ],
             [
              0.2222222222222222,
              "#7201a8"
             ],
             [
              0.3333333333333333,
              "#9c179e"
             ],
             [
              0.4444444444444444,
              "#bd3786"
             ],
             [
              0.5555555555555556,
              "#d8576b"
             ],
             [
              0.6666666666666666,
              "#ed7953"
             ],
             [
              0.7777777777777778,
              "#fb9f3a"
             ],
             [
              0.8888888888888888,
              "#fdca26"
             ],
             [
              1,
              "#f0f921"
             ]
            ],
            "type": "histogram2dcontour"
           }
          ],
          "mesh3d": [
           {
            "colorbar": {
             "outlinewidth": 0,
             "ticks": ""
            },
            "type": "mesh3d"
           }
          ],
          "parcoords": [
           {
            "line": {
             "colorbar": {
              "outlinewidth": 0,
              "ticks": ""
             }
            },
            "type": "parcoords"
           }
          ],
          "pie": [
           {
            "automargin": true,
            "type": "pie"
           }
          ],
          "scatter": [
           {
            "fillpattern": {
             "fillmode": "overlay",
             "size": 10,
             "solidity": 0.2
            },
            "type": "scatter"
           }
          ],
          "scatter3d": [
           {
            "line": {
             "colorbar": {
              "outlinewidth": 0,
              "ticks": ""
             }
            },
            "marker": {
             "colorbar": {
              "outlinewidth": 0,
              "ticks": ""
             }
            },
            "type": "scatter3d"
           }
          ],
          "scattercarpet": [
           {
            "marker": {
             "colorbar": {
              "outlinewidth": 0,
              "ticks": ""
             }
            },
            "type": "scattercarpet"
           }
          ],
          "scattergeo": [
           {
            "marker": {
             "colorbar": {
              "outlinewidth": 0,
              "ticks": ""
             }
            },
            "type": "scattergeo"
           }
          ],
          "scattergl": [
           {
            "marker": {
             "colorbar": {
              "outlinewidth": 0,
              "ticks": ""
             }
            },
            "type": "scattergl"
           }
          ],
          "scattermapbox": [
           {
            "marker": {
             "colorbar": {
              "outlinewidth": 0,
              "ticks": ""
             }
            },
            "type": "scattermapbox"
           }
          ],
          "scatterpolar": [
           {
            "marker": {
             "colorbar": {
              "outlinewidth": 0,
              "ticks": ""
             }
            },
            "type": "scatterpolar"
           }
          ],
          "scatterpolargl": [
           {
            "marker": {
             "colorbar": {
              "outlinewidth": 0,
              "ticks": ""
             }
            },
            "type": "scatterpolargl"
           }
          ],
          "scatterternary": [
           {
            "marker": {
             "colorbar": {
              "outlinewidth": 0,
              "ticks": ""
             }
            },
            "type": "scatterternary"
           }
          ],
          "surface": [
           {
            "colorbar": {
             "outlinewidth": 0,
             "ticks": ""
            },
            "colorscale": [
             [
              0,
              "#0d0887"
             ],
             [
              0.1111111111111111,
              "#46039f"
             ],
             [
              0.2222222222222222,
              "#7201a8"
             ],
             [
              0.3333333333333333,
              "#9c179e"
             ],
             [
              0.4444444444444444,
              "#bd3786"
             ],
             [
              0.5555555555555556,
              "#d8576b"
             ],
             [
              0.6666666666666666,
              "#ed7953"
             ],
             [
              0.7777777777777778,
              "#fb9f3a"
             ],
             [
              0.8888888888888888,
              "#fdca26"
             ],
             [
              1,
              "#f0f921"
             ]
            ],
            "type": "surface"
           }
          ],
          "table": [
           {
            "cells": {
             "fill": {
              "color": "#EBF0F8"
             },
             "line": {
              "color": "white"
             }
            },
            "header": {
             "fill": {
              "color": "#C8D4E3"
             },
             "line": {
              "color": "white"
             }
            },
            "type": "table"
           }
          ]
         },
         "layout": {
          "annotationdefaults": {
           "arrowcolor": "#2a3f5f",
           "arrowhead": 0,
           "arrowwidth": 1
          },
          "autotypenumbers": "strict",
          "coloraxis": {
           "colorbar": {
            "outlinewidth": 0,
            "ticks": ""
           }
          },
          "colorscale": {
           "diverging": [
            [
             0,
             "#8e0152"
            ],
            [
             0.1,
             "#c51b7d"
            ],
            [
             0.2,
             "#de77ae"
            ],
            [
             0.3,
             "#f1b6da"
            ],
            [
             0.4,
             "#fde0ef"
            ],
            [
             0.5,
             "#f7f7f7"
            ],
            [
             0.6,
             "#e6f5d0"
            ],
            [
             0.7,
             "#b8e186"
            ],
            [
             0.8,
             "#7fbc41"
            ],
            [
             0.9,
             "#4d9221"
            ],
            [
             1,
             "#276419"
            ]
           ],
           "sequential": [
            [
             0,
             "#0d0887"
            ],
            [
             0.1111111111111111,
             "#46039f"
            ],
            [
             0.2222222222222222,
             "#7201a8"
            ],
            [
             0.3333333333333333,
             "#9c179e"
            ],
            [
             0.4444444444444444,
             "#bd3786"
            ],
            [
             0.5555555555555556,
             "#d8576b"
            ],
            [
             0.6666666666666666,
             "#ed7953"
            ],
            [
             0.7777777777777778,
             "#fb9f3a"
            ],
            [
             0.8888888888888888,
             "#fdca26"
            ],
            [
             1,
             "#f0f921"
            ]
           ],
           "sequentialminus": [
            [
             0,
             "#0d0887"
            ],
            [
             0.1111111111111111,
             "#46039f"
            ],
            [
             0.2222222222222222,
             "#7201a8"
            ],
            [
             0.3333333333333333,
             "#9c179e"
            ],
            [
             0.4444444444444444,
             "#bd3786"
            ],
            [
             0.5555555555555556,
             "#d8576b"
            ],
            [
             0.6666666666666666,
             "#ed7953"
            ],
            [
             0.7777777777777778,
             "#fb9f3a"
            ],
            [
             0.8888888888888888,
             "#fdca26"
            ],
            [
             1,
             "#f0f921"
            ]
           ]
          },
          "colorway": [
           "#636efa",
           "#EF553B",
           "#00cc96",
           "#ab63fa",
           "#FFA15A",
           "#19d3f3",
           "#FF6692",
           "#B6E880",
           "#FF97FF",
           "#FECB52"
          ],
          "font": {
           "color": "#2a3f5f"
          },
          "geo": {
           "bgcolor": "white",
           "lakecolor": "white",
           "landcolor": "#E5ECF6",
           "showlakes": true,
           "showland": true,
           "subunitcolor": "white"
          },
          "hoverlabel": {
           "align": "left"
          },
          "hovermode": "closest",
          "mapbox": {
           "style": "light"
          },
          "paper_bgcolor": "white",
          "plot_bgcolor": "#E5ECF6",
          "polar": {
           "angularaxis": {
            "gridcolor": "white",
            "linecolor": "white",
            "ticks": ""
           },
           "bgcolor": "#E5ECF6",
           "radialaxis": {
            "gridcolor": "white",
            "linecolor": "white",
            "ticks": ""
           }
          },
          "scene": {
           "xaxis": {
            "backgroundcolor": "#E5ECF6",
            "gridcolor": "white",
            "gridwidth": 2,
            "linecolor": "white",
            "showbackground": true,
            "ticks": "",
            "zerolinecolor": "white"
           },
           "yaxis": {
            "backgroundcolor": "#E5ECF6",
            "gridcolor": "white",
            "gridwidth": 2,
            "linecolor": "white",
            "showbackground": true,
            "ticks": "",
            "zerolinecolor": "white"
           },
           "zaxis": {
            "backgroundcolor": "#E5ECF6",
            "gridcolor": "white",
            "gridwidth": 2,
            "linecolor": "white",
            "showbackground": true,
            "ticks": "",
            "zerolinecolor": "white"
           }
          },
          "shapedefaults": {
           "line": {
            "color": "#2a3f5f"
           }
          },
          "ternary": {
           "aaxis": {
            "gridcolor": "white",
            "linecolor": "white",
            "ticks": ""
           },
           "baxis": {
            "gridcolor": "white",
            "linecolor": "white",
            "ticks": ""
           },
           "bgcolor": "#E5ECF6",
           "caxis": {
            "gridcolor": "white",
            "linecolor": "white",
            "ticks": ""
           }
          },
          "title": {
           "x": 0.05
          },
          "xaxis": {
           "automargin": true,
           "gridcolor": "white",
           "linecolor": "white",
           "ticks": "",
           "title": {
            "standoff": 15
           },
           "zerolinecolor": "white",
           "zerolinewidth": 2
          },
          "yaxis": {
           "automargin": true,
           "gridcolor": "white",
           "linecolor": "white",
           "ticks": "",
           "title": {
            "standoff": 15
           },
           "zerolinecolor": "white",
           "zerolinewidth": 2
          }
         }
        },
        "title": {
         "font": {
          "color": "#4D5663"
         }
        },
        "xaxis": {
         "gridcolor": "#E1E5ED",
         "showgrid": true,
         "tickfont": {
          "color": "#4D5663"
         },
         "title": {
          "font": {
           "color": "#4D5663"
          },
          "text": ""
         },
         "zerolinecolor": "#E1E5ED"
        },
        "xaxis2": {
         "anchor": "y2",
         "gridcolor": "#E1E5ED",
         "showgrid": true,
         "showticklabels": false,
         "tickfont": {
          "color": "#4D5663"
         },
         "title": {
          "font": {
           "color": "#4D5663"
          },
          "text": ""
         },
         "zerolinecolor": "#E1E5ED"
        },
        "yaxis": {
         "domain": [
          0.3,
          1
         ],
         "gridcolor": "#E1E5ED",
         "showgrid": true,
         "tickfont": {
          "color": "#4D5663"
         },
         "title": {
          "font": {
           "color": "#4D5663"
          },
          "text": ""
         },
         "zerolinecolor": "#E1E5ED"
        },
        "yaxis2": {
         "domain": [
          0,
          0.25
         ],
         "gridcolor": "#E1E5ED",
         "showgrid": true,
         "tickfont": {
          "color": "#4D5663"
         },
         "title": {
          "font": {
           "color": "#4D5663"
          },
          "text": "Spread"
         },
         "zerolinecolor": "#E1E5ED"
        }
       }
      },
      "text/html": [
       "<div>                            <div id=\"d088acf6-8745-4e27-b68f-53626a6efc07\" class=\"plotly-graph-div\" style=\"height:525px; width:100%;\"></div>            <script type=\"text/javascript\">                require([\"plotly\"], function(Plotly) {                    window.PLOTLYENV=window.PLOTLYENV || {};\n",
       "                    window.PLOTLYENV.BASE_URL='https://plot.ly';                                    if (document.getElementById(\"d088acf6-8745-4e27-b68f-53626a6efc07\")) {                    Plotly.newPlot(                        \"d088acf6-8745-4e27-b68f-53626a6efc07\",                        [{\"line\":{\"color\":\"rgba(255, 153, 51, 1.0)\",\"dash\":\"solid\",\"shape\":\"linear\",\"width\":1.3},\"mode\":\"lines\",\"name\":\"A\",\"text\":\"\",\"x\":[0,1,2,3,4,5,6,7,8,9,10,11,12,13,14,15,16,17,18,19,20,21,22,23,24,25,26,27,28,29,30,31,32,33,34,35,36,37,38,39,40,41,42,43,44,45,46,47,48,49,50,51,52,53,54,55,56,57,58,59,60,61,62,63,64,65,66,67,68,69,70,71,72,73,74,75,76,77,78,79,80,81,82,83,84,85,86,87,88,89,90,91,92,93,94,95,96,97,98,99],\"y\":[-1.3402016232243987,-0.649020214887379,-0.1682257323904412,2.193351046396256,-0.03573185326863341,-1.0307989329934075,-0.31001491329916697,0.22297126297492637,0.6122609371476259,-2.117750882736682,0.3272545474121727,1.1386299196654515,-0.4154436052538386,1.0779279014688374,-0.33924919653852054,-0.05106266578488151,-1.2273122208986817,0.13163095652086673,0.6861422996774701,-1.4929644029779623,0.7150917642789755,1.814864989428972,0.9247864218619752,0.1584202308262772,1.3776632444592147,-0.8326001639401515,1.181045793801218,-0.374786520171287,-1.0314030959357248,-1.405302986742882,1.307505538855658,0.28061501742315353,-0.27765619411536585,1.037160257723475,-0.06440534965266251,-0.793112145628941,-2.123781691651395,0.7175911466979235,-0.9935809840486913,0.102082618948086,2.5401308092916937,0.6994358348094193,0.37786736051270964,0.36914437145631324,-0.18534855714732013,-0.2839090460128509,-0.6674685004133002,-1.1939521780587363,0.22405329359385473,0.30397583811713497,2.150058233613433,-0.6912701612509979,0.24011301797624413,-0.8920054636597202,-1.1362101375723168,-0.2445198402137013,-1.464257619736692,-1.131466171469585,0.5006879161128014,-0.0060776854956445915,-0.24392875687830465,0.6797274182867651,-0.029234509609762142,-1.062499955977877,0.6439254781690764,0.5783337153396132,-0.1944123189471814,-0.2167287075789601,-0.024164469729240884,0.05793902626343979,0.8986897207398744,1.0031118779125756,2.031724621187272,-0.10250037152497271,-1.1186755466234815,-1.1843577588561136,-1.5662760148060901,-1.219161823281136,-1.1593766556630698,-0.027439127229870085,0.018316738046942258,-0.6922784874155976,0.07979753670333341,0.22962384107885242,0.20152715612661043,-0.3285086721135077,-0.4779892642970852,-0.42324897569430525,-2.738587292705288,-0.35618875561801133,1.1560776988758348,-0.7923919414392832,0.7825784632218197,0.08966821419878798,-0.6329579247795905,-0.375129963188778,-0.8639214742522782,0.40125309184897434,0.5185039514250023,0.05590068286289588],\"type\":\"scatter\"},{\"line\":{\"color\":\"rgba(55, 128, 191, 1.0)\",\"dash\":\"solid\",\"shape\":\"linear\",\"width\":1.3},\"mode\":\"lines\",\"name\":\"B\",\"text\":\"\",\"x\":[0,1,2,3,4,5,6,7,8,9,10,11,12,13,14,15,16,17,18,19,20,21,22,23,24,25,26,27,28,29,30,31,32,33,34,35,36,37,38,39,40,41,42,43,44,45,46,47,48,49,50,51,52,53,54,55,56,57,58,59,60,61,62,63,64,65,66,67,68,69,70,71,72,73,74,75,76,77,78,79,80,81,82,83,84,85,86,87,88,89,90,91,92,93,94,95,96,97,98,99],\"y\":[-0.9690244560766667,-0.24091027670686352,0.06172657545459743,-1.3358418161138446,0.4096119688660683,0.21648207305952347,1.5494564109673212,-0.5272035737836958,0.9936728832488787,1.6998421007416729,-0.5350070839408002,1.142373991163409,0.28043404231004704,-0.12769281150264328,-1.6037993962606607,0.5265483510398294,0.6901568262269182,0.15982885802970115,0.39314699605901254,0.11442065176845712,1.1243539020059987,1.1152052967861483,0.2780180827228744,1.4584229801030515,1.4978308842176264,-0.5437462494865144,0.18413726991006588,0.6269539326224163,-2.5047420918321257,-0.6212320955813105,0.08172489190197559,-0.6399969402483794,-0.15252884600524794,0.7774564761486727,0.37641731136611345,-0.6411375959139302,1.4093851243875426,-0.7630593139882308,0.10385408112188718,0.9157584272126849,0.06737938308580205,0.4412611451538305,-0.42090358284399665,0.4232808577387168,0.2761393043199375,1.138092905016683,1.8973244739280186,0.19108988361415394,0.13251187903126746,1.5160740123760557,-0.47908398458207774,0.2849672103236269,-0.3767923189387514,2.2667184992162563,1.975737356877006,-0.3133790957536171,0.42849388398643246,-1.1098435632620174,0.7432415272682933,0.8773264563497847,-1.5027064039710905,-0.5467087382492198,-0.22462087224068003,0.9213508618810443,1.382123867957571,-0.7145203155188684,-0.7637499403917496,0.37410803547132204,0.372442129996429,-0.599660356333412,-0.02335861163390679,0.4139060275767294,0.19756760881077232,0.4696597038850513,0.3168977038265884,0.28168663667665017,-1.116787362925828,0.1991967912578874,0.6389382678317415,0.13410834811540082,0.0031633990525533,-0.6308432596799884,1.5266337378580441,-0.2036437953940007,-2.105541619115384,0.5987154691588157,0.8289444115085323,-1.3488492705330655,-0.28987568392444796,-1.3420110021319405,0.2729186132865296,0.6159737529548067,0.7078416094987383,-0.5693004239201993,0.1797509878233235,-0.2736610552159289,1.2706296230538061,0.041079620995538205,1.5558794301479135,1.23589773548267],\"type\":\"scatter\"},{\"connectgaps\":false,\"fill\":\"tozeroy\",\"line\":{\"color\":\"green\",\"dash\":\"solid\",\"shape\":\"linear\",\"width\":0.5},\"mode\":\"lines\",\"name\":\"Spread\",\"showlegend\":false,\"x\":[0,1,2,3,4,5,6,7,8,9,10,11,12,13,14,15,16,17,18,19,20,21,22,23,24,25,26,27,28,29,30,31,32,33,34,35,36,37,38,39,40,41,42,43,44,45,46,47,48,49,50,51,52,53,54,55,56,57,58,59,60,61,62,63,64,65,66,67,68,69,70,71,72,73,74,75,76,77,78,79,80,81,82,83,84,85,86,87,88,89,90,91,92,93,94,95,96,97,98,99],\"xaxis\":\"x2\",\"y\":[\"\",\"\",\"\",3.529192862510101,\"\",\"\",\"\",0.7501748367586221,\"\",\"\",0.862261631352973,\"\",\"\",1.2056207129714807,1.2645501997221402,\"\",\"\",\"\",0.29299530361845755,\"\",\"\",0.6996596926428236,0.6467683391391008,\"\",\"\",\"\",0.9969085238911521,\"\",1.473338995896401,\"\",1.2257806469536825,0.9206119576715329,\"\",0.25970378157480234,\"\",\"\",\"\",1.4806504606861544,\"\",\"\",2.4727514262058916,0.25817468965558876,0.7987709433567063,\"\",\"\",\"\",\"\",\"\",0.09154141456258727,\"\",2.629142218195511,\"\",0.6169053369149955,\"\",\"\",0.06885925553991581,\"\",\"\",\"\",\"\",1.2587776470927858,1.226436156535985,0.19538636263091788,\"\",\"\",1.2928540308584817,0.5693376214445682,\"\",\"\",0.6575993825968518,0.9220483323737811,0.5892058503358462,1.8341570123764996,\"\",\"\",\"\",\"\",\"\",\"\",\"\",0.015153338994388959,\"\",\"\",0.43326763647285316,2.3070687752419943,\"\",\"\",0.9256002948387603,\"\",0.9858222465139291,0.8831590855893052,\"\",0.07473685372308136,0.6589686381189873,\"\",\"\",\"\",0.36017347085343615,\"\",\"\"],\"yaxis\":\"y2\",\"type\":\"scatter\"},{\"connectgaps\":false,\"fill\":\"tozeroy\",\"line\":{\"color\":\"red\",\"dash\":\"solid\",\"shape\":\"linear\",\"width\":0.5},\"mode\":\"lines\",\"name\":\"Spread\",\"showlegend\":false,\"x\":[0,1,2,3,4,5,6,7,8,9,10,11,12,13,14,15,16,17,18,19,20,21,22,23,24,25,26,27,28,29,30,31,32,33,34,35,36,37,38,39,40,41,42,43,44,45,46,47,48,49,50,51,52,53,54,55,56,57,58,59,60,61,62,63,64,65,66,67,68,69,70,71,72,73,74,75,76,77,78,79,80,81,82,83,84,85,86,87,88,89,90,91,92,93,94,95,96,97,98,99],\"xaxis\":\"x2\",\"y\":[-0.3711771671477321,-0.40810993818051555,-0.22995230784503862,\"\",-0.44534382213470175,-1.247281006052931,-1.8594713242664882,\"\",-0.38141194610125284,-3.817592983478355,\"\",-0.003744071497957524,-0.6958776475638857,\"\",\"\",-0.5776110168247109,-1.9174690471256,-0.028197901508834416,\"\",-1.6073850547464195,-0.40926213772702325,\"\",\"\",-1.3000027492767743,-0.12016763975841172,-0.28885391445363706,\"\",-1.0017404527937033,\"\",-0.7840708911615714,\"\",\"\",-0.12512734811011791,\"\",-0.440822661018776,-0.1519745497150108,-3.5331668160389373,\"\",-1.0974350651705784,-0.8136758082645988,\"\",\"\",\"\",-0.054136486282403584,-0.4614878614672576,-1.4220019510295339,-2.564792974341319,-1.3850420616728902,\"\",-1.2120981742589207,\"\",-0.9762373715746249,\"\",-3.1587239628759765,-3.111947494449323,\"\",-1.8927515037231246,-0.021622608207567673,-0.2425536111554919,-0.8834041418454293,\"\",\"\",\"\",-1.9838508178589214,-0.7381983897884945,\"\",\"\",-0.5908367430502821,-0.3966065997256699,\"\",\"\",\"\",\"\",-0.572160075410024,-1.4355732504500698,-1.4660443955327638,-0.4494886518802621,-1.4183586145390235,-1.7983149234948113,-0.1615474753452709,\"\",-0.061435227735609166,-1.4468362011547107,\"\",\"\",-0.9272241412723234,-1.3069336758056176,\"\",-2.44871160878084,\"\",\"\",-1.4083656943940899,\"\",\"\",-0.8127089126029139,-0.10146890797284913,-2.134551097306084,\"\",-1.0373754787229112,-1.179997052619774],\"yaxis\":\"y2\",\"type\":\"scatter\"}],                        {\"hovermode\":\"x\",\"legend\":{\"bgcolor\":\"#F5F6F9\",\"font\":{\"color\":\"#4D5663\"}},\"paper_bgcolor\":\"#F5F6F9\",\"plot_bgcolor\":\"#F5F6F9\",\"template\":{\"data\":{\"barpolar\":[{\"marker\":{\"line\":{\"color\":\"#E5ECF6\",\"width\":0.5},\"pattern\":{\"fillmode\":\"overlay\",\"size\":10,\"solidity\":0.2}},\"type\":\"barpolar\"}],\"bar\":[{\"error_x\":{\"color\":\"#2a3f5f\"},\"error_y\":{\"color\":\"#2a3f5f\"},\"marker\":{\"line\":{\"color\":\"#E5ECF6\",\"width\":0.5},\"pattern\":{\"fillmode\":\"overlay\",\"size\":10,\"solidity\":0.2}},\"type\":\"bar\"}],\"carpet\":[{\"aaxis\":{\"endlinecolor\":\"#2a3f5f\",\"gridcolor\":\"white\",\"linecolor\":\"white\",\"minorgridcolor\":\"white\",\"startlinecolor\":\"#2a3f5f\"},\"baxis\":{\"endlinecolor\":\"#2a3f5f\",\"gridcolor\":\"white\",\"linecolor\":\"white\",\"minorgridcolor\":\"white\",\"startlinecolor\":\"#2a3f5f\"},\"type\":\"carpet\"}],\"choropleth\":[{\"colorbar\":{\"outlinewidth\":0,\"ticks\":\"\"},\"type\":\"choropleth\"}],\"contourcarpet\":[{\"colorbar\":{\"outlinewidth\":0,\"ticks\":\"\"},\"type\":\"contourcarpet\"}],\"contour\":[{\"colorbar\":{\"outlinewidth\":0,\"ticks\":\"\"},\"colorscale\":[[0.0,\"#0d0887\"],[0.1111111111111111,\"#46039f\"],[0.2222222222222222,\"#7201a8\"],[0.3333333333333333,\"#9c179e\"],[0.4444444444444444,\"#bd3786\"],[0.5555555555555556,\"#d8576b\"],[0.6666666666666666,\"#ed7953\"],[0.7777777777777778,\"#fb9f3a\"],[0.8888888888888888,\"#fdca26\"],[1.0,\"#f0f921\"]],\"type\":\"contour\"}],\"heatmapgl\":[{\"colorbar\":{\"outlinewidth\":0,\"ticks\":\"\"},\"colorscale\":[[0.0,\"#0d0887\"],[0.1111111111111111,\"#46039f\"],[0.2222222222222222,\"#7201a8\"],[0.3333333333333333,\"#9c179e\"],[0.4444444444444444,\"#bd3786\"],[0.5555555555555556,\"#d8576b\"],[0.6666666666666666,\"#ed7953\"],[0.7777777777777778,\"#fb9f3a\"],[0.8888888888888888,\"#fdca26\"],[1.0,\"#f0f921\"]],\"type\":\"heatmapgl\"}],\"heatmap\":[{\"colorbar\":{\"outlinewidth\":0,\"ticks\":\"\"},\"colorscale\":[[0.0,\"#0d0887\"],[0.1111111111111111,\"#46039f\"],[0.2222222222222222,\"#7201a8\"],[0.3333333333333333,\"#9c179e\"],[0.4444444444444444,\"#bd3786\"],[0.5555555555555556,\"#d8576b\"],[0.6666666666666666,\"#ed7953\"],[0.7777777777777778,\"#fb9f3a\"],[0.8888888888888888,\"#fdca26\"],[1.0,\"#f0f921\"]],\"type\":\"heatmap\"}],\"histogram2dcontour\":[{\"colorbar\":{\"outlinewidth\":0,\"ticks\":\"\"},\"colorscale\":[[0.0,\"#0d0887\"],[0.1111111111111111,\"#46039f\"],[0.2222222222222222,\"#7201a8\"],[0.3333333333333333,\"#9c179e\"],[0.4444444444444444,\"#bd3786\"],[0.5555555555555556,\"#d8576b\"],[0.6666666666666666,\"#ed7953\"],[0.7777777777777778,\"#fb9f3a\"],[0.8888888888888888,\"#fdca26\"],[1.0,\"#f0f921\"]],\"type\":\"histogram2dcontour\"}],\"histogram2d\":[{\"colorbar\":{\"outlinewidth\":0,\"ticks\":\"\"},\"colorscale\":[[0.0,\"#0d0887\"],[0.1111111111111111,\"#46039f\"],[0.2222222222222222,\"#7201a8\"],[0.3333333333333333,\"#9c179e\"],[0.4444444444444444,\"#bd3786\"],[0.5555555555555556,\"#d8576b\"],[0.6666666666666666,\"#ed7953\"],[0.7777777777777778,\"#fb9f3a\"],[0.8888888888888888,\"#fdca26\"],[1.0,\"#f0f921\"]],\"type\":\"histogram2d\"}],\"histogram\":[{\"marker\":{\"pattern\":{\"fillmode\":\"overlay\",\"size\":10,\"solidity\":0.2}},\"type\":\"histogram\"}],\"mesh3d\":[{\"colorbar\":{\"outlinewidth\":0,\"ticks\":\"\"},\"type\":\"mesh3d\"}],\"parcoords\":[{\"line\":{\"colorbar\":{\"outlinewidth\":0,\"ticks\":\"\"}},\"type\":\"parcoords\"}],\"pie\":[{\"automargin\":true,\"type\":\"pie\"}],\"scatter3d\":[{\"line\":{\"colorbar\":{\"outlinewidth\":0,\"ticks\":\"\"}},\"marker\":{\"colorbar\":{\"outlinewidth\":0,\"ticks\":\"\"}},\"type\":\"scatter3d\"}],\"scattercarpet\":[{\"marker\":{\"colorbar\":{\"outlinewidth\":0,\"ticks\":\"\"}},\"type\":\"scattercarpet\"}],\"scattergeo\":[{\"marker\":{\"colorbar\":{\"outlinewidth\":0,\"ticks\":\"\"}},\"type\":\"scattergeo\"}],\"scattergl\":[{\"marker\":{\"colorbar\":{\"outlinewidth\":0,\"ticks\":\"\"}},\"type\":\"scattergl\"}],\"scattermapbox\":[{\"marker\":{\"colorbar\":{\"outlinewidth\":0,\"ticks\":\"\"}},\"type\":\"scattermapbox\"}],\"scatterpolargl\":[{\"marker\":{\"colorbar\":{\"outlinewidth\":0,\"ticks\":\"\"}},\"type\":\"scatterpolargl\"}],\"scatterpolar\":[{\"marker\":{\"colorbar\":{\"outlinewidth\":0,\"ticks\":\"\"}},\"type\":\"scatterpolar\"}],\"scatter\":[{\"fillpattern\":{\"fillmode\":\"overlay\",\"size\":10,\"solidity\":0.2},\"type\":\"scatter\"}],\"scatterternary\":[{\"marker\":{\"colorbar\":{\"outlinewidth\":0,\"ticks\":\"\"}},\"type\":\"scatterternary\"}],\"surface\":[{\"colorbar\":{\"outlinewidth\":0,\"ticks\":\"\"},\"colorscale\":[[0.0,\"#0d0887\"],[0.1111111111111111,\"#46039f\"],[0.2222222222222222,\"#7201a8\"],[0.3333333333333333,\"#9c179e\"],[0.4444444444444444,\"#bd3786\"],[0.5555555555555556,\"#d8576b\"],[0.6666666666666666,\"#ed7953\"],[0.7777777777777778,\"#fb9f3a\"],[0.8888888888888888,\"#fdca26\"],[1.0,\"#f0f921\"]],\"type\":\"surface\"}],\"table\":[{\"cells\":{\"fill\":{\"color\":\"#EBF0F8\"},\"line\":{\"color\":\"white\"}},\"header\":{\"fill\":{\"color\":\"#C8D4E3\"},\"line\":{\"color\":\"white\"}},\"type\":\"table\"}]},\"layout\":{\"annotationdefaults\":{\"arrowcolor\":\"#2a3f5f\",\"arrowhead\":0,\"arrowwidth\":1},\"autotypenumbers\":\"strict\",\"coloraxis\":{\"colorbar\":{\"outlinewidth\":0,\"ticks\":\"\"}},\"colorscale\":{\"diverging\":[[0,\"#8e0152\"],[0.1,\"#c51b7d\"],[0.2,\"#de77ae\"],[0.3,\"#f1b6da\"],[0.4,\"#fde0ef\"],[0.5,\"#f7f7f7\"],[0.6,\"#e6f5d0\"],[0.7,\"#b8e186\"],[0.8,\"#7fbc41\"],[0.9,\"#4d9221\"],[1,\"#276419\"]],\"sequential\":[[0.0,\"#0d0887\"],[0.1111111111111111,\"#46039f\"],[0.2222222222222222,\"#7201a8\"],[0.3333333333333333,\"#9c179e\"],[0.4444444444444444,\"#bd3786\"],[0.5555555555555556,\"#d8576b\"],[0.6666666666666666,\"#ed7953\"],[0.7777777777777778,\"#fb9f3a\"],[0.8888888888888888,\"#fdca26\"],[1.0,\"#f0f921\"]],\"sequentialminus\":[[0.0,\"#0d0887\"],[0.1111111111111111,\"#46039f\"],[0.2222222222222222,\"#7201a8\"],[0.3333333333333333,\"#9c179e\"],[0.4444444444444444,\"#bd3786\"],[0.5555555555555556,\"#d8576b\"],[0.6666666666666666,\"#ed7953\"],[0.7777777777777778,\"#fb9f3a\"],[0.8888888888888888,\"#fdca26\"],[1.0,\"#f0f921\"]]},\"colorway\":[\"#636efa\",\"#EF553B\",\"#00cc96\",\"#ab63fa\",\"#FFA15A\",\"#19d3f3\",\"#FF6692\",\"#B6E880\",\"#FF97FF\",\"#FECB52\"],\"font\":{\"color\":\"#2a3f5f\"},\"geo\":{\"bgcolor\":\"white\",\"lakecolor\":\"white\",\"landcolor\":\"#E5ECF6\",\"showlakes\":true,\"showland\":true,\"subunitcolor\":\"white\"},\"hoverlabel\":{\"align\":\"left\"},\"hovermode\":\"closest\",\"mapbox\":{\"style\":\"light\"},\"paper_bgcolor\":\"white\",\"plot_bgcolor\":\"#E5ECF6\",\"polar\":{\"angularaxis\":{\"gridcolor\":\"white\",\"linecolor\":\"white\",\"ticks\":\"\"},\"bgcolor\":\"#E5ECF6\",\"radialaxis\":{\"gridcolor\":\"white\",\"linecolor\":\"white\",\"ticks\":\"\"}},\"scene\":{\"xaxis\":{\"backgroundcolor\":\"#E5ECF6\",\"gridcolor\":\"white\",\"gridwidth\":2,\"linecolor\":\"white\",\"showbackground\":true,\"ticks\":\"\",\"zerolinecolor\":\"white\"},\"yaxis\":{\"backgroundcolor\":\"#E5ECF6\",\"gridcolor\":\"white\",\"gridwidth\":2,\"linecolor\":\"white\",\"showbackground\":true,\"ticks\":\"\",\"zerolinecolor\":\"white\"},\"zaxis\":{\"backgroundcolor\":\"#E5ECF6\",\"gridcolor\":\"white\",\"gridwidth\":2,\"linecolor\":\"white\",\"showbackground\":true,\"ticks\":\"\",\"zerolinecolor\":\"white\"}},\"shapedefaults\":{\"line\":{\"color\":\"#2a3f5f\"}},\"ternary\":{\"aaxis\":{\"gridcolor\":\"white\",\"linecolor\":\"white\",\"ticks\":\"\"},\"baxis\":{\"gridcolor\":\"white\",\"linecolor\":\"white\",\"ticks\":\"\"},\"bgcolor\":\"#E5ECF6\",\"caxis\":{\"gridcolor\":\"white\",\"linecolor\":\"white\",\"ticks\":\"\"}},\"title\":{\"x\":0.05},\"xaxis\":{\"automargin\":true,\"gridcolor\":\"white\",\"linecolor\":\"white\",\"ticks\":\"\",\"title\":{\"standoff\":15},\"zerolinecolor\":\"white\",\"zerolinewidth\":2},\"yaxis\":{\"automargin\":true,\"gridcolor\":\"white\",\"linecolor\":\"white\",\"ticks\":\"\",\"title\":{\"standoff\":15},\"zerolinecolor\":\"white\",\"zerolinewidth\":2}}},\"title\":{\"font\":{\"color\":\"#4D5663\"}},\"xaxis\":{\"gridcolor\":\"#E1E5ED\",\"showgrid\":true,\"tickfont\":{\"color\":\"#4D5663\"},\"title\":{\"font\":{\"color\":\"#4D5663\"},\"text\":\"\"},\"zerolinecolor\":\"#E1E5ED\"},\"yaxis\":{\"domain\":[0.3,1],\"gridcolor\":\"#E1E5ED\",\"showgrid\":true,\"tickfont\":{\"color\":\"#4D5663\"},\"title\":{\"font\":{\"color\":\"#4D5663\"},\"text\":\"\"},\"zerolinecolor\":\"#E1E5ED\"},\"yaxis2\":{\"domain\":[0,0.25],\"gridcolor\":\"#E1E5ED\",\"showgrid\":true,\"tickfont\":{\"color\":\"#4D5663\"},\"title\":{\"font\":{\"color\":\"#4D5663\"},\"text\":\"Spread\"},\"zerolinecolor\":\"#E1E5ED\"},\"xaxis2\":{\"anchor\":\"y2\",\"gridcolor\":\"#E1E5ED\",\"showgrid\":true,\"showticklabels\":false,\"tickfont\":{\"color\":\"#4D5663\"},\"title\":{\"font\":{\"color\":\"#4D5663\"},\"text\":\"\"},\"zerolinecolor\":\"#E1E5ED\"}},                        {\"showLink\": true, \"linkText\": \"Export to plot.ly\", \"plotlyServerURL\": \"https://plot.ly\", \"responsive\": true}                    ).then(function(){\n",
       "                            \n",
       "var gd = document.getElementById('d088acf6-8745-4e27-b68f-53626a6efc07');\n",
       "var x = new MutationObserver(function (mutations, observer) {{\n",
       "        var display = window.getComputedStyle(gd).display;\n",
       "        if (!display || display === 'none') {{\n",
       "            console.log([gd, 'removed!']);\n",
       "            Plotly.purge(gd);\n",
       "            observer.disconnect();\n",
       "        }}\n",
       "}});\n",
       "\n",
       "// Listen for the removal of the full notebook cells\n",
       "var notebookContainer = gd.closest('#notebook-container');\n",
       "if (notebookContainer) {{\n",
       "    x.observe(notebookContainer, {childList: true});\n",
       "}}\n",
       "\n",
       "// Listen for the clearing of the current output cell\n",
       "var outputEl = gd.closest('.output');\n",
       "if (outputEl) {{\n",
       "    x.observe(outputEl, {childList: true});\n",
       "}}\n",
       "\n",
       "                        })                };                });            </script>        </div>"
      ]
     },
     "metadata": {},
     "output_type": "display_data"
    }
   ],
   "source": [
    "df[['A','B']].iplot(kind='spread')"
   ]
  },
  {
   "cell_type": "markdown",
   "metadata": {},
   "source": [
    "## histogram"
   ]
  },
  {
   "cell_type": "code",
   "execution_count": 16,
   "metadata": {
    "collapsed": false
   },
   "outputs": [
    {
     "data": {
      "application/vnd.plotly.v1+json": {
       "config": {
        "linkText": "Export to plot.ly",
        "plotlyServerURL": "https://plot.ly",
        "showLink": true
       },
       "data": [
        {
         "histfunc": "count",
         "histnorm": "",
         "marker": {
          "color": "rgba(255, 153, 51, 1.0)",
          "line": {
           "color": "#4D5663",
           "width": 1.3
          }
         },
         "name": "A",
         "nbinsx": 25,
         "opacity": 0.8,
         "orientation": "v",
         "type": "histogram",
         "x": [
          -1.3402016232243987,
          -0.649020214887379,
          -0.1682257323904412,
          2.193351046396256,
          -0.03573185326863341,
          -1.0307989329934075,
          -0.31001491329916697,
          0.22297126297492637,
          0.6122609371476259,
          -2.117750882736682,
          0.3272545474121727,
          1.1386299196654515,
          -0.4154436052538386,
          1.0779279014688374,
          -0.33924919653852054,
          -0.05106266578488151,
          -1.2273122208986817,
          0.13163095652086673,
          0.6861422996774701,
          -1.4929644029779623,
          0.7150917642789755,
          1.814864989428972,
          0.9247864218619752,
          0.1584202308262772,
          1.3776632444592147,
          -0.8326001639401515,
          1.181045793801218,
          -0.374786520171287,
          -1.0314030959357248,
          -1.405302986742882,
          1.307505538855658,
          0.28061501742315353,
          -0.27765619411536585,
          1.037160257723475,
          -0.06440534965266251,
          -0.793112145628941,
          -2.123781691651395,
          0.7175911466979235,
          -0.9935809840486913,
          0.102082618948086,
          2.5401308092916937,
          0.6994358348094193,
          0.37786736051270964,
          0.36914437145631324,
          -0.18534855714732013,
          -0.2839090460128509,
          -0.6674685004133002,
          -1.1939521780587363,
          0.22405329359385473,
          0.30397583811713497,
          2.150058233613433,
          -0.6912701612509979,
          0.24011301797624413,
          -0.8920054636597202,
          -1.1362101375723168,
          -0.2445198402137013,
          -1.464257619736692,
          -1.131466171469585,
          0.5006879161128014,
          -0.0060776854956445915,
          -0.24392875687830465,
          0.6797274182867651,
          -0.029234509609762142,
          -1.062499955977877,
          0.6439254781690764,
          0.5783337153396132,
          -0.1944123189471814,
          -0.2167287075789601,
          -0.024164469729240884,
          0.05793902626343979,
          0.8986897207398744,
          1.0031118779125756,
          2.031724621187272,
          -0.10250037152497271,
          -1.1186755466234815,
          -1.1843577588561136,
          -1.5662760148060901,
          -1.219161823281136,
          -1.1593766556630698,
          -0.027439127229870085,
          0.018316738046942258,
          -0.6922784874155976,
          0.07979753670333341,
          0.22962384107885242,
          0.20152715612661043,
          -0.3285086721135077,
          -0.4779892642970852,
          -0.42324897569430525,
          -2.738587292705288,
          -0.35618875561801133,
          1.1560776988758348,
          -0.7923919414392832,
          0.7825784632218197,
          0.08966821419878798,
          -0.6329579247795905,
          -0.375129963188778,
          -0.8639214742522782,
          0.40125309184897434,
          0.5185039514250023,
          0.05590068286289588
         ]
        }
       ],
       "layout": {
        "barmode": "overlay",
        "legend": {
         "bgcolor": "#F5F6F9",
         "font": {
          "color": "#4D5663"
         }
        },
        "paper_bgcolor": "#F5F6F9",
        "plot_bgcolor": "#F5F6F9",
        "template": {
         "data": {
          "bar": [
           {
            "error_x": {
             "color": "#2a3f5f"
            },
            "error_y": {
             "color": "#2a3f5f"
            },
            "marker": {
             "line": {
              "color": "#E5ECF6",
              "width": 0.5
             },
             "pattern": {
              "fillmode": "overlay",
              "size": 10,
              "solidity": 0.2
             }
            },
            "type": "bar"
           }
          ],
          "barpolar": [
           {
            "marker": {
             "line": {
              "color": "#E5ECF6",
              "width": 0.5
             },
             "pattern": {
              "fillmode": "overlay",
              "size": 10,
              "solidity": 0.2
             }
            },
            "type": "barpolar"
           }
          ],
          "carpet": [
           {
            "aaxis": {
             "endlinecolor": "#2a3f5f",
             "gridcolor": "white",
             "linecolor": "white",
             "minorgridcolor": "white",
             "startlinecolor": "#2a3f5f"
            },
            "baxis": {
             "endlinecolor": "#2a3f5f",
             "gridcolor": "white",
             "linecolor": "white",
             "minorgridcolor": "white",
             "startlinecolor": "#2a3f5f"
            },
            "type": "carpet"
           }
          ],
          "choropleth": [
           {
            "colorbar": {
             "outlinewidth": 0,
             "ticks": ""
            },
            "type": "choropleth"
           }
          ],
          "contour": [
           {
            "colorbar": {
             "outlinewidth": 0,
             "ticks": ""
            },
            "colorscale": [
             [
              0,
              "#0d0887"
             ],
             [
              0.1111111111111111,
              "#46039f"
             ],
             [
              0.2222222222222222,
              "#7201a8"
             ],
             [
              0.3333333333333333,
              "#9c179e"
             ],
             [
              0.4444444444444444,
              "#bd3786"
             ],
             [
              0.5555555555555556,
              "#d8576b"
             ],
             [
              0.6666666666666666,
              "#ed7953"
             ],
             [
              0.7777777777777778,
              "#fb9f3a"
             ],
             [
              0.8888888888888888,
              "#fdca26"
             ],
             [
              1,
              "#f0f921"
             ]
            ],
            "type": "contour"
           }
          ],
          "contourcarpet": [
           {
            "colorbar": {
             "outlinewidth": 0,
             "ticks": ""
            },
            "type": "contourcarpet"
           }
          ],
          "heatmap": [
           {
            "colorbar": {
             "outlinewidth": 0,
             "ticks": ""
            },
            "colorscale": [
             [
              0,
              "#0d0887"
             ],
             [
              0.1111111111111111,
              "#46039f"
             ],
             [
              0.2222222222222222,
              "#7201a8"
             ],
             [
              0.3333333333333333,
              "#9c179e"
             ],
             [
              0.4444444444444444,
              "#bd3786"
             ],
             [
              0.5555555555555556,
              "#d8576b"
             ],
             [
              0.6666666666666666,
              "#ed7953"
             ],
             [
              0.7777777777777778,
              "#fb9f3a"
             ],
             [
              0.8888888888888888,
              "#fdca26"
             ],
             [
              1,
              "#f0f921"
             ]
            ],
            "type": "heatmap"
           }
          ],
          "heatmapgl": [
           {
            "colorbar": {
             "outlinewidth": 0,
             "ticks": ""
            },
            "colorscale": [
             [
              0,
              "#0d0887"
             ],
             [
              0.1111111111111111,
              "#46039f"
             ],
             [
              0.2222222222222222,
              "#7201a8"
             ],
             [
              0.3333333333333333,
              "#9c179e"
             ],
             [
              0.4444444444444444,
              "#bd3786"
             ],
             [
              0.5555555555555556,
              "#d8576b"
             ],
             [
              0.6666666666666666,
              "#ed7953"
             ],
             [
              0.7777777777777778,
              "#fb9f3a"
             ],
             [
              0.8888888888888888,
              "#fdca26"
             ],
             [
              1,
              "#f0f921"
             ]
            ],
            "type": "heatmapgl"
           }
          ],
          "histogram": [
           {
            "marker": {
             "pattern": {
              "fillmode": "overlay",
              "size": 10,
              "solidity": 0.2
             }
            },
            "type": "histogram"
           }
          ],
          "histogram2d": [
           {
            "colorbar": {
             "outlinewidth": 0,
             "ticks": ""
            },
            "colorscale": [
             [
              0,
              "#0d0887"
             ],
             [
              0.1111111111111111,
              "#46039f"
             ],
             [
              0.2222222222222222,
              "#7201a8"
             ],
             [
              0.3333333333333333,
              "#9c179e"
             ],
             [
              0.4444444444444444,
              "#bd3786"
             ],
             [
              0.5555555555555556,
              "#d8576b"
             ],
             [
              0.6666666666666666,
              "#ed7953"
             ],
             [
              0.7777777777777778,
              "#fb9f3a"
             ],
             [
              0.8888888888888888,
              "#fdca26"
             ],
             [
              1,
              "#f0f921"
             ]
            ],
            "type": "histogram2d"
           }
          ],
          "histogram2dcontour": [
           {
            "colorbar": {
             "outlinewidth": 0,
             "ticks": ""
            },
            "colorscale": [
             [
              0,
              "#0d0887"
             ],
             [
              0.1111111111111111,
              "#46039f"
             ],
             [
              0.2222222222222222,
              "#7201a8"
             ],
             [
              0.3333333333333333,
              "#9c179e"
             ],
             [
              0.4444444444444444,
              "#bd3786"
             ],
             [
              0.5555555555555556,
              "#d8576b"
             ],
             [
              0.6666666666666666,
              "#ed7953"
             ],
             [
              0.7777777777777778,
              "#fb9f3a"
             ],
             [
              0.8888888888888888,
              "#fdca26"
             ],
             [
              1,
              "#f0f921"
             ]
            ],
            "type": "histogram2dcontour"
           }
          ],
          "mesh3d": [
           {
            "colorbar": {
             "outlinewidth": 0,
             "ticks": ""
            },
            "type": "mesh3d"
           }
          ],
          "parcoords": [
           {
            "line": {
             "colorbar": {
              "outlinewidth": 0,
              "ticks": ""
             }
            },
            "type": "parcoords"
           }
          ],
          "pie": [
           {
            "automargin": true,
            "type": "pie"
           }
          ],
          "scatter": [
           {
            "fillpattern": {
             "fillmode": "overlay",
             "size": 10,
             "solidity": 0.2
            },
            "type": "scatter"
           }
          ],
          "scatter3d": [
           {
            "line": {
             "colorbar": {
              "outlinewidth": 0,
              "ticks": ""
             }
            },
            "marker": {
             "colorbar": {
              "outlinewidth": 0,
              "ticks": ""
             }
            },
            "type": "scatter3d"
           }
          ],
          "scattercarpet": [
           {
            "marker": {
             "colorbar": {
              "outlinewidth": 0,
              "ticks": ""
             }
            },
            "type": "scattercarpet"
           }
          ],
          "scattergeo": [
           {
            "marker": {
             "colorbar": {
              "outlinewidth": 0,
              "ticks": ""
             }
            },
            "type": "scattergeo"
           }
          ],
          "scattergl": [
           {
            "marker": {
             "colorbar": {
              "outlinewidth": 0,
              "ticks": ""
             }
            },
            "type": "scattergl"
           }
          ],
          "scattermapbox": [
           {
            "marker": {
             "colorbar": {
              "outlinewidth": 0,
              "ticks": ""
             }
            },
            "type": "scattermapbox"
           }
          ],
          "scatterpolar": [
           {
            "marker": {
             "colorbar": {
              "outlinewidth": 0,
              "ticks": ""
             }
            },
            "type": "scatterpolar"
           }
          ],
          "scatterpolargl": [
           {
            "marker": {
             "colorbar": {
              "outlinewidth": 0,
              "ticks": ""
             }
            },
            "type": "scatterpolargl"
           }
          ],
          "scatterternary": [
           {
            "marker": {
             "colorbar": {
              "outlinewidth": 0,
              "ticks": ""
             }
            },
            "type": "scatterternary"
           }
          ],
          "surface": [
           {
            "colorbar": {
             "outlinewidth": 0,
             "ticks": ""
            },
            "colorscale": [
             [
              0,
              "#0d0887"
             ],
             [
              0.1111111111111111,
              "#46039f"
             ],
             [
              0.2222222222222222,
              "#7201a8"
             ],
             [
              0.3333333333333333,
              "#9c179e"
             ],
             [
              0.4444444444444444,
              "#bd3786"
             ],
             [
              0.5555555555555556,
              "#d8576b"
             ],
             [
              0.6666666666666666,
              "#ed7953"
             ],
             [
              0.7777777777777778,
              "#fb9f3a"
             ],
             [
              0.8888888888888888,
              "#fdca26"
             ],
             [
              1,
              "#f0f921"
             ]
            ],
            "type": "surface"
           }
          ],
          "table": [
           {
            "cells": {
             "fill": {
              "color": "#EBF0F8"
             },
             "line": {
              "color": "white"
             }
            },
            "header": {
             "fill": {
              "color": "#C8D4E3"
             },
             "line": {
              "color": "white"
             }
            },
            "type": "table"
           }
          ]
         },
         "layout": {
          "annotationdefaults": {
           "arrowcolor": "#2a3f5f",
           "arrowhead": 0,
           "arrowwidth": 1
          },
          "autotypenumbers": "strict",
          "coloraxis": {
           "colorbar": {
            "outlinewidth": 0,
            "ticks": ""
           }
          },
          "colorscale": {
           "diverging": [
            [
             0,
             "#8e0152"
            ],
            [
             0.1,
             "#c51b7d"
            ],
            [
             0.2,
             "#de77ae"
            ],
            [
             0.3,
             "#f1b6da"
            ],
            [
             0.4,
             "#fde0ef"
            ],
            [
             0.5,
             "#f7f7f7"
            ],
            [
             0.6,
             "#e6f5d0"
            ],
            [
             0.7,
             "#b8e186"
            ],
            [
             0.8,
             "#7fbc41"
            ],
            [
             0.9,
             "#4d9221"
            ],
            [
             1,
             "#276419"
            ]
           ],
           "sequential": [
            [
             0,
             "#0d0887"
            ],
            [
             0.1111111111111111,
             "#46039f"
            ],
            [
             0.2222222222222222,
             "#7201a8"
            ],
            [
             0.3333333333333333,
             "#9c179e"
            ],
            [
             0.4444444444444444,
             "#bd3786"
            ],
            [
             0.5555555555555556,
             "#d8576b"
            ],
            [
             0.6666666666666666,
             "#ed7953"
            ],
            [
             0.7777777777777778,
             "#fb9f3a"
            ],
            [
             0.8888888888888888,
             "#fdca26"
            ],
            [
             1,
             "#f0f921"
            ]
           ],
           "sequentialminus": [
            [
             0,
             "#0d0887"
            ],
            [
             0.1111111111111111,
             "#46039f"
            ],
            [
             0.2222222222222222,
             "#7201a8"
            ],
            [
             0.3333333333333333,
             "#9c179e"
            ],
            [
             0.4444444444444444,
             "#bd3786"
            ],
            [
             0.5555555555555556,
             "#d8576b"
            ],
            [
             0.6666666666666666,
             "#ed7953"
            ],
            [
             0.7777777777777778,
             "#fb9f3a"
            ],
            [
             0.8888888888888888,
             "#fdca26"
            ],
            [
             1,
             "#f0f921"
            ]
           ]
          },
          "colorway": [
           "#636efa",
           "#EF553B",
           "#00cc96",
           "#ab63fa",
           "#FFA15A",
           "#19d3f3",
           "#FF6692",
           "#B6E880",
           "#FF97FF",
           "#FECB52"
          ],
          "font": {
           "color": "#2a3f5f"
          },
          "geo": {
           "bgcolor": "white",
           "lakecolor": "white",
           "landcolor": "#E5ECF6",
           "showlakes": true,
           "showland": true,
           "subunitcolor": "white"
          },
          "hoverlabel": {
           "align": "left"
          },
          "hovermode": "closest",
          "mapbox": {
           "style": "light"
          },
          "paper_bgcolor": "white",
          "plot_bgcolor": "#E5ECF6",
          "polar": {
           "angularaxis": {
            "gridcolor": "white",
            "linecolor": "white",
            "ticks": ""
           },
           "bgcolor": "#E5ECF6",
           "radialaxis": {
            "gridcolor": "white",
            "linecolor": "white",
            "ticks": ""
           }
          },
          "scene": {
           "xaxis": {
            "backgroundcolor": "#E5ECF6",
            "gridcolor": "white",
            "gridwidth": 2,
            "linecolor": "white",
            "showbackground": true,
            "ticks": "",
            "zerolinecolor": "white"
           },
           "yaxis": {
            "backgroundcolor": "#E5ECF6",
            "gridcolor": "white",
            "gridwidth": 2,
            "linecolor": "white",
            "showbackground": true,
            "ticks": "",
            "zerolinecolor": "white"
           },
           "zaxis": {
            "backgroundcolor": "#E5ECF6",
            "gridcolor": "white",
            "gridwidth": 2,
            "linecolor": "white",
            "showbackground": true,
            "ticks": "",
            "zerolinecolor": "white"
           }
          },
          "shapedefaults": {
           "line": {
            "color": "#2a3f5f"
           }
          },
          "ternary": {
           "aaxis": {
            "gridcolor": "white",
            "linecolor": "white",
            "ticks": ""
           },
           "baxis": {
            "gridcolor": "white",
            "linecolor": "white",
            "ticks": ""
           },
           "bgcolor": "#E5ECF6",
           "caxis": {
            "gridcolor": "white",
            "linecolor": "white",
            "ticks": ""
           }
          },
          "title": {
           "x": 0.05
          },
          "xaxis": {
           "automargin": true,
           "gridcolor": "white",
           "linecolor": "white",
           "ticks": "",
           "title": {
            "standoff": 15
           },
           "zerolinecolor": "white",
           "zerolinewidth": 2
          },
          "yaxis": {
           "automargin": true,
           "gridcolor": "white",
           "linecolor": "white",
           "ticks": "",
           "title": {
            "standoff": 15
           },
           "zerolinecolor": "white",
           "zerolinewidth": 2
          }
         }
        },
        "title": {
         "font": {
          "color": "#4D5663"
         }
        },
        "xaxis": {
         "gridcolor": "#E1E5ED",
         "showgrid": true,
         "tickfont": {
          "color": "#4D5663"
         },
         "title": {
          "font": {
           "color": "#4D5663"
          },
          "text": ""
         },
         "zerolinecolor": "#E1E5ED"
        },
        "yaxis": {
         "gridcolor": "#E1E5ED",
         "showgrid": true,
         "tickfont": {
          "color": "#4D5663"
         },
         "title": {
          "font": {
           "color": "#4D5663"
          },
          "text": ""
         },
         "zerolinecolor": "#E1E5ED"
        }
       }
      },
      "text/html": [
       "<div>                            <div id=\"5f5acaa3-df18-4ebe-b20b-9b4a51608248\" class=\"plotly-graph-div\" style=\"height:525px; width:100%;\"></div>            <script type=\"text/javascript\">                require([\"plotly\"], function(Plotly) {                    window.PLOTLYENV=window.PLOTLYENV || {};\n",
       "                    window.PLOTLYENV.BASE_URL='https://plot.ly';                                    if (document.getElementById(\"5f5acaa3-df18-4ebe-b20b-9b4a51608248\")) {                    Plotly.newPlot(                        \"5f5acaa3-df18-4ebe-b20b-9b4a51608248\",                        [{\"histfunc\":\"count\",\"histnorm\":\"\",\"marker\":{\"color\":\"rgba(255, 153, 51, 1.0)\",\"line\":{\"color\":\"#4D5663\",\"width\":1.3}},\"name\":\"A\",\"nbinsx\":25,\"opacity\":0.8,\"orientation\":\"v\",\"x\":[-1.3402016232243987,-0.649020214887379,-0.1682257323904412,2.193351046396256,-0.03573185326863341,-1.0307989329934075,-0.31001491329916697,0.22297126297492637,0.6122609371476259,-2.117750882736682,0.3272545474121727,1.1386299196654515,-0.4154436052538386,1.0779279014688374,-0.33924919653852054,-0.05106266578488151,-1.2273122208986817,0.13163095652086673,0.6861422996774701,-1.4929644029779623,0.7150917642789755,1.814864989428972,0.9247864218619752,0.1584202308262772,1.3776632444592147,-0.8326001639401515,1.181045793801218,-0.374786520171287,-1.0314030959357248,-1.405302986742882,1.307505538855658,0.28061501742315353,-0.27765619411536585,1.037160257723475,-0.06440534965266251,-0.793112145628941,-2.123781691651395,0.7175911466979235,-0.9935809840486913,0.102082618948086,2.5401308092916937,0.6994358348094193,0.37786736051270964,0.36914437145631324,-0.18534855714732013,-0.2839090460128509,-0.6674685004133002,-1.1939521780587363,0.22405329359385473,0.30397583811713497,2.150058233613433,-0.6912701612509979,0.24011301797624413,-0.8920054636597202,-1.1362101375723168,-0.2445198402137013,-1.464257619736692,-1.131466171469585,0.5006879161128014,-0.0060776854956445915,-0.24392875687830465,0.6797274182867651,-0.029234509609762142,-1.062499955977877,0.6439254781690764,0.5783337153396132,-0.1944123189471814,-0.2167287075789601,-0.024164469729240884,0.05793902626343979,0.8986897207398744,1.0031118779125756,2.031724621187272,-0.10250037152497271,-1.1186755466234815,-1.1843577588561136,-1.5662760148060901,-1.219161823281136,-1.1593766556630698,-0.027439127229870085,0.018316738046942258,-0.6922784874155976,0.07979753670333341,0.22962384107885242,0.20152715612661043,-0.3285086721135077,-0.4779892642970852,-0.42324897569430525,-2.738587292705288,-0.35618875561801133,1.1560776988758348,-0.7923919414392832,0.7825784632218197,0.08966821419878798,-0.6329579247795905,-0.375129963188778,-0.8639214742522782,0.40125309184897434,0.5185039514250023,0.05590068286289588],\"type\":\"histogram\"}],                        {\"barmode\":\"overlay\",\"legend\":{\"bgcolor\":\"#F5F6F9\",\"font\":{\"color\":\"#4D5663\"}},\"paper_bgcolor\":\"#F5F6F9\",\"plot_bgcolor\":\"#F5F6F9\",\"template\":{\"data\":{\"barpolar\":[{\"marker\":{\"line\":{\"color\":\"#E5ECF6\",\"width\":0.5},\"pattern\":{\"fillmode\":\"overlay\",\"size\":10,\"solidity\":0.2}},\"type\":\"barpolar\"}],\"bar\":[{\"error_x\":{\"color\":\"#2a3f5f\"},\"error_y\":{\"color\":\"#2a3f5f\"},\"marker\":{\"line\":{\"color\":\"#E5ECF6\",\"width\":0.5},\"pattern\":{\"fillmode\":\"overlay\",\"size\":10,\"solidity\":0.2}},\"type\":\"bar\"}],\"carpet\":[{\"aaxis\":{\"endlinecolor\":\"#2a3f5f\",\"gridcolor\":\"white\",\"linecolor\":\"white\",\"minorgridcolor\":\"white\",\"startlinecolor\":\"#2a3f5f\"},\"baxis\":{\"endlinecolor\":\"#2a3f5f\",\"gridcolor\":\"white\",\"linecolor\":\"white\",\"minorgridcolor\":\"white\",\"startlinecolor\":\"#2a3f5f\"},\"type\":\"carpet\"}],\"choropleth\":[{\"colorbar\":{\"outlinewidth\":0,\"ticks\":\"\"},\"type\":\"choropleth\"}],\"contourcarpet\":[{\"colorbar\":{\"outlinewidth\":0,\"ticks\":\"\"},\"type\":\"contourcarpet\"}],\"contour\":[{\"colorbar\":{\"outlinewidth\":0,\"ticks\":\"\"},\"colorscale\":[[0.0,\"#0d0887\"],[0.1111111111111111,\"#46039f\"],[0.2222222222222222,\"#7201a8\"],[0.3333333333333333,\"#9c179e\"],[0.4444444444444444,\"#bd3786\"],[0.5555555555555556,\"#d8576b\"],[0.6666666666666666,\"#ed7953\"],[0.7777777777777778,\"#fb9f3a\"],[0.8888888888888888,\"#fdca26\"],[1.0,\"#f0f921\"]],\"type\":\"contour\"}],\"heatmapgl\":[{\"colorbar\":{\"outlinewidth\":0,\"ticks\":\"\"},\"colorscale\":[[0.0,\"#0d0887\"],[0.1111111111111111,\"#46039f\"],[0.2222222222222222,\"#7201a8\"],[0.3333333333333333,\"#9c179e\"],[0.4444444444444444,\"#bd3786\"],[0.5555555555555556,\"#d8576b\"],[0.6666666666666666,\"#ed7953\"],[0.7777777777777778,\"#fb9f3a\"],[0.8888888888888888,\"#fdca26\"],[1.0,\"#f0f921\"]],\"type\":\"heatmapgl\"}],\"heatmap\":[{\"colorbar\":{\"outlinewidth\":0,\"ticks\":\"\"},\"colorscale\":[[0.0,\"#0d0887\"],[0.1111111111111111,\"#46039f\"],[0.2222222222222222,\"#7201a8\"],[0.3333333333333333,\"#9c179e\"],[0.4444444444444444,\"#bd3786\"],[0.5555555555555556,\"#d8576b\"],[0.6666666666666666,\"#ed7953\"],[0.7777777777777778,\"#fb9f3a\"],[0.8888888888888888,\"#fdca26\"],[1.0,\"#f0f921\"]],\"type\":\"heatmap\"}],\"histogram2dcontour\":[{\"colorbar\":{\"outlinewidth\":0,\"ticks\":\"\"},\"colorscale\":[[0.0,\"#0d0887\"],[0.1111111111111111,\"#46039f\"],[0.2222222222222222,\"#7201a8\"],[0.3333333333333333,\"#9c179e\"],[0.4444444444444444,\"#bd3786\"],[0.5555555555555556,\"#d8576b\"],[0.6666666666666666,\"#ed7953\"],[0.7777777777777778,\"#fb9f3a\"],[0.8888888888888888,\"#fdca26\"],[1.0,\"#f0f921\"]],\"type\":\"histogram2dcontour\"}],\"histogram2d\":[{\"colorbar\":{\"outlinewidth\":0,\"ticks\":\"\"},\"colorscale\":[[0.0,\"#0d0887\"],[0.1111111111111111,\"#46039f\"],[0.2222222222222222,\"#7201a8\"],[0.3333333333333333,\"#9c179e\"],[0.4444444444444444,\"#bd3786\"],[0.5555555555555556,\"#d8576b\"],[0.6666666666666666,\"#ed7953\"],[0.7777777777777778,\"#fb9f3a\"],[0.8888888888888888,\"#fdca26\"],[1.0,\"#f0f921\"]],\"type\":\"histogram2d\"}],\"histogram\":[{\"marker\":{\"pattern\":{\"fillmode\":\"overlay\",\"size\":10,\"solidity\":0.2}},\"type\":\"histogram\"}],\"mesh3d\":[{\"colorbar\":{\"outlinewidth\":0,\"ticks\":\"\"},\"type\":\"mesh3d\"}],\"parcoords\":[{\"line\":{\"colorbar\":{\"outlinewidth\":0,\"ticks\":\"\"}},\"type\":\"parcoords\"}],\"pie\":[{\"automargin\":true,\"type\":\"pie\"}],\"scatter3d\":[{\"line\":{\"colorbar\":{\"outlinewidth\":0,\"ticks\":\"\"}},\"marker\":{\"colorbar\":{\"outlinewidth\":0,\"ticks\":\"\"}},\"type\":\"scatter3d\"}],\"scattercarpet\":[{\"marker\":{\"colorbar\":{\"outlinewidth\":0,\"ticks\":\"\"}},\"type\":\"scattercarpet\"}],\"scattergeo\":[{\"marker\":{\"colorbar\":{\"outlinewidth\":0,\"ticks\":\"\"}},\"type\":\"scattergeo\"}],\"scattergl\":[{\"marker\":{\"colorbar\":{\"outlinewidth\":0,\"ticks\":\"\"}},\"type\":\"scattergl\"}],\"scattermapbox\":[{\"marker\":{\"colorbar\":{\"outlinewidth\":0,\"ticks\":\"\"}},\"type\":\"scattermapbox\"}],\"scatterpolargl\":[{\"marker\":{\"colorbar\":{\"outlinewidth\":0,\"ticks\":\"\"}},\"type\":\"scatterpolargl\"}],\"scatterpolar\":[{\"marker\":{\"colorbar\":{\"outlinewidth\":0,\"ticks\":\"\"}},\"type\":\"scatterpolar\"}],\"scatter\":[{\"fillpattern\":{\"fillmode\":\"overlay\",\"size\":10,\"solidity\":0.2},\"type\":\"scatter\"}],\"scatterternary\":[{\"marker\":{\"colorbar\":{\"outlinewidth\":0,\"ticks\":\"\"}},\"type\":\"scatterternary\"}],\"surface\":[{\"colorbar\":{\"outlinewidth\":0,\"ticks\":\"\"},\"colorscale\":[[0.0,\"#0d0887\"],[0.1111111111111111,\"#46039f\"],[0.2222222222222222,\"#7201a8\"],[0.3333333333333333,\"#9c179e\"],[0.4444444444444444,\"#bd3786\"],[0.5555555555555556,\"#d8576b\"],[0.6666666666666666,\"#ed7953\"],[0.7777777777777778,\"#fb9f3a\"],[0.8888888888888888,\"#fdca26\"],[1.0,\"#f0f921\"]],\"type\":\"surface\"}],\"table\":[{\"cells\":{\"fill\":{\"color\":\"#EBF0F8\"},\"line\":{\"color\":\"white\"}},\"header\":{\"fill\":{\"color\":\"#C8D4E3\"},\"line\":{\"color\":\"white\"}},\"type\":\"table\"}]},\"layout\":{\"annotationdefaults\":{\"arrowcolor\":\"#2a3f5f\",\"arrowhead\":0,\"arrowwidth\":1},\"autotypenumbers\":\"strict\",\"coloraxis\":{\"colorbar\":{\"outlinewidth\":0,\"ticks\":\"\"}},\"colorscale\":{\"diverging\":[[0,\"#8e0152\"],[0.1,\"#c51b7d\"],[0.2,\"#de77ae\"],[0.3,\"#f1b6da\"],[0.4,\"#fde0ef\"],[0.5,\"#f7f7f7\"],[0.6,\"#e6f5d0\"],[0.7,\"#b8e186\"],[0.8,\"#7fbc41\"],[0.9,\"#4d9221\"],[1,\"#276419\"]],\"sequential\":[[0.0,\"#0d0887\"],[0.1111111111111111,\"#46039f\"],[0.2222222222222222,\"#7201a8\"],[0.3333333333333333,\"#9c179e\"],[0.4444444444444444,\"#bd3786\"],[0.5555555555555556,\"#d8576b\"],[0.6666666666666666,\"#ed7953\"],[0.7777777777777778,\"#fb9f3a\"],[0.8888888888888888,\"#fdca26\"],[1.0,\"#f0f921\"]],\"sequentialminus\":[[0.0,\"#0d0887\"],[0.1111111111111111,\"#46039f\"],[0.2222222222222222,\"#7201a8\"],[0.3333333333333333,\"#9c179e\"],[0.4444444444444444,\"#bd3786\"],[0.5555555555555556,\"#d8576b\"],[0.6666666666666666,\"#ed7953\"],[0.7777777777777778,\"#fb9f3a\"],[0.8888888888888888,\"#fdca26\"],[1.0,\"#f0f921\"]]},\"colorway\":[\"#636efa\",\"#EF553B\",\"#00cc96\",\"#ab63fa\",\"#FFA15A\",\"#19d3f3\",\"#FF6692\",\"#B6E880\",\"#FF97FF\",\"#FECB52\"],\"font\":{\"color\":\"#2a3f5f\"},\"geo\":{\"bgcolor\":\"white\",\"lakecolor\":\"white\",\"landcolor\":\"#E5ECF6\",\"showlakes\":true,\"showland\":true,\"subunitcolor\":\"white\"},\"hoverlabel\":{\"align\":\"left\"},\"hovermode\":\"closest\",\"mapbox\":{\"style\":\"light\"},\"paper_bgcolor\":\"white\",\"plot_bgcolor\":\"#E5ECF6\",\"polar\":{\"angularaxis\":{\"gridcolor\":\"white\",\"linecolor\":\"white\",\"ticks\":\"\"},\"bgcolor\":\"#E5ECF6\",\"radialaxis\":{\"gridcolor\":\"white\",\"linecolor\":\"white\",\"ticks\":\"\"}},\"scene\":{\"xaxis\":{\"backgroundcolor\":\"#E5ECF6\",\"gridcolor\":\"white\",\"gridwidth\":2,\"linecolor\":\"white\",\"showbackground\":true,\"ticks\":\"\",\"zerolinecolor\":\"white\"},\"yaxis\":{\"backgroundcolor\":\"#E5ECF6\",\"gridcolor\":\"white\",\"gridwidth\":2,\"linecolor\":\"white\",\"showbackground\":true,\"ticks\":\"\",\"zerolinecolor\":\"white\"},\"zaxis\":{\"backgroundcolor\":\"#E5ECF6\",\"gridcolor\":\"white\",\"gridwidth\":2,\"linecolor\":\"white\",\"showbackground\":true,\"ticks\":\"\",\"zerolinecolor\":\"white\"}},\"shapedefaults\":{\"line\":{\"color\":\"#2a3f5f\"}},\"ternary\":{\"aaxis\":{\"gridcolor\":\"white\",\"linecolor\":\"white\",\"ticks\":\"\"},\"baxis\":{\"gridcolor\":\"white\",\"linecolor\":\"white\",\"ticks\":\"\"},\"bgcolor\":\"#E5ECF6\",\"caxis\":{\"gridcolor\":\"white\",\"linecolor\":\"white\",\"ticks\":\"\"}},\"title\":{\"x\":0.05},\"xaxis\":{\"automargin\":true,\"gridcolor\":\"white\",\"linecolor\":\"white\",\"ticks\":\"\",\"title\":{\"standoff\":15},\"zerolinecolor\":\"white\",\"zerolinewidth\":2},\"yaxis\":{\"automargin\":true,\"gridcolor\":\"white\",\"linecolor\":\"white\",\"ticks\":\"\",\"title\":{\"standoff\":15},\"zerolinecolor\":\"white\",\"zerolinewidth\":2}}},\"title\":{\"font\":{\"color\":\"#4D5663\"}},\"xaxis\":{\"gridcolor\":\"#E1E5ED\",\"showgrid\":true,\"tickfont\":{\"color\":\"#4D5663\"},\"title\":{\"font\":{\"color\":\"#4D5663\"},\"text\":\"\"},\"zerolinecolor\":\"#E1E5ED\"},\"yaxis\":{\"gridcolor\":\"#E1E5ED\",\"showgrid\":true,\"tickfont\":{\"color\":\"#4D5663\"},\"title\":{\"font\":{\"color\":\"#4D5663\"},\"text\":\"\"},\"zerolinecolor\":\"#E1E5ED\"}},                        {\"showLink\": true, \"linkText\": \"Export to plot.ly\", \"plotlyServerURL\": \"https://plot.ly\", \"responsive\": true}                    ).then(function(){\n",
       "                            \n",
       "var gd = document.getElementById('5f5acaa3-df18-4ebe-b20b-9b4a51608248');\n",
       "var x = new MutationObserver(function (mutations, observer) {{\n",
       "        var display = window.getComputedStyle(gd).display;\n",
       "        if (!display || display === 'none') {{\n",
       "            console.log([gd, 'removed!']);\n",
       "            Plotly.purge(gd);\n",
       "            observer.disconnect();\n",
       "        }}\n",
       "}});\n",
       "\n",
       "// Listen for the removal of the full notebook cells\n",
       "var notebookContainer = gd.closest('#notebook-container');\n",
       "if (notebookContainer) {{\n",
       "    x.observe(notebookContainer, {childList: true});\n",
       "}}\n",
       "\n",
       "// Listen for the clearing of the current output cell\n",
       "var outputEl = gd.closest('.output');\n",
       "if (outputEl) {{\n",
       "    x.observe(outputEl, {childList: true});\n",
       "}}\n",
       "\n",
       "                        })                };                });            </script>        </div>"
      ]
     },
     "metadata": {},
     "output_type": "display_data"
    }
   ],
   "source": [
    "df['A'].iplot(kind='hist',bins=25)"
   ]
  },
  {
   "cell_type": "code",
   "execution_count": 17,
   "metadata": {
    "collapsed": false
   },
   "outputs": [
    {
     "data": {
      "application/vnd.plotly.v1+json": {
       "config": {
        "linkText": "Export to plot.ly",
        "plotlyServerURL": "https://plot.ly",
        "showLink": true
       },
       "data": [
        {
         "marker": {
          "color": [
           "rgb(255, 153, 51)",
           "rgb(55, 128, 191)",
           "rgb(50, 171, 96)",
           "rgb(128, 0, 128)",
           "rgb(219, 64, 82)",
           "rgb(0, 128, 128)",
           "rgb(255, 255, 51)",
           "rgb(128, 128, 0)",
           "rgb(251, 128, 114)",
           "rgb(128, 177, 211)"
          ],
          "line": {
           "width": 1.3
          },
          "size": [
           54,
           43,
           77,
           33,
           34,
           74,
           89,
           44,
           58,
           99,
           95,
           41,
           22,
           38,
           92,
           17,
           67,
           51,
           62,
           39,
           43,
           74,
           34,
           94,
           28,
           86,
           48,
           50,
           73,
           108,
           80,
           45,
           36,
           59,
           89,
           65,
           30,
           19,
           35,
           39,
           47,
           43,
           112,
           74,
           41,
           57,
           73,
           94,
           74,
           75,
           99,
           58,
           69,
           39,
           93,
           44,
           44,
           40,
           66,
           63,
           42,
           84,
           59,
           52,
           27,
           30,
           57,
           37,
           29,
           91,
           59,
           56,
           60,
           46,
           69,
           28,
           90,
           75,
           75,
           71,
           40,
           43,
           12,
           68,
           45,
           66,
           20,
           61,
           89,
           72,
           28,
           58,
           65,
           78,
           43,
           56,
           84,
           63,
           45,
           20
          ],
          "symbol": "circle"
         },
         "mode": "markers",
         "text": "",
         "type": "scatter",
         "x": [
          -1.3402016232243987,
          -0.649020214887379,
          -0.1682257323904412,
          2.193351046396256,
          -0.03573185326863341,
          -1.0307989329934075,
          -0.31001491329916697,
          0.22297126297492637,
          0.6122609371476259,
          -2.117750882736682,
          0.3272545474121727,
          1.1386299196654515,
          -0.4154436052538386,
          1.0779279014688374,
          -0.33924919653852054,
          -0.05106266578488151,
          -1.2273122208986817,
          0.13163095652086673,
          0.6861422996774701,
          -1.4929644029779623,
          0.7150917642789755,
          1.814864989428972,
          0.9247864218619752,
          0.1584202308262772,
          1.3776632444592147,
          -0.8326001639401515,
          1.181045793801218,
          -0.374786520171287,
          -1.0314030959357248,
          -1.405302986742882,
          1.307505538855658,
          0.28061501742315353,
          -0.27765619411536585,
          1.037160257723475,
          -0.06440534965266251,
          -0.793112145628941,
          -2.123781691651395,
          0.7175911466979235,
          -0.9935809840486913,
          0.102082618948086,
          2.5401308092916937,
          0.6994358348094193,
          0.37786736051270964,
          0.36914437145631324,
          -0.18534855714732013,
          -0.2839090460128509,
          -0.6674685004133002,
          -1.1939521780587363,
          0.22405329359385473,
          0.30397583811713497,
          2.150058233613433,
          -0.6912701612509979,
          0.24011301797624413,
          -0.8920054636597202,
          -1.1362101375723168,
          -0.2445198402137013,
          -1.464257619736692,
          -1.131466171469585,
          0.5006879161128014,
          -0.0060776854956445915,
          -0.24392875687830465,
          0.6797274182867651,
          -0.029234509609762142,
          -1.062499955977877,
          0.6439254781690764,
          0.5783337153396132,
          -0.1944123189471814,
          -0.2167287075789601,
          -0.024164469729240884,
          0.05793902626343979,
          0.8986897207398744,
          1.0031118779125756,
          2.031724621187272,
          -0.10250037152497271,
          -1.1186755466234815,
          -1.1843577588561136,
          -1.5662760148060901,
          -1.219161823281136,
          -1.1593766556630698,
          -0.027439127229870085,
          0.018316738046942258,
          -0.6922784874155976,
          0.07979753670333341,
          0.22962384107885242,
          0.20152715612661043,
          -0.3285086721135077,
          -0.4779892642970852,
          -0.42324897569430525,
          -2.738587292705288,
          -0.35618875561801133,
          1.1560776988758348,
          -0.7923919414392832,
          0.7825784632218197,
          0.08966821419878798,
          -0.6329579247795905,
          -0.375129963188778,
          -0.8639214742522782,
          0.40125309184897434,
          0.5185039514250023,
          0.05590068286289588
         ],
         "y": [
          -0.9690244560766667,
          -0.24091027670686352,
          0.06172657545459743,
          -1.3358418161138446,
          0.4096119688660683,
          0.21648207305952347,
          1.5494564109673212,
          -0.5272035737836958,
          0.9936728832488787,
          1.6998421007416729,
          -0.5350070839408002,
          1.142373991163409,
          0.28043404231004704,
          -0.12769281150264328,
          -1.6037993962606607,
          0.5265483510398294,
          0.6901568262269182,
          0.15982885802970115,
          0.39314699605901254,
          0.11442065176845712,
          1.1243539020059987,
          1.1152052967861483,
          0.2780180827228744,
          1.4584229801030515,
          1.4978308842176264,
          -0.5437462494865144,
          0.18413726991006588,
          0.6269539326224163,
          -2.5047420918321257,
          -0.6212320955813105,
          0.08172489190197559,
          -0.6399969402483794,
          -0.15252884600524794,
          0.7774564761486727,
          0.37641731136611345,
          -0.6411375959139302,
          1.4093851243875426,
          -0.7630593139882308,
          0.10385408112188718,
          0.9157584272126849,
          0.06737938308580205,
          0.4412611451538305,
          -0.42090358284399665,
          0.4232808577387168,
          0.2761393043199375,
          1.138092905016683,
          1.8973244739280186,
          0.19108988361415394,
          0.13251187903126746,
          1.5160740123760557,
          -0.47908398458207774,
          0.2849672103236269,
          -0.3767923189387514,
          2.2667184992162563,
          1.975737356877006,
          -0.3133790957536171,
          0.42849388398643246,
          -1.1098435632620174,
          0.7432415272682933,
          0.8773264563497847,
          -1.5027064039710905,
          -0.5467087382492198,
          -0.22462087224068003,
          0.9213508618810443,
          1.382123867957571,
          -0.7145203155188684,
          -0.7637499403917496,
          0.37410803547132204,
          0.372442129996429,
          -0.599660356333412,
          -0.02335861163390679,
          0.4139060275767294,
          0.19756760881077232,
          0.4696597038850513,
          0.3168977038265884,
          0.28168663667665017,
          -1.116787362925828,
          0.1991967912578874,
          0.6389382678317415,
          0.13410834811540082,
          0.0031633990525533,
          -0.6308432596799884,
          1.5266337378580441,
          -0.2036437953940007,
          -2.105541619115384,
          0.5987154691588157,
          0.8289444115085323,
          -1.3488492705330655,
          -0.28987568392444796,
          -1.3420110021319405,
          0.2729186132865296,
          0.6159737529548067,
          0.7078416094987383,
          -0.5693004239201993,
          0.1797509878233235,
          -0.2736610552159289,
          1.2706296230538061,
          0.041079620995538205,
          1.5558794301479135,
          1.23589773548267
         ]
        }
       ],
       "layout": {
        "legend": {
         "bgcolor": "#F5F6F9",
         "font": {
          "color": "#4D5663"
         }
        },
        "paper_bgcolor": "#F5F6F9",
        "plot_bgcolor": "#F5F6F9",
        "template": {
         "data": {
          "bar": [
           {
            "error_x": {
             "color": "#2a3f5f"
            },
            "error_y": {
             "color": "#2a3f5f"
            },
            "marker": {
             "line": {
              "color": "#E5ECF6",
              "width": 0.5
             },
             "pattern": {
              "fillmode": "overlay",
              "size": 10,
              "solidity": 0.2
             }
            },
            "type": "bar"
           }
          ],
          "barpolar": [
           {
            "marker": {
             "line": {
              "color": "#E5ECF6",
              "width": 0.5
             },
             "pattern": {
              "fillmode": "overlay",
              "size": 10,
              "solidity": 0.2
             }
            },
            "type": "barpolar"
           }
          ],
          "carpet": [
           {
            "aaxis": {
             "endlinecolor": "#2a3f5f",
             "gridcolor": "white",
             "linecolor": "white",
             "minorgridcolor": "white",
             "startlinecolor": "#2a3f5f"
            },
            "baxis": {
             "endlinecolor": "#2a3f5f",
             "gridcolor": "white",
             "linecolor": "white",
             "minorgridcolor": "white",
             "startlinecolor": "#2a3f5f"
            },
            "type": "carpet"
           }
          ],
          "choropleth": [
           {
            "colorbar": {
             "outlinewidth": 0,
             "ticks": ""
            },
            "type": "choropleth"
           }
          ],
          "contour": [
           {
            "colorbar": {
             "outlinewidth": 0,
             "ticks": ""
            },
            "colorscale": [
             [
              0,
              "#0d0887"
             ],
             [
              0.1111111111111111,
              "#46039f"
             ],
             [
              0.2222222222222222,
              "#7201a8"
             ],
             [
              0.3333333333333333,
              "#9c179e"
             ],
             [
              0.4444444444444444,
              "#bd3786"
             ],
             [
              0.5555555555555556,
              "#d8576b"
             ],
             [
              0.6666666666666666,
              "#ed7953"
             ],
             [
              0.7777777777777778,
              "#fb9f3a"
             ],
             [
              0.8888888888888888,
              "#fdca26"
             ],
             [
              1,
              "#f0f921"
             ]
            ],
            "type": "contour"
           }
          ],
          "contourcarpet": [
           {
            "colorbar": {
             "outlinewidth": 0,
             "ticks": ""
            },
            "type": "contourcarpet"
           }
          ],
          "heatmap": [
           {
            "colorbar": {
             "outlinewidth": 0,
             "ticks": ""
            },
            "colorscale": [
             [
              0,
              "#0d0887"
             ],
             [
              0.1111111111111111,
              "#46039f"
             ],
             [
              0.2222222222222222,
              "#7201a8"
             ],
             [
              0.3333333333333333,
              "#9c179e"
             ],
             [
              0.4444444444444444,
              "#bd3786"
             ],
             [
              0.5555555555555556,
              "#d8576b"
             ],
             [
              0.6666666666666666,
              "#ed7953"
             ],
             [
              0.7777777777777778,
              "#fb9f3a"
             ],
             [
              0.8888888888888888,
              "#fdca26"
             ],
             [
              1,
              "#f0f921"
             ]
            ],
            "type": "heatmap"
           }
          ],
          "heatmapgl": [
           {
            "colorbar": {
             "outlinewidth": 0,
             "ticks": ""
            },
            "colorscale": [
             [
              0,
              "#0d0887"
             ],
             [
              0.1111111111111111,
              "#46039f"
             ],
             [
              0.2222222222222222,
              "#7201a8"
             ],
             [
              0.3333333333333333,
              "#9c179e"
             ],
             [
              0.4444444444444444,
              "#bd3786"
             ],
             [
              0.5555555555555556,
              "#d8576b"
             ],
             [
              0.6666666666666666,
              "#ed7953"
             ],
             [
              0.7777777777777778,
              "#fb9f3a"
             ],
             [
              0.8888888888888888,
              "#fdca26"
             ],
             [
              1,
              "#f0f921"
             ]
            ],
            "type": "heatmapgl"
           }
          ],
          "histogram": [
           {
            "marker": {
             "pattern": {
              "fillmode": "overlay",
              "size": 10,
              "solidity": 0.2
             }
            },
            "type": "histogram"
           }
          ],
          "histogram2d": [
           {
            "colorbar": {
             "outlinewidth": 0,
             "ticks": ""
            },
            "colorscale": [
             [
              0,
              "#0d0887"
             ],
             [
              0.1111111111111111,
              "#46039f"
             ],
             [
              0.2222222222222222,
              "#7201a8"
             ],
             [
              0.3333333333333333,
              "#9c179e"
             ],
             [
              0.4444444444444444,
              "#bd3786"
             ],
             [
              0.5555555555555556,
              "#d8576b"
             ],
             [
              0.6666666666666666,
              "#ed7953"
             ],
             [
              0.7777777777777778,
              "#fb9f3a"
             ],
             [
              0.8888888888888888,
              "#fdca26"
             ],
             [
              1,
              "#f0f921"
             ]
            ],
            "type": "histogram2d"
           }
          ],
          "histogram2dcontour": [
           {
            "colorbar": {
             "outlinewidth": 0,
             "ticks": ""
            },
            "colorscale": [
             [
              0,
              "#0d0887"
             ],
             [
              0.1111111111111111,
              "#46039f"
             ],
             [
              0.2222222222222222,
              "#7201a8"
             ],
             [
              0.3333333333333333,
              "#9c179e"
             ],
             [
              0.4444444444444444,
              "#bd3786"
             ],
             [
              0.5555555555555556,
              "#d8576b"
             ],
             [
              0.6666666666666666,
              "#ed7953"
             ],
             [
              0.7777777777777778,
              "#fb9f3a"
             ],
             [
              0.8888888888888888,
              "#fdca26"
             ],
             [
              1,
              "#f0f921"
             ]
            ],
            "type": "histogram2dcontour"
           }
          ],
          "mesh3d": [
           {
            "colorbar": {
             "outlinewidth": 0,
             "ticks": ""
            },
            "type": "mesh3d"
           }
          ],
          "parcoords": [
           {
            "line": {
             "colorbar": {
              "outlinewidth": 0,
              "ticks": ""
             }
            },
            "type": "parcoords"
           }
          ],
          "pie": [
           {
            "automargin": true,
            "type": "pie"
           }
          ],
          "scatter": [
           {
            "fillpattern": {
             "fillmode": "overlay",
             "size": 10,
             "solidity": 0.2
            },
            "type": "scatter"
           }
          ],
          "scatter3d": [
           {
            "line": {
             "colorbar": {
              "outlinewidth": 0,
              "ticks": ""
             }
            },
            "marker": {
             "colorbar": {
              "outlinewidth": 0,
              "ticks": ""
             }
            },
            "type": "scatter3d"
           }
          ],
          "scattercarpet": [
           {
            "marker": {
             "colorbar": {
              "outlinewidth": 0,
              "ticks": ""
             }
            },
            "type": "scattercarpet"
           }
          ],
          "scattergeo": [
           {
            "marker": {
             "colorbar": {
              "outlinewidth": 0,
              "ticks": ""
             }
            },
            "type": "scattergeo"
           }
          ],
          "scattergl": [
           {
            "marker": {
             "colorbar": {
              "outlinewidth": 0,
              "ticks": ""
             }
            },
            "type": "scattergl"
           }
          ],
          "scattermapbox": [
           {
            "marker": {
             "colorbar": {
              "outlinewidth": 0,
              "ticks": ""
             }
            },
            "type": "scattermapbox"
           }
          ],
          "scatterpolar": [
           {
            "marker": {
             "colorbar": {
              "outlinewidth": 0,
              "ticks": ""
             }
            },
            "type": "scatterpolar"
           }
          ],
          "scatterpolargl": [
           {
            "marker": {
             "colorbar": {
              "outlinewidth": 0,
              "ticks": ""
             }
            },
            "type": "scatterpolargl"
           }
          ],
          "scatterternary": [
           {
            "marker": {
             "colorbar": {
              "outlinewidth": 0,
              "ticks": ""
             }
            },
            "type": "scatterternary"
           }
          ],
          "surface": [
           {
            "colorbar": {
             "outlinewidth": 0,
             "ticks": ""
            },
            "colorscale": [
             [
              0,
              "#0d0887"
             ],
             [
              0.1111111111111111,
              "#46039f"
             ],
             [
              0.2222222222222222,
              "#7201a8"
             ],
             [
              0.3333333333333333,
              "#9c179e"
             ],
             [
              0.4444444444444444,
              "#bd3786"
             ],
             [
              0.5555555555555556,
              "#d8576b"
             ],
             [
              0.6666666666666666,
              "#ed7953"
             ],
             [
              0.7777777777777778,
              "#fb9f3a"
             ],
             [
              0.8888888888888888,
              "#fdca26"
             ],
             [
              1,
              "#f0f921"
             ]
            ],
            "type": "surface"
           }
          ],
          "table": [
           {
            "cells": {
             "fill": {
              "color": "#EBF0F8"
             },
             "line": {
              "color": "white"
             }
            },
            "header": {
             "fill": {
              "color": "#C8D4E3"
             },
             "line": {
              "color": "white"
             }
            },
            "type": "table"
           }
          ]
         },
         "layout": {
          "annotationdefaults": {
           "arrowcolor": "#2a3f5f",
           "arrowhead": 0,
           "arrowwidth": 1
          },
          "autotypenumbers": "strict",
          "coloraxis": {
           "colorbar": {
            "outlinewidth": 0,
            "ticks": ""
           }
          },
          "colorscale": {
           "diverging": [
            [
             0,
             "#8e0152"
            ],
            [
             0.1,
             "#c51b7d"
            ],
            [
             0.2,
             "#de77ae"
            ],
            [
             0.3,
             "#f1b6da"
            ],
            [
             0.4,
             "#fde0ef"
            ],
            [
             0.5,
             "#f7f7f7"
            ],
            [
             0.6,
             "#e6f5d0"
            ],
            [
             0.7,
             "#b8e186"
            ],
            [
             0.8,
             "#7fbc41"
            ],
            [
             0.9,
             "#4d9221"
            ],
            [
             1,
             "#276419"
            ]
           ],
           "sequential": [
            [
             0,
             "#0d0887"
            ],
            [
             0.1111111111111111,
             "#46039f"
            ],
            [
             0.2222222222222222,
             "#7201a8"
            ],
            [
             0.3333333333333333,
             "#9c179e"
            ],
            [
             0.4444444444444444,
             "#bd3786"
            ],
            [
             0.5555555555555556,
             "#d8576b"
            ],
            [
             0.6666666666666666,
             "#ed7953"
            ],
            [
             0.7777777777777778,
             "#fb9f3a"
            ],
            [
             0.8888888888888888,
             "#fdca26"
            ],
            [
             1,
             "#f0f921"
            ]
           ],
           "sequentialminus": [
            [
             0,
             "#0d0887"
            ],
            [
             0.1111111111111111,
             "#46039f"
            ],
            [
             0.2222222222222222,
             "#7201a8"
            ],
            [
             0.3333333333333333,
             "#9c179e"
            ],
            [
             0.4444444444444444,
             "#bd3786"
            ],
            [
             0.5555555555555556,
             "#d8576b"
            ],
            [
             0.6666666666666666,
             "#ed7953"
            ],
            [
             0.7777777777777778,
             "#fb9f3a"
            ],
            [
             0.8888888888888888,
             "#fdca26"
            ],
            [
             1,
             "#f0f921"
            ]
           ]
          },
          "colorway": [
           "#636efa",
           "#EF553B",
           "#00cc96",
           "#ab63fa",
           "#FFA15A",
           "#19d3f3",
           "#FF6692",
           "#B6E880",
           "#FF97FF",
           "#FECB52"
          ],
          "font": {
           "color": "#2a3f5f"
          },
          "geo": {
           "bgcolor": "white",
           "lakecolor": "white",
           "landcolor": "#E5ECF6",
           "showlakes": true,
           "showland": true,
           "subunitcolor": "white"
          },
          "hoverlabel": {
           "align": "left"
          },
          "hovermode": "closest",
          "mapbox": {
           "style": "light"
          },
          "paper_bgcolor": "white",
          "plot_bgcolor": "#E5ECF6",
          "polar": {
           "angularaxis": {
            "gridcolor": "white",
            "linecolor": "white",
            "ticks": ""
           },
           "bgcolor": "#E5ECF6",
           "radialaxis": {
            "gridcolor": "white",
            "linecolor": "white",
            "ticks": ""
           }
          },
          "scene": {
           "xaxis": {
            "backgroundcolor": "#E5ECF6",
            "gridcolor": "white",
            "gridwidth": 2,
            "linecolor": "white",
            "showbackground": true,
            "ticks": "",
            "zerolinecolor": "white"
           },
           "yaxis": {
            "backgroundcolor": "#E5ECF6",
            "gridcolor": "white",
            "gridwidth": 2,
            "linecolor": "white",
            "showbackground": true,
            "ticks": "",
            "zerolinecolor": "white"
           },
           "zaxis": {
            "backgroundcolor": "#E5ECF6",
            "gridcolor": "white",
            "gridwidth": 2,
            "linecolor": "white",
            "showbackground": true,
            "ticks": "",
            "zerolinecolor": "white"
           }
          },
          "shapedefaults": {
           "line": {
            "color": "#2a3f5f"
           }
          },
          "ternary": {
           "aaxis": {
            "gridcolor": "white",
            "linecolor": "white",
            "ticks": ""
           },
           "baxis": {
            "gridcolor": "white",
            "linecolor": "white",
            "ticks": ""
           },
           "bgcolor": "#E5ECF6",
           "caxis": {
            "gridcolor": "white",
            "linecolor": "white",
            "ticks": ""
           }
          },
          "title": {
           "x": 0.05
          },
          "xaxis": {
           "automargin": true,
           "gridcolor": "white",
           "linecolor": "white",
           "ticks": "",
           "title": {
            "standoff": 15
           },
           "zerolinecolor": "white",
           "zerolinewidth": 2
          },
          "yaxis": {
           "automargin": true,
           "gridcolor": "white",
           "linecolor": "white",
           "ticks": "",
           "title": {
            "standoff": 15
           },
           "zerolinecolor": "white",
           "zerolinewidth": 2
          }
         }
        },
        "title": {
         "font": {
          "color": "#4D5663"
         }
        },
        "xaxis": {
         "gridcolor": "#E1E5ED",
         "showgrid": true,
         "tickfont": {
          "color": "#4D5663"
         },
         "title": {
          "font": {
           "color": "#4D5663"
          },
          "text": ""
         },
         "zerolinecolor": "#E1E5ED"
        },
        "yaxis": {
         "gridcolor": "#E1E5ED",
         "showgrid": true,
         "tickfont": {
          "color": "#4D5663"
         },
         "title": {
          "font": {
           "color": "#4D5663"
          },
          "text": ""
         },
         "zerolinecolor": "#E1E5ED"
        }
       }
      },
      "text/html": [
       "<div>                            <div id=\"72383b54-b0cb-4e8a-94ee-831acfdc9c2b\" class=\"plotly-graph-div\" style=\"height:525px; width:100%;\"></div>            <script type=\"text/javascript\">                require([\"plotly\"], function(Plotly) {                    window.PLOTLYENV=window.PLOTLYENV || {};\n",
       "                    window.PLOTLYENV.BASE_URL='https://plot.ly';                                    if (document.getElementById(\"72383b54-b0cb-4e8a-94ee-831acfdc9c2b\")) {                    Plotly.newPlot(                        \"72383b54-b0cb-4e8a-94ee-831acfdc9c2b\",                        [{\"marker\":{\"color\":[\"rgb(255, 153, 51)\",\"rgb(55, 128, 191)\",\"rgb(50, 171, 96)\",\"rgb(128, 0, 128)\",\"rgb(219, 64, 82)\",\"rgb(0, 128, 128)\",\"rgb(255, 255, 51)\",\"rgb(128, 128, 0)\",\"rgb(251, 128, 114)\",\"rgb(128, 177, 211)\"],\"line\":{\"width\":1.3},\"size\":[54,43,77,33,34,74,89,44,58,99,95,41,22,38,92,17,67,51,62,39,43,74,34,94,28,86,48,50,73,108,80,45,36,59,89,65,30,19,35,39,47,43,112,74,41,57,73,94,74,75,99,58,69,39,93,44,44,40,66,63,42,84,59,52,27,30,57,37,29,91,59,56,60,46,69,28,90,75,75,71,40,43,12,68,45,66,20,61,89,72,28,58,65,78,43,56,84,63,45,20],\"symbol\":\"circle\"},\"mode\":\"markers\",\"text\":\"\",\"x\":[-1.3402016232243987,-0.649020214887379,-0.1682257323904412,2.193351046396256,-0.03573185326863341,-1.0307989329934075,-0.31001491329916697,0.22297126297492637,0.6122609371476259,-2.117750882736682,0.3272545474121727,1.1386299196654515,-0.4154436052538386,1.0779279014688374,-0.33924919653852054,-0.05106266578488151,-1.2273122208986817,0.13163095652086673,0.6861422996774701,-1.4929644029779623,0.7150917642789755,1.814864989428972,0.9247864218619752,0.1584202308262772,1.3776632444592147,-0.8326001639401515,1.181045793801218,-0.374786520171287,-1.0314030959357248,-1.405302986742882,1.307505538855658,0.28061501742315353,-0.27765619411536585,1.037160257723475,-0.06440534965266251,-0.793112145628941,-2.123781691651395,0.7175911466979235,-0.9935809840486913,0.102082618948086,2.5401308092916937,0.6994358348094193,0.37786736051270964,0.36914437145631324,-0.18534855714732013,-0.2839090460128509,-0.6674685004133002,-1.1939521780587363,0.22405329359385473,0.30397583811713497,2.150058233613433,-0.6912701612509979,0.24011301797624413,-0.8920054636597202,-1.1362101375723168,-0.2445198402137013,-1.464257619736692,-1.131466171469585,0.5006879161128014,-0.0060776854956445915,-0.24392875687830465,0.6797274182867651,-0.029234509609762142,-1.062499955977877,0.6439254781690764,0.5783337153396132,-0.1944123189471814,-0.2167287075789601,-0.024164469729240884,0.05793902626343979,0.8986897207398744,1.0031118779125756,2.031724621187272,-0.10250037152497271,-1.1186755466234815,-1.1843577588561136,-1.5662760148060901,-1.219161823281136,-1.1593766556630698,-0.027439127229870085,0.018316738046942258,-0.6922784874155976,0.07979753670333341,0.22962384107885242,0.20152715612661043,-0.3285086721135077,-0.4779892642970852,-0.42324897569430525,-2.738587292705288,-0.35618875561801133,1.1560776988758348,-0.7923919414392832,0.7825784632218197,0.08966821419878798,-0.6329579247795905,-0.375129963188778,-0.8639214742522782,0.40125309184897434,0.5185039514250023,0.05590068286289588],\"y\":[-0.9690244560766667,-0.24091027670686352,0.06172657545459743,-1.3358418161138446,0.4096119688660683,0.21648207305952347,1.5494564109673212,-0.5272035737836958,0.9936728832488787,1.6998421007416729,-0.5350070839408002,1.142373991163409,0.28043404231004704,-0.12769281150264328,-1.6037993962606607,0.5265483510398294,0.6901568262269182,0.15982885802970115,0.39314699605901254,0.11442065176845712,1.1243539020059987,1.1152052967861483,0.2780180827228744,1.4584229801030515,1.4978308842176264,-0.5437462494865144,0.18413726991006588,0.6269539326224163,-2.5047420918321257,-0.6212320955813105,0.08172489190197559,-0.6399969402483794,-0.15252884600524794,0.7774564761486727,0.37641731136611345,-0.6411375959139302,1.4093851243875426,-0.7630593139882308,0.10385408112188718,0.9157584272126849,0.06737938308580205,0.4412611451538305,-0.42090358284399665,0.4232808577387168,0.2761393043199375,1.138092905016683,1.8973244739280186,0.19108988361415394,0.13251187903126746,1.5160740123760557,-0.47908398458207774,0.2849672103236269,-0.3767923189387514,2.2667184992162563,1.975737356877006,-0.3133790957536171,0.42849388398643246,-1.1098435632620174,0.7432415272682933,0.8773264563497847,-1.5027064039710905,-0.5467087382492198,-0.22462087224068003,0.9213508618810443,1.382123867957571,-0.7145203155188684,-0.7637499403917496,0.37410803547132204,0.372442129996429,-0.599660356333412,-0.02335861163390679,0.4139060275767294,0.19756760881077232,0.4696597038850513,0.3168977038265884,0.28168663667665017,-1.116787362925828,0.1991967912578874,0.6389382678317415,0.13410834811540082,0.0031633990525533,-0.6308432596799884,1.5266337378580441,-0.2036437953940007,-2.105541619115384,0.5987154691588157,0.8289444115085323,-1.3488492705330655,-0.28987568392444796,-1.3420110021319405,0.2729186132865296,0.6159737529548067,0.7078416094987383,-0.5693004239201993,0.1797509878233235,-0.2736610552159289,1.2706296230538061,0.041079620995538205,1.5558794301479135,1.23589773548267],\"type\":\"scatter\"}],                        {\"legend\":{\"bgcolor\":\"#F5F6F9\",\"font\":{\"color\":\"#4D5663\"}},\"paper_bgcolor\":\"#F5F6F9\",\"plot_bgcolor\":\"#F5F6F9\",\"template\":{\"data\":{\"barpolar\":[{\"marker\":{\"line\":{\"color\":\"#E5ECF6\",\"width\":0.5},\"pattern\":{\"fillmode\":\"overlay\",\"size\":10,\"solidity\":0.2}},\"type\":\"barpolar\"}],\"bar\":[{\"error_x\":{\"color\":\"#2a3f5f\"},\"error_y\":{\"color\":\"#2a3f5f\"},\"marker\":{\"line\":{\"color\":\"#E5ECF6\",\"width\":0.5},\"pattern\":{\"fillmode\":\"overlay\",\"size\":10,\"solidity\":0.2}},\"type\":\"bar\"}],\"carpet\":[{\"aaxis\":{\"endlinecolor\":\"#2a3f5f\",\"gridcolor\":\"white\",\"linecolor\":\"white\",\"minorgridcolor\":\"white\",\"startlinecolor\":\"#2a3f5f\"},\"baxis\":{\"endlinecolor\":\"#2a3f5f\",\"gridcolor\":\"white\",\"linecolor\":\"white\",\"minorgridcolor\":\"white\",\"startlinecolor\":\"#2a3f5f\"},\"type\":\"carpet\"}],\"choropleth\":[{\"colorbar\":{\"outlinewidth\":0,\"ticks\":\"\"},\"type\":\"choropleth\"}],\"contourcarpet\":[{\"colorbar\":{\"outlinewidth\":0,\"ticks\":\"\"},\"type\":\"contourcarpet\"}],\"contour\":[{\"colorbar\":{\"outlinewidth\":0,\"ticks\":\"\"},\"colorscale\":[[0.0,\"#0d0887\"],[0.1111111111111111,\"#46039f\"],[0.2222222222222222,\"#7201a8\"],[0.3333333333333333,\"#9c179e\"],[0.4444444444444444,\"#bd3786\"],[0.5555555555555556,\"#d8576b\"],[0.6666666666666666,\"#ed7953\"],[0.7777777777777778,\"#fb9f3a\"],[0.8888888888888888,\"#fdca26\"],[1.0,\"#f0f921\"]],\"type\":\"contour\"}],\"heatmapgl\":[{\"colorbar\":{\"outlinewidth\":0,\"ticks\":\"\"},\"colorscale\":[[0.0,\"#0d0887\"],[0.1111111111111111,\"#46039f\"],[0.2222222222222222,\"#7201a8\"],[0.3333333333333333,\"#9c179e\"],[0.4444444444444444,\"#bd3786\"],[0.5555555555555556,\"#d8576b\"],[0.6666666666666666,\"#ed7953\"],[0.7777777777777778,\"#fb9f3a\"],[0.8888888888888888,\"#fdca26\"],[1.0,\"#f0f921\"]],\"type\":\"heatmapgl\"}],\"heatmap\":[{\"colorbar\":{\"outlinewidth\":0,\"ticks\":\"\"},\"colorscale\":[[0.0,\"#0d0887\"],[0.1111111111111111,\"#46039f\"],[0.2222222222222222,\"#7201a8\"],[0.3333333333333333,\"#9c179e\"],[0.4444444444444444,\"#bd3786\"],[0.5555555555555556,\"#d8576b\"],[0.6666666666666666,\"#ed7953\"],[0.7777777777777778,\"#fb9f3a\"],[0.8888888888888888,\"#fdca26\"],[1.0,\"#f0f921\"]],\"type\":\"heatmap\"}],\"histogram2dcontour\":[{\"colorbar\":{\"outlinewidth\":0,\"ticks\":\"\"},\"colorscale\":[[0.0,\"#0d0887\"],[0.1111111111111111,\"#46039f\"],[0.2222222222222222,\"#7201a8\"],[0.3333333333333333,\"#9c179e\"],[0.4444444444444444,\"#bd3786\"],[0.5555555555555556,\"#d8576b\"],[0.6666666666666666,\"#ed7953\"],[0.7777777777777778,\"#fb9f3a\"],[0.8888888888888888,\"#fdca26\"],[1.0,\"#f0f921\"]],\"type\":\"histogram2dcontour\"}],\"histogram2d\":[{\"colorbar\":{\"outlinewidth\":0,\"ticks\":\"\"},\"colorscale\":[[0.0,\"#0d0887\"],[0.1111111111111111,\"#46039f\"],[0.2222222222222222,\"#7201a8\"],[0.3333333333333333,\"#9c179e\"],[0.4444444444444444,\"#bd3786\"],[0.5555555555555556,\"#d8576b\"],[0.6666666666666666,\"#ed7953\"],[0.7777777777777778,\"#fb9f3a\"],[0.8888888888888888,\"#fdca26\"],[1.0,\"#f0f921\"]],\"type\":\"histogram2d\"}],\"histogram\":[{\"marker\":{\"pattern\":{\"fillmode\":\"overlay\",\"size\":10,\"solidity\":0.2}},\"type\":\"histogram\"}],\"mesh3d\":[{\"colorbar\":{\"outlinewidth\":0,\"ticks\":\"\"},\"type\":\"mesh3d\"}],\"parcoords\":[{\"line\":{\"colorbar\":{\"outlinewidth\":0,\"ticks\":\"\"}},\"type\":\"parcoords\"}],\"pie\":[{\"automargin\":true,\"type\":\"pie\"}],\"scatter3d\":[{\"line\":{\"colorbar\":{\"outlinewidth\":0,\"ticks\":\"\"}},\"marker\":{\"colorbar\":{\"outlinewidth\":0,\"ticks\":\"\"}},\"type\":\"scatter3d\"}],\"scattercarpet\":[{\"marker\":{\"colorbar\":{\"outlinewidth\":0,\"ticks\":\"\"}},\"type\":\"scattercarpet\"}],\"scattergeo\":[{\"marker\":{\"colorbar\":{\"outlinewidth\":0,\"ticks\":\"\"}},\"type\":\"scattergeo\"}],\"scattergl\":[{\"marker\":{\"colorbar\":{\"outlinewidth\":0,\"ticks\":\"\"}},\"type\":\"scattergl\"}],\"scattermapbox\":[{\"marker\":{\"colorbar\":{\"outlinewidth\":0,\"ticks\":\"\"}},\"type\":\"scattermapbox\"}],\"scatterpolargl\":[{\"marker\":{\"colorbar\":{\"outlinewidth\":0,\"ticks\":\"\"}},\"type\":\"scatterpolargl\"}],\"scatterpolar\":[{\"marker\":{\"colorbar\":{\"outlinewidth\":0,\"ticks\":\"\"}},\"type\":\"scatterpolar\"}],\"scatter\":[{\"fillpattern\":{\"fillmode\":\"overlay\",\"size\":10,\"solidity\":0.2},\"type\":\"scatter\"}],\"scatterternary\":[{\"marker\":{\"colorbar\":{\"outlinewidth\":0,\"ticks\":\"\"}},\"type\":\"scatterternary\"}],\"surface\":[{\"colorbar\":{\"outlinewidth\":0,\"ticks\":\"\"},\"colorscale\":[[0.0,\"#0d0887\"],[0.1111111111111111,\"#46039f\"],[0.2222222222222222,\"#7201a8\"],[0.3333333333333333,\"#9c179e\"],[0.4444444444444444,\"#bd3786\"],[0.5555555555555556,\"#d8576b\"],[0.6666666666666666,\"#ed7953\"],[0.7777777777777778,\"#fb9f3a\"],[0.8888888888888888,\"#fdca26\"],[1.0,\"#f0f921\"]],\"type\":\"surface\"}],\"table\":[{\"cells\":{\"fill\":{\"color\":\"#EBF0F8\"},\"line\":{\"color\":\"white\"}},\"header\":{\"fill\":{\"color\":\"#C8D4E3\"},\"line\":{\"color\":\"white\"}},\"type\":\"table\"}]},\"layout\":{\"annotationdefaults\":{\"arrowcolor\":\"#2a3f5f\",\"arrowhead\":0,\"arrowwidth\":1},\"autotypenumbers\":\"strict\",\"coloraxis\":{\"colorbar\":{\"outlinewidth\":0,\"ticks\":\"\"}},\"colorscale\":{\"diverging\":[[0,\"#8e0152\"],[0.1,\"#c51b7d\"],[0.2,\"#de77ae\"],[0.3,\"#f1b6da\"],[0.4,\"#fde0ef\"],[0.5,\"#f7f7f7\"],[0.6,\"#e6f5d0\"],[0.7,\"#b8e186\"],[0.8,\"#7fbc41\"],[0.9,\"#4d9221\"],[1,\"#276419\"]],\"sequential\":[[0.0,\"#0d0887\"],[0.1111111111111111,\"#46039f\"],[0.2222222222222222,\"#7201a8\"],[0.3333333333333333,\"#9c179e\"],[0.4444444444444444,\"#bd3786\"],[0.5555555555555556,\"#d8576b\"],[0.6666666666666666,\"#ed7953\"],[0.7777777777777778,\"#fb9f3a\"],[0.8888888888888888,\"#fdca26\"],[1.0,\"#f0f921\"]],\"sequentialminus\":[[0.0,\"#0d0887\"],[0.1111111111111111,\"#46039f\"],[0.2222222222222222,\"#7201a8\"],[0.3333333333333333,\"#9c179e\"],[0.4444444444444444,\"#bd3786\"],[0.5555555555555556,\"#d8576b\"],[0.6666666666666666,\"#ed7953\"],[0.7777777777777778,\"#fb9f3a\"],[0.8888888888888888,\"#fdca26\"],[1.0,\"#f0f921\"]]},\"colorway\":[\"#636efa\",\"#EF553B\",\"#00cc96\",\"#ab63fa\",\"#FFA15A\",\"#19d3f3\",\"#FF6692\",\"#B6E880\",\"#FF97FF\",\"#FECB52\"],\"font\":{\"color\":\"#2a3f5f\"},\"geo\":{\"bgcolor\":\"white\",\"lakecolor\":\"white\",\"landcolor\":\"#E5ECF6\",\"showlakes\":true,\"showland\":true,\"subunitcolor\":\"white\"},\"hoverlabel\":{\"align\":\"left\"},\"hovermode\":\"closest\",\"mapbox\":{\"style\":\"light\"},\"paper_bgcolor\":\"white\",\"plot_bgcolor\":\"#E5ECF6\",\"polar\":{\"angularaxis\":{\"gridcolor\":\"white\",\"linecolor\":\"white\",\"ticks\":\"\"},\"bgcolor\":\"#E5ECF6\",\"radialaxis\":{\"gridcolor\":\"white\",\"linecolor\":\"white\",\"ticks\":\"\"}},\"scene\":{\"xaxis\":{\"backgroundcolor\":\"#E5ECF6\",\"gridcolor\":\"white\",\"gridwidth\":2,\"linecolor\":\"white\",\"showbackground\":true,\"ticks\":\"\",\"zerolinecolor\":\"white\"},\"yaxis\":{\"backgroundcolor\":\"#E5ECF6\",\"gridcolor\":\"white\",\"gridwidth\":2,\"linecolor\":\"white\",\"showbackground\":true,\"ticks\":\"\",\"zerolinecolor\":\"white\"},\"zaxis\":{\"backgroundcolor\":\"#E5ECF6\",\"gridcolor\":\"white\",\"gridwidth\":2,\"linecolor\":\"white\",\"showbackground\":true,\"ticks\":\"\",\"zerolinecolor\":\"white\"}},\"shapedefaults\":{\"line\":{\"color\":\"#2a3f5f\"}},\"ternary\":{\"aaxis\":{\"gridcolor\":\"white\",\"linecolor\":\"white\",\"ticks\":\"\"},\"baxis\":{\"gridcolor\":\"white\",\"linecolor\":\"white\",\"ticks\":\"\"},\"bgcolor\":\"#E5ECF6\",\"caxis\":{\"gridcolor\":\"white\",\"linecolor\":\"white\",\"ticks\":\"\"}},\"title\":{\"x\":0.05},\"xaxis\":{\"automargin\":true,\"gridcolor\":\"white\",\"linecolor\":\"white\",\"ticks\":\"\",\"title\":{\"standoff\":15},\"zerolinecolor\":\"white\",\"zerolinewidth\":2},\"yaxis\":{\"automargin\":true,\"gridcolor\":\"white\",\"linecolor\":\"white\",\"ticks\":\"\",\"title\":{\"standoff\":15},\"zerolinecolor\":\"white\",\"zerolinewidth\":2}}},\"title\":{\"font\":{\"color\":\"#4D5663\"}},\"xaxis\":{\"gridcolor\":\"#E1E5ED\",\"showgrid\":true,\"tickfont\":{\"color\":\"#4D5663\"},\"title\":{\"font\":{\"color\":\"#4D5663\"},\"text\":\"\"},\"zerolinecolor\":\"#E1E5ED\"},\"yaxis\":{\"gridcolor\":\"#E1E5ED\",\"showgrid\":true,\"tickfont\":{\"color\":\"#4D5663\"},\"title\":{\"font\":{\"color\":\"#4D5663\"},\"text\":\"\"},\"zerolinecolor\":\"#E1E5ED\"}},                        {\"showLink\": true, \"linkText\": \"Export to plot.ly\", \"plotlyServerURL\": \"https://plot.ly\", \"responsive\": true}                    ).then(function(){\n",
       "                            \n",
       "var gd = document.getElementById('72383b54-b0cb-4e8a-94ee-831acfdc9c2b');\n",
       "var x = new MutationObserver(function (mutations, observer) {{\n",
       "        var display = window.getComputedStyle(gd).display;\n",
       "        if (!display || display === 'none') {{\n",
       "            console.log([gd, 'removed!']);\n",
       "            Plotly.purge(gd);\n",
       "            observer.disconnect();\n",
       "        }}\n",
       "}});\n",
       "\n",
       "// Listen for the removal of the full notebook cells\n",
       "var notebookContainer = gd.closest('#notebook-container');\n",
       "if (notebookContainer) {{\n",
       "    x.observe(notebookContainer, {childList: true});\n",
       "}}\n",
       "\n",
       "// Listen for the clearing of the current output cell\n",
       "var outputEl = gd.closest('.output');\n",
       "if (outputEl) {{\n",
       "    x.observe(outputEl, {childList: true});\n",
       "}}\n",
       "\n",
       "                        })                };                });            </script>        </div>"
      ]
     },
     "metadata": {},
     "output_type": "display_data"
    }
   ],
   "source": [
    "df.iplot(kind='bubble',x='A',y='B',size='C')"
   ]
  },
  {
   "cell_type": "markdown",
   "metadata": {},
   "source": [
    "## scatter_matrix()\n",
    "\n",
    "Similar to sns.pairplot()"
   ]
  },
  {
   "cell_type": "code",
   "execution_count": 18,
   "metadata": {
    "collapsed": false
   },
   "outputs": [
    {
     "data": {
      "application/vnd.plotly.v1+json": {
       "config": {
        "linkText": "Export to plot.ly",
        "plotlyServerURL": "https://plot.ly",
        "showLink": true
       },
       "data": [
        {
         "histfunc": "count",
         "histnorm": "",
         "marker": {
          "color": "rgba(255, 153, 51, 1.0)",
          "line": {
           "color": "#4D5663",
           "width": 1.3
          }
         },
         "name": "A",
         "nbinsx": 10,
         "opacity": 0.8,
         "orientation": "v",
         "type": "histogram",
         "x": [
          -1.3402016232243987,
          -0.649020214887379,
          -0.1682257323904412,
          2.193351046396256,
          -0.03573185326863341,
          -1.0307989329934075,
          -0.31001491329916697,
          0.22297126297492637,
          0.6122609371476259,
          -2.117750882736682,
          0.3272545474121727,
          1.1386299196654515,
          -0.4154436052538386,
          1.0779279014688374,
          -0.33924919653852054,
          -0.05106266578488151,
          -1.2273122208986817,
          0.13163095652086673,
          0.6861422996774701,
          -1.4929644029779623,
          0.7150917642789755,
          1.814864989428972,
          0.9247864218619752,
          0.1584202308262772,
          1.3776632444592147,
          -0.8326001639401515,
          1.181045793801218,
          -0.374786520171287,
          -1.0314030959357248,
          -1.405302986742882,
          1.307505538855658,
          0.28061501742315353,
          -0.27765619411536585,
          1.037160257723475,
          -0.06440534965266251,
          -0.793112145628941,
          -2.123781691651395,
          0.7175911466979235,
          -0.9935809840486913,
          0.102082618948086,
          2.5401308092916937,
          0.6994358348094193,
          0.37786736051270964,
          0.36914437145631324,
          -0.18534855714732013,
          -0.2839090460128509,
          -0.6674685004133002,
          -1.1939521780587363,
          0.22405329359385473,
          0.30397583811713497,
          2.150058233613433,
          -0.6912701612509979,
          0.24011301797624413,
          -0.8920054636597202,
          -1.1362101375723168,
          -0.2445198402137013,
          -1.464257619736692,
          -1.131466171469585,
          0.5006879161128014,
          -0.0060776854956445915,
          -0.24392875687830465,
          0.6797274182867651,
          -0.029234509609762142,
          -1.062499955977877,
          0.6439254781690764,
          0.5783337153396132,
          -0.1944123189471814,
          -0.2167287075789601,
          -0.024164469729240884,
          0.05793902626343979,
          0.8986897207398744,
          1.0031118779125756,
          2.031724621187272,
          -0.10250037152497271,
          -1.1186755466234815,
          -1.1843577588561136,
          -1.5662760148060901,
          -1.219161823281136,
          -1.1593766556630698,
          -0.027439127229870085,
          0.018316738046942258,
          -0.6922784874155976,
          0.07979753670333341,
          0.22962384107885242,
          0.20152715612661043,
          -0.3285086721135077,
          -0.4779892642970852,
          -0.42324897569430525,
          -2.738587292705288,
          -0.35618875561801133,
          1.1560776988758348,
          -0.7923919414392832,
          0.7825784632218197,
          0.08966821419878798,
          -0.6329579247795905,
          -0.375129963188778,
          -0.8639214742522782,
          0.40125309184897434,
          0.5185039514250023,
          0.05590068286289588
         ],
         "xaxis": "x",
         "yaxis": "y"
        },
        {
         "line": {
          "color": "rgba(128, 128, 128, 1.0)",
          "dash": "solid",
          "shape": "linear",
          "width": 1.3
         },
         "marker": {
          "size": 2,
          "symbol": "circle"
         },
         "mode": "markers",
         "name": "A",
         "text": "",
         "type": "scatter",
         "x": [
          -0.9690244560766667,
          -0.24091027670686352,
          0.06172657545459743,
          -1.3358418161138446,
          0.4096119688660683,
          0.21648207305952347,
          1.5494564109673212,
          -0.5272035737836958,
          0.9936728832488787,
          1.6998421007416729,
          -0.5350070839408002,
          1.142373991163409,
          0.28043404231004704,
          -0.12769281150264328,
          -1.6037993962606607,
          0.5265483510398294,
          0.6901568262269182,
          0.15982885802970115,
          0.39314699605901254,
          0.11442065176845712,
          1.1243539020059987,
          1.1152052967861483,
          0.2780180827228744,
          1.4584229801030515,
          1.4978308842176264,
          -0.5437462494865144,
          0.18413726991006588,
          0.6269539326224163,
          -2.5047420918321257,
          -0.6212320955813105,
          0.08172489190197559,
          -0.6399969402483794,
          -0.15252884600524794,
          0.7774564761486727,
          0.37641731136611345,
          -0.6411375959139302,
          1.4093851243875426,
          -0.7630593139882308,
          0.10385408112188718,
          0.9157584272126849,
          0.06737938308580205,
          0.4412611451538305,
          -0.42090358284399665,
          0.4232808577387168,
          0.2761393043199375,
          1.138092905016683,
          1.8973244739280186,
          0.19108988361415394,
          0.13251187903126746,
          1.5160740123760557,
          -0.47908398458207774,
          0.2849672103236269,
          -0.3767923189387514,
          2.2667184992162563,
          1.975737356877006,
          -0.3133790957536171,
          0.42849388398643246,
          -1.1098435632620174,
          0.7432415272682933,
          0.8773264563497847,
          -1.5027064039710905,
          -0.5467087382492198,
          -0.22462087224068003,
          0.9213508618810443,
          1.382123867957571,
          -0.7145203155188684,
          -0.7637499403917496,
          0.37410803547132204,
          0.372442129996429,
          -0.599660356333412,
          -0.02335861163390679,
          0.4139060275767294,
          0.19756760881077232,
          0.4696597038850513,
          0.3168977038265884,
          0.28168663667665017,
          -1.116787362925828,
          0.1991967912578874,
          0.6389382678317415,
          0.13410834811540082,
          0.0031633990525533,
          -0.6308432596799884,
          1.5266337378580441,
          -0.2036437953940007,
          -2.105541619115384,
          0.5987154691588157,
          0.8289444115085323,
          -1.3488492705330655,
          -0.28987568392444796,
          -1.3420110021319405,
          0.2729186132865296,
          0.6159737529548067,
          0.7078416094987383,
          -0.5693004239201993,
          0.1797509878233235,
          -0.2736610552159289,
          1.2706296230538061,
          0.041079620995538205,
          1.5558794301479135,
          1.23589773548267
         ],
         "xaxis": "x2",
         "y": [
          -1.3402016232243987,
          -0.649020214887379,
          -0.1682257323904412,
          2.193351046396256,
          -0.03573185326863341,
          -1.0307989329934075,
          -0.31001491329916697,
          0.22297126297492637,
          0.6122609371476259,
          -2.117750882736682,
          0.3272545474121727,
          1.1386299196654515,
          -0.4154436052538386,
          1.0779279014688374,
          -0.33924919653852054,
          -0.05106266578488151,
          -1.2273122208986817,
          0.13163095652086673,
          0.6861422996774701,
          -1.4929644029779623,
          0.7150917642789755,
          1.814864989428972,
          0.9247864218619752,
          0.1584202308262772,
          1.3776632444592147,
          -0.8326001639401515,
          1.181045793801218,
          -0.374786520171287,
          -1.0314030959357248,
          -1.405302986742882,
          1.307505538855658,
          0.28061501742315353,
          -0.27765619411536585,
          1.037160257723475,
          -0.06440534965266251,
          -0.793112145628941,
          -2.123781691651395,
          0.7175911466979235,
          -0.9935809840486913,
          0.102082618948086,
          2.5401308092916937,
          0.6994358348094193,
          0.37786736051270964,
          0.36914437145631324,
          -0.18534855714732013,
          -0.2839090460128509,
          -0.6674685004133002,
          -1.1939521780587363,
          0.22405329359385473,
          0.30397583811713497,
          2.150058233613433,
          -0.6912701612509979,
          0.24011301797624413,
          -0.8920054636597202,
          -1.1362101375723168,
          -0.2445198402137013,
          -1.464257619736692,
          -1.131466171469585,
          0.5006879161128014,
          -0.0060776854956445915,
          -0.24392875687830465,
          0.6797274182867651,
          -0.029234509609762142,
          -1.062499955977877,
          0.6439254781690764,
          0.5783337153396132,
          -0.1944123189471814,
          -0.2167287075789601,
          -0.024164469729240884,
          0.05793902626343979,
          0.8986897207398744,
          1.0031118779125756,
          2.031724621187272,
          -0.10250037152497271,
          -1.1186755466234815,
          -1.1843577588561136,
          -1.5662760148060901,
          -1.219161823281136,
          -1.1593766556630698,
          -0.027439127229870085,
          0.018316738046942258,
          -0.6922784874155976,
          0.07979753670333341,
          0.22962384107885242,
          0.20152715612661043,
          -0.3285086721135077,
          -0.4779892642970852,
          -0.42324897569430525,
          -2.738587292705288,
          -0.35618875561801133,
          1.1560776988758348,
          -0.7923919414392832,
          0.7825784632218197,
          0.08966821419878798,
          -0.6329579247795905,
          -0.375129963188778,
          -0.8639214742522782,
          0.40125309184897434,
          0.5185039514250023,
          0.05590068286289588
         ],
         "yaxis": "y2"
        },
        {
         "line": {
          "color": "rgba(128, 128, 128, 1.0)",
          "dash": "solid",
          "shape": "linear",
          "width": 1.3
         },
         "marker": {
          "size": 2,
          "symbol": "circle"
         },
         "mode": "markers",
         "name": "A",
         "text": "",
         "type": "scatter",
         "x": [
          -0.31761216767426204,
          -0.7713855262248842,
          0.6510143387152343,
          -1.1811984242585574,
          -1.1697432254377702,
          0.5489771618833647,
          1.1862225843114564,
          -0.7245272592059752,
          -0.14792973672494128,
          1.5722515552182135,
          1.4341592490956658,
          -0.8570156609414016,
          -1.680520022665643,
          -0.9680166170648011,
          1.311281663993853,
          -1.8862897337383335,
          0.2556671335044036,
          -0.42854058169515186,
          0.021496573924532865,
          -0.9301714438666704,
          -0.7784602628726872,
          0.5253013752651645,
          -1.1331607602104599,
          1.380155974255039,
          -1.4258118060932672,
          1.0519287902179193,
          -0.5483907903629059,
          -0.4736793472289787,
          0.5008072725857905,
          1.9524746034663378,
          0.7760705877414437,
          -0.7024923559689906,
          -1.0723973849428952,
          -0.08883437399867769,
          1.1516644440104995,
          0.14492508387561012,
          -1.329113015464814,
          -1.768554760981793,
          -1.1089511004990398,
          -0.9256720747159527,
          -0.607940857474674,
          -0.7643597429653168,
          2.116175430688474,
          0.5254370534840804,
          -0.8627621038011164,
          -0.18705903746517677,
          0.4969700990114964,
          1.3775880018466966,
          0.5422496160610358,
          0.585665596672673,
          1.607985533045647,
          -0.14937880582303528,
          0.31304196224506375,
          -0.949083115083279,
          1.3527610635614198,
          -0.7229800726709068,
          -0.72744238172861,
          -0.8903502064701029,
          0.19856824359792294,
          0.07938708606902466,
          -0.8048320733054841,
          0.9639879157595301,
          -0.10116584307740642,
          -0.40395266893604703,
          -1.4659250635248866,
          -1.3416566932851965,
          -0.17915563258237827,
          -1.0205832094322478,
          -1.348546808665269,
          1.244533874754698,
          -0.08330079467972014,
          -0.21109143856870685,
          -0.049408929386735294,
          -0.6357858113735209,
          0.3159283014544451,
          -1.4088745925162722,
          1.2069505204575266,
          0.5896351522404546,
          0.5686334336003075,
          0.41991449053903257,
          -0.915112909217904,
          -0.7950586560618741,
          -2.1036162765740736,
          0.30013241310694716,
          -0.7015981150125078,
          0.19965514925218483,
          -1.7509003793519868,
          0.003082167692337168,
          1.1546511368384644,
          0.46855349338478686,
          -1.4260884081435767,
          -0.12707196437390098,
          0.15753904614090358,
          0.7152257131572535,
          -0.7607448920579295,
          -0.20845227848020811,
          0.9630898870419832,
          0.07864516588430184,
          -0.6766380804599007,
          -1.7568453910546822
         ],
         "xaxis": "x3",
         "y": [
          -1.3402016232243987,
          -0.649020214887379,
          -0.1682257323904412,
          2.193351046396256,
          -0.03573185326863341,
          -1.0307989329934075,
          -0.31001491329916697,
          0.22297126297492637,
          0.6122609371476259,
          -2.117750882736682,
          0.3272545474121727,
          1.1386299196654515,
          -0.4154436052538386,
          1.0779279014688374,
          -0.33924919653852054,
          -0.05106266578488151,
          -1.2273122208986817,
          0.13163095652086673,
          0.6861422996774701,
          -1.4929644029779623,
          0.7150917642789755,
          1.814864989428972,
          0.9247864218619752,
          0.1584202308262772,
          1.3776632444592147,
          -0.8326001639401515,
          1.181045793801218,
          -0.374786520171287,
          -1.0314030959357248,
          -1.405302986742882,
          1.307505538855658,
          0.28061501742315353,
          -0.27765619411536585,
          1.037160257723475,
          -0.06440534965266251,
          -0.793112145628941,
          -2.123781691651395,
          0.7175911466979235,
          -0.9935809840486913,
          0.102082618948086,
          2.5401308092916937,
          0.6994358348094193,
          0.37786736051270964,
          0.36914437145631324,
          -0.18534855714732013,
          -0.2839090460128509,
          -0.6674685004133002,
          -1.1939521780587363,
          0.22405329359385473,
          0.30397583811713497,
          2.150058233613433,
          -0.6912701612509979,
          0.24011301797624413,
          -0.8920054636597202,
          -1.1362101375723168,
          -0.2445198402137013,
          -1.464257619736692,
          -1.131466171469585,
          0.5006879161128014,
          -0.0060776854956445915,
          -0.24392875687830465,
          0.6797274182867651,
          -0.029234509609762142,
          -1.062499955977877,
          0.6439254781690764,
          0.5783337153396132,
          -0.1944123189471814,
          -0.2167287075789601,
          -0.024164469729240884,
          0.05793902626343979,
          0.8986897207398744,
          1.0031118779125756,
          2.031724621187272,
          -0.10250037152497271,
          -1.1186755466234815,
          -1.1843577588561136,
          -1.5662760148060901,
          -1.219161823281136,
          -1.1593766556630698,
          -0.027439127229870085,
          0.018316738046942258,
          -0.6922784874155976,
          0.07979753670333341,
          0.22962384107885242,
          0.20152715612661043,
          -0.3285086721135077,
          -0.4779892642970852,
          -0.42324897569430525,
          -2.738587292705288,
          -0.35618875561801133,
          1.1560776988758348,
          -0.7923919414392832,
          0.7825784632218197,
          0.08966821419878798,
          -0.6329579247795905,
          -0.375129963188778,
          -0.8639214742522782,
          0.40125309184897434,
          0.5185039514250023,
          0.05590068286289588
         ],
         "yaxis": "y3"
        },
        {
         "line": {
          "color": "rgba(128, 128, 128, 1.0)",
          "dash": "solid",
          "shape": "linear",
          "width": 1.3
         },
         "marker": {
          "size": 2,
          "symbol": "circle"
         },
         "mode": "markers",
         "name": "A",
         "text": "",
         "type": "scatter",
         "x": [
          0.48402231351696223,
          -0.10224008216294853,
          0.1181167177112375,
          -1.0666352011557814,
          0.9665761653846904,
          -1.357467284764471,
          -0.9284302790533993,
          0.6345284482882199,
          -0.0740403721093706,
          -0.4639975999755965,
          0.08721289374435162,
          2.5052961075647073,
          0.43481143614950385,
          0.044696324209182695,
          1.0038024561243661,
          0.5792773036591153,
          -0.9387504452926381,
          0.38816513983244655,
          0.7125625273567961,
          -0.9014570313492231,
          0.617734999692759,
          -0.1607937369778756,
          0.47256217897592473,
          0.9849914909342756,
          -0.11588845516963875,
          0.935370911058539,
          0.6814187457481841,
          -1.093908749200606,
          -1.4770940250558757,
          -0.4681968101286804,
          0.003804239951599719,
          -0.8654816613491302,
          -0.5388942804224948,
          -0.04185039340724913,
          -1.6113178414836005,
          -0.0003678996224740092,
          0.8407392704361697,
          0.8533804774379177,
          -0.059350929952908534,
          1.0205634363676772,
          -1.7799932042531268,
          0.2317262664177079,
          -0.43506433070992123,
          0.21885734354175732,
          0.12191237624937491,
          0.18524173055924198,
          1.0448868828422513,
          -1.0693628956754957,
          -0.41071363662322125,
          -1.2017076759706053,
          0.36453795842358444,
          0.048199844587854104,
          0.06988559244102713,
          -1.302062250615279,
          2.0868259885989198,
          -0.8867554121873944,
          -0.4991233846826625,
          0.6624829896563093,
          -0.08644530990479748,
          0.05376519275306745,
          0.6105915466200568,
          1.5880147270494087,
          -2.6059443100785398,
          1.113681623122705,
          -2.4808034446004505,
          0.7950575875647712,
          -1.7216964395170653,
          0.9714435277856804,
          -0.2276106106055289,
          -0.1445109611895521,
          -1.3269143168436681,
          -2.0694832857147674,
          -0.7742834005575784,
          -0.6461480867969325,
          -0.6757574665431837,
          0.9722038475153926,
          0.9775585773247587,
          0.46947999658130235,
          0.9322149470058937,
          -0.21609438336289588,
          2.248124938605876,
          -0.32137434342729276,
          -2.438336521811027,
          0.7591164420275582,
          -0.5280112163401659,
          -0.46329575071946916,
          0.597968464659016,
          -0.6701092888978968,
          -1.2261745344221369,
          -1.2143797733898316,
          0.4103104662761871,
          -0.05196950755972925,
          -0.0706104909389996,
          -1.9771998405899995,
          1.759130100764726,
          -0.6872895951785153,
          -0.16848677083892882,
          -0.5170754348269515,
          -1.0486590728578142,
          1.6818373695865567
         ],
         "xaxis": "x4",
         "y": [
          -1.3402016232243987,
          -0.649020214887379,
          -0.1682257323904412,
          2.193351046396256,
          -0.03573185326863341,
          -1.0307989329934075,
          -0.31001491329916697,
          0.22297126297492637,
          0.6122609371476259,
          -2.117750882736682,
          0.3272545474121727,
          1.1386299196654515,
          -0.4154436052538386,
          1.0779279014688374,
          -0.33924919653852054,
          -0.05106266578488151,
          -1.2273122208986817,
          0.13163095652086673,
          0.6861422996774701,
          -1.4929644029779623,
          0.7150917642789755,
          1.814864989428972,
          0.9247864218619752,
          0.1584202308262772,
          1.3776632444592147,
          -0.8326001639401515,
          1.181045793801218,
          -0.374786520171287,
          -1.0314030959357248,
          -1.405302986742882,
          1.307505538855658,
          0.28061501742315353,
          -0.27765619411536585,
          1.037160257723475,
          -0.06440534965266251,
          -0.793112145628941,
          -2.123781691651395,
          0.7175911466979235,
          -0.9935809840486913,
          0.102082618948086,
          2.5401308092916937,
          0.6994358348094193,
          0.37786736051270964,
          0.36914437145631324,
          -0.18534855714732013,
          -0.2839090460128509,
          -0.6674685004133002,
          -1.1939521780587363,
          0.22405329359385473,
          0.30397583811713497,
          2.150058233613433,
          -0.6912701612509979,
          0.24011301797624413,
          -0.8920054636597202,
          -1.1362101375723168,
          -0.2445198402137013,
          -1.464257619736692,
          -1.131466171469585,
          0.5006879161128014,
          -0.0060776854956445915,
          -0.24392875687830465,
          0.6797274182867651,
          -0.029234509609762142,
          -1.062499955977877,
          0.6439254781690764,
          0.5783337153396132,
          -0.1944123189471814,
          -0.2167287075789601,
          -0.024164469729240884,
          0.05793902626343979,
          0.8986897207398744,
          1.0031118779125756,
          2.031724621187272,
          -0.10250037152497271,
          -1.1186755466234815,
          -1.1843577588561136,
          -1.5662760148060901,
          -1.219161823281136,
          -1.1593766556630698,
          -0.027439127229870085,
          0.018316738046942258,
          -0.6922784874155976,
          0.07979753670333341,
          0.22962384107885242,
          0.20152715612661043,
          -0.3285086721135077,
          -0.4779892642970852,
          -0.42324897569430525,
          -2.738587292705288,
          -0.35618875561801133,
          1.1560776988758348,
          -0.7923919414392832,
          0.7825784632218197,
          0.08966821419878798,
          -0.6329579247795905,
          -0.375129963188778,
          -0.8639214742522782,
          0.40125309184897434,
          0.5185039514250023,
          0.05590068286289588
         ],
         "yaxis": "y4"
        },
        {
         "line": {
          "color": "rgba(128, 128, 128, 1.0)",
          "dash": "solid",
          "shape": "linear",
          "width": 1.3
         },
         "marker": {
          "size": 2,
          "symbol": "circle"
         },
         "mode": "markers",
         "name": "B",
         "text": "",
         "type": "scatter",
         "x": [
          -1.3402016232243987,
          -0.649020214887379,
          -0.1682257323904412,
          2.193351046396256,
          -0.03573185326863341,
          -1.0307989329934075,
          -0.31001491329916697,
          0.22297126297492637,
          0.6122609371476259,
          -2.117750882736682,
          0.3272545474121727,
          1.1386299196654515,
          -0.4154436052538386,
          1.0779279014688374,
          -0.33924919653852054,
          -0.05106266578488151,
          -1.2273122208986817,
          0.13163095652086673,
          0.6861422996774701,
          -1.4929644029779623,
          0.7150917642789755,
          1.814864989428972,
          0.9247864218619752,
          0.1584202308262772,
          1.3776632444592147,
          -0.8326001639401515,
          1.181045793801218,
          -0.374786520171287,
          -1.0314030959357248,
          -1.405302986742882,
          1.307505538855658,
          0.28061501742315353,
          -0.27765619411536585,
          1.037160257723475,
          -0.06440534965266251,
          -0.793112145628941,
          -2.123781691651395,
          0.7175911466979235,
          -0.9935809840486913,
          0.102082618948086,
          2.5401308092916937,
          0.6994358348094193,
          0.37786736051270964,
          0.36914437145631324,
          -0.18534855714732013,
          -0.2839090460128509,
          -0.6674685004133002,
          -1.1939521780587363,
          0.22405329359385473,
          0.30397583811713497,
          2.150058233613433,
          -0.6912701612509979,
          0.24011301797624413,
          -0.8920054636597202,
          -1.1362101375723168,
          -0.2445198402137013,
          -1.464257619736692,
          -1.131466171469585,
          0.5006879161128014,
          -0.0060776854956445915,
          -0.24392875687830465,
          0.6797274182867651,
          -0.029234509609762142,
          -1.062499955977877,
          0.6439254781690764,
          0.5783337153396132,
          -0.1944123189471814,
          -0.2167287075789601,
          -0.024164469729240884,
          0.05793902626343979,
          0.8986897207398744,
          1.0031118779125756,
          2.031724621187272,
          -0.10250037152497271,
          -1.1186755466234815,
          -1.1843577588561136,
          -1.5662760148060901,
          -1.219161823281136,
          -1.1593766556630698,
          -0.027439127229870085,
          0.018316738046942258,
          -0.6922784874155976,
          0.07979753670333341,
          0.22962384107885242,
          0.20152715612661043,
          -0.3285086721135077,
          -0.4779892642970852,
          -0.42324897569430525,
          -2.738587292705288,
          -0.35618875561801133,
          1.1560776988758348,
          -0.7923919414392832,
          0.7825784632218197,
          0.08966821419878798,
          -0.6329579247795905,
          -0.375129963188778,
          -0.8639214742522782,
          0.40125309184897434,
          0.5185039514250023,
          0.05590068286289588
         ],
         "xaxis": "x5",
         "y": [
          -0.9690244560766667,
          -0.24091027670686352,
          0.06172657545459743,
          -1.3358418161138446,
          0.4096119688660683,
          0.21648207305952347,
          1.5494564109673212,
          -0.5272035737836958,
          0.9936728832488787,
          1.6998421007416729,
          -0.5350070839408002,
          1.142373991163409,
          0.28043404231004704,
          -0.12769281150264328,
          -1.6037993962606607,
          0.5265483510398294,
          0.6901568262269182,
          0.15982885802970115,
          0.39314699605901254,
          0.11442065176845712,
          1.1243539020059987,
          1.1152052967861483,
          0.2780180827228744,
          1.4584229801030515,
          1.4978308842176264,
          -0.5437462494865144,
          0.18413726991006588,
          0.6269539326224163,
          -2.5047420918321257,
          -0.6212320955813105,
          0.08172489190197559,
          -0.6399969402483794,
          -0.15252884600524794,
          0.7774564761486727,
          0.37641731136611345,
          -0.6411375959139302,
          1.4093851243875426,
          -0.7630593139882308,
          0.10385408112188718,
          0.9157584272126849,
          0.06737938308580205,
          0.4412611451538305,
          -0.42090358284399665,
          0.4232808577387168,
          0.2761393043199375,
          1.138092905016683,
          1.8973244739280186,
          0.19108988361415394,
          0.13251187903126746,
          1.5160740123760557,
          -0.47908398458207774,
          0.2849672103236269,
          -0.3767923189387514,
          2.2667184992162563,
          1.975737356877006,
          -0.3133790957536171,
          0.42849388398643246,
          -1.1098435632620174,
          0.7432415272682933,
          0.8773264563497847,
          -1.5027064039710905,
          -0.5467087382492198,
          -0.22462087224068003,
          0.9213508618810443,
          1.382123867957571,
          -0.7145203155188684,
          -0.7637499403917496,
          0.37410803547132204,
          0.372442129996429,
          -0.599660356333412,
          -0.02335861163390679,
          0.4139060275767294,
          0.19756760881077232,
          0.4696597038850513,
          0.3168977038265884,
          0.28168663667665017,
          -1.116787362925828,
          0.1991967912578874,
          0.6389382678317415,
          0.13410834811540082,
          0.0031633990525533,
          -0.6308432596799884,
          1.5266337378580441,
          -0.2036437953940007,
          -2.105541619115384,
          0.5987154691588157,
          0.8289444115085323,
          -1.3488492705330655,
          -0.28987568392444796,
          -1.3420110021319405,
          0.2729186132865296,
          0.6159737529548067,
          0.7078416094987383,
          -0.5693004239201993,
          0.1797509878233235,
          -0.2736610552159289,
          1.2706296230538061,
          0.041079620995538205,
          1.5558794301479135,
          1.23589773548267
         ],
         "yaxis": "y5"
        },
        {
         "histfunc": "count",
         "histnorm": "",
         "marker": {
          "color": "rgba(55, 128, 191, 1.0)",
          "line": {
           "color": "#4D5663",
           "width": 1.3
          }
         },
         "name": "B",
         "nbinsx": 10,
         "opacity": 0.8,
         "orientation": "v",
         "type": "histogram",
         "x": [
          -0.9690244560766667,
          -0.24091027670686352,
          0.06172657545459743,
          -1.3358418161138446,
          0.4096119688660683,
          0.21648207305952347,
          1.5494564109673212,
          -0.5272035737836958,
          0.9936728832488787,
          1.6998421007416729,
          -0.5350070839408002,
          1.142373991163409,
          0.28043404231004704,
          -0.12769281150264328,
          -1.6037993962606607,
          0.5265483510398294,
          0.6901568262269182,
          0.15982885802970115,
          0.39314699605901254,
          0.11442065176845712,
          1.1243539020059987,
          1.1152052967861483,
          0.2780180827228744,
          1.4584229801030515,
          1.4978308842176264,
          -0.5437462494865144,
          0.18413726991006588,
          0.6269539326224163,
          -2.5047420918321257,
          -0.6212320955813105,
          0.08172489190197559,
          -0.6399969402483794,
          -0.15252884600524794,
          0.7774564761486727,
          0.37641731136611345,
          -0.6411375959139302,
          1.4093851243875426,
          -0.7630593139882308,
          0.10385408112188718,
          0.9157584272126849,
          0.06737938308580205,
          0.4412611451538305,
          -0.42090358284399665,
          0.4232808577387168,
          0.2761393043199375,
          1.138092905016683,
          1.8973244739280186,
          0.19108988361415394,
          0.13251187903126746,
          1.5160740123760557,
          -0.47908398458207774,
          0.2849672103236269,
          -0.3767923189387514,
          2.2667184992162563,
          1.975737356877006,
          -0.3133790957536171,
          0.42849388398643246,
          -1.1098435632620174,
          0.7432415272682933,
          0.8773264563497847,
          -1.5027064039710905,
          -0.5467087382492198,
          -0.22462087224068003,
          0.9213508618810443,
          1.382123867957571,
          -0.7145203155188684,
          -0.7637499403917496,
          0.37410803547132204,
          0.372442129996429,
          -0.599660356333412,
          -0.02335861163390679,
          0.4139060275767294,
          0.19756760881077232,
          0.4696597038850513,
          0.3168977038265884,
          0.28168663667665017,
          -1.116787362925828,
          0.1991967912578874,
          0.6389382678317415,
          0.13410834811540082,
          0.0031633990525533,
          -0.6308432596799884,
          1.5266337378580441,
          -0.2036437953940007,
          -2.105541619115384,
          0.5987154691588157,
          0.8289444115085323,
          -1.3488492705330655,
          -0.28987568392444796,
          -1.3420110021319405,
          0.2729186132865296,
          0.6159737529548067,
          0.7078416094987383,
          -0.5693004239201993,
          0.1797509878233235,
          -0.2736610552159289,
          1.2706296230538061,
          0.041079620995538205,
          1.5558794301479135,
          1.23589773548267
         ],
         "xaxis": "x6",
         "yaxis": "y6"
        },
        {
         "line": {
          "color": "rgba(128, 128, 128, 1.0)",
          "dash": "solid",
          "shape": "linear",
          "width": 1.3
         },
         "marker": {
          "size": 2,
          "symbol": "circle"
         },
         "mode": "markers",
         "name": "B",
         "text": "",
         "type": "scatter",
         "x": [
          -0.31761216767426204,
          -0.7713855262248842,
          0.6510143387152343,
          -1.1811984242585574,
          -1.1697432254377702,
          0.5489771618833647,
          1.1862225843114564,
          -0.7245272592059752,
          -0.14792973672494128,
          1.5722515552182135,
          1.4341592490956658,
          -0.8570156609414016,
          -1.680520022665643,
          -0.9680166170648011,
          1.311281663993853,
          -1.8862897337383335,
          0.2556671335044036,
          -0.42854058169515186,
          0.021496573924532865,
          -0.9301714438666704,
          -0.7784602628726872,
          0.5253013752651645,
          -1.1331607602104599,
          1.380155974255039,
          -1.4258118060932672,
          1.0519287902179193,
          -0.5483907903629059,
          -0.4736793472289787,
          0.5008072725857905,
          1.9524746034663378,
          0.7760705877414437,
          -0.7024923559689906,
          -1.0723973849428952,
          -0.08883437399867769,
          1.1516644440104995,
          0.14492508387561012,
          -1.329113015464814,
          -1.768554760981793,
          -1.1089511004990398,
          -0.9256720747159527,
          -0.607940857474674,
          -0.7643597429653168,
          2.116175430688474,
          0.5254370534840804,
          -0.8627621038011164,
          -0.18705903746517677,
          0.4969700990114964,
          1.3775880018466966,
          0.5422496160610358,
          0.585665596672673,
          1.607985533045647,
          -0.14937880582303528,
          0.31304196224506375,
          -0.949083115083279,
          1.3527610635614198,
          -0.7229800726709068,
          -0.72744238172861,
          -0.8903502064701029,
          0.19856824359792294,
          0.07938708606902466,
          -0.8048320733054841,
          0.9639879157595301,
          -0.10116584307740642,
          -0.40395266893604703,
          -1.4659250635248866,
          -1.3416566932851965,
          -0.17915563258237827,
          -1.0205832094322478,
          -1.348546808665269,
          1.244533874754698,
          -0.08330079467972014,
          -0.21109143856870685,
          -0.049408929386735294,
          -0.6357858113735209,
          0.3159283014544451,
          -1.4088745925162722,
          1.2069505204575266,
          0.5896351522404546,
          0.5686334336003075,
          0.41991449053903257,
          -0.915112909217904,
          -0.7950586560618741,
          -2.1036162765740736,
          0.30013241310694716,
          -0.7015981150125078,
          0.19965514925218483,
          -1.7509003793519868,
          0.003082167692337168,
          1.1546511368384644,
          0.46855349338478686,
          -1.4260884081435767,
          -0.12707196437390098,
          0.15753904614090358,
          0.7152257131572535,
          -0.7607448920579295,
          -0.20845227848020811,
          0.9630898870419832,
          0.07864516588430184,
          -0.6766380804599007,
          -1.7568453910546822
         ],
         "xaxis": "x7",
         "y": [
          -0.9690244560766667,
          -0.24091027670686352,
          0.06172657545459743,
          -1.3358418161138446,
          0.4096119688660683,
          0.21648207305952347,
          1.5494564109673212,
          -0.5272035737836958,
          0.9936728832488787,
          1.6998421007416729,
          -0.5350070839408002,
          1.142373991163409,
          0.28043404231004704,
          -0.12769281150264328,
          -1.6037993962606607,
          0.5265483510398294,
          0.6901568262269182,
          0.15982885802970115,
          0.39314699605901254,
          0.11442065176845712,
          1.1243539020059987,
          1.1152052967861483,
          0.2780180827228744,
          1.4584229801030515,
          1.4978308842176264,
          -0.5437462494865144,
          0.18413726991006588,
          0.6269539326224163,
          -2.5047420918321257,
          -0.6212320955813105,
          0.08172489190197559,
          -0.6399969402483794,
          -0.15252884600524794,
          0.7774564761486727,
          0.37641731136611345,
          -0.6411375959139302,
          1.4093851243875426,
          -0.7630593139882308,
          0.10385408112188718,
          0.9157584272126849,
          0.06737938308580205,
          0.4412611451538305,
          -0.42090358284399665,
          0.4232808577387168,
          0.2761393043199375,
          1.138092905016683,
          1.8973244739280186,
          0.19108988361415394,
          0.13251187903126746,
          1.5160740123760557,
          -0.47908398458207774,
          0.2849672103236269,
          -0.3767923189387514,
          2.2667184992162563,
          1.975737356877006,
          -0.3133790957536171,
          0.42849388398643246,
          -1.1098435632620174,
          0.7432415272682933,
          0.8773264563497847,
          -1.5027064039710905,
          -0.5467087382492198,
          -0.22462087224068003,
          0.9213508618810443,
          1.382123867957571,
          -0.7145203155188684,
          -0.7637499403917496,
          0.37410803547132204,
          0.372442129996429,
          -0.599660356333412,
          -0.02335861163390679,
          0.4139060275767294,
          0.19756760881077232,
          0.4696597038850513,
          0.3168977038265884,
          0.28168663667665017,
          -1.116787362925828,
          0.1991967912578874,
          0.6389382678317415,
          0.13410834811540082,
          0.0031633990525533,
          -0.6308432596799884,
          1.5266337378580441,
          -0.2036437953940007,
          -2.105541619115384,
          0.5987154691588157,
          0.8289444115085323,
          -1.3488492705330655,
          -0.28987568392444796,
          -1.3420110021319405,
          0.2729186132865296,
          0.6159737529548067,
          0.7078416094987383,
          -0.5693004239201993,
          0.1797509878233235,
          -0.2736610552159289,
          1.2706296230538061,
          0.041079620995538205,
          1.5558794301479135,
          1.23589773548267
         ],
         "yaxis": "y7"
        },
        {
         "line": {
          "color": "rgba(128, 128, 128, 1.0)",
          "dash": "solid",
          "shape": "linear",
          "width": 1.3
         },
         "marker": {
          "size": 2,
          "symbol": "circle"
         },
         "mode": "markers",
         "name": "B",
         "text": "",
         "type": "scatter",
         "x": [
          0.48402231351696223,
          -0.10224008216294853,
          0.1181167177112375,
          -1.0666352011557814,
          0.9665761653846904,
          -1.357467284764471,
          -0.9284302790533993,
          0.6345284482882199,
          -0.0740403721093706,
          -0.4639975999755965,
          0.08721289374435162,
          2.5052961075647073,
          0.43481143614950385,
          0.044696324209182695,
          1.0038024561243661,
          0.5792773036591153,
          -0.9387504452926381,
          0.38816513983244655,
          0.7125625273567961,
          -0.9014570313492231,
          0.617734999692759,
          -0.1607937369778756,
          0.47256217897592473,
          0.9849914909342756,
          -0.11588845516963875,
          0.935370911058539,
          0.6814187457481841,
          -1.093908749200606,
          -1.4770940250558757,
          -0.4681968101286804,
          0.003804239951599719,
          -0.8654816613491302,
          -0.5388942804224948,
          -0.04185039340724913,
          -1.6113178414836005,
          -0.0003678996224740092,
          0.8407392704361697,
          0.8533804774379177,
          -0.059350929952908534,
          1.0205634363676772,
          -1.7799932042531268,
          0.2317262664177079,
          -0.43506433070992123,
          0.21885734354175732,
          0.12191237624937491,
          0.18524173055924198,
          1.0448868828422513,
          -1.0693628956754957,
          -0.41071363662322125,
          -1.2017076759706053,
          0.36453795842358444,
          0.048199844587854104,
          0.06988559244102713,
          -1.302062250615279,
          2.0868259885989198,
          -0.8867554121873944,
          -0.4991233846826625,
          0.6624829896563093,
          -0.08644530990479748,
          0.05376519275306745,
          0.6105915466200568,
          1.5880147270494087,
          -2.6059443100785398,
          1.113681623122705,
          -2.4808034446004505,
          0.7950575875647712,
          -1.7216964395170653,
          0.9714435277856804,
          -0.2276106106055289,
          -0.1445109611895521,
          -1.3269143168436681,
          -2.0694832857147674,
          -0.7742834005575784,
          -0.6461480867969325,
          -0.6757574665431837,
          0.9722038475153926,
          0.9775585773247587,
          0.46947999658130235,
          0.9322149470058937,
          -0.21609438336289588,
          2.248124938605876,
          -0.32137434342729276,
          -2.438336521811027,
          0.7591164420275582,
          -0.5280112163401659,
          -0.46329575071946916,
          0.597968464659016,
          -0.6701092888978968,
          -1.2261745344221369,
          -1.2143797733898316,
          0.4103104662761871,
          -0.05196950755972925,
          -0.0706104909389996,
          -1.9771998405899995,
          1.759130100764726,
          -0.6872895951785153,
          -0.16848677083892882,
          -0.5170754348269515,
          -1.0486590728578142,
          1.6818373695865567
         ],
         "xaxis": "x8",
         "y": [
          -0.9690244560766667,
          -0.24091027670686352,
          0.06172657545459743,
          -1.3358418161138446,
          0.4096119688660683,
          0.21648207305952347,
          1.5494564109673212,
          -0.5272035737836958,
          0.9936728832488787,
          1.6998421007416729,
          -0.5350070839408002,
          1.142373991163409,
          0.28043404231004704,
          -0.12769281150264328,
          -1.6037993962606607,
          0.5265483510398294,
          0.6901568262269182,
          0.15982885802970115,
          0.39314699605901254,
          0.11442065176845712,
          1.1243539020059987,
          1.1152052967861483,
          0.2780180827228744,
          1.4584229801030515,
          1.4978308842176264,
          -0.5437462494865144,
          0.18413726991006588,
          0.6269539326224163,
          -2.5047420918321257,
          -0.6212320955813105,
          0.08172489190197559,
          -0.6399969402483794,
          -0.15252884600524794,
          0.7774564761486727,
          0.37641731136611345,
          -0.6411375959139302,
          1.4093851243875426,
          -0.7630593139882308,
          0.10385408112188718,
          0.9157584272126849,
          0.06737938308580205,
          0.4412611451538305,
          -0.42090358284399665,
          0.4232808577387168,
          0.2761393043199375,
          1.138092905016683,
          1.8973244739280186,
          0.19108988361415394,
          0.13251187903126746,
          1.5160740123760557,
          -0.47908398458207774,
          0.2849672103236269,
          -0.3767923189387514,
          2.2667184992162563,
          1.975737356877006,
          -0.3133790957536171,
          0.42849388398643246,
          -1.1098435632620174,
          0.7432415272682933,
          0.8773264563497847,
          -1.5027064039710905,
          -0.5467087382492198,
          -0.22462087224068003,
          0.9213508618810443,
          1.382123867957571,
          -0.7145203155188684,
          -0.7637499403917496,
          0.37410803547132204,
          0.372442129996429,
          -0.599660356333412,
          -0.02335861163390679,
          0.4139060275767294,
          0.19756760881077232,
          0.4696597038850513,
          0.3168977038265884,
          0.28168663667665017,
          -1.116787362925828,
          0.1991967912578874,
          0.6389382678317415,
          0.13410834811540082,
          0.0031633990525533,
          -0.6308432596799884,
          1.5266337378580441,
          -0.2036437953940007,
          -2.105541619115384,
          0.5987154691588157,
          0.8289444115085323,
          -1.3488492705330655,
          -0.28987568392444796,
          -1.3420110021319405,
          0.2729186132865296,
          0.6159737529548067,
          0.7078416094987383,
          -0.5693004239201993,
          0.1797509878233235,
          -0.2736610552159289,
          1.2706296230538061,
          0.041079620995538205,
          1.5558794301479135,
          1.23589773548267
         ],
         "yaxis": "y8"
        },
        {
         "line": {
          "color": "rgba(128, 128, 128, 1.0)",
          "dash": "solid",
          "shape": "linear",
          "width": 1.3
         },
         "marker": {
          "size": 2,
          "symbol": "circle"
         },
         "mode": "markers",
         "name": "C",
         "text": "",
         "type": "scatter",
         "x": [
          -1.3402016232243987,
          -0.649020214887379,
          -0.1682257323904412,
          2.193351046396256,
          -0.03573185326863341,
          -1.0307989329934075,
          -0.31001491329916697,
          0.22297126297492637,
          0.6122609371476259,
          -2.117750882736682,
          0.3272545474121727,
          1.1386299196654515,
          -0.4154436052538386,
          1.0779279014688374,
          -0.33924919653852054,
          -0.05106266578488151,
          -1.2273122208986817,
          0.13163095652086673,
          0.6861422996774701,
          -1.4929644029779623,
          0.7150917642789755,
          1.814864989428972,
          0.9247864218619752,
          0.1584202308262772,
          1.3776632444592147,
          -0.8326001639401515,
          1.181045793801218,
          -0.374786520171287,
          -1.0314030959357248,
          -1.405302986742882,
          1.307505538855658,
          0.28061501742315353,
          -0.27765619411536585,
          1.037160257723475,
          -0.06440534965266251,
          -0.793112145628941,
          -2.123781691651395,
          0.7175911466979235,
          -0.9935809840486913,
          0.102082618948086,
          2.5401308092916937,
          0.6994358348094193,
          0.37786736051270964,
          0.36914437145631324,
          -0.18534855714732013,
          -0.2839090460128509,
          -0.6674685004133002,
          -1.1939521780587363,
          0.22405329359385473,
          0.30397583811713497,
          2.150058233613433,
          -0.6912701612509979,
          0.24011301797624413,
          -0.8920054636597202,
          -1.1362101375723168,
          -0.2445198402137013,
          -1.464257619736692,
          -1.131466171469585,
          0.5006879161128014,
          -0.0060776854956445915,
          -0.24392875687830465,
          0.6797274182867651,
          -0.029234509609762142,
          -1.062499955977877,
          0.6439254781690764,
          0.5783337153396132,
          -0.1944123189471814,
          -0.2167287075789601,
          -0.024164469729240884,
          0.05793902626343979,
          0.8986897207398744,
          1.0031118779125756,
          2.031724621187272,
          -0.10250037152497271,
          -1.1186755466234815,
          -1.1843577588561136,
          -1.5662760148060901,
          -1.219161823281136,
          -1.1593766556630698,
          -0.027439127229870085,
          0.018316738046942258,
          -0.6922784874155976,
          0.07979753670333341,
          0.22962384107885242,
          0.20152715612661043,
          -0.3285086721135077,
          -0.4779892642970852,
          -0.42324897569430525,
          -2.738587292705288,
          -0.35618875561801133,
          1.1560776988758348,
          -0.7923919414392832,
          0.7825784632218197,
          0.08966821419878798,
          -0.6329579247795905,
          -0.375129963188778,
          -0.8639214742522782,
          0.40125309184897434,
          0.5185039514250023,
          0.05590068286289588
         ],
         "xaxis": "x9",
         "y": [
          -0.31761216767426204,
          -0.7713855262248842,
          0.6510143387152343,
          -1.1811984242585574,
          -1.1697432254377702,
          0.5489771618833647,
          1.1862225843114564,
          -0.7245272592059752,
          -0.14792973672494128,
          1.5722515552182135,
          1.4341592490956658,
          -0.8570156609414016,
          -1.680520022665643,
          -0.9680166170648011,
          1.311281663993853,
          -1.8862897337383335,
          0.2556671335044036,
          -0.42854058169515186,
          0.021496573924532865,
          -0.9301714438666704,
          -0.7784602628726872,
          0.5253013752651645,
          -1.1331607602104599,
          1.380155974255039,
          -1.4258118060932672,
          1.0519287902179193,
          -0.5483907903629059,
          -0.4736793472289787,
          0.5008072725857905,
          1.9524746034663378,
          0.7760705877414437,
          -0.7024923559689906,
          -1.0723973849428952,
          -0.08883437399867769,
          1.1516644440104995,
          0.14492508387561012,
          -1.329113015464814,
          -1.768554760981793,
          -1.1089511004990398,
          -0.9256720747159527,
          -0.607940857474674,
          -0.7643597429653168,
          2.116175430688474,
          0.5254370534840804,
          -0.8627621038011164,
          -0.18705903746517677,
          0.4969700990114964,
          1.3775880018466966,
          0.5422496160610358,
          0.585665596672673,
          1.607985533045647,
          -0.14937880582303528,
          0.31304196224506375,
          -0.949083115083279,
          1.3527610635614198,
          -0.7229800726709068,
          -0.72744238172861,
          -0.8903502064701029,
          0.19856824359792294,
          0.07938708606902466,
          -0.8048320733054841,
          0.9639879157595301,
          -0.10116584307740642,
          -0.40395266893604703,
          -1.4659250635248866,
          -1.3416566932851965,
          -0.17915563258237827,
          -1.0205832094322478,
          -1.348546808665269,
          1.244533874754698,
          -0.08330079467972014,
          -0.21109143856870685,
          -0.049408929386735294,
          -0.6357858113735209,
          0.3159283014544451,
          -1.4088745925162722,
          1.2069505204575266,
          0.5896351522404546,
          0.5686334336003075,
          0.41991449053903257,
          -0.915112909217904,
          -0.7950586560618741,
          -2.1036162765740736,
          0.30013241310694716,
          -0.7015981150125078,
          0.19965514925218483,
          -1.7509003793519868,
          0.003082167692337168,
          1.1546511368384644,
          0.46855349338478686,
          -1.4260884081435767,
          -0.12707196437390098,
          0.15753904614090358,
          0.7152257131572535,
          -0.7607448920579295,
          -0.20845227848020811,
          0.9630898870419832,
          0.07864516588430184,
          -0.6766380804599007,
          -1.7568453910546822
         ],
         "yaxis": "y9"
        },
        {
         "line": {
          "color": "rgba(128, 128, 128, 1.0)",
          "dash": "solid",
          "shape": "linear",
          "width": 1.3
         },
         "marker": {
          "size": 2,
          "symbol": "circle"
         },
         "mode": "markers",
         "name": "C",
         "text": "",
         "type": "scatter",
         "x": [
          -0.9690244560766667,
          -0.24091027670686352,
          0.06172657545459743,
          -1.3358418161138446,
          0.4096119688660683,
          0.21648207305952347,
          1.5494564109673212,
          -0.5272035737836958,
          0.9936728832488787,
          1.6998421007416729,
          -0.5350070839408002,
          1.142373991163409,
          0.28043404231004704,
          -0.12769281150264328,
          -1.6037993962606607,
          0.5265483510398294,
          0.6901568262269182,
          0.15982885802970115,
          0.39314699605901254,
          0.11442065176845712,
          1.1243539020059987,
          1.1152052967861483,
          0.2780180827228744,
          1.4584229801030515,
          1.4978308842176264,
          -0.5437462494865144,
          0.18413726991006588,
          0.6269539326224163,
          -2.5047420918321257,
          -0.6212320955813105,
          0.08172489190197559,
          -0.6399969402483794,
          -0.15252884600524794,
          0.7774564761486727,
          0.37641731136611345,
          -0.6411375959139302,
          1.4093851243875426,
          -0.7630593139882308,
          0.10385408112188718,
          0.9157584272126849,
          0.06737938308580205,
          0.4412611451538305,
          -0.42090358284399665,
          0.4232808577387168,
          0.2761393043199375,
          1.138092905016683,
          1.8973244739280186,
          0.19108988361415394,
          0.13251187903126746,
          1.5160740123760557,
          -0.47908398458207774,
          0.2849672103236269,
          -0.3767923189387514,
          2.2667184992162563,
          1.975737356877006,
          -0.3133790957536171,
          0.42849388398643246,
          -1.1098435632620174,
          0.7432415272682933,
          0.8773264563497847,
          -1.5027064039710905,
          -0.5467087382492198,
          -0.22462087224068003,
          0.9213508618810443,
          1.382123867957571,
          -0.7145203155188684,
          -0.7637499403917496,
          0.37410803547132204,
          0.372442129996429,
          -0.599660356333412,
          -0.02335861163390679,
          0.4139060275767294,
          0.19756760881077232,
          0.4696597038850513,
          0.3168977038265884,
          0.28168663667665017,
          -1.116787362925828,
          0.1991967912578874,
          0.6389382678317415,
          0.13410834811540082,
          0.0031633990525533,
          -0.6308432596799884,
          1.5266337378580441,
          -0.2036437953940007,
          -2.105541619115384,
          0.5987154691588157,
          0.8289444115085323,
          -1.3488492705330655,
          -0.28987568392444796,
          -1.3420110021319405,
          0.2729186132865296,
          0.6159737529548067,
          0.7078416094987383,
          -0.5693004239201993,
          0.1797509878233235,
          -0.2736610552159289,
          1.2706296230538061,
          0.041079620995538205,
          1.5558794301479135,
          1.23589773548267
         ],
         "xaxis": "x10",
         "y": [
          -0.31761216767426204,
          -0.7713855262248842,
          0.6510143387152343,
          -1.1811984242585574,
          -1.1697432254377702,
          0.5489771618833647,
          1.1862225843114564,
          -0.7245272592059752,
          -0.14792973672494128,
          1.5722515552182135,
          1.4341592490956658,
          -0.8570156609414016,
          -1.680520022665643,
          -0.9680166170648011,
          1.311281663993853,
          -1.8862897337383335,
          0.2556671335044036,
          -0.42854058169515186,
          0.021496573924532865,
          -0.9301714438666704,
          -0.7784602628726872,
          0.5253013752651645,
          -1.1331607602104599,
          1.380155974255039,
          -1.4258118060932672,
          1.0519287902179193,
          -0.5483907903629059,
          -0.4736793472289787,
          0.5008072725857905,
          1.9524746034663378,
          0.7760705877414437,
          -0.7024923559689906,
          -1.0723973849428952,
          -0.08883437399867769,
          1.1516644440104995,
          0.14492508387561012,
          -1.329113015464814,
          -1.768554760981793,
          -1.1089511004990398,
          -0.9256720747159527,
          -0.607940857474674,
          -0.7643597429653168,
          2.116175430688474,
          0.5254370534840804,
          -0.8627621038011164,
          -0.18705903746517677,
          0.4969700990114964,
          1.3775880018466966,
          0.5422496160610358,
          0.585665596672673,
          1.607985533045647,
          -0.14937880582303528,
          0.31304196224506375,
          -0.949083115083279,
          1.3527610635614198,
          -0.7229800726709068,
          -0.72744238172861,
          -0.8903502064701029,
          0.19856824359792294,
          0.07938708606902466,
          -0.8048320733054841,
          0.9639879157595301,
          -0.10116584307740642,
          -0.40395266893604703,
          -1.4659250635248866,
          -1.3416566932851965,
          -0.17915563258237827,
          -1.0205832094322478,
          -1.348546808665269,
          1.244533874754698,
          -0.08330079467972014,
          -0.21109143856870685,
          -0.049408929386735294,
          -0.6357858113735209,
          0.3159283014544451,
          -1.4088745925162722,
          1.2069505204575266,
          0.5896351522404546,
          0.5686334336003075,
          0.41991449053903257,
          -0.915112909217904,
          -0.7950586560618741,
          -2.1036162765740736,
          0.30013241310694716,
          -0.7015981150125078,
          0.19965514925218483,
          -1.7509003793519868,
          0.003082167692337168,
          1.1546511368384644,
          0.46855349338478686,
          -1.4260884081435767,
          -0.12707196437390098,
          0.15753904614090358,
          0.7152257131572535,
          -0.7607448920579295,
          -0.20845227848020811,
          0.9630898870419832,
          0.07864516588430184,
          -0.6766380804599007,
          -1.7568453910546822
         ],
         "yaxis": "y10"
        },
        {
         "histfunc": "count",
         "histnorm": "",
         "marker": {
          "color": "rgba(50, 171, 96, 1.0)",
          "line": {
           "color": "#4D5663",
           "width": 1.3
          }
         },
         "name": "C",
         "nbinsx": 10,
         "opacity": 0.8,
         "orientation": "v",
         "type": "histogram",
         "x": [
          -0.31761216767426204,
          -0.7713855262248842,
          0.6510143387152343,
          -1.1811984242585574,
          -1.1697432254377702,
          0.5489771618833647,
          1.1862225843114564,
          -0.7245272592059752,
          -0.14792973672494128,
          1.5722515552182135,
          1.4341592490956658,
          -0.8570156609414016,
          -1.680520022665643,
          -0.9680166170648011,
          1.311281663993853,
          -1.8862897337383335,
          0.2556671335044036,
          -0.42854058169515186,
          0.021496573924532865,
          -0.9301714438666704,
          -0.7784602628726872,
          0.5253013752651645,
          -1.1331607602104599,
          1.380155974255039,
          -1.4258118060932672,
          1.0519287902179193,
          -0.5483907903629059,
          -0.4736793472289787,
          0.5008072725857905,
          1.9524746034663378,
          0.7760705877414437,
          -0.7024923559689906,
          -1.0723973849428952,
          -0.08883437399867769,
          1.1516644440104995,
          0.14492508387561012,
          -1.329113015464814,
          -1.768554760981793,
          -1.1089511004990398,
          -0.9256720747159527,
          -0.607940857474674,
          -0.7643597429653168,
          2.116175430688474,
          0.5254370534840804,
          -0.8627621038011164,
          -0.18705903746517677,
          0.4969700990114964,
          1.3775880018466966,
          0.5422496160610358,
          0.585665596672673,
          1.607985533045647,
          -0.14937880582303528,
          0.31304196224506375,
          -0.949083115083279,
          1.3527610635614198,
          -0.7229800726709068,
          -0.72744238172861,
          -0.8903502064701029,
          0.19856824359792294,
          0.07938708606902466,
          -0.8048320733054841,
          0.9639879157595301,
          -0.10116584307740642,
          -0.40395266893604703,
          -1.4659250635248866,
          -1.3416566932851965,
          -0.17915563258237827,
          -1.0205832094322478,
          -1.348546808665269,
          1.244533874754698,
          -0.08330079467972014,
          -0.21109143856870685,
          -0.049408929386735294,
          -0.6357858113735209,
          0.3159283014544451,
          -1.4088745925162722,
          1.2069505204575266,
          0.5896351522404546,
          0.5686334336003075,
          0.41991449053903257,
          -0.915112909217904,
          -0.7950586560618741,
          -2.1036162765740736,
          0.30013241310694716,
          -0.7015981150125078,
          0.19965514925218483,
          -1.7509003793519868,
          0.003082167692337168,
          1.1546511368384644,
          0.46855349338478686,
          -1.4260884081435767,
          -0.12707196437390098,
          0.15753904614090358,
          0.7152257131572535,
          -0.7607448920579295,
          -0.20845227848020811,
          0.9630898870419832,
          0.07864516588430184,
          -0.6766380804599007,
          -1.7568453910546822
         ],
         "xaxis": "x11",
         "yaxis": "y11"
        },
        {
         "line": {
          "color": "rgba(128, 128, 128, 1.0)",
          "dash": "solid",
          "shape": "linear",
          "width": 1.3
         },
         "marker": {
          "size": 2,
          "symbol": "circle"
         },
         "mode": "markers",
         "name": "C",
         "text": "",
         "type": "scatter",
         "x": [
          0.48402231351696223,
          -0.10224008216294853,
          0.1181167177112375,
          -1.0666352011557814,
          0.9665761653846904,
          -1.357467284764471,
          -0.9284302790533993,
          0.6345284482882199,
          -0.0740403721093706,
          -0.4639975999755965,
          0.08721289374435162,
          2.5052961075647073,
          0.43481143614950385,
          0.044696324209182695,
          1.0038024561243661,
          0.5792773036591153,
          -0.9387504452926381,
          0.38816513983244655,
          0.7125625273567961,
          -0.9014570313492231,
          0.617734999692759,
          -0.1607937369778756,
          0.47256217897592473,
          0.9849914909342756,
          -0.11588845516963875,
          0.935370911058539,
          0.6814187457481841,
          -1.093908749200606,
          -1.4770940250558757,
          -0.4681968101286804,
          0.003804239951599719,
          -0.8654816613491302,
          -0.5388942804224948,
          -0.04185039340724913,
          -1.6113178414836005,
          -0.0003678996224740092,
          0.8407392704361697,
          0.8533804774379177,
          -0.059350929952908534,
          1.0205634363676772,
          -1.7799932042531268,
          0.2317262664177079,
          -0.43506433070992123,
          0.21885734354175732,
          0.12191237624937491,
          0.18524173055924198,
          1.0448868828422513,
          -1.0693628956754957,
          -0.41071363662322125,
          -1.2017076759706053,
          0.36453795842358444,
          0.048199844587854104,
          0.06988559244102713,
          -1.302062250615279,
          2.0868259885989198,
          -0.8867554121873944,
          -0.4991233846826625,
          0.6624829896563093,
          -0.08644530990479748,
          0.05376519275306745,
          0.6105915466200568,
          1.5880147270494087,
          -2.6059443100785398,
          1.113681623122705,
          -2.4808034446004505,
          0.7950575875647712,
          -1.7216964395170653,
          0.9714435277856804,
          -0.2276106106055289,
          -0.1445109611895521,
          -1.3269143168436681,
          -2.0694832857147674,
          -0.7742834005575784,
          -0.6461480867969325,
          -0.6757574665431837,
          0.9722038475153926,
          0.9775585773247587,
          0.46947999658130235,
          0.9322149470058937,
          -0.21609438336289588,
          2.248124938605876,
          -0.32137434342729276,
          -2.438336521811027,
          0.7591164420275582,
          -0.5280112163401659,
          -0.46329575071946916,
          0.597968464659016,
          -0.6701092888978968,
          -1.2261745344221369,
          -1.2143797733898316,
          0.4103104662761871,
          -0.05196950755972925,
          -0.0706104909389996,
          -1.9771998405899995,
          1.759130100764726,
          -0.6872895951785153,
          -0.16848677083892882,
          -0.5170754348269515,
          -1.0486590728578142,
          1.6818373695865567
         ],
         "xaxis": "x12",
         "y": [
          -0.31761216767426204,
          -0.7713855262248842,
          0.6510143387152343,
          -1.1811984242585574,
          -1.1697432254377702,
          0.5489771618833647,
          1.1862225843114564,
          -0.7245272592059752,
          -0.14792973672494128,
          1.5722515552182135,
          1.4341592490956658,
          -0.8570156609414016,
          -1.680520022665643,
          -0.9680166170648011,
          1.311281663993853,
          -1.8862897337383335,
          0.2556671335044036,
          -0.42854058169515186,
          0.021496573924532865,
          -0.9301714438666704,
          -0.7784602628726872,
          0.5253013752651645,
          -1.1331607602104599,
          1.380155974255039,
          -1.4258118060932672,
          1.0519287902179193,
          -0.5483907903629059,
          -0.4736793472289787,
          0.5008072725857905,
          1.9524746034663378,
          0.7760705877414437,
          -0.7024923559689906,
          -1.0723973849428952,
          -0.08883437399867769,
          1.1516644440104995,
          0.14492508387561012,
          -1.329113015464814,
          -1.768554760981793,
          -1.1089511004990398,
          -0.9256720747159527,
          -0.607940857474674,
          -0.7643597429653168,
          2.116175430688474,
          0.5254370534840804,
          -0.8627621038011164,
          -0.18705903746517677,
          0.4969700990114964,
          1.3775880018466966,
          0.5422496160610358,
          0.585665596672673,
          1.607985533045647,
          -0.14937880582303528,
          0.31304196224506375,
          -0.949083115083279,
          1.3527610635614198,
          -0.7229800726709068,
          -0.72744238172861,
          -0.8903502064701029,
          0.19856824359792294,
          0.07938708606902466,
          -0.8048320733054841,
          0.9639879157595301,
          -0.10116584307740642,
          -0.40395266893604703,
          -1.4659250635248866,
          -1.3416566932851965,
          -0.17915563258237827,
          -1.0205832094322478,
          -1.348546808665269,
          1.244533874754698,
          -0.08330079467972014,
          -0.21109143856870685,
          -0.049408929386735294,
          -0.6357858113735209,
          0.3159283014544451,
          -1.4088745925162722,
          1.2069505204575266,
          0.5896351522404546,
          0.5686334336003075,
          0.41991449053903257,
          -0.915112909217904,
          -0.7950586560618741,
          -2.1036162765740736,
          0.30013241310694716,
          -0.7015981150125078,
          0.19965514925218483,
          -1.7509003793519868,
          0.003082167692337168,
          1.1546511368384644,
          0.46855349338478686,
          -1.4260884081435767,
          -0.12707196437390098,
          0.15753904614090358,
          0.7152257131572535,
          -0.7607448920579295,
          -0.20845227848020811,
          0.9630898870419832,
          0.07864516588430184,
          -0.6766380804599007,
          -1.7568453910546822
         ],
         "yaxis": "y12"
        },
        {
         "line": {
          "color": "rgba(128, 128, 128, 1.0)",
          "dash": "solid",
          "shape": "linear",
          "width": 1.3
         },
         "marker": {
          "size": 2,
          "symbol": "circle"
         },
         "mode": "markers",
         "name": "D",
         "text": "",
         "type": "scatter",
         "x": [
          -1.3402016232243987,
          -0.649020214887379,
          -0.1682257323904412,
          2.193351046396256,
          -0.03573185326863341,
          -1.0307989329934075,
          -0.31001491329916697,
          0.22297126297492637,
          0.6122609371476259,
          -2.117750882736682,
          0.3272545474121727,
          1.1386299196654515,
          -0.4154436052538386,
          1.0779279014688374,
          -0.33924919653852054,
          -0.05106266578488151,
          -1.2273122208986817,
          0.13163095652086673,
          0.6861422996774701,
          -1.4929644029779623,
          0.7150917642789755,
          1.814864989428972,
          0.9247864218619752,
          0.1584202308262772,
          1.3776632444592147,
          -0.8326001639401515,
          1.181045793801218,
          -0.374786520171287,
          -1.0314030959357248,
          -1.405302986742882,
          1.307505538855658,
          0.28061501742315353,
          -0.27765619411536585,
          1.037160257723475,
          -0.06440534965266251,
          -0.793112145628941,
          -2.123781691651395,
          0.7175911466979235,
          -0.9935809840486913,
          0.102082618948086,
          2.5401308092916937,
          0.6994358348094193,
          0.37786736051270964,
          0.36914437145631324,
          -0.18534855714732013,
          -0.2839090460128509,
          -0.6674685004133002,
          -1.1939521780587363,
          0.22405329359385473,
          0.30397583811713497,
          2.150058233613433,
          -0.6912701612509979,
          0.24011301797624413,
          -0.8920054636597202,
          -1.1362101375723168,
          -0.2445198402137013,
          -1.464257619736692,
          -1.131466171469585,
          0.5006879161128014,
          -0.0060776854956445915,
          -0.24392875687830465,
          0.6797274182867651,
          -0.029234509609762142,
          -1.062499955977877,
          0.6439254781690764,
          0.5783337153396132,
          -0.1944123189471814,
          -0.2167287075789601,
          -0.024164469729240884,
          0.05793902626343979,
          0.8986897207398744,
          1.0031118779125756,
          2.031724621187272,
          -0.10250037152497271,
          -1.1186755466234815,
          -1.1843577588561136,
          -1.5662760148060901,
          -1.219161823281136,
          -1.1593766556630698,
          -0.027439127229870085,
          0.018316738046942258,
          -0.6922784874155976,
          0.07979753670333341,
          0.22962384107885242,
          0.20152715612661043,
          -0.3285086721135077,
          -0.4779892642970852,
          -0.42324897569430525,
          -2.738587292705288,
          -0.35618875561801133,
          1.1560776988758348,
          -0.7923919414392832,
          0.7825784632218197,
          0.08966821419878798,
          -0.6329579247795905,
          -0.375129963188778,
          -0.8639214742522782,
          0.40125309184897434,
          0.5185039514250023,
          0.05590068286289588
         ],
         "xaxis": "x13",
         "y": [
          0.48402231351696223,
          -0.10224008216294853,
          0.1181167177112375,
          -1.0666352011557814,
          0.9665761653846904,
          -1.357467284764471,
          -0.9284302790533993,
          0.6345284482882199,
          -0.0740403721093706,
          -0.4639975999755965,
          0.08721289374435162,
          2.5052961075647073,
          0.43481143614950385,
          0.044696324209182695,
          1.0038024561243661,
          0.5792773036591153,
          -0.9387504452926381,
          0.38816513983244655,
          0.7125625273567961,
          -0.9014570313492231,
          0.617734999692759,
          -0.1607937369778756,
          0.47256217897592473,
          0.9849914909342756,
          -0.11588845516963875,
          0.935370911058539,
          0.6814187457481841,
          -1.093908749200606,
          -1.4770940250558757,
          -0.4681968101286804,
          0.003804239951599719,
          -0.8654816613491302,
          -0.5388942804224948,
          -0.04185039340724913,
          -1.6113178414836005,
          -0.0003678996224740092,
          0.8407392704361697,
          0.8533804774379177,
          -0.059350929952908534,
          1.0205634363676772,
          -1.7799932042531268,
          0.2317262664177079,
          -0.43506433070992123,
          0.21885734354175732,
          0.12191237624937491,
          0.18524173055924198,
          1.0448868828422513,
          -1.0693628956754957,
          -0.41071363662322125,
          -1.2017076759706053,
          0.36453795842358444,
          0.048199844587854104,
          0.06988559244102713,
          -1.302062250615279,
          2.0868259885989198,
          -0.8867554121873944,
          -0.4991233846826625,
          0.6624829896563093,
          -0.08644530990479748,
          0.05376519275306745,
          0.6105915466200568,
          1.5880147270494087,
          -2.6059443100785398,
          1.113681623122705,
          -2.4808034446004505,
          0.7950575875647712,
          -1.7216964395170653,
          0.9714435277856804,
          -0.2276106106055289,
          -0.1445109611895521,
          -1.3269143168436681,
          -2.0694832857147674,
          -0.7742834005575784,
          -0.6461480867969325,
          -0.6757574665431837,
          0.9722038475153926,
          0.9775585773247587,
          0.46947999658130235,
          0.9322149470058937,
          -0.21609438336289588,
          2.248124938605876,
          -0.32137434342729276,
          -2.438336521811027,
          0.7591164420275582,
          -0.5280112163401659,
          -0.46329575071946916,
          0.597968464659016,
          -0.6701092888978968,
          -1.2261745344221369,
          -1.2143797733898316,
          0.4103104662761871,
          -0.05196950755972925,
          -0.0706104909389996,
          -1.9771998405899995,
          1.759130100764726,
          -0.6872895951785153,
          -0.16848677083892882,
          -0.5170754348269515,
          -1.0486590728578142,
          1.6818373695865567
         ],
         "yaxis": "y13"
        },
        {
         "line": {
          "color": "rgba(128, 128, 128, 1.0)",
          "dash": "solid",
          "shape": "linear",
          "width": 1.3
         },
         "marker": {
          "size": 2,
          "symbol": "circle"
         },
         "mode": "markers",
         "name": "D",
         "text": "",
         "type": "scatter",
         "x": [
          -0.9690244560766667,
          -0.24091027670686352,
          0.06172657545459743,
          -1.3358418161138446,
          0.4096119688660683,
          0.21648207305952347,
          1.5494564109673212,
          -0.5272035737836958,
          0.9936728832488787,
          1.6998421007416729,
          -0.5350070839408002,
          1.142373991163409,
          0.28043404231004704,
          -0.12769281150264328,
          -1.6037993962606607,
          0.5265483510398294,
          0.6901568262269182,
          0.15982885802970115,
          0.39314699605901254,
          0.11442065176845712,
          1.1243539020059987,
          1.1152052967861483,
          0.2780180827228744,
          1.4584229801030515,
          1.4978308842176264,
          -0.5437462494865144,
          0.18413726991006588,
          0.6269539326224163,
          -2.5047420918321257,
          -0.6212320955813105,
          0.08172489190197559,
          -0.6399969402483794,
          -0.15252884600524794,
          0.7774564761486727,
          0.37641731136611345,
          -0.6411375959139302,
          1.4093851243875426,
          -0.7630593139882308,
          0.10385408112188718,
          0.9157584272126849,
          0.06737938308580205,
          0.4412611451538305,
          -0.42090358284399665,
          0.4232808577387168,
          0.2761393043199375,
          1.138092905016683,
          1.8973244739280186,
          0.19108988361415394,
          0.13251187903126746,
          1.5160740123760557,
          -0.47908398458207774,
          0.2849672103236269,
          -0.3767923189387514,
          2.2667184992162563,
          1.975737356877006,
          -0.3133790957536171,
          0.42849388398643246,
          -1.1098435632620174,
          0.7432415272682933,
          0.8773264563497847,
          -1.5027064039710905,
          -0.5467087382492198,
          -0.22462087224068003,
          0.9213508618810443,
          1.382123867957571,
          -0.7145203155188684,
          -0.7637499403917496,
          0.37410803547132204,
          0.372442129996429,
          -0.599660356333412,
          -0.02335861163390679,
          0.4139060275767294,
          0.19756760881077232,
          0.4696597038850513,
          0.3168977038265884,
          0.28168663667665017,
          -1.116787362925828,
          0.1991967912578874,
          0.6389382678317415,
          0.13410834811540082,
          0.0031633990525533,
          -0.6308432596799884,
          1.5266337378580441,
          -0.2036437953940007,
          -2.105541619115384,
          0.5987154691588157,
          0.8289444115085323,
          -1.3488492705330655,
          -0.28987568392444796,
          -1.3420110021319405,
          0.2729186132865296,
          0.6159737529548067,
          0.7078416094987383,
          -0.5693004239201993,
          0.1797509878233235,
          -0.2736610552159289,
          1.2706296230538061,
          0.041079620995538205,
          1.5558794301479135,
          1.23589773548267
         ],
         "xaxis": "x14",
         "y": [
          0.48402231351696223,
          -0.10224008216294853,
          0.1181167177112375,
          -1.0666352011557814,
          0.9665761653846904,
          -1.357467284764471,
          -0.9284302790533993,
          0.6345284482882199,
          -0.0740403721093706,
          -0.4639975999755965,
          0.08721289374435162,
          2.5052961075647073,
          0.43481143614950385,
          0.044696324209182695,
          1.0038024561243661,
          0.5792773036591153,
          -0.9387504452926381,
          0.38816513983244655,
          0.7125625273567961,
          -0.9014570313492231,
          0.617734999692759,
          -0.1607937369778756,
          0.47256217897592473,
          0.9849914909342756,
          -0.11588845516963875,
          0.935370911058539,
          0.6814187457481841,
          -1.093908749200606,
          -1.4770940250558757,
          -0.4681968101286804,
          0.003804239951599719,
          -0.8654816613491302,
          -0.5388942804224948,
          -0.04185039340724913,
          -1.6113178414836005,
          -0.0003678996224740092,
          0.8407392704361697,
          0.8533804774379177,
          -0.059350929952908534,
          1.0205634363676772,
          -1.7799932042531268,
          0.2317262664177079,
          -0.43506433070992123,
          0.21885734354175732,
          0.12191237624937491,
          0.18524173055924198,
          1.0448868828422513,
          -1.0693628956754957,
          -0.41071363662322125,
          -1.2017076759706053,
          0.36453795842358444,
          0.048199844587854104,
          0.06988559244102713,
          -1.302062250615279,
          2.0868259885989198,
          -0.8867554121873944,
          -0.4991233846826625,
          0.6624829896563093,
          -0.08644530990479748,
          0.05376519275306745,
          0.6105915466200568,
          1.5880147270494087,
          -2.6059443100785398,
          1.113681623122705,
          -2.4808034446004505,
          0.7950575875647712,
          -1.7216964395170653,
          0.9714435277856804,
          -0.2276106106055289,
          -0.1445109611895521,
          -1.3269143168436681,
          -2.0694832857147674,
          -0.7742834005575784,
          -0.6461480867969325,
          -0.6757574665431837,
          0.9722038475153926,
          0.9775585773247587,
          0.46947999658130235,
          0.9322149470058937,
          -0.21609438336289588,
          2.248124938605876,
          -0.32137434342729276,
          -2.438336521811027,
          0.7591164420275582,
          -0.5280112163401659,
          -0.46329575071946916,
          0.597968464659016,
          -0.6701092888978968,
          -1.2261745344221369,
          -1.2143797733898316,
          0.4103104662761871,
          -0.05196950755972925,
          -0.0706104909389996,
          -1.9771998405899995,
          1.759130100764726,
          -0.6872895951785153,
          -0.16848677083892882,
          -0.5170754348269515,
          -1.0486590728578142,
          1.6818373695865567
         ],
         "yaxis": "y14"
        },
        {
         "line": {
          "color": "rgba(128, 128, 128, 1.0)",
          "dash": "solid",
          "shape": "linear",
          "width": 1.3
         },
         "marker": {
          "size": 2,
          "symbol": "circle"
         },
         "mode": "markers",
         "name": "D",
         "text": "",
         "type": "scatter",
         "x": [
          -0.31761216767426204,
          -0.7713855262248842,
          0.6510143387152343,
          -1.1811984242585574,
          -1.1697432254377702,
          0.5489771618833647,
          1.1862225843114564,
          -0.7245272592059752,
          -0.14792973672494128,
          1.5722515552182135,
          1.4341592490956658,
          -0.8570156609414016,
          -1.680520022665643,
          -0.9680166170648011,
          1.311281663993853,
          -1.8862897337383335,
          0.2556671335044036,
          -0.42854058169515186,
          0.021496573924532865,
          -0.9301714438666704,
          -0.7784602628726872,
          0.5253013752651645,
          -1.1331607602104599,
          1.380155974255039,
          -1.4258118060932672,
          1.0519287902179193,
          -0.5483907903629059,
          -0.4736793472289787,
          0.5008072725857905,
          1.9524746034663378,
          0.7760705877414437,
          -0.7024923559689906,
          -1.0723973849428952,
          -0.08883437399867769,
          1.1516644440104995,
          0.14492508387561012,
          -1.329113015464814,
          -1.768554760981793,
          -1.1089511004990398,
          -0.9256720747159527,
          -0.607940857474674,
          -0.7643597429653168,
          2.116175430688474,
          0.5254370534840804,
          -0.8627621038011164,
          -0.18705903746517677,
          0.4969700990114964,
          1.3775880018466966,
          0.5422496160610358,
          0.585665596672673,
          1.607985533045647,
          -0.14937880582303528,
          0.31304196224506375,
          -0.949083115083279,
          1.3527610635614198,
          -0.7229800726709068,
          -0.72744238172861,
          -0.8903502064701029,
          0.19856824359792294,
          0.07938708606902466,
          -0.8048320733054841,
          0.9639879157595301,
          -0.10116584307740642,
          -0.40395266893604703,
          -1.4659250635248866,
          -1.3416566932851965,
          -0.17915563258237827,
          -1.0205832094322478,
          -1.348546808665269,
          1.244533874754698,
          -0.08330079467972014,
          -0.21109143856870685,
          -0.049408929386735294,
          -0.6357858113735209,
          0.3159283014544451,
          -1.4088745925162722,
          1.2069505204575266,
          0.5896351522404546,
          0.5686334336003075,
          0.41991449053903257,
          -0.915112909217904,
          -0.7950586560618741,
          -2.1036162765740736,
          0.30013241310694716,
          -0.7015981150125078,
          0.19965514925218483,
          -1.7509003793519868,
          0.003082167692337168,
          1.1546511368384644,
          0.46855349338478686,
          -1.4260884081435767,
          -0.12707196437390098,
          0.15753904614090358,
          0.7152257131572535,
          -0.7607448920579295,
          -0.20845227848020811,
          0.9630898870419832,
          0.07864516588430184,
          -0.6766380804599007,
          -1.7568453910546822
         ],
         "xaxis": "x15",
         "y": [
          0.48402231351696223,
          -0.10224008216294853,
          0.1181167177112375,
          -1.0666352011557814,
          0.9665761653846904,
          -1.357467284764471,
          -0.9284302790533993,
          0.6345284482882199,
          -0.0740403721093706,
          -0.4639975999755965,
          0.08721289374435162,
          2.5052961075647073,
          0.43481143614950385,
          0.044696324209182695,
          1.0038024561243661,
          0.5792773036591153,
          -0.9387504452926381,
          0.38816513983244655,
          0.7125625273567961,
          -0.9014570313492231,
          0.617734999692759,
          -0.1607937369778756,
          0.47256217897592473,
          0.9849914909342756,
          -0.11588845516963875,
          0.935370911058539,
          0.6814187457481841,
          -1.093908749200606,
          -1.4770940250558757,
          -0.4681968101286804,
          0.003804239951599719,
          -0.8654816613491302,
          -0.5388942804224948,
          -0.04185039340724913,
          -1.6113178414836005,
          -0.0003678996224740092,
          0.8407392704361697,
          0.8533804774379177,
          -0.059350929952908534,
          1.0205634363676772,
          -1.7799932042531268,
          0.2317262664177079,
          -0.43506433070992123,
          0.21885734354175732,
          0.12191237624937491,
          0.18524173055924198,
          1.0448868828422513,
          -1.0693628956754957,
          -0.41071363662322125,
          -1.2017076759706053,
          0.36453795842358444,
          0.048199844587854104,
          0.06988559244102713,
          -1.302062250615279,
          2.0868259885989198,
          -0.8867554121873944,
          -0.4991233846826625,
          0.6624829896563093,
          -0.08644530990479748,
          0.05376519275306745,
          0.6105915466200568,
          1.5880147270494087,
          -2.6059443100785398,
          1.113681623122705,
          -2.4808034446004505,
          0.7950575875647712,
          -1.7216964395170653,
          0.9714435277856804,
          -0.2276106106055289,
          -0.1445109611895521,
          -1.3269143168436681,
          -2.0694832857147674,
          -0.7742834005575784,
          -0.6461480867969325,
          -0.6757574665431837,
          0.9722038475153926,
          0.9775585773247587,
          0.46947999658130235,
          0.9322149470058937,
          -0.21609438336289588,
          2.248124938605876,
          -0.32137434342729276,
          -2.438336521811027,
          0.7591164420275582,
          -0.5280112163401659,
          -0.46329575071946916,
          0.597968464659016,
          -0.6701092888978968,
          -1.2261745344221369,
          -1.2143797733898316,
          0.4103104662761871,
          -0.05196950755972925,
          -0.0706104909389996,
          -1.9771998405899995,
          1.759130100764726,
          -0.6872895951785153,
          -0.16848677083892882,
          -0.5170754348269515,
          -1.0486590728578142,
          1.6818373695865567
         ],
         "yaxis": "y15"
        },
        {
         "histfunc": "count",
         "histnorm": "",
         "marker": {
          "color": "rgba(128, 0, 128, 1.0)",
          "line": {
           "color": "#4D5663",
           "width": 1.3
          }
         },
         "name": "D",
         "nbinsx": 10,
         "opacity": 0.8,
         "orientation": "v",
         "type": "histogram",
         "x": [
          0.48402231351696223,
          -0.10224008216294853,
          0.1181167177112375,
          -1.0666352011557814,
          0.9665761653846904,
          -1.357467284764471,
          -0.9284302790533993,
          0.6345284482882199,
          -0.0740403721093706,
          -0.4639975999755965,
          0.08721289374435162,
          2.5052961075647073,
          0.43481143614950385,
          0.044696324209182695,
          1.0038024561243661,
          0.5792773036591153,
          -0.9387504452926381,
          0.38816513983244655,
          0.7125625273567961,
          -0.9014570313492231,
          0.617734999692759,
          -0.1607937369778756,
          0.47256217897592473,
          0.9849914909342756,
          -0.11588845516963875,
          0.935370911058539,
          0.6814187457481841,
          -1.093908749200606,
          -1.4770940250558757,
          -0.4681968101286804,
          0.003804239951599719,
          -0.8654816613491302,
          -0.5388942804224948,
          -0.04185039340724913,
          -1.6113178414836005,
          -0.0003678996224740092,
          0.8407392704361697,
          0.8533804774379177,
          -0.059350929952908534,
          1.0205634363676772,
          -1.7799932042531268,
          0.2317262664177079,
          -0.43506433070992123,
          0.21885734354175732,
          0.12191237624937491,
          0.18524173055924198,
          1.0448868828422513,
          -1.0693628956754957,
          -0.41071363662322125,
          -1.2017076759706053,
          0.36453795842358444,
          0.048199844587854104,
          0.06988559244102713,
          -1.302062250615279,
          2.0868259885989198,
          -0.8867554121873944,
          -0.4991233846826625,
          0.6624829896563093,
          -0.08644530990479748,
          0.05376519275306745,
          0.6105915466200568,
          1.5880147270494087,
          -2.6059443100785398,
          1.113681623122705,
          -2.4808034446004505,
          0.7950575875647712,
          -1.7216964395170653,
          0.9714435277856804,
          -0.2276106106055289,
          -0.1445109611895521,
          -1.3269143168436681,
          -2.0694832857147674,
          -0.7742834005575784,
          -0.6461480867969325,
          -0.6757574665431837,
          0.9722038475153926,
          0.9775585773247587,
          0.46947999658130235,
          0.9322149470058937,
          -0.21609438336289588,
          2.248124938605876,
          -0.32137434342729276,
          -2.438336521811027,
          0.7591164420275582,
          -0.5280112163401659,
          -0.46329575071946916,
          0.597968464659016,
          -0.6701092888978968,
          -1.2261745344221369,
          -1.2143797733898316,
          0.4103104662761871,
          -0.05196950755972925,
          -0.0706104909389996,
          -1.9771998405899995,
          1.759130100764726,
          -0.6872895951785153,
          -0.16848677083892882,
          -0.5170754348269515,
          -1.0486590728578142,
          1.6818373695865567
         ],
         "xaxis": "x16",
         "yaxis": "y16"
        }
       ],
       "layout": {
        "bargap": 0.02,
        "legend": {
         "bgcolor": "#F5F6F9",
         "font": {
          "color": "#4D5663"
         }
        },
        "paper_bgcolor": "#F5F6F9",
        "plot_bgcolor": "#F5F6F9",
        "showlegend": false,
        "template": {
         "data": {
          "bar": [
           {
            "error_x": {
             "color": "#2a3f5f"
            },
            "error_y": {
             "color": "#2a3f5f"
            },
            "marker": {
             "line": {
              "color": "#E5ECF6",
              "width": 0.5
             },
             "pattern": {
              "fillmode": "overlay",
              "size": 10,
              "solidity": 0.2
             }
            },
            "type": "bar"
           }
          ],
          "barpolar": [
           {
            "marker": {
             "line": {
              "color": "#E5ECF6",
              "width": 0.5
             },
             "pattern": {
              "fillmode": "overlay",
              "size": 10,
              "solidity": 0.2
             }
            },
            "type": "barpolar"
           }
          ],
          "carpet": [
           {
            "aaxis": {
             "endlinecolor": "#2a3f5f",
             "gridcolor": "white",
             "linecolor": "white",
             "minorgridcolor": "white",
             "startlinecolor": "#2a3f5f"
            },
            "baxis": {
             "endlinecolor": "#2a3f5f",
             "gridcolor": "white",
             "linecolor": "white",
             "minorgridcolor": "white",
             "startlinecolor": "#2a3f5f"
            },
            "type": "carpet"
           }
          ],
          "choropleth": [
           {
            "colorbar": {
             "outlinewidth": 0,
             "ticks": ""
            },
            "type": "choropleth"
           }
          ],
          "contour": [
           {
            "colorbar": {
             "outlinewidth": 0,
             "ticks": ""
            },
            "colorscale": [
             [
              0,
              "#0d0887"
             ],
             [
              0.1111111111111111,
              "#46039f"
             ],
             [
              0.2222222222222222,
              "#7201a8"
             ],
             [
              0.3333333333333333,
              "#9c179e"
             ],
             [
              0.4444444444444444,
              "#bd3786"
             ],
             [
              0.5555555555555556,
              "#d8576b"
             ],
             [
              0.6666666666666666,
              "#ed7953"
             ],
             [
              0.7777777777777778,
              "#fb9f3a"
             ],
             [
              0.8888888888888888,
              "#fdca26"
             ],
             [
              1,
              "#f0f921"
             ]
            ],
            "type": "contour"
           }
          ],
          "contourcarpet": [
           {
            "colorbar": {
             "outlinewidth": 0,
             "ticks": ""
            },
            "type": "contourcarpet"
           }
          ],
          "heatmap": [
           {
            "colorbar": {
             "outlinewidth": 0,
             "ticks": ""
            },
            "colorscale": [
             [
              0,
              "#0d0887"
             ],
             [
              0.1111111111111111,
              "#46039f"
             ],
             [
              0.2222222222222222,
              "#7201a8"
             ],
             [
              0.3333333333333333,
              "#9c179e"
             ],
             [
              0.4444444444444444,
              "#bd3786"
             ],
             [
              0.5555555555555556,
              "#d8576b"
             ],
             [
              0.6666666666666666,
              "#ed7953"
             ],
             [
              0.7777777777777778,
              "#fb9f3a"
             ],
             [
              0.8888888888888888,
              "#fdca26"
             ],
             [
              1,
              "#f0f921"
             ]
            ],
            "type": "heatmap"
           }
          ],
          "heatmapgl": [
           {
            "colorbar": {
             "outlinewidth": 0,
             "ticks": ""
            },
            "colorscale": [
             [
              0,
              "#0d0887"
             ],
             [
              0.1111111111111111,
              "#46039f"
             ],
             [
              0.2222222222222222,
              "#7201a8"
             ],
             [
              0.3333333333333333,
              "#9c179e"
             ],
             [
              0.4444444444444444,
              "#bd3786"
             ],
             [
              0.5555555555555556,
              "#d8576b"
             ],
             [
              0.6666666666666666,
              "#ed7953"
             ],
             [
              0.7777777777777778,
              "#fb9f3a"
             ],
             [
              0.8888888888888888,
              "#fdca26"
             ],
             [
              1,
              "#f0f921"
             ]
            ],
            "type": "heatmapgl"
           }
          ],
          "histogram": [
           {
            "marker": {
             "pattern": {
              "fillmode": "overlay",
              "size": 10,
              "solidity": 0.2
             }
            },
            "type": "histogram"
           }
          ],
          "histogram2d": [
           {
            "colorbar": {
             "outlinewidth": 0,
             "ticks": ""
            },
            "colorscale": [
             [
              0,
              "#0d0887"
             ],
             [
              0.1111111111111111,
              "#46039f"
             ],
             [
              0.2222222222222222,
              "#7201a8"
             ],
             [
              0.3333333333333333,
              "#9c179e"
             ],
             [
              0.4444444444444444,
              "#bd3786"
             ],
             [
              0.5555555555555556,
              "#d8576b"
             ],
             [
              0.6666666666666666,
              "#ed7953"
             ],
             [
              0.7777777777777778,
              "#fb9f3a"
             ],
             [
              0.8888888888888888,
              "#fdca26"
             ],
             [
              1,
              "#f0f921"
             ]
            ],
            "type": "histogram2d"
           }
          ],
          "histogram2dcontour": [
           {
            "colorbar": {
             "outlinewidth": 0,
             "ticks": ""
            },
            "colorscale": [
             [
              0,
              "#0d0887"
             ],
             [
              0.1111111111111111,
              "#46039f"
             ],
             [
              0.2222222222222222,
              "#7201a8"
             ],
             [
              0.3333333333333333,
              "#9c179e"
             ],
             [
              0.4444444444444444,
              "#bd3786"
             ],
             [
              0.5555555555555556,
              "#d8576b"
             ],
             [
              0.6666666666666666,
              "#ed7953"
             ],
             [
              0.7777777777777778,
              "#fb9f3a"
             ],
             [
              0.8888888888888888,
              "#fdca26"
             ],
             [
              1,
              "#f0f921"
             ]
            ],
            "type": "histogram2dcontour"
           }
          ],
          "mesh3d": [
           {
            "colorbar": {
             "outlinewidth": 0,
             "ticks": ""
            },
            "type": "mesh3d"
           }
          ],
          "parcoords": [
           {
            "line": {
             "colorbar": {
              "outlinewidth": 0,
              "ticks": ""
             }
            },
            "type": "parcoords"
           }
          ],
          "pie": [
           {
            "automargin": true,
            "type": "pie"
           }
          ],
          "scatter": [
           {
            "fillpattern": {
             "fillmode": "overlay",
             "size": 10,
             "solidity": 0.2
            },
            "type": "scatter"
           }
          ],
          "scatter3d": [
           {
            "line": {
             "colorbar": {
              "outlinewidth": 0,
              "ticks": ""
             }
            },
            "marker": {
             "colorbar": {
              "outlinewidth": 0,
              "ticks": ""
             }
            },
            "type": "scatter3d"
           }
          ],
          "scattercarpet": [
           {
            "marker": {
             "colorbar": {
              "outlinewidth": 0,
              "ticks": ""
             }
            },
            "type": "scattercarpet"
           }
          ],
          "scattergeo": [
           {
            "marker": {
             "colorbar": {
              "outlinewidth": 0,
              "ticks": ""
             }
            },
            "type": "scattergeo"
           }
          ],
          "scattergl": [
           {
            "marker": {
             "colorbar": {
              "outlinewidth": 0,
              "ticks": ""
             }
            },
            "type": "scattergl"
           }
          ],
          "scattermapbox": [
           {
            "marker": {
             "colorbar": {
              "outlinewidth": 0,
              "ticks": ""
             }
            },
            "type": "scattermapbox"
           }
          ],
          "scatterpolar": [
           {
            "marker": {
             "colorbar": {
              "outlinewidth": 0,
              "ticks": ""
             }
            },
            "type": "scatterpolar"
           }
          ],
          "scatterpolargl": [
           {
            "marker": {
             "colorbar": {
              "outlinewidth": 0,
              "ticks": ""
             }
            },
            "type": "scatterpolargl"
           }
          ],
          "scatterternary": [
           {
            "marker": {
             "colorbar": {
              "outlinewidth": 0,
              "ticks": ""
             }
            },
            "type": "scatterternary"
           }
          ],
          "surface": [
           {
            "colorbar": {
             "outlinewidth": 0,
             "ticks": ""
            },
            "colorscale": [
             [
              0,
              "#0d0887"
             ],
             [
              0.1111111111111111,
              "#46039f"
             ],
             [
              0.2222222222222222,
              "#7201a8"
             ],
             [
              0.3333333333333333,
              "#9c179e"
             ],
             [
              0.4444444444444444,
              "#bd3786"
             ],
             [
              0.5555555555555556,
              "#d8576b"
             ],
             [
              0.6666666666666666,
              "#ed7953"
             ],
             [
              0.7777777777777778,
              "#fb9f3a"
             ],
             [
              0.8888888888888888,
              "#fdca26"
             ],
             [
              1,
              "#f0f921"
             ]
            ],
            "type": "surface"
           }
          ],
          "table": [
           {
            "cells": {
             "fill": {
              "color": "#EBF0F8"
             },
             "line": {
              "color": "white"
             }
            },
            "header": {
             "fill": {
              "color": "#C8D4E3"
             },
             "line": {
              "color": "white"
             }
            },
            "type": "table"
           }
          ]
         },
         "layout": {
          "annotationdefaults": {
           "arrowcolor": "#2a3f5f",
           "arrowhead": 0,
           "arrowwidth": 1
          },
          "autotypenumbers": "strict",
          "coloraxis": {
           "colorbar": {
            "outlinewidth": 0,
            "ticks": ""
           }
          },
          "colorscale": {
           "diverging": [
            [
             0,
             "#8e0152"
            ],
            [
             0.1,
             "#c51b7d"
            ],
            [
             0.2,
             "#de77ae"
            ],
            [
             0.3,
             "#f1b6da"
            ],
            [
             0.4,
             "#fde0ef"
            ],
            [
             0.5,
             "#f7f7f7"
            ],
            [
             0.6,
             "#e6f5d0"
            ],
            [
             0.7,
             "#b8e186"
            ],
            [
             0.8,
             "#7fbc41"
            ],
            [
             0.9,
             "#4d9221"
            ],
            [
             1,
             "#276419"
            ]
           ],
           "sequential": [
            [
             0,
             "#0d0887"
            ],
            [
             0.1111111111111111,
             "#46039f"
            ],
            [
             0.2222222222222222,
             "#7201a8"
            ],
            [
             0.3333333333333333,
             "#9c179e"
            ],
            [
             0.4444444444444444,
             "#bd3786"
            ],
            [
             0.5555555555555556,
             "#d8576b"
            ],
            [
             0.6666666666666666,
             "#ed7953"
            ],
            [
             0.7777777777777778,
             "#fb9f3a"
            ],
            [
             0.8888888888888888,
             "#fdca26"
            ],
            [
             1,
             "#f0f921"
            ]
           ],
           "sequentialminus": [
            [
             0,
             "#0d0887"
            ],
            [
             0.1111111111111111,
             "#46039f"
            ],
            [
             0.2222222222222222,
             "#7201a8"
            ],
            [
             0.3333333333333333,
             "#9c179e"
            ],
            [
             0.4444444444444444,
             "#bd3786"
            ],
            [
             0.5555555555555556,
             "#d8576b"
            ],
            [
             0.6666666666666666,
             "#ed7953"
            ],
            [
             0.7777777777777778,
             "#fb9f3a"
            ],
            [
             0.8888888888888888,
             "#fdca26"
            ],
            [
             1,
             "#f0f921"
            ]
           ]
          },
          "colorway": [
           "#636efa",
           "#EF553B",
           "#00cc96",
           "#ab63fa",
           "#FFA15A",
           "#19d3f3",
           "#FF6692",
           "#B6E880",
           "#FF97FF",
           "#FECB52"
          ],
          "font": {
           "color": "#2a3f5f"
          },
          "geo": {
           "bgcolor": "white",
           "lakecolor": "white",
           "landcolor": "#E5ECF6",
           "showlakes": true,
           "showland": true,
           "subunitcolor": "white"
          },
          "hoverlabel": {
           "align": "left"
          },
          "hovermode": "closest",
          "mapbox": {
           "style": "light"
          },
          "paper_bgcolor": "white",
          "plot_bgcolor": "#E5ECF6",
          "polar": {
           "angularaxis": {
            "gridcolor": "white",
            "linecolor": "white",
            "ticks": ""
           },
           "bgcolor": "#E5ECF6",
           "radialaxis": {
            "gridcolor": "white",
            "linecolor": "white",
            "ticks": ""
           }
          },
          "scene": {
           "xaxis": {
            "backgroundcolor": "#E5ECF6",
            "gridcolor": "white",
            "gridwidth": 2,
            "linecolor": "white",
            "showbackground": true,
            "ticks": "",
            "zerolinecolor": "white"
           },
           "yaxis": {
            "backgroundcolor": "#E5ECF6",
            "gridcolor": "white",
            "gridwidth": 2,
            "linecolor": "white",
            "showbackground": true,
            "ticks": "",
            "zerolinecolor": "white"
           },
           "zaxis": {
            "backgroundcolor": "#E5ECF6",
            "gridcolor": "white",
            "gridwidth": 2,
            "linecolor": "white",
            "showbackground": true,
            "ticks": "",
            "zerolinecolor": "white"
           }
          },
          "shapedefaults": {
           "line": {
            "color": "#2a3f5f"
           }
          },
          "ternary": {
           "aaxis": {
            "gridcolor": "white",
            "linecolor": "white",
            "ticks": ""
           },
           "baxis": {
            "gridcolor": "white",
            "linecolor": "white",
            "ticks": ""
           },
           "bgcolor": "#E5ECF6",
           "caxis": {
            "gridcolor": "white",
            "linecolor": "white",
            "ticks": ""
           }
          },
          "title": {
           "x": 0.05
          },
          "xaxis": {
           "automargin": true,
           "gridcolor": "white",
           "linecolor": "white",
           "ticks": "",
           "title": {
            "standoff": 15
           },
           "zerolinecolor": "white",
           "zerolinewidth": 2
          },
          "yaxis": {
           "automargin": true,
           "gridcolor": "white",
           "linecolor": "white",
           "ticks": "",
           "title": {
            "standoff": 15
           },
           "zerolinecolor": "white",
           "zerolinewidth": 2
          }
         }
        },
        "title": {
         "font": {
          "color": "#4D5663"
         }
        },
        "xaxis": {
         "anchor": "y",
         "domain": [
          0,
          0.2125
         ],
         "gridcolor": "#E1E5ED",
         "showgrid": false,
         "tickfont": {
          "color": "#4D5663"
         },
         "title": {
          "font": {
           "color": "#4D5663"
          },
          "text": ""
         },
         "zerolinecolor": "#E1E5ED"
        },
        "xaxis10": {
         "anchor": "y10",
         "domain": [
          0.2625,
          0.475
         ],
         "gridcolor": "#E1E5ED",
         "showgrid": false,
         "tickfont": {
          "color": "#4D5663"
         },
         "title": {
          "font": {
           "color": "#4D5663"
          },
          "text": ""
         },
         "zerolinecolor": "#E1E5ED"
        },
        "xaxis11": {
         "anchor": "y11",
         "domain": [
          0.525,
          0.7375
         ],
         "gridcolor": "#E1E5ED",
         "showgrid": false,
         "tickfont": {
          "color": "#4D5663"
         },
         "title": {
          "font": {
           "color": "#4D5663"
          },
          "text": ""
         },
         "zerolinecolor": "#E1E5ED"
        },
        "xaxis12": {
         "anchor": "y12",
         "domain": [
          0.7875,
          1
         ],
         "gridcolor": "#E1E5ED",
         "showgrid": false,
         "tickfont": {
          "color": "#4D5663"
         },
         "title": {
          "font": {
           "color": "#4D5663"
          },
          "text": ""
         },
         "zerolinecolor": "#E1E5ED"
        },
        "xaxis13": {
         "anchor": "y13",
         "domain": [
          0,
          0.2125
         ],
         "gridcolor": "#E1E5ED",
         "showgrid": false,
         "tickfont": {
          "color": "#4D5663"
         },
         "title": {
          "font": {
           "color": "#4D5663"
          },
          "text": ""
         },
         "zerolinecolor": "#E1E5ED"
        },
        "xaxis14": {
         "anchor": "y14",
         "domain": [
          0.2625,
          0.475
         ],
         "gridcolor": "#E1E5ED",
         "showgrid": false,
         "tickfont": {
          "color": "#4D5663"
         },
         "title": {
          "font": {
           "color": "#4D5663"
          },
          "text": ""
         },
         "zerolinecolor": "#E1E5ED"
        },
        "xaxis15": {
         "anchor": "y15",
         "domain": [
          0.525,
          0.7375
         ],
         "gridcolor": "#E1E5ED",
         "showgrid": false,
         "tickfont": {
          "color": "#4D5663"
         },
         "title": {
          "font": {
           "color": "#4D5663"
          },
          "text": ""
         },
         "zerolinecolor": "#E1E5ED"
        },
        "xaxis16": {
         "anchor": "y16",
         "domain": [
          0.7875,
          1
         ],
         "gridcolor": "#E1E5ED",
         "showgrid": false,
         "tickfont": {
          "color": "#4D5663"
         },
         "title": {
          "font": {
           "color": "#4D5663"
          },
          "text": ""
         },
         "zerolinecolor": "#E1E5ED"
        },
        "xaxis2": {
         "anchor": "y2",
         "domain": [
          0.2625,
          0.475
         ],
         "gridcolor": "#E1E5ED",
         "showgrid": false,
         "tickfont": {
          "color": "#4D5663"
         },
         "title": {
          "font": {
           "color": "#4D5663"
          },
          "text": ""
         },
         "zerolinecolor": "#E1E5ED"
        },
        "xaxis3": {
         "anchor": "y3",
         "domain": [
          0.525,
          0.7375
         ],
         "gridcolor": "#E1E5ED",
         "showgrid": false,
         "tickfont": {
          "color": "#4D5663"
         },
         "title": {
          "font": {
           "color": "#4D5663"
          },
          "text": ""
         },
         "zerolinecolor": "#E1E5ED"
        },
        "xaxis4": {
         "anchor": "y4",
         "domain": [
          0.7875,
          1
         ],
         "gridcolor": "#E1E5ED",
         "showgrid": false,
         "tickfont": {
          "color": "#4D5663"
         },
         "title": {
          "font": {
           "color": "#4D5663"
          },
          "text": ""
         },
         "zerolinecolor": "#E1E5ED"
        },
        "xaxis5": {
         "anchor": "y5",
         "domain": [
          0,
          0.2125
         ],
         "gridcolor": "#E1E5ED",
         "showgrid": false,
         "tickfont": {
          "color": "#4D5663"
         },
         "title": {
          "font": {
           "color": "#4D5663"
          },
          "text": ""
         },
         "zerolinecolor": "#E1E5ED"
        },
        "xaxis6": {
         "anchor": "y6",
         "domain": [
          0.2625,
          0.475
         ],
         "gridcolor": "#E1E5ED",
         "showgrid": false,
         "tickfont": {
          "color": "#4D5663"
         },
         "title": {
          "font": {
           "color": "#4D5663"
          },
          "text": ""
         },
         "zerolinecolor": "#E1E5ED"
        },
        "xaxis7": {
         "anchor": "y7",
         "domain": [
          0.525,
          0.7375
         ],
         "gridcolor": "#E1E5ED",
         "showgrid": false,
         "tickfont": {
          "color": "#4D5663"
         },
         "title": {
          "font": {
           "color": "#4D5663"
          },
          "text": ""
         },
         "zerolinecolor": "#E1E5ED"
        },
        "xaxis8": {
         "anchor": "y8",
         "domain": [
          0.7875,
          1
         ],
         "gridcolor": "#E1E5ED",
         "showgrid": false,
         "tickfont": {
          "color": "#4D5663"
         },
         "title": {
          "font": {
           "color": "#4D5663"
          },
          "text": ""
         },
         "zerolinecolor": "#E1E5ED"
        },
        "xaxis9": {
         "anchor": "y9",
         "domain": [
          0,
          0.2125
         ],
         "gridcolor": "#E1E5ED",
         "showgrid": false,
         "tickfont": {
          "color": "#4D5663"
         },
         "title": {
          "font": {
           "color": "#4D5663"
          },
          "text": ""
         },
         "zerolinecolor": "#E1E5ED"
        },
        "yaxis": {
         "anchor": "x",
         "domain": [
          0.8025,
          1
         ],
         "gridcolor": "#E1E5ED",
         "showgrid": false,
         "tickfont": {
          "color": "#4D5663"
         },
         "title": {
          "font": {
           "color": "#4D5663"
          },
          "text": ""
         },
         "zerolinecolor": "#E1E5ED"
        },
        "yaxis10": {
         "anchor": "x10",
         "domain": [
          0.2675,
          0.465
         ],
         "gridcolor": "#E1E5ED",
         "showgrid": false,
         "tickfont": {
          "color": "#4D5663"
         },
         "title": {
          "font": {
           "color": "#4D5663"
          },
          "text": ""
         },
         "zerolinecolor": "#E1E5ED"
        },
        "yaxis11": {
         "anchor": "x11",
         "domain": [
          0.2675,
          0.465
         ],
         "gridcolor": "#E1E5ED",
         "showgrid": false,
         "tickfont": {
          "color": "#4D5663"
         },
         "title": {
          "font": {
           "color": "#4D5663"
          },
          "text": ""
         },
         "zerolinecolor": "#E1E5ED"
        },
        "yaxis12": {
         "anchor": "x12",
         "domain": [
          0.2675,
          0.465
         ],
         "gridcolor": "#E1E5ED",
         "showgrid": false,
         "tickfont": {
          "color": "#4D5663"
         },
         "title": {
          "font": {
           "color": "#4D5663"
          },
          "text": ""
         },
         "zerolinecolor": "#E1E5ED"
        },
        "yaxis13": {
         "anchor": "x13",
         "domain": [
          0,
          0.1975
         ],
         "gridcolor": "#E1E5ED",
         "showgrid": false,
         "tickfont": {
          "color": "#4D5663"
         },
         "title": {
          "font": {
           "color": "#4D5663"
          },
          "text": ""
         },
         "zerolinecolor": "#E1E5ED"
        },
        "yaxis14": {
         "anchor": "x14",
         "domain": [
          0,
          0.1975
         ],
         "gridcolor": "#E1E5ED",
         "showgrid": false,
         "tickfont": {
          "color": "#4D5663"
         },
         "title": {
          "font": {
           "color": "#4D5663"
          },
          "text": ""
         },
         "zerolinecolor": "#E1E5ED"
        },
        "yaxis15": {
         "anchor": "x15",
         "domain": [
          0,
          0.1975
         ],
         "gridcolor": "#E1E5ED",
         "showgrid": false,
         "tickfont": {
          "color": "#4D5663"
         },
         "title": {
          "font": {
           "color": "#4D5663"
          },
          "text": ""
         },
         "zerolinecolor": "#E1E5ED"
        },
        "yaxis16": {
         "anchor": "x16",
         "domain": [
          0,
          0.1975
         ],
         "gridcolor": "#E1E5ED",
         "showgrid": false,
         "tickfont": {
          "color": "#4D5663"
         },
         "title": {
          "font": {
           "color": "#4D5663"
          },
          "text": ""
         },
         "zerolinecolor": "#E1E5ED"
        },
        "yaxis2": {
         "anchor": "x2",
         "domain": [
          0.8025,
          1
         ],
         "gridcolor": "#E1E5ED",
         "showgrid": false,
         "tickfont": {
          "color": "#4D5663"
         },
         "title": {
          "font": {
           "color": "#4D5663"
          },
          "text": ""
         },
         "zerolinecolor": "#E1E5ED"
        },
        "yaxis3": {
         "anchor": "x3",
         "domain": [
          0.8025,
          1
         ],
         "gridcolor": "#E1E5ED",
         "showgrid": false,
         "tickfont": {
          "color": "#4D5663"
         },
         "title": {
          "font": {
           "color": "#4D5663"
          },
          "text": ""
         },
         "zerolinecolor": "#E1E5ED"
        },
        "yaxis4": {
         "anchor": "x4",
         "domain": [
          0.8025,
          1
         ],
         "gridcolor": "#E1E5ED",
         "showgrid": false,
         "tickfont": {
          "color": "#4D5663"
         },
         "title": {
          "font": {
           "color": "#4D5663"
          },
          "text": ""
         },
         "zerolinecolor": "#E1E5ED"
        },
        "yaxis5": {
         "anchor": "x5",
         "domain": [
          0.535,
          0.7325
         ],
         "gridcolor": "#E1E5ED",
         "showgrid": false,
         "tickfont": {
          "color": "#4D5663"
         },
         "title": {
          "font": {
           "color": "#4D5663"
          },
          "text": ""
         },
         "zerolinecolor": "#E1E5ED"
        },
        "yaxis6": {
         "anchor": "x6",
         "domain": [
          0.535,
          0.7325
         ],
         "gridcolor": "#E1E5ED",
         "showgrid": false,
         "tickfont": {
          "color": "#4D5663"
         },
         "title": {
          "font": {
           "color": "#4D5663"
          },
          "text": ""
         },
         "zerolinecolor": "#E1E5ED"
        },
        "yaxis7": {
         "anchor": "x7",
         "domain": [
          0.535,
          0.7325
         ],
         "gridcolor": "#E1E5ED",
         "showgrid": false,
         "tickfont": {
          "color": "#4D5663"
         },
         "title": {
          "font": {
           "color": "#4D5663"
          },
          "text": ""
         },
         "zerolinecolor": "#E1E5ED"
        },
        "yaxis8": {
         "anchor": "x8",
         "domain": [
          0.535,
          0.7325
         ],
         "gridcolor": "#E1E5ED",
         "showgrid": false,
         "tickfont": {
          "color": "#4D5663"
         },
         "title": {
          "font": {
           "color": "#4D5663"
          },
          "text": ""
         },
         "zerolinecolor": "#E1E5ED"
        },
        "yaxis9": {
         "anchor": "x9",
         "domain": [
          0.2675,
          0.465
         ],
         "gridcolor": "#E1E5ED",
         "showgrid": false,
         "tickfont": {
          "color": "#4D5663"
         },
         "title": {
          "font": {
           "color": "#4D5663"
          },
          "text": ""
         },
         "zerolinecolor": "#E1E5ED"
        }
       }
      },
      "text/html": [
       "<div>                            <div id=\"030dcc40-5358-46f0-8969-7c73f50c5cab\" class=\"plotly-graph-div\" style=\"height:525px; width:100%;\"></div>            <script type=\"text/javascript\">                require([\"plotly\"], function(Plotly) {                    window.PLOTLYENV=window.PLOTLYENV || {};\n",
       "                    window.PLOTLYENV.BASE_URL='https://plot.ly';                                    if (document.getElementById(\"030dcc40-5358-46f0-8969-7c73f50c5cab\")) {                    Plotly.newPlot(                        \"030dcc40-5358-46f0-8969-7c73f50c5cab\",                        [{\"histfunc\":\"count\",\"histnorm\":\"\",\"marker\":{\"color\":\"rgba(255, 153, 51, 1.0)\",\"line\":{\"color\":\"#4D5663\",\"width\":1.3}},\"name\":\"A\",\"nbinsx\":10,\"opacity\":0.8,\"orientation\":\"v\",\"x\":[-1.3402016232243987,-0.649020214887379,-0.1682257323904412,2.193351046396256,-0.03573185326863341,-1.0307989329934075,-0.31001491329916697,0.22297126297492637,0.6122609371476259,-2.117750882736682,0.3272545474121727,1.1386299196654515,-0.4154436052538386,1.0779279014688374,-0.33924919653852054,-0.05106266578488151,-1.2273122208986817,0.13163095652086673,0.6861422996774701,-1.4929644029779623,0.7150917642789755,1.814864989428972,0.9247864218619752,0.1584202308262772,1.3776632444592147,-0.8326001639401515,1.181045793801218,-0.374786520171287,-1.0314030959357248,-1.405302986742882,1.307505538855658,0.28061501742315353,-0.27765619411536585,1.037160257723475,-0.06440534965266251,-0.793112145628941,-2.123781691651395,0.7175911466979235,-0.9935809840486913,0.102082618948086,2.5401308092916937,0.6994358348094193,0.37786736051270964,0.36914437145631324,-0.18534855714732013,-0.2839090460128509,-0.6674685004133002,-1.1939521780587363,0.22405329359385473,0.30397583811713497,2.150058233613433,-0.6912701612509979,0.24011301797624413,-0.8920054636597202,-1.1362101375723168,-0.2445198402137013,-1.464257619736692,-1.131466171469585,0.5006879161128014,-0.0060776854956445915,-0.24392875687830465,0.6797274182867651,-0.029234509609762142,-1.062499955977877,0.6439254781690764,0.5783337153396132,-0.1944123189471814,-0.2167287075789601,-0.024164469729240884,0.05793902626343979,0.8986897207398744,1.0031118779125756,2.031724621187272,-0.10250037152497271,-1.1186755466234815,-1.1843577588561136,-1.5662760148060901,-1.219161823281136,-1.1593766556630698,-0.027439127229870085,0.018316738046942258,-0.6922784874155976,0.07979753670333341,0.22962384107885242,0.20152715612661043,-0.3285086721135077,-0.4779892642970852,-0.42324897569430525,-2.738587292705288,-0.35618875561801133,1.1560776988758348,-0.7923919414392832,0.7825784632218197,0.08966821419878798,-0.6329579247795905,-0.375129963188778,-0.8639214742522782,0.40125309184897434,0.5185039514250023,0.05590068286289588],\"xaxis\":\"x\",\"yaxis\":\"y\",\"type\":\"histogram\"},{\"line\":{\"color\":\"rgba(128, 128, 128, 1.0)\",\"dash\":\"solid\",\"shape\":\"linear\",\"width\":1.3},\"marker\":{\"size\":2,\"symbol\":\"circle\"},\"mode\":\"markers\",\"name\":\"A\",\"text\":\"\",\"x\":[-0.9690244560766667,-0.24091027670686352,0.06172657545459743,-1.3358418161138446,0.4096119688660683,0.21648207305952347,1.5494564109673212,-0.5272035737836958,0.9936728832488787,1.6998421007416729,-0.5350070839408002,1.142373991163409,0.28043404231004704,-0.12769281150264328,-1.6037993962606607,0.5265483510398294,0.6901568262269182,0.15982885802970115,0.39314699605901254,0.11442065176845712,1.1243539020059987,1.1152052967861483,0.2780180827228744,1.4584229801030515,1.4978308842176264,-0.5437462494865144,0.18413726991006588,0.6269539326224163,-2.5047420918321257,-0.6212320955813105,0.08172489190197559,-0.6399969402483794,-0.15252884600524794,0.7774564761486727,0.37641731136611345,-0.6411375959139302,1.4093851243875426,-0.7630593139882308,0.10385408112188718,0.9157584272126849,0.06737938308580205,0.4412611451538305,-0.42090358284399665,0.4232808577387168,0.2761393043199375,1.138092905016683,1.8973244739280186,0.19108988361415394,0.13251187903126746,1.5160740123760557,-0.47908398458207774,0.2849672103236269,-0.3767923189387514,2.2667184992162563,1.975737356877006,-0.3133790957536171,0.42849388398643246,-1.1098435632620174,0.7432415272682933,0.8773264563497847,-1.5027064039710905,-0.5467087382492198,-0.22462087224068003,0.9213508618810443,1.382123867957571,-0.7145203155188684,-0.7637499403917496,0.37410803547132204,0.372442129996429,-0.599660356333412,-0.02335861163390679,0.4139060275767294,0.19756760881077232,0.4696597038850513,0.3168977038265884,0.28168663667665017,-1.116787362925828,0.1991967912578874,0.6389382678317415,0.13410834811540082,0.0031633990525533,-0.6308432596799884,1.5266337378580441,-0.2036437953940007,-2.105541619115384,0.5987154691588157,0.8289444115085323,-1.3488492705330655,-0.28987568392444796,-1.3420110021319405,0.2729186132865296,0.6159737529548067,0.7078416094987383,-0.5693004239201993,0.1797509878233235,-0.2736610552159289,1.2706296230538061,0.041079620995538205,1.5558794301479135,1.23589773548267],\"xaxis\":\"x2\",\"y\":[-1.3402016232243987,-0.649020214887379,-0.1682257323904412,2.193351046396256,-0.03573185326863341,-1.0307989329934075,-0.31001491329916697,0.22297126297492637,0.6122609371476259,-2.117750882736682,0.3272545474121727,1.1386299196654515,-0.4154436052538386,1.0779279014688374,-0.33924919653852054,-0.05106266578488151,-1.2273122208986817,0.13163095652086673,0.6861422996774701,-1.4929644029779623,0.7150917642789755,1.814864989428972,0.9247864218619752,0.1584202308262772,1.3776632444592147,-0.8326001639401515,1.181045793801218,-0.374786520171287,-1.0314030959357248,-1.405302986742882,1.307505538855658,0.28061501742315353,-0.27765619411536585,1.037160257723475,-0.06440534965266251,-0.793112145628941,-2.123781691651395,0.7175911466979235,-0.9935809840486913,0.102082618948086,2.5401308092916937,0.6994358348094193,0.37786736051270964,0.36914437145631324,-0.18534855714732013,-0.2839090460128509,-0.6674685004133002,-1.1939521780587363,0.22405329359385473,0.30397583811713497,2.150058233613433,-0.6912701612509979,0.24011301797624413,-0.8920054636597202,-1.1362101375723168,-0.2445198402137013,-1.464257619736692,-1.131466171469585,0.5006879161128014,-0.0060776854956445915,-0.24392875687830465,0.6797274182867651,-0.029234509609762142,-1.062499955977877,0.6439254781690764,0.5783337153396132,-0.1944123189471814,-0.2167287075789601,-0.024164469729240884,0.05793902626343979,0.8986897207398744,1.0031118779125756,2.031724621187272,-0.10250037152497271,-1.1186755466234815,-1.1843577588561136,-1.5662760148060901,-1.219161823281136,-1.1593766556630698,-0.027439127229870085,0.018316738046942258,-0.6922784874155976,0.07979753670333341,0.22962384107885242,0.20152715612661043,-0.3285086721135077,-0.4779892642970852,-0.42324897569430525,-2.738587292705288,-0.35618875561801133,1.1560776988758348,-0.7923919414392832,0.7825784632218197,0.08966821419878798,-0.6329579247795905,-0.375129963188778,-0.8639214742522782,0.40125309184897434,0.5185039514250023,0.05590068286289588],\"yaxis\":\"y2\",\"type\":\"scatter\"},{\"line\":{\"color\":\"rgba(128, 128, 128, 1.0)\",\"dash\":\"solid\",\"shape\":\"linear\",\"width\":1.3},\"marker\":{\"size\":2,\"symbol\":\"circle\"},\"mode\":\"markers\",\"name\":\"A\",\"text\":\"\",\"x\":[-0.31761216767426204,-0.7713855262248842,0.6510143387152343,-1.1811984242585574,-1.1697432254377702,0.5489771618833647,1.1862225843114564,-0.7245272592059752,-0.14792973672494128,1.5722515552182135,1.4341592490956658,-0.8570156609414016,-1.680520022665643,-0.9680166170648011,1.311281663993853,-1.8862897337383335,0.2556671335044036,-0.42854058169515186,0.021496573924532865,-0.9301714438666704,-0.7784602628726872,0.5253013752651645,-1.1331607602104599,1.380155974255039,-1.4258118060932672,1.0519287902179193,-0.5483907903629059,-0.4736793472289787,0.5008072725857905,1.9524746034663378,0.7760705877414437,-0.7024923559689906,-1.0723973849428952,-0.08883437399867769,1.1516644440104995,0.14492508387561012,-1.329113015464814,-1.768554760981793,-1.1089511004990398,-0.9256720747159527,-0.607940857474674,-0.7643597429653168,2.116175430688474,0.5254370534840804,-0.8627621038011164,-0.18705903746517677,0.4969700990114964,1.3775880018466966,0.5422496160610358,0.585665596672673,1.607985533045647,-0.14937880582303528,0.31304196224506375,-0.949083115083279,1.3527610635614198,-0.7229800726709068,-0.72744238172861,-0.8903502064701029,0.19856824359792294,0.07938708606902466,-0.8048320733054841,0.9639879157595301,-0.10116584307740642,-0.40395266893604703,-1.4659250635248866,-1.3416566932851965,-0.17915563258237827,-1.0205832094322478,-1.348546808665269,1.244533874754698,-0.08330079467972014,-0.21109143856870685,-0.049408929386735294,-0.6357858113735209,0.3159283014544451,-1.4088745925162722,1.2069505204575266,0.5896351522404546,0.5686334336003075,0.41991449053903257,-0.915112909217904,-0.7950586560618741,-2.1036162765740736,0.30013241310694716,-0.7015981150125078,0.19965514925218483,-1.7509003793519868,0.003082167692337168,1.1546511368384644,0.46855349338478686,-1.4260884081435767,-0.12707196437390098,0.15753904614090358,0.7152257131572535,-0.7607448920579295,-0.20845227848020811,0.9630898870419832,0.07864516588430184,-0.6766380804599007,-1.7568453910546822],\"xaxis\":\"x3\",\"y\":[-1.3402016232243987,-0.649020214887379,-0.1682257323904412,2.193351046396256,-0.03573185326863341,-1.0307989329934075,-0.31001491329916697,0.22297126297492637,0.6122609371476259,-2.117750882736682,0.3272545474121727,1.1386299196654515,-0.4154436052538386,1.0779279014688374,-0.33924919653852054,-0.05106266578488151,-1.2273122208986817,0.13163095652086673,0.6861422996774701,-1.4929644029779623,0.7150917642789755,1.814864989428972,0.9247864218619752,0.1584202308262772,1.3776632444592147,-0.8326001639401515,1.181045793801218,-0.374786520171287,-1.0314030959357248,-1.405302986742882,1.307505538855658,0.28061501742315353,-0.27765619411536585,1.037160257723475,-0.06440534965266251,-0.793112145628941,-2.123781691651395,0.7175911466979235,-0.9935809840486913,0.102082618948086,2.5401308092916937,0.6994358348094193,0.37786736051270964,0.36914437145631324,-0.18534855714732013,-0.2839090460128509,-0.6674685004133002,-1.1939521780587363,0.22405329359385473,0.30397583811713497,2.150058233613433,-0.6912701612509979,0.24011301797624413,-0.8920054636597202,-1.1362101375723168,-0.2445198402137013,-1.464257619736692,-1.131466171469585,0.5006879161128014,-0.0060776854956445915,-0.24392875687830465,0.6797274182867651,-0.029234509609762142,-1.062499955977877,0.6439254781690764,0.5783337153396132,-0.1944123189471814,-0.2167287075789601,-0.024164469729240884,0.05793902626343979,0.8986897207398744,1.0031118779125756,2.031724621187272,-0.10250037152497271,-1.1186755466234815,-1.1843577588561136,-1.5662760148060901,-1.219161823281136,-1.1593766556630698,-0.027439127229870085,0.018316738046942258,-0.6922784874155976,0.07979753670333341,0.22962384107885242,0.20152715612661043,-0.3285086721135077,-0.4779892642970852,-0.42324897569430525,-2.738587292705288,-0.35618875561801133,1.1560776988758348,-0.7923919414392832,0.7825784632218197,0.08966821419878798,-0.6329579247795905,-0.375129963188778,-0.8639214742522782,0.40125309184897434,0.5185039514250023,0.05590068286289588],\"yaxis\":\"y3\",\"type\":\"scatter\"},{\"line\":{\"color\":\"rgba(128, 128, 128, 1.0)\",\"dash\":\"solid\",\"shape\":\"linear\",\"width\":1.3},\"marker\":{\"size\":2,\"symbol\":\"circle\"},\"mode\":\"markers\",\"name\":\"A\",\"text\":\"\",\"x\":[0.48402231351696223,-0.10224008216294853,0.1181167177112375,-1.0666352011557814,0.9665761653846904,-1.357467284764471,-0.9284302790533993,0.6345284482882199,-0.0740403721093706,-0.4639975999755965,0.08721289374435162,2.5052961075647073,0.43481143614950385,0.044696324209182695,1.0038024561243661,0.5792773036591153,-0.9387504452926381,0.38816513983244655,0.7125625273567961,-0.9014570313492231,0.617734999692759,-0.1607937369778756,0.47256217897592473,0.9849914909342756,-0.11588845516963875,0.935370911058539,0.6814187457481841,-1.093908749200606,-1.4770940250558757,-0.4681968101286804,0.003804239951599719,-0.8654816613491302,-0.5388942804224948,-0.04185039340724913,-1.6113178414836005,-0.0003678996224740092,0.8407392704361697,0.8533804774379177,-0.059350929952908534,1.0205634363676772,-1.7799932042531268,0.2317262664177079,-0.43506433070992123,0.21885734354175732,0.12191237624937491,0.18524173055924198,1.0448868828422513,-1.0693628956754957,-0.41071363662322125,-1.2017076759706053,0.36453795842358444,0.048199844587854104,0.06988559244102713,-1.302062250615279,2.0868259885989198,-0.8867554121873944,-0.4991233846826625,0.6624829896563093,-0.08644530990479748,0.05376519275306745,0.6105915466200568,1.5880147270494087,-2.6059443100785398,1.113681623122705,-2.4808034446004505,0.7950575875647712,-1.7216964395170653,0.9714435277856804,-0.2276106106055289,-0.1445109611895521,-1.3269143168436681,-2.0694832857147674,-0.7742834005575784,-0.6461480867969325,-0.6757574665431837,0.9722038475153926,0.9775585773247587,0.46947999658130235,0.9322149470058937,-0.21609438336289588,2.248124938605876,-0.32137434342729276,-2.438336521811027,0.7591164420275582,-0.5280112163401659,-0.46329575071946916,0.597968464659016,-0.6701092888978968,-1.2261745344221369,-1.2143797733898316,0.4103104662761871,-0.05196950755972925,-0.0706104909389996,-1.9771998405899995,1.759130100764726,-0.6872895951785153,-0.16848677083892882,-0.5170754348269515,-1.0486590728578142,1.6818373695865567],\"xaxis\":\"x4\",\"y\":[-1.3402016232243987,-0.649020214887379,-0.1682257323904412,2.193351046396256,-0.03573185326863341,-1.0307989329934075,-0.31001491329916697,0.22297126297492637,0.6122609371476259,-2.117750882736682,0.3272545474121727,1.1386299196654515,-0.4154436052538386,1.0779279014688374,-0.33924919653852054,-0.05106266578488151,-1.2273122208986817,0.13163095652086673,0.6861422996774701,-1.4929644029779623,0.7150917642789755,1.814864989428972,0.9247864218619752,0.1584202308262772,1.3776632444592147,-0.8326001639401515,1.181045793801218,-0.374786520171287,-1.0314030959357248,-1.405302986742882,1.307505538855658,0.28061501742315353,-0.27765619411536585,1.037160257723475,-0.06440534965266251,-0.793112145628941,-2.123781691651395,0.7175911466979235,-0.9935809840486913,0.102082618948086,2.5401308092916937,0.6994358348094193,0.37786736051270964,0.36914437145631324,-0.18534855714732013,-0.2839090460128509,-0.6674685004133002,-1.1939521780587363,0.22405329359385473,0.30397583811713497,2.150058233613433,-0.6912701612509979,0.24011301797624413,-0.8920054636597202,-1.1362101375723168,-0.2445198402137013,-1.464257619736692,-1.131466171469585,0.5006879161128014,-0.0060776854956445915,-0.24392875687830465,0.6797274182867651,-0.029234509609762142,-1.062499955977877,0.6439254781690764,0.5783337153396132,-0.1944123189471814,-0.2167287075789601,-0.024164469729240884,0.05793902626343979,0.8986897207398744,1.0031118779125756,2.031724621187272,-0.10250037152497271,-1.1186755466234815,-1.1843577588561136,-1.5662760148060901,-1.219161823281136,-1.1593766556630698,-0.027439127229870085,0.018316738046942258,-0.6922784874155976,0.07979753670333341,0.22962384107885242,0.20152715612661043,-0.3285086721135077,-0.4779892642970852,-0.42324897569430525,-2.738587292705288,-0.35618875561801133,1.1560776988758348,-0.7923919414392832,0.7825784632218197,0.08966821419878798,-0.6329579247795905,-0.375129963188778,-0.8639214742522782,0.40125309184897434,0.5185039514250023,0.05590068286289588],\"yaxis\":\"y4\",\"type\":\"scatter\"},{\"line\":{\"color\":\"rgba(128, 128, 128, 1.0)\",\"dash\":\"solid\",\"shape\":\"linear\",\"width\":1.3},\"marker\":{\"size\":2,\"symbol\":\"circle\"},\"mode\":\"markers\",\"name\":\"B\",\"text\":\"\",\"x\":[-1.3402016232243987,-0.649020214887379,-0.1682257323904412,2.193351046396256,-0.03573185326863341,-1.0307989329934075,-0.31001491329916697,0.22297126297492637,0.6122609371476259,-2.117750882736682,0.3272545474121727,1.1386299196654515,-0.4154436052538386,1.0779279014688374,-0.33924919653852054,-0.05106266578488151,-1.2273122208986817,0.13163095652086673,0.6861422996774701,-1.4929644029779623,0.7150917642789755,1.814864989428972,0.9247864218619752,0.1584202308262772,1.3776632444592147,-0.8326001639401515,1.181045793801218,-0.374786520171287,-1.0314030959357248,-1.405302986742882,1.307505538855658,0.28061501742315353,-0.27765619411536585,1.037160257723475,-0.06440534965266251,-0.793112145628941,-2.123781691651395,0.7175911466979235,-0.9935809840486913,0.102082618948086,2.5401308092916937,0.6994358348094193,0.37786736051270964,0.36914437145631324,-0.18534855714732013,-0.2839090460128509,-0.6674685004133002,-1.1939521780587363,0.22405329359385473,0.30397583811713497,2.150058233613433,-0.6912701612509979,0.24011301797624413,-0.8920054636597202,-1.1362101375723168,-0.2445198402137013,-1.464257619736692,-1.131466171469585,0.5006879161128014,-0.0060776854956445915,-0.24392875687830465,0.6797274182867651,-0.029234509609762142,-1.062499955977877,0.6439254781690764,0.5783337153396132,-0.1944123189471814,-0.2167287075789601,-0.024164469729240884,0.05793902626343979,0.8986897207398744,1.0031118779125756,2.031724621187272,-0.10250037152497271,-1.1186755466234815,-1.1843577588561136,-1.5662760148060901,-1.219161823281136,-1.1593766556630698,-0.027439127229870085,0.018316738046942258,-0.6922784874155976,0.07979753670333341,0.22962384107885242,0.20152715612661043,-0.3285086721135077,-0.4779892642970852,-0.42324897569430525,-2.738587292705288,-0.35618875561801133,1.1560776988758348,-0.7923919414392832,0.7825784632218197,0.08966821419878798,-0.6329579247795905,-0.375129963188778,-0.8639214742522782,0.40125309184897434,0.5185039514250023,0.05590068286289588],\"xaxis\":\"x5\",\"y\":[-0.9690244560766667,-0.24091027670686352,0.06172657545459743,-1.3358418161138446,0.4096119688660683,0.21648207305952347,1.5494564109673212,-0.5272035737836958,0.9936728832488787,1.6998421007416729,-0.5350070839408002,1.142373991163409,0.28043404231004704,-0.12769281150264328,-1.6037993962606607,0.5265483510398294,0.6901568262269182,0.15982885802970115,0.39314699605901254,0.11442065176845712,1.1243539020059987,1.1152052967861483,0.2780180827228744,1.4584229801030515,1.4978308842176264,-0.5437462494865144,0.18413726991006588,0.6269539326224163,-2.5047420918321257,-0.6212320955813105,0.08172489190197559,-0.6399969402483794,-0.15252884600524794,0.7774564761486727,0.37641731136611345,-0.6411375959139302,1.4093851243875426,-0.7630593139882308,0.10385408112188718,0.9157584272126849,0.06737938308580205,0.4412611451538305,-0.42090358284399665,0.4232808577387168,0.2761393043199375,1.138092905016683,1.8973244739280186,0.19108988361415394,0.13251187903126746,1.5160740123760557,-0.47908398458207774,0.2849672103236269,-0.3767923189387514,2.2667184992162563,1.975737356877006,-0.3133790957536171,0.42849388398643246,-1.1098435632620174,0.7432415272682933,0.8773264563497847,-1.5027064039710905,-0.5467087382492198,-0.22462087224068003,0.9213508618810443,1.382123867957571,-0.7145203155188684,-0.7637499403917496,0.37410803547132204,0.372442129996429,-0.599660356333412,-0.02335861163390679,0.4139060275767294,0.19756760881077232,0.4696597038850513,0.3168977038265884,0.28168663667665017,-1.116787362925828,0.1991967912578874,0.6389382678317415,0.13410834811540082,0.0031633990525533,-0.6308432596799884,1.5266337378580441,-0.2036437953940007,-2.105541619115384,0.5987154691588157,0.8289444115085323,-1.3488492705330655,-0.28987568392444796,-1.3420110021319405,0.2729186132865296,0.6159737529548067,0.7078416094987383,-0.5693004239201993,0.1797509878233235,-0.2736610552159289,1.2706296230538061,0.041079620995538205,1.5558794301479135,1.23589773548267],\"yaxis\":\"y5\",\"type\":\"scatter\"},{\"histfunc\":\"count\",\"histnorm\":\"\",\"marker\":{\"color\":\"rgba(55, 128, 191, 1.0)\",\"line\":{\"color\":\"#4D5663\",\"width\":1.3}},\"name\":\"B\",\"nbinsx\":10,\"opacity\":0.8,\"orientation\":\"v\",\"x\":[-0.9690244560766667,-0.24091027670686352,0.06172657545459743,-1.3358418161138446,0.4096119688660683,0.21648207305952347,1.5494564109673212,-0.5272035737836958,0.9936728832488787,1.6998421007416729,-0.5350070839408002,1.142373991163409,0.28043404231004704,-0.12769281150264328,-1.6037993962606607,0.5265483510398294,0.6901568262269182,0.15982885802970115,0.39314699605901254,0.11442065176845712,1.1243539020059987,1.1152052967861483,0.2780180827228744,1.4584229801030515,1.4978308842176264,-0.5437462494865144,0.18413726991006588,0.6269539326224163,-2.5047420918321257,-0.6212320955813105,0.08172489190197559,-0.6399969402483794,-0.15252884600524794,0.7774564761486727,0.37641731136611345,-0.6411375959139302,1.4093851243875426,-0.7630593139882308,0.10385408112188718,0.9157584272126849,0.06737938308580205,0.4412611451538305,-0.42090358284399665,0.4232808577387168,0.2761393043199375,1.138092905016683,1.8973244739280186,0.19108988361415394,0.13251187903126746,1.5160740123760557,-0.47908398458207774,0.2849672103236269,-0.3767923189387514,2.2667184992162563,1.975737356877006,-0.3133790957536171,0.42849388398643246,-1.1098435632620174,0.7432415272682933,0.8773264563497847,-1.5027064039710905,-0.5467087382492198,-0.22462087224068003,0.9213508618810443,1.382123867957571,-0.7145203155188684,-0.7637499403917496,0.37410803547132204,0.372442129996429,-0.599660356333412,-0.02335861163390679,0.4139060275767294,0.19756760881077232,0.4696597038850513,0.3168977038265884,0.28168663667665017,-1.116787362925828,0.1991967912578874,0.6389382678317415,0.13410834811540082,0.0031633990525533,-0.6308432596799884,1.5266337378580441,-0.2036437953940007,-2.105541619115384,0.5987154691588157,0.8289444115085323,-1.3488492705330655,-0.28987568392444796,-1.3420110021319405,0.2729186132865296,0.6159737529548067,0.7078416094987383,-0.5693004239201993,0.1797509878233235,-0.2736610552159289,1.2706296230538061,0.041079620995538205,1.5558794301479135,1.23589773548267],\"xaxis\":\"x6\",\"yaxis\":\"y6\",\"type\":\"histogram\"},{\"line\":{\"color\":\"rgba(128, 128, 128, 1.0)\",\"dash\":\"solid\",\"shape\":\"linear\",\"width\":1.3},\"marker\":{\"size\":2,\"symbol\":\"circle\"},\"mode\":\"markers\",\"name\":\"B\",\"text\":\"\",\"x\":[-0.31761216767426204,-0.7713855262248842,0.6510143387152343,-1.1811984242585574,-1.1697432254377702,0.5489771618833647,1.1862225843114564,-0.7245272592059752,-0.14792973672494128,1.5722515552182135,1.4341592490956658,-0.8570156609414016,-1.680520022665643,-0.9680166170648011,1.311281663993853,-1.8862897337383335,0.2556671335044036,-0.42854058169515186,0.021496573924532865,-0.9301714438666704,-0.7784602628726872,0.5253013752651645,-1.1331607602104599,1.380155974255039,-1.4258118060932672,1.0519287902179193,-0.5483907903629059,-0.4736793472289787,0.5008072725857905,1.9524746034663378,0.7760705877414437,-0.7024923559689906,-1.0723973849428952,-0.08883437399867769,1.1516644440104995,0.14492508387561012,-1.329113015464814,-1.768554760981793,-1.1089511004990398,-0.9256720747159527,-0.607940857474674,-0.7643597429653168,2.116175430688474,0.5254370534840804,-0.8627621038011164,-0.18705903746517677,0.4969700990114964,1.3775880018466966,0.5422496160610358,0.585665596672673,1.607985533045647,-0.14937880582303528,0.31304196224506375,-0.949083115083279,1.3527610635614198,-0.7229800726709068,-0.72744238172861,-0.8903502064701029,0.19856824359792294,0.07938708606902466,-0.8048320733054841,0.9639879157595301,-0.10116584307740642,-0.40395266893604703,-1.4659250635248866,-1.3416566932851965,-0.17915563258237827,-1.0205832094322478,-1.348546808665269,1.244533874754698,-0.08330079467972014,-0.21109143856870685,-0.049408929386735294,-0.6357858113735209,0.3159283014544451,-1.4088745925162722,1.2069505204575266,0.5896351522404546,0.5686334336003075,0.41991449053903257,-0.915112909217904,-0.7950586560618741,-2.1036162765740736,0.30013241310694716,-0.7015981150125078,0.19965514925218483,-1.7509003793519868,0.003082167692337168,1.1546511368384644,0.46855349338478686,-1.4260884081435767,-0.12707196437390098,0.15753904614090358,0.7152257131572535,-0.7607448920579295,-0.20845227848020811,0.9630898870419832,0.07864516588430184,-0.6766380804599007,-1.7568453910546822],\"xaxis\":\"x7\",\"y\":[-0.9690244560766667,-0.24091027670686352,0.06172657545459743,-1.3358418161138446,0.4096119688660683,0.21648207305952347,1.5494564109673212,-0.5272035737836958,0.9936728832488787,1.6998421007416729,-0.5350070839408002,1.142373991163409,0.28043404231004704,-0.12769281150264328,-1.6037993962606607,0.5265483510398294,0.6901568262269182,0.15982885802970115,0.39314699605901254,0.11442065176845712,1.1243539020059987,1.1152052967861483,0.2780180827228744,1.4584229801030515,1.4978308842176264,-0.5437462494865144,0.18413726991006588,0.6269539326224163,-2.5047420918321257,-0.6212320955813105,0.08172489190197559,-0.6399969402483794,-0.15252884600524794,0.7774564761486727,0.37641731136611345,-0.6411375959139302,1.4093851243875426,-0.7630593139882308,0.10385408112188718,0.9157584272126849,0.06737938308580205,0.4412611451538305,-0.42090358284399665,0.4232808577387168,0.2761393043199375,1.138092905016683,1.8973244739280186,0.19108988361415394,0.13251187903126746,1.5160740123760557,-0.47908398458207774,0.2849672103236269,-0.3767923189387514,2.2667184992162563,1.975737356877006,-0.3133790957536171,0.42849388398643246,-1.1098435632620174,0.7432415272682933,0.8773264563497847,-1.5027064039710905,-0.5467087382492198,-0.22462087224068003,0.9213508618810443,1.382123867957571,-0.7145203155188684,-0.7637499403917496,0.37410803547132204,0.372442129996429,-0.599660356333412,-0.02335861163390679,0.4139060275767294,0.19756760881077232,0.4696597038850513,0.3168977038265884,0.28168663667665017,-1.116787362925828,0.1991967912578874,0.6389382678317415,0.13410834811540082,0.0031633990525533,-0.6308432596799884,1.5266337378580441,-0.2036437953940007,-2.105541619115384,0.5987154691588157,0.8289444115085323,-1.3488492705330655,-0.28987568392444796,-1.3420110021319405,0.2729186132865296,0.6159737529548067,0.7078416094987383,-0.5693004239201993,0.1797509878233235,-0.2736610552159289,1.2706296230538061,0.041079620995538205,1.5558794301479135,1.23589773548267],\"yaxis\":\"y7\",\"type\":\"scatter\"},{\"line\":{\"color\":\"rgba(128, 128, 128, 1.0)\",\"dash\":\"solid\",\"shape\":\"linear\",\"width\":1.3},\"marker\":{\"size\":2,\"symbol\":\"circle\"},\"mode\":\"markers\",\"name\":\"B\",\"text\":\"\",\"x\":[0.48402231351696223,-0.10224008216294853,0.1181167177112375,-1.0666352011557814,0.9665761653846904,-1.357467284764471,-0.9284302790533993,0.6345284482882199,-0.0740403721093706,-0.4639975999755965,0.08721289374435162,2.5052961075647073,0.43481143614950385,0.044696324209182695,1.0038024561243661,0.5792773036591153,-0.9387504452926381,0.38816513983244655,0.7125625273567961,-0.9014570313492231,0.617734999692759,-0.1607937369778756,0.47256217897592473,0.9849914909342756,-0.11588845516963875,0.935370911058539,0.6814187457481841,-1.093908749200606,-1.4770940250558757,-0.4681968101286804,0.003804239951599719,-0.8654816613491302,-0.5388942804224948,-0.04185039340724913,-1.6113178414836005,-0.0003678996224740092,0.8407392704361697,0.8533804774379177,-0.059350929952908534,1.0205634363676772,-1.7799932042531268,0.2317262664177079,-0.43506433070992123,0.21885734354175732,0.12191237624937491,0.18524173055924198,1.0448868828422513,-1.0693628956754957,-0.41071363662322125,-1.2017076759706053,0.36453795842358444,0.048199844587854104,0.06988559244102713,-1.302062250615279,2.0868259885989198,-0.8867554121873944,-0.4991233846826625,0.6624829896563093,-0.08644530990479748,0.05376519275306745,0.6105915466200568,1.5880147270494087,-2.6059443100785398,1.113681623122705,-2.4808034446004505,0.7950575875647712,-1.7216964395170653,0.9714435277856804,-0.2276106106055289,-0.1445109611895521,-1.3269143168436681,-2.0694832857147674,-0.7742834005575784,-0.6461480867969325,-0.6757574665431837,0.9722038475153926,0.9775585773247587,0.46947999658130235,0.9322149470058937,-0.21609438336289588,2.248124938605876,-0.32137434342729276,-2.438336521811027,0.7591164420275582,-0.5280112163401659,-0.46329575071946916,0.597968464659016,-0.6701092888978968,-1.2261745344221369,-1.2143797733898316,0.4103104662761871,-0.05196950755972925,-0.0706104909389996,-1.9771998405899995,1.759130100764726,-0.6872895951785153,-0.16848677083892882,-0.5170754348269515,-1.0486590728578142,1.6818373695865567],\"xaxis\":\"x8\",\"y\":[-0.9690244560766667,-0.24091027670686352,0.06172657545459743,-1.3358418161138446,0.4096119688660683,0.21648207305952347,1.5494564109673212,-0.5272035737836958,0.9936728832488787,1.6998421007416729,-0.5350070839408002,1.142373991163409,0.28043404231004704,-0.12769281150264328,-1.6037993962606607,0.5265483510398294,0.6901568262269182,0.15982885802970115,0.39314699605901254,0.11442065176845712,1.1243539020059987,1.1152052967861483,0.2780180827228744,1.4584229801030515,1.4978308842176264,-0.5437462494865144,0.18413726991006588,0.6269539326224163,-2.5047420918321257,-0.6212320955813105,0.08172489190197559,-0.6399969402483794,-0.15252884600524794,0.7774564761486727,0.37641731136611345,-0.6411375959139302,1.4093851243875426,-0.7630593139882308,0.10385408112188718,0.9157584272126849,0.06737938308580205,0.4412611451538305,-0.42090358284399665,0.4232808577387168,0.2761393043199375,1.138092905016683,1.8973244739280186,0.19108988361415394,0.13251187903126746,1.5160740123760557,-0.47908398458207774,0.2849672103236269,-0.3767923189387514,2.2667184992162563,1.975737356877006,-0.3133790957536171,0.42849388398643246,-1.1098435632620174,0.7432415272682933,0.8773264563497847,-1.5027064039710905,-0.5467087382492198,-0.22462087224068003,0.9213508618810443,1.382123867957571,-0.7145203155188684,-0.7637499403917496,0.37410803547132204,0.372442129996429,-0.599660356333412,-0.02335861163390679,0.4139060275767294,0.19756760881077232,0.4696597038850513,0.3168977038265884,0.28168663667665017,-1.116787362925828,0.1991967912578874,0.6389382678317415,0.13410834811540082,0.0031633990525533,-0.6308432596799884,1.5266337378580441,-0.2036437953940007,-2.105541619115384,0.5987154691588157,0.8289444115085323,-1.3488492705330655,-0.28987568392444796,-1.3420110021319405,0.2729186132865296,0.6159737529548067,0.7078416094987383,-0.5693004239201993,0.1797509878233235,-0.2736610552159289,1.2706296230538061,0.041079620995538205,1.5558794301479135,1.23589773548267],\"yaxis\":\"y8\",\"type\":\"scatter\"},{\"line\":{\"color\":\"rgba(128, 128, 128, 1.0)\",\"dash\":\"solid\",\"shape\":\"linear\",\"width\":1.3},\"marker\":{\"size\":2,\"symbol\":\"circle\"},\"mode\":\"markers\",\"name\":\"C\",\"text\":\"\",\"x\":[-1.3402016232243987,-0.649020214887379,-0.1682257323904412,2.193351046396256,-0.03573185326863341,-1.0307989329934075,-0.31001491329916697,0.22297126297492637,0.6122609371476259,-2.117750882736682,0.3272545474121727,1.1386299196654515,-0.4154436052538386,1.0779279014688374,-0.33924919653852054,-0.05106266578488151,-1.2273122208986817,0.13163095652086673,0.6861422996774701,-1.4929644029779623,0.7150917642789755,1.814864989428972,0.9247864218619752,0.1584202308262772,1.3776632444592147,-0.8326001639401515,1.181045793801218,-0.374786520171287,-1.0314030959357248,-1.405302986742882,1.307505538855658,0.28061501742315353,-0.27765619411536585,1.037160257723475,-0.06440534965266251,-0.793112145628941,-2.123781691651395,0.7175911466979235,-0.9935809840486913,0.102082618948086,2.5401308092916937,0.6994358348094193,0.37786736051270964,0.36914437145631324,-0.18534855714732013,-0.2839090460128509,-0.6674685004133002,-1.1939521780587363,0.22405329359385473,0.30397583811713497,2.150058233613433,-0.6912701612509979,0.24011301797624413,-0.8920054636597202,-1.1362101375723168,-0.2445198402137013,-1.464257619736692,-1.131466171469585,0.5006879161128014,-0.0060776854956445915,-0.24392875687830465,0.6797274182867651,-0.029234509609762142,-1.062499955977877,0.6439254781690764,0.5783337153396132,-0.1944123189471814,-0.2167287075789601,-0.024164469729240884,0.05793902626343979,0.8986897207398744,1.0031118779125756,2.031724621187272,-0.10250037152497271,-1.1186755466234815,-1.1843577588561136,-1.5662760148060901,-1.219161823281136,-1.1593766556630698,-0.027439127229870085,0.018316738046942258,-0.6922784874155976,0.07979753670333341,0.22962384107885242,0.20152715612661043,-0.3285086721135077,-0.4779892642970852,-0.42324897569430525,-2.738587292705288,-0.35618875561801133,1.1560776988758348,-0.7923919414392832,0.7825784632218197,0.08966821419878798,-0.6329579247795905,-0.375129963188778,-0.8639214742522782,0.40125309184897434,0.5185039514250023,0.05590068286289588],\"xaxis\":\"x9\",\"y\":[-0.31761216767426204,-0.7713855262248842,0.6510143387152343,-1.1811984242585574,-1.1697432254377702,0.5489771618833647,1.1862225843114564,-0.7245272592059752,-0.14792973672494128,1.5722515552182135,1.4341592490956658,-0.8570156609414016,-1.680520022665643,-0.9680166170648011,1.311281663993853,-1.8862897337383335,0.2556671335044036,-0.42854058169515186,0.021496573924532865,-0.9301714438666704,-0.7784602628726872,0.5253013752651645,-1.1331607602104599,1.380155974255039,-1.4258118060932672,1.0519287902179193,-0.5483907903629059,-0.4736793472289787,0.5008072725857905,1.9524746034663378,0.7760705877414437,-0.7024923559689906,-1.0723973849428952,-0.08883437399867769,1.1516644440104995,0.14492508387561012,-1.329113015464814,-1.768554760981793,-1.1089511004990398,-0.9256720747159527,-0.607940857474674,-0.7643597429653168,2.116175430688474,0.5254370534840804,-0.8627621038011164,-0.18705903746517677,0.4969700990114964,1.3775880018466966,0.5422496160610358,0.585665596672673,1.607985533045647,-0.14937880582303528,0.31304196224506375,-0.949083115083279,1.3527610635614198,-0.7229800726709068,-0.72744238172861,-0.8903502064701029,0.19856824359792294,0.07938708606902466,-0.8048320733054841,0.9639879157595301,-0.10116584307740642,-0.40395266893604703,-1.4659250635248866,-1.3416566932851965,-0.17915563258237827,-1.0205832094322478,-1.348546808665269,1.244533874754698,-0.08330079467972014,-0.21109143856870685,-0.049408929386735294,-0.6357858113735209,0.3159283014544451,-1.4088745925162722,1.2069505204575266,0.5896351522404546,0.5686334336003075,0.41991449053903257,-0.915112909217904,-0.7950586560618741,-2.1036162765740736,0.30013241310694716,-0.7015981150125078,0.19965514925218483,-1.7509003793519868,0.003082167692337168,1.1546511368384644,0.46855349338478686,-1.4260884081435767,-0.12707196437390098,0.15753904614090358,0.7152257131572535,-0.7607448920579295,-0.20845227848020811,0.9630898870419832,0.07864516588430184,-0.6766380804599007,-1.7568453910546822],\"yaxis\":\"y9\",\"type\":\"scatter\"},{\"line\":{\"color\":\"rgba(128, 128, 128, 1.0)\",\"dash\":\"solid\",\"shape\":\"linear\",\"width\":1.3},\"marker\":{\"size\":2,\"symbol\":\"circle\"},\"mode\":\"markers\",\"name\":\"C\",\"text\":\"\",\"x\":[-0.9690244560766667,-0.24091027670686352,0.06172657545459743,-1.3358418161138446,0.4096119688660683,0.21648207305952347,1.5494564109673212,-0.5272035737836958,0.9936728832488787,1.6998421007416729,-0.5350070839408002,1.142373991163409,0.28043404231004704,-0.12769281150264328,-1.6037993962606607,0.5265483510398294,0.6901568262269182,0.15982885802970115,0.39314699605901254,0.11442065176845712,1.1243539020059987,1.1152052967861483,0.2780180827228744,1.4584229801030515,1.4978308842176264,-0.5437462494865144,0.18413726991006588,0.6269539326224163,-2.5047420918321257,-0.6212320955813105,0.08172489190197559,-0.6399969402483794,-0.15252884600524794,0.7774564761486727,0.37641731136611345,-0.6411375959139302,1.4093851243875426,-0.7630593139882308,0.10385408112188718,0.9157584272126849,0.06737938308580205,0.4412611451538305,-0.42090358284399665,0.4232808577387168,0.2761393043199375,1.138092905016683,1.8973244739280186,0.19108988361415394,0.13251187903126746,1.5160740123760557,-0.47908398458207774,0.2849672103236269,-0.3767923189387514,2.2667184992162563,1.975737356877006,-0.3133790957536171,0.42849388398643246,-1.1098435632620174,0.7432415272682933,0.8773264563497847,-1.5027064039710905,-0.5467087382492198,-0.22462087224068003,0.9213508618810443,1.382123867957571,-0.7145203155188684,-0.7637499403917496,0.37410803547132204,0.372442129996429,-0.599660356333412,-0.02335861163390679,0.4139060275767294,0.19756760881077232,0.4696597038850513,0.3168977038265884,0.28168663667665017,-1.116787362925828,0.1991967912578874,0.6389382678317415,0.13410834811540082,0.0031633990525533,-0.6308432596799884,1.5266337378580441,-0.2036437953940007,-2.105541619115384,0.5987154691588157,0.8289444115085323,-1.3488492705330655,-0.28987568392444796,-1.3420110021319405,0.2729186132865296,0.6159737529548067,0.7078416094987383,-0.5693004239201993,0.1797509878233235,-0.2736610552159289,1.2706296230538061,0.041079620995538205,1.5558794301479135,1.23589773548267],\"xaxis\":\"x10\",\"y\":[-0.31761216767426204,-0.7713855262248842,0.6510143387152343,-1.1811984242585574,-1.1697432254377702,0.5489771618833647,1.1862225843114564,-0.7245272592059752,-0.14792973672494128,1.5722515552182135,1.4341592490956658,-0.8570156609414016,-1.680520022665643,-0.9680166170648011,1.311281663993853,-1.8862897337383335,0.2556671335044036,-0.42854058169515186,0.021496573924532865,-0.9301714438666704,-0.7784602628726872,0.5253013752651645,-1.1331607602104599,1.380155974255039,-1.4258118060932672,1.0519287902179193,-0.5483907903629059,-0.4736793472289787,0.5008072725857905,1.9524746034663378,0.7760705877414437,-0.7024923559689906,-1.0723973849428952,-0.08883437399867769,1.1516644440104995,0.14492508387561012,-1.329113015464814,-1.768554760981793,-1.1089511004990398,-0.9256720747159527,-0.607940857474674,-0.7643597429653168,2.116175430688474,0.5254370534840804,-0.8627621038011164,-0.18705903746517677,0.4969700990114964,1.3775880018466966,0.5422496160610358,0.585665596672673,1.607985533045647,-0.14937880582303528,0.31304196224506375,-0.949083115083279,1.3527610635614198,-0.7229800726709068,-0.72744238172861,-0.8903502064701029,0.19856824359792294,0.07938708606902466,-0.8048320733054841,0.9639879157595301,-0.10116584307740642,-0.40395266893604703,-1.4659250635248866,-1.3416566932851965,-0.17915563258237827,-1.0205832094322478,-1.348546808665269,1.244533874754698,-0.08330079467972014,-0.21109143856870685,-0.049408929386735294,-0.6357858113735209,0.3159283014544451,-1.4088745925162722,1.2069505204575266,0.5896351522404546,0.5686334336003075,0.41991449053903257,-0.915112909217904,-0.7950586560618741,-2.1036162765740736,0.30013241310694716,-0.7015981150125078,0.19965514925218483,-1.7509003793519868,0.003082167692337168,1.1546511368384644,0.46855349338478686,-1.4260884081435767,-0.12707196437390098,0.15753904614090358,0.7152257131572535,-0.7607448920579295,-0.20845227848020811,0.9630898870419832,0.07864516588430184,-0.6766380804599007,-1.7568453910546822],\"yaxis\":\"y10\",\"type\":\"scatter\"},{\"histfunc\":\"count\",\"histnorm\":\"\",\"marker\":{\"color\":\"rgba(50, 171, 96, 1.0)\",\"line\":{\"color\":\"#4D5663\",\"width\":1.3}},\"name\":\"C\",\"nbinsx\":10,\"opacity\":0.8,\"orientation\":\"v\",\"x\":[-0.31761216767426204,-0.7713855262248842,0.6510143387152343,-1.1811984242585574,-1.1697432254377702,0.5489771618833647,1.1862225843114564,-0.7245272592059752,-0.14792973672494128,1.5722515552182135,1.4341592490956658,-0.8570156609414016,-1.680520022665643,-0.9680166170648011,1.311281663993853,-1.8862897337383335,0.2556671335044036,-0.42854058169515186,0.021496573924532865,-0.9301714438666704,-0.7784602628726872,0.5253013752651645,-1.1331607602104599,1.380155974255039,-1.4258118060932672,1.0519287902179193,-0.5483907903629059,-0.4736793472289787,0.5008072725857905,1.9524746034663378,0.7760705877414437,-0.7024923559689906,-1.0723973849428952,-0.08883437399867769,1.1516644440104995,0.14492508387561012,-1.329113015464814,-1.768554760981793,-1.1089511004990398,-0.9256720747159527,-0.607940857474674,-0.7643597429653168,2.116175430688474,0.5254370534840804,-0.8627621038011164,-0.18705903746517677,0.4969700990114964,1.3775880018466966,0.5422496160610358,0.585665596672673,1.607985533045647,-0.14937880582303528,0.31304196224506375,-0.949083115083279,1.3527610635614198,-0.7229800726709068,-0.72744238172861,-0.8903502064701029,0.19856824359792294,0.07938708606902466,-0.8048320733054841,0.9639879157595301,-0.10116584307740642,-0.40395266893604703,-1.4659250635248866,-1.3416566932851965,-0.17915563258237827,-1.0205832094322478,-1.348546808665269,1.244533874754698,-0.08330079467972014,-0.21109143856870685,-0.049408929386735294,-0.6357858113735209,0.3159283014544451,-1.4088745925162722,1.2069505204575266,0.5896351522404546,0.5686334336003075,0.41991449053903257,-0.915112909217904,-0.7950586560618741,-2.1036162765740736,0.30013241310694716,-0.7015981150125078,0.19965514925218483,-1.7509003793519868,0.003082167692337168,1.1546511368384644,0.46855349338478686,-1.4260884081435767,-0.12707196437390098,0.15753904614090358,0.7152257131572535,-0.7607448920579295,-0.20845227848020811,0.9630898870419832,0.07864516588430184,-0.6766380804599007,-1.7568453910546822],\"xaxis\":\"x11\",\"yaxis\":\"y11\",\"type\":\"histogram\"},{\"line\":{\"color\":\"rgba(128, 128, 128, 1.0)\",\"dash\":\"solid\",\"shape\":\"linear\",\"width\":1.3},\"marker\":{\"size\":2,\"symbol\":\"circle\"},\"mode\":\"markers\",\"name\":\"C\",\"text\":\"\",\"x\":[0.48402231351696223,-0.10224008216294853,0.1181167177112375,-1.0666352011557814,0.9665761653846904,-1.357467284764471,-0.9284302790533993,0.6345284482882199,-0.0740403721093706,-0.4639975999755965,0.08721289374435162,2.5052961075647073,0.43481143614950385,0.044696324209182695,1.0038024561243661,0.5792773036591153,-0.9387504452926381,0.38816513983244655,0.7125625273567961,-0.9014570313492231,0.617734999692759,-0.1607937369778756,0.47256217897592473,0.9849914909342756,-0.11588845516963875,0.935370911058539,0.6814187457481841,-1.093908749200606,-1.4770940250558757,-0.4681968101286804,0.003804239951599719,-0.8654816613491302,-0.5388942804224948,-0.04185039340724913,-1.6113178414836005,-0.0003678996224740092,0.8407392704361697,0.8533804774379177,-0.059350929952908534,1.0205634363676772,-1.7799932042531268,0.2317262664177079,-0.43506433070992123,0.21885734354175732,0.12191237624937491,0.18524173055924198,1.0448868828422513,-1.0693628956754957,-0.41071363662322125,-1.2017076759706053,0.36453795842358444,0.048199844587854104,0.06988559244102713,-1.302062250615279,2.0868259885989198,-0.8867554121873944,-0.4991233846826625,0.6624829896563093,-0.08644530990479748,0.05376519275306745,0.6105915466200568,1.5880147270494087,-2.6059443100785398,1.113681623122705,-2.4808034446004505,0.7950575875647712,-1.7216964395170653,0.9714435277856804,-0.2276106106055289,-0.1445109611895521,-1.3269143168436681,-2.0694832857147674,-0.7742834005575784,-0.6461480867969325,-0.6757574665431837,0.9722038475153926,0.9775585773247587,0.46947999658130235,0.9322149470058937,-0.21609438336289588,2.248124938605876,-0.32137434342729276,-2.438336521811027,0.7591164420275582,-0.5280112163401659,-0.46329575071946916,0.597968464659016,-0.6701092888978968,-1.2261745344221369,-1.2143797733898316,0.4103104662761871,-0.05196950755972925,-0.0706104909389996,-1.9771998405899995,1.759130100764726,-0.6872895951785153,-0.16848677083892882,-0.5170754348269515,-1.0486590728578142,1.6818373695865567],\"xaxis\":\"x12\",\"y\":[-0.31761216767426204,-0.7713855262248842,0.6510143387152343,-1.1811984242585574,-1.1697432254377702,0.5489771618833647,1.1862225843114564,-0.7245272592059752,-0.14792973672494128,1.5722515552182135,1.4341592490956658,-0.8570156609414016,-1.680520022665643,-0.9680166170648011,1.311281663993853,-1.8862897337383335,0.2556671335044036,-0.42854058169515186,0.021496573924532865,-0.9301714438666704,-0.7784602628726872,0.5253013752651645,-1.1331607602104599,1.380155974255039,-1.4258118060932672,1.0519287902179193,-0.5483907903629059,-0.4736793472289787,0.5008072725857905,1.9524746034663378,0.7760705877414437,-0.7024923559689906,-1.0723973849428952,-0.08883437399867769,1.1516644440104995,0.14492508387561012,-1.329113015464814,-1.768554760981793,-1.1089511004990398,-0.9256720747159527,-0.607940857474674,-0.7643597429653168,2.116175430688474,0.5254370534840804,-0.8627621038011164,-0.18705903746517677,0.4969700990114964,1.3775880018466966,0.5422496160610358,0.585665596672673,1.607985533045647,-0.14937880582303528,0.31304196224506375,-0.949083115083279,1.3527610635614198,-0.7229800726709068,-0.72744238172861,-0.8903502064701029,0.19856824359792294,0.07938708606902466,-0.8048320733054841,0.9639879157595301,-0.10116584307740642,-0.40395266893604703,-1.4659250635248866,-1.3416566932851965,-0.17915563258237827,-1.0205832094322478,-1.348546808665269,1.244533874754698,-0.08330079467972014,-0.21109143856870685,-0.049408929386735294,-0.6357858113735209,0.3159283014544451,-1.4088745925162722,1.2069505204575266,0.5896351522404546,0.5686334336003075,0.41991449053903257,-0.915112909217904,-0.7950586560618741,-2.1036162765740736,0.30013241310694716,-0.7015981150125078,0.19965514925218483,-1.7509003793519868,0.003082167692337168,1.1546511368384644,0.46855349338478686,-1.4260884081435767,-0.12707196437390098,0.15753904614090358,0.7152257131572535,-0.7607448920579295,-0.20845227848020811,0.9630898870419832,0.07864516588430184,-0.6766380804599007,-1.7568453910546822],\"yaxis\":\"y12\",\"type\":\"scatter\"},{\"line\":{\"color\":\"rgba(128, 128, 128, 1.0)\",\"dash\":\"solid\",\"shape\":\"linear\",\"width\":1.3},\"marker\":{\"size\":2,\"symbol\":\"circle\"},\"mode\":\"markers\",\"name\":\"D\",\"text\":\"\",\"x\":[-1.3402016232243987,-0.649020214887379,-0.1682257323904412,2.193351046396256,-0.03573185326863341,-1.0307989329934075,-0.31001491329916697,0.22297126297492637,0.6122609371476259,-2.117750882736682,0.3272545474121727,1.1386299196654515,-0.4154436052538386,1.0779279014688374,-0.33924919653852054,-0.05106266578488151,-1.2273122208986817,0.13163095652086673,0.6861422996774701,-1.4929644029779623,0.7150917642789755,1.814864989428972,0.9247864218619752,0.1584202308262772,1.3776632444592147,-0.8326001639401515,1.181045793801218,-0.374786520171287,-1.0314030959357248,-1.405302986742882,1.307505538855658,0.28061501742315353,-0.27765619411536585,1.037160257723475,-0.06440534965266251,-0.793112145628941,-2.123781691651395,0.7175911466979235,-0.9935809840486913,0.102082618948086,2.5401308092916937,0.6994358348094193,0.37786736051270964,0.36914437145631324,-0.18534855714732013,-0.2839090460128509,-0.6674685004133002,-1.1939521780587363,0.22405329359385473,0.30397583811713497,2.150058233613433,-0.6912701612509979,0.24011301797624413,-0.8920054636597202,-1.1362101375723168,-0.2445198402137013,-1.464257619736692,-1.131466171469585,0.5006879161128014,-0.0060776854956445915,-0.24392875687830465,0.6797274182867651,-0.029234509609762142,-1.062499955977877,0.6439254781690764,0.5783337153396132,-0.1944123189471814,-0.2167287075789601,-0.024164469729240884,0.05793902626343979,0.8986897207398744,1.0031118779125756,2.031724621187272,-0.10250037152497271,-1.1186755466234815,-1.1843577588561136,-1.5662760148060901,-1.219161823281136,-1.1593766556630698,-0.027439127229870085,0.018316738046942258,-0.6922784874155976,0.07979753670333341,0.22962384107885242,0.20152715612661043,-0.3285086721135077,-0.4779892642970852,-0.42324897569430525,-2.738587292705288,-0.35618875561801133,1.1560776988758348,-0.7923919414392832,0.7825784632218197,0.08966821419878798,-0.6329579247795905,-0.375129963188778,-0.8639214742522782,0.40125309184897434,0.5185039514250023,0.05590068286289588],\"xaxis\":\"x13\",\"y\":[0.48402231351696223,-0.10224008216294853,0.1181167177112375,-1.0666352011557814,0.9665761653846904,-1.357467284764471,-0.9284302790533993,0.6345284482882199,-0.0740403721093706,-0.4639975999755965,0.08721289374435162,2.5052961075647073,0.43481143614950385,0.044696324209182695,1.0038024561243661,0.5792773036591153,-0.9387504452926381,0.38816513983244655,0.7125625273567961,-0.9014570313492231,0.617734999692759,-0.1607937369778756,0.47256217897592473,0.9849914909342756,-0.11588845516963875,0.935370911058539,0.6814187457481841,-1.093908749200606,-1.4770940250558757,-0.4681968101286804,0.003804239951599719,-0.8654816613491302,-0.5388942804224948,-0.04185039340724913,-1.6113178414836005,-0.0003678996224740092,0.8407392704361697,0.8533804774379177,-0.059350929952908534,1.0205634363676772,-1.7799932042531268,0.2317262664177079,-0.43506433070992123,0.21885734354175732,0.12191237624937491,0.18524173055924198,1.0448868828422513,-1.0693628956754957,-0.41071363662322125,-1.2017076759706053,0.36453795842358444,0.048199844587854104,0.06988559244102713,-1.302062250615279,2.0868259885989198,-0.8867554121873944,-0.4991233846826625,0.6624829896563093,-0.08644530990479748,0.05376519275306745,0.6105915466200568,1.5880147270494087,-2.6059443100785398,1.113681623122705,-2.4808034446004505,0.7950575875647712,-1.7216964395170653,0.9714435277856804,-0.2276106106055289,-0.1445109611895521,-1.3269143168436681,-2.0694832857147674,-0.7742834005575784,-0.6461480867969325,-0.6757574665431837,0.9722038475153926,0.9775585773247587,0.46947999658130235,0.9322149470058937,-0.21609438336289588,2.248124938605876,-0.32137434342729276,-2.438336521811027,0.7591164420275582,-0.5280112163401659,-0.46329575071946916,0.597968464659016,-0.6701092888978968,-1.2261745344221369,-1.2143797733898316,0.4103104662761871,-0.05196950755972925,-0.0706104909389996,-1.9771998405899995,1.759130100764726,-0.6872895951785153,-0.16848677083892882,-0.5170754348269515,-1.0486590728578142,1.6818373695865567],\"yaxis\":\"y13\",\"type\":\"scatter\"},{\"line\":{\"color\":\"rgba(128, 128, 128, 1.0)\",\"dash\":\"solid\",\"shape\":\"linear\",\"width\":1.3},\"marker\":{\"size\":2,\"symbol\":\"circle\"},\"mode\":\"markers\",\"name\":\"D\",\"text\":\"\",\"x\":[-0.9690244560766667,-0.24091027670686352,0.06172657545459743,-1.3358418161138446,0.4096119688660683,0.21648207305952347,1.5494564109673212,-0.5272035737836958,0.9936728832488787,1.6998421007416729,-0.5350070839408002,1.142373991163409,0.28043404231004704,-0.12769281150264328,-1.6037993962606607,0.5265483510398294,0.6901568262269182,0.15982885802970115,0.39314699605901254,0.11442065176845712,1.1243539020059987,1.1152052967861483,0.2780180827228744,1.4584229801030515,1.4978308842176264,-0.5437462494865144,0.18413726991006588,0.6269539326224163,-2.5047420918321257,-0.6212320955813105,0.08172489190197559,-0.6399969402483794,-0.15252884600524794,0.7774564761486727,0.37641731136611345,-0.6411375959139302,1.4093851243875426,-0.7630593139882308,0.10385408112188718,0.9157584272126849,0.06737938308580205,0.4412611451538305,-0.42090358284399665,0.4232808577387168,0.2761393043199375,1.138092905016683,1.8973244739280186,0.19108988361415394,0.13251187903126746,1.5160740123760557,-0.47908398458207774,0.2849672103236269,-0.3767923189387514,2.2667184992162563,1.975737356877006,-0.3133790957536171,0.42849388398643246,-1.1098435632620174,0.7432415272682933,0.8773264563497847,-1.5027064039710905,-0.5467087382492198,-0.22462087224068003,0.9213508618810443,1.382123867957571,-0.7145203155188684,-0.7637499403917496,0.37410803547132204,0.372442129996429,-0.599660356333412,-0.02335861163390679,0.4139060275767294,0.19756760881077232,0.4696597038850513,0.3168977038265884,0.28168663667665017,-1.116787362925828,0.1991967912578874,0.6389382678317415,0.13410834811540082,0.0031633990525533,-0.6308432596799884,1.5266337378580441,-0.2036437953940007,-2.105541619115384,0.5987154691588157,0.8289444115085323,-1.3488492705330655,-0.28987568392444796,-1.3420110021319405,0.2729186132865296,0.6159737529548067,0.7078416094987383,-0.5693004239201993,0.1797509878233235,-0.2736610552159289,1.2706296230538061,0.041079620995538205,1.5558794301479135,1.23589773548267],\"xaxis\":\"x14\",\"y\":[0.48402231351696223,-0.10224008216294853,0.1181167177112375,-1.0666352011557814,0.9665761653846904,-1.357467284764471,-0.9284302790533993,0.6345284482882199,-0.0740403721093706,-0.4639975999755965,0.08721289374435162,2.5052961075647073,0.43481143614950385,0.044696324209182695,1.0038024561243661,0.5792773036591153,-0.9387504452926381,0.38816513983244655,0.7125625273567961,-0.9014570313492231,0.617734999692759,-0.1607937369778756,0.47256217897592473,0.9849914909342756,-0.11588845516963875,0.935370911058539,0.6814187457481841,-1.093908749200606,-1.4770940250558757,-0.4681968101286804,0.003804239951599719,-0.8654816613491302,-0.5388942804224948,-0.04185039340724913,-1.6113178414836005,-0.0003678996224740092,0.8407392704361697,0.8533804774379177,-0.059350929952908534,1.0205634363676772,-1.7799932042531268,0.2317262664177079,-0.43506433070992123,0.21885734354175732,0.12191237624937491,0.18524173055924198,1.0448868828422513,-1.0693628956754957,-0.41071363662322125,-1.2017076759706053,0.36453795842358444,0.048199844587854104,0.06988559244102713,-1.302062250615279,2.0868259885989198,-0.8867554121873944,-0.4991233846826625,0.6624829896563093,-0.08644530990479748,0.05376519275306745,0.6105915466200568,1.5880147270494087,-2.6059443100785398,1.113681623122705,-2.4808034446004505,0.7950575875647712,-1.7216964395170653,0.9714435277856804,-0.2276106106055289,-0.1445109611895521,-1.3269143168436681,-2.0694832857147674,-0.7742834005575784,-0.6461480867969325,-0.6757574665431837,0.9722038475153926,0.9775585773247587,0.46947999658130235,0.9322149470058937,-0.21609438336289588,2.248124938605876,-0.32137434342729276,-2.438336521811027,0.7591164420275582,-0.5280112163401659,-0.46329575071946916,0.597968464659016,-0.6701092888978968,-1.2261745344221369,-1.2143797733898316,0.4103104662761871,-0.05196950755972925,-0.0706104909389996,-1.9771998405899995,1.759130100764726,-0.6872895951785153,-0.16848677083892882,-0.5170754348269515,-1.0486590728578142,1.6818373695865567],\"yaxis\":\"y14\",\"type\":\"scatter\"},{\"line\":{\"color\":\"rgba(128, 128, 128, 1.0)\",\"dash\":\"solid\",\"shape\":\"linear\",\"width\":1.3},\"marker\":{\"size\":2,\"symbol\":\"circle\"},\"mode\":\"markers\",\"name\":\"D\",\"text\":\"\",\"x\":[-0.31761216767426204,-0.7713855262248842,0.6510143387152343,-1.1811984242585574,-1.1697432254377702,0.5489771618833647,1.1862225843114564,-0.7245272592059752,-0.14792973672494128,1.5722515552182135,1.4341592490956658,-0.8570156609414016,-1.680520022665643,-0.9680166170648011,1.311281663993853,-1.8862897337383335,0.2556671335044036,-0.42854058169515186,0.021496573924532865,-0.9301714438666704,-0.7784602628726872,0.5253013752651645,-1.1331607602104599,1.380155974255039,-1.4258118060932672,1.0519287902179193,-0.5483907903629059,-0.4736793472289787,0.5008072725857905,1.9524746034663378,0.7760705877414437,-0.7024923559689906,-1.0723973849428952,-0.08883437399867769,1.1516644440104995,0.14492508387561012,-1.329113015464814,-1.768554760981793,-1.1089511004990398,-0.9256720747159527,-0.607940857474674,-0.7643597429653168,2.116175430688474,0.5254370534840804,-0.8627621038011164,-0.18705903746517677,0.4969700990114964,1.3775880018466966,0.5422496160610358,0.585665596672673,1.607985533045647,-0.14937880582303528,0.31304196224506375,-0.949083115083279,1.3527610635614198,-0.7229800726709068,-0.72744238172861,-0.8903502064701029,0.19856824359792294,0.07938708606902466,-0.8048320733054841,0.9639879157595301,-0.10116584307740642,-0.40395266893604703,-1.4659250635248866,-1.3416566932851965,-0.17915563258237827,-1.0205832094322478,-1.348546808665269,1.244533874754698,-0.08330079467972014,-0.21109143856870685,-0.049408929386735294,-0.6357858113735209,0.3159283014544451,-1.4088745925162722,1.2069505204575266,0.5896351522404546,0.5686334336003075,0.41991449053903257,-0.915112909217904,-0.7950586560618741,-2.1036162765740736,0.30013241310694716,-0.7015981150125078,0.19965514925218483,-1.7509003793519868,0.003082167692337168,1.1546511368384644,0.46855349338478686,-1.4260884081435767,-0.12707196437390098,0.15753904614090358,0.7152257131572535,-0.7607448920579295,-0.20845227848020811,0.9630898870419832,0.07864516588430184,-0.6766380804599007,-1.7568453910546822],\"xaxis\":\"x15\",\"y\":[0.48402231351696223,-0.10224008216294853,0.1181167177112375,-1.0666352011557814,0.9665761653846904,-1.357467284764471,-0.9284302790533993,0.6345284482882199,-0.0740403721093706,-0.4639975999755965,0.08721289374435162,2.5052961075647073,0.43481143614950385,0.044696324209182695,1.0038024561243661,0.5792773036591153,-0.9387504452926381,0.38816513983244655,0.7125625273567961,-0.9014570313492231,0.617734999692759,-0.1607937369778756,0.47256217897592473,0.9849914909342756,-0.11588845516963875,0.935370911058539,0.6814187457481841,-1.093908749200606,-1.4770940250558757,-0.4681968101286804,0.003804239951599719,-0.8654816613491302,-0.5388942804224948,-0.04185039340724913,-1.6113178414836005,-0.0003678996224740092,0.8407392704361697,0.8533804774379177,-0.059350929952908534,1.0205634363676772,-1.7799932042531268,0.2317262664177079,-0.43506433070992123,0.21885734354175732,0.12191237624937491,0.18524173055924198,1.0448868828422513,-1.0693628956754957,-0.41071363662322125,-1.2017076759706053,0.36453795842358444,0.048199844587854104,0.06988559244102713,-1.302062250615279,2.0868259885989198,-0.8867554121873944,-0.4991233846826625,0.6624829896563093,-0.08644530990479748,0.05376519275306745,0.6105915466200568,1.5880147270494087,-2.6059443100785398,1.113681623122705,-2.4808034446004505,0.7950575875647712,-1.7216964395170653,0.9714435277856804,-0.2276106106055289,-0.1445109611895521,-1.3269143168436681,-2.0694832857147674,-0.7742834005575784,-0.6461480867969325,-0.6757574665431837,0.9722038475153926,0.9775585773247587,0.46947999658130235,0.9322149470058937,-0.21609438336289588,2.248124938605876,-0.32137434342729276,-2.438336521811027,0.7591164420275582,-0.5280112163401659,-0.46329575071946916,0.597968464659016,-0.6701092888978968,-1.2261745344221369,-1.2143797733898316,0.4103104662761871,-0.05196950755972925,-0.0706104909389996,-1.9771998405899995,1.759130100764726,-0.6872895951785153,-0.16848677083892882,-0.5170754348269515,-1.0486590728578142,1.6818373695865567],\"yaxis\":\"y15\",\"type\":\"scatter\"},{\"histfunc\":\"count\",\"histnorm\":\"\",\"marker\":{\"color\":\"rgba(128, 0, 128, 1.0)\",\"line\":{\"color\":\"#4D5663\",\"width\":1.3}},\"name\":\"D\",\"nbinsx\":10,\"opacity\":0.8,\"orientation\":\"v\",\"x\":[0.48402231351696223,-0.10224008216294853,0.1181167177112375,-1.0666352011557814,0.9665761653846904,-1.357467284764471,-0.9284302790533993,0.6345284482882199,-0.0740403721093706,-0.4639975999755965,0.08721289374435162,2.5052961075647073,0.43481143614950385,0.044696324209182695,1.0038024561243661,0.5792773036591153,-0.9387504452926381,0.38816513983244655,0.7125625273567961,-0.9014570313492231,0.617734999692759,-0.1607937369778756,0.47256217897592473,0.9849914909342756,-0.11588845516963875,0.935370911058539,0.6814187457481841,-1.093908749200606,-1.4770940250558757,-0.4681968101286804,0.003804239951599719,-0.8654816613491302,-0.5388942804224948,-0.04185039340724913,-1.6113178414836005,-0.0003678996224740092,0.8407392704361697,0.8533804774379177,-0.059350929952908534,1.0205634363676772,-1.7799932042531268,0.2317262664177079,-0.43506433070992123,0.21885734354175732,0.12191237624937491,0.18524173055924198,1.0448868828422513,-1.0693628956754957,-0.41071363662322125,-1.2017076759706053,0.36453795842358444,0.048199844587854104,0.06988559244102713,-1.302062250615279,2.0868259885989198,-0.8867554121873944,-0.4991233846826625,0.6624829896563093,-0.08644530990479748,0.05376519275306745,0.6105915466200568,1.5880147270494087,-2.6059443100785398,1.113681623122705,-2.4808034446004505,0.7950575875647712,-1.7216964395170653,0.9714435277856804,-0.2276106106055289,-0.1445109611895521,-1.3269143168436681,-2.0694832857147674,-0.7742834005575784,-0.6461480867969325,-0.6757574665431837,0.9722038475153926,0.9775585773247587,0.46947999658130235,0.9322149470058937,-0.21609438336289588,2.248124938605876,-0.32137434342729276,-2.438336521811027,0.7591164420275582,-0.5280112163401659,-0.46329575071946916,0.597968464659016,-0.6701092888978968,-1.2261745344221369,-1.2143797733898316,0.4103104662761871,-0.05196950755972925,-0.0706104909389996,-1.9771998405899995,1.759130100764726,-0.6872895951785153,-0.16848677083892882,-0.5170754348269515,-1.0486590728578142,1.6818373695865567],\"xaxis\":\"x16\",\"yaxis\":\"y16\",\"type\":\"histogram\"}],                        {\"bargap\":0.02,\"legend\":{\"bgcolor\":\"#F5F6F9\",\"font\":{\"color\":\"#4D5663\"}},\"paper_bgcolor\":\"#F5F6F9\",\"plot_bgcolor\":\"#F5F6F9\",\"showlegend\":false,\"template\":{\"data\":{\"barpolar\":[{\"marker\":{\"line\":{\"color\":\"#E5ECF6\",\"width\":0.5},\"pattern\":{\"fillmode\":\"overlay\",\"size\":10,\"solidity\":0.2}},\"type\":\"barpolar\"}],\"bar\":[{\"error_x\":{\"color\":\"#2a3f5f\"},\"error_y\":{\"color\":\"#2a3f5f\"},\"marker\":{\"line\":{\"color\":\"#E5ECF6\",\"width\":0.5},\"pattern\":{\"fillmode\":\"overlay\",\"size\":10,\"solidity\":0.2}},\"type\":\"bar\"}],\"carpet\":[{\"aaxis\":{\"endlinecolor\":\"#2a3f5f\",\"gridcolor\":\"white\",\"linecolor\":\"white\",\"minorgridcolor\":\"white\",\"startlinecolor\":\"#2a3f5f\"},\"baxis\":{\"endlinecolor\":\"#2a3f5f\",\"gridcolor\":\"white\",\"linecolor\":\"white\",\"minorgridcolor\":\"white\",\"startlinecolor\":\"#2a3f5f\"},\"type\":\"carpet\"}],\"choropleth\":[{\"colorbar\":{\"outlinewidth\":0,\"ticks\":\"\"},\"type\":\"choropleth\"}],\"contourcarpet\":[{\"colorbar\":{\"outlinewidth\":0,\"ticks\":\"\"},\"type\":\"contourcarpet\"}],\"contour\":[{\"colorbar\":{\"outlinewidth\":0,\"ticks\":\"\"},\"colorscale\":[[0.0,\"#0d0887\"],[0.1111111111111111,\"#46039f\"],[0.2222222222222222,\"#7201a8\"],[0.3333333333333333,\"#9c179e\"],[0.4444444444444444,\"#bd3786\"],[0.5555555555555556,\"#d8576b\"],[0.6666666666666666,\"#ed7953\"],[0.7777777777777778,\"#fb9f3a\"],[0.8888888888888888,\"#fdca26\"],[1.0,\"#f0f921\"]],\"type\":\"contour\"}],\"heatmapgl\":[{\"colorbar\":{\"outlinewidth\":0,\"ticks\":\"\"},\"colorscale\":[[0.0,\"#0d0887\"],[0.1111111111111111,\"#46039f\"],[0.2222222222222222,\"#7201a8\"],[0.3333333333333333,\"#9c179e\"],[0.4444444444444444,\"#bd3786\"],[0.5555555555555556,\"#d8576b\"],[0.6666666666666666,\"#ed7953\"],[0.7777777777777778,\"#fb9f3a\"],[0.8888888888888888,\"#fdca26\"],[1.0,\"#f0f921\"]],\"type\":\"heatmapgl\"}],\"heatmap\":[{\"colorbar\":{\"outlinewidth\":0,\"ticks\":\"\"},\"colorscale\":[[0.0,\"#0d0887\"],[0.1111111111111111,\"#46039f\"],[0.2222222222222222,\"#7201a8\"],[0.3333333333333333,\"#9c179e\"],[0.4444444444444444,\"#bd3786\"],[0.5555555555555556,\"#d8576b\"],[0.6666666666666666,\"#ed7953\"],[0.7777777777777778,\"#fb9f3a\"],[0.8888888888888888,\"#fdca26\"],[1.0,\"#f0f921\"]],\"type\":\"heatmap\"}],\"histogram2dcontour\":[{\"colorbar\":{\"outlinewidth\":0,\"ticks\":\"\"},\"colorscale\":[[0.0,\"#0d0887\"],[0.1111111111111111,\"#46039f\"],[0.2222222222222222,\"#7201a8\"],[0.3333333333333333,\"#9c179e\"],[0.4444444444444444,\"#bd3786\"],[0.5555555555555556,\"#d8576b\"],[0.6666666666666666,\"#ed7953\"],[0.7777777777777778,\"#fb9f3a\"],[0.8888888888888888,\"#fdca26\"],[1.0,\"#f0f921\"]],\"type\":\"histogram2dcontour\"}],\"histogram2d\":[{\"colorbar\":{\"outlinewidth\":0,\"ticks\":\"\"},\"colorscale\":[[0.0,\"#0d0887\"],[0.1111111111111111,\"#46039f\"],[0.2222222222222222,\"#7201a8\"],[0.3333333333333333,\"#9c179e\"],[0.4444444444444444,\"#bd3786\"],[0.5555555555555556,\"#d8576b\"],[0.6666666666666666,\"#ed7953\"],[0.7777777777777778,\"#fb9f3a\"],[0.8888888888888888,\"#fdca26\"],[1.0,\"#f0f921\"]],\"type\":\"histogram2d\"}],\"histogram\":[{\"marker\":{\"pattern\":{\"fillmode\":\"overlay\",\"size\":10,\"solidity\":0.2}},\"type\":\"histogram\"}],\"mesh3d\":[{\"colorbar\":{\"outlinewidth\":0,\"ticks\":\"\"},\"type\":\"mesh3d\"}],\"parcoords\":[{\"line\":{\"colorbar\":{\"outlinewidth\":0,\"ticks\":\"\"}},\"type\":\"parcoords\"}],\"pie\":[{\"automargin\":true,\"type\":\"pie\"}],\"scatter3d\":[{\"line\":{\"colorbar\":{\"outlinewidth\":0,\"ticks\":\"\"}},\"marker\":{\"colorbar\":{\"outlinewidth\":0,\"ticks\":\"\"}},\"type\":\"scatter3d\"}],\"scattercarpet\":[{\"marker\":{\"colorbar\":{\"outlinewidth\":0,\"ticks\":\"\"}},\"type\":\"scattercarpet\"}],\"scattergeo\":[{\"marker\":{\"colorbar\":{\"outlinewidth\":0,\"ticks\":\"\"}},\"type\":\"scattergeo\"}],\"scattergl\":[{\"marker\":{\"colorbar\":{\"outlinewidth\":0,\"ticks\":\"\"}},\"type\":\"scattergl\"}],\"scattermapbox\":[{\"marker\":{\"colorbar\":{\"outlinewidth\":0,\"ticks\":\"\"}},\"type\":\"scattermapbox\"}],\"scatterpolargl\":[{\"marker\":{\"colorbar\":{\"outlinewidth\":0,\"ticks\":\"\"}},\"type\":\"scatterpolargl\"}],\"scatterpolar\":[{\"marker\":{\"colorbar\":{\"outlinewidth\":0,\"ticks\":\"\"}},\"type\":\"scatterpolar\"}],\"scatter\":[{\"fillpattern\":{\"fillmode\":\"overlay\",\"size\":10,\"solidity\":0.2},\"type\":\"scatter\"}],\"scatterternary\":[{\"marker\":{\"colorbar\":{\"outlinewidth\":0,\"ticks\":\"\"}},\"type\":\"scatterternary\"}],\"surface\":[{\"colorbar\":{\"outlinewidth\":0,\"ticks\":\"\"},\"colorscale\":[[0.0,\"#0d0887\"],[0.1111111111111111,\"#46039f\"],[0.2222222222222222,\"#7201a8\"],[0.3333333333333333,\"#9c179e\"],[0.4444444444444444,\"#bd3786\"],[0.5555555555555556,\"#d8576b\"],[0.6666666666666666,\"#ed7953\"],[0.7777777777777778,\"#fb9f3a\"],[0.8888888888888888,\"#fdca26\"],[1.0,\"#f0f921\"]],\"type\":\"surface\"}],\"table\":[{\"cells\":{\"fill\":{\"color\":\"#EBF0F8\"},\"line\":{\"color\":\"white\"}},\"header\":{\"fill\":{\"color\":\"#C8D4E3\"},\"line\":{\"color\":\"white\"}},\"type\":\"table\"}]},\"layout\":{\"annotationdefaults\":{\"arrowcolor\":\"#2a3f5f\",\"arrowhead\":0,\"arrowwidth\":1},\"autotypenumbers\":\"strict\",\"coloraxis\":{\"colorbar\":{\"outlinewidth\":0,\"ticks\":\"\"}},\"colorscale\":{\"diverging\":[[0,\"#8e0152\"],[0.1,\"#c51b7d\"],[0.2,\"#de77ae\"],[0.3,\"#f1b6da\"],[0.4,\"#fde0ef\"],[0.5,\"#f7f7f7\"],[0.6,\"#e6f5d0\"],[0.7,\"#b8e186\"],[0.8,\"#7fbc41\"],[0.9,\"#4d9221\"],[1,\"#276419\"]],\"sequential\":[[0.0,\"#0d0887\"],[0.1111111111111111,\"#46039f\"],[0.2222222222222222,\"#7201a8\"],[0.3333333333333333,\"#9c179e\"],[0.4444444444444444,\"#bd3786\"],[0.5555555555555556,\"#d8576b\"],[0.6666666666666666,\"#ed7953\"],[0.7777777777777778,\"#fb9f3a\"],[0.8888888888888888,\"#fdca26\"],[1.0,\"#f0f921\"]],\"sequentialminus\":[[0.0,\"#0d0887\"],[0.1111111111111111,\"#46039f\"],[0.2222222222222222,\"#7201a8\"],[0.3333333333333333,\"#9c179e\"],[0.4444444444444444,\"#bd3786\"],[0.5555555555555556,\"#d8576b\"],[0.6666666666666666,\"#ed7953\"],[0.7777777777777778,\"#fb9f3a\"],[0.8888888888888888,\"#fdca26\"],[1.0,\"#f0f921\"]]},\"colorway\":[\"#636efa\",\"#EF553B\",\"#00cc96\",\"#ab63fa\",\"#FFA15A\",\"#19d3f3\",\"#FF6692\",\"#B6E880\",\"#FF97FF\",\"#FECB52\"],\"font\":{\"color\":\"#2a3f5f\"},\"geo\":{\"bgcolor\":\"white\",\"lakecolor\":\"white\",\"landcolor\":\"#E5ECF6\",\"showlakes\":true,\"showland\":true,\"subunitcolor\":\"white\"},\"hoverlabel\":{\"align\":\"left\"},\"hovermode\":\"closest\",\"mapbox\":{\"style\":\"light\"},\"paper_bgcolor\":\"white\",\"plot_bgcolor\":\"#E5ECF6\",\"polar\":{\"angularaxis\":{\"gridcolor\":\"white\",\"linecolor\":\"white\",\"ticks\":\"\"},\"bgcolor\":\"#E5ECF6\",\"radialaxis\":{\"gridcolor\":\"white\",\"linecolor\":\"white\",\"ticks\":\"\"}},\"scene\":{\"xaxis\":{\"backgroundcolor\":\"#E5ECF6\",\"gridcolor\":\"white\",\"gridwidth\":2,\"linecolor\":\"white\",\"showbackground\":true,\"ticks\":\"\",\"zerolinecolor\":\"white\"},\"yaxis\":{\"backgroundcolor\":\"#E5ECF6\",\"gridcolor\":\"white\",\"gridwidth\":2,\"linecolor\":\"white\",\"showbackground\":true,\"ticks\":\"\",\"zerolinecolor\":\"white\"},\"zaxis\":{\"backgroundcolor\":\"#E5ECF6\",\"gridcolor\":\"white\",\"gridwidth\":2,\"linecolor\":\"white\",\"showbackground\":true,\"ticks\":\"\",\"zerolinecolor\":\"white\"}},\"shapedefaults\":{\"line\":{\"color\":\"#2a3f5f\"}},\"ternary\":{\"aaxis\":{\"gridcolor\":\"white\",\"linecolor\":\"white\",\"ticks\":\"\"},\"baxis\":{\"gridcolor\":\"white\",\"linecolor\":\"white\",\"ticks\":\"\"},\"bgcolor\":\"#E5ECF6\",\"caxis\":{\"gridcolor\":\"white\",\"linecolor\":\"white\",\"ticks\":\"\"}},\"title\":{\"x\":0.05},\"xaxis\":{\"automargin\":true,\"gridcolor\":\"white\",\"linecolor\":\"white\",\"ticks\":\"\",\"title\":{\"standoff\":15},\"zerolinecolor\":\"white\",\"zerolinewidth\":2},\"yaxis\":{\"automargin\":true,\"gridcolor\":\"white\",\"linecolor\":\"white\",\"ticks\":\"\",\"title\":{\"standoff\":15},\"zerolinecolor\":\"white\",\"zerolinewidth\":2}}},\"title\":{\"font\":{\"color\":\"#4D5663\"}},\"xaxis\":{\"anchor\":\"y\",\"domain\":[0.0,0.2125],\"gridcolor\":\"#E1E5ED\",\"showgrid\":false,\"tickfont\":{\"color\":\"#4D5663\"},\"title\":{\"font\":{\"color\":\"#4D5663\"},\"text\":\"\"},\"zerolinecolor\":\"#E1E5ED\"},\"yaxis\":{\"anchor\":\"x\",\"domain\":[0.8025,1.0],\"gridcolor\":\"#E1E5ED\",\"showgrid\":false,\"tickfont\":{\"color\":\"#4D5663\"},\"title\":{\"font\":{\"color\":\"#4D5663\"},\"text\":\"\"},\"zerolinecolor\":\"#E1E5ED\"},\"xaxis2\":{\"anchor\":\"y2\",\"domain\":[0.2625,0.475],\"gridcolor\":\"#E1E5ED\",\"showgrid\":false,\"tickfont\":{\"color\":\"#4D5663\"},\"title\":{\"font\":{\"color\":\"#4D5663\"},\"text\":\"\"},\"zerolinecolor\":\"#E1E5ED\"},\"yaxis2\":{\"anchor\":\"x2\",\"domain\":[0.8025,1.0],\"gridcolor\":\"#E1E5ED\",\"showgrid\":false,\"tickfont\":{\"color\":\"#4D5663\"},\"title\":{\"font\":{\"color\":\"#4D5663\"},\"text\":\"\"},\"zerolinecolor\":\"#E1E5ED\"},\"xaxis3\":{\"anchor\":\"y3\",\"domain\":[0.525,0.7375],\"gridcolor\":\"#E1E5ED\",\"showgrid\":false,\"tickfont\":{\"color\":\"#4D5663\"},\"title\":{\"font\":{\"color\":\"#4D5663\"},\"text\":\"\"},\"zerolinecolor\":\"#E1E5ED\"},\"yaxis3\":{\"anchor\":\"x3\",\"domain\":[0.8025,1.0],\"gridcolor\":\"#E1E5ED\",\"showgrid\":false,\"tickfont\":{\"color\":\"#4D5663\"},\"title\":{\"font\":{\"color\":\"#4D5663\"},\"text\":\"\"},\"zerolinecolor\":\"#E1E5ED\"},\"xaxis4\":{\"anchor\":\"y4\",\"domain\":[0.7875,1.0],\"gridcolor\":\"#E1E5ED\",\"showgrid\":false,\"tickfont\":{\"color\":\"#4D5663\"},\"title\":{\"font\":{\"color\":\"#4D5663\"},\"text\":\"\"},\"zerolinecolor\":\"#E1E5ED\"},\"yaxis4\":{\"anchor\":\"x4\",\"domain\":[0.8025,1.0],\"gridcolor\":\"#E1E5ED\",\"showgrid\":false,\"tickfont\":{\"color\":\"#4D5663\"},\"title\":{\"font\":{\"color\":\"#4D5663\"},\"text\":\"\"},\"zerolinecolor\":\"#E1E5ED\"},\"xaxis5\":{\"anchor\":\"y5\",\"domain\":[0.0,0.2125],\"gridcolor\":\"#E1E5ED\",\"showgrid\":false,\"tickfont\":{\"color\":\"#4D5663\"},\"title\":{\"font\":{\"color\":\"#4D5663\"},\"text\":\"\"},\"zerolinecolor\":\"#E1E5ED\"},\"yaxis5\":{\"anchor\":\"x5\",\"domain\":[0.535,0.7325],\"gridcolor\":\"#E1E5ED\",\"showgrid\":false,\"tickfont\":{\"color\":\"#4D5663\"},\"title\":{\"font\":{\"color\":\"#4D5663\"},\"text\":\"\"},\"zerolinecolor\":\"#E1E5ED\"},\"xaxis6\":{\"anchor\":\"y6\",\"domain\":[0.2625,0.475],\"gridcolor\":\"#E1E5ED\",\"showgrid\":false,\"tickfont\":{\"color\":\"#4D5663\"},\"title\":{\"font\":{\"color\":\"#4D5663\"},\"text\":\"\"},\"zerolinecolor\":\"#E1E5ED\"},\"yaxis6\":{\"anchor\":\"x6\",\"domain\":[0.535,0.7325],\"gridcolor\":\"#E1E5ED\",\"showgrid\":false,\"tickfont\":{\"color\":\"#4D5663\"},\"title\":{\"font\":{\"color\":\"#4D5663\"},\"text\":\"\"},\"zerolinecolor\":\"#E1E5ED\"},\"xaxis7\":{\"anchor\":\"y7\",\"domain\":[0.525,0.7375],\"gridcolor\":\"#E1E5ED\",\"showgrid\":false,\"tickfont\":{\"color\":\"#4D5663\"},\"title\":{\"font\":{\"color\":\"#4D5663\"},\"text\":\"\"},\"zerolinecolor\":\"#E1E5ED\"},\"yaxis7\":{\"anchor\":\"x7\",\"domain\":[0.535,0.7325],\"gridcolor\":\"#E1E5ED\",\"showgrid\":false,\"tickfont\":{\"color\":\"#4D5663\"},\"title\":{\"font\":{\"color\":\"#4D5663\"},\"text\":\"\"},\"zerolinecolor\":\"#E1E5ED\"},\"xaxis8\":{\"anchor\":\"y8\",\"domain\":[0.7875,1.0],\"gridcolor\":\"#E1E5ED\",\"showgrid\":false,\"tickfont\":{\"color\":\"#4D5663\"},\"title\":{\"font\":{\"color\":\"#4D5663\"},\"text\":\"\"},\"zerolinecolor\":\"#E1E5ED\"},\"yaxis8\":{\"anchor\":\"x8\",\"domain\":[0.535,0.7325],\"gridcolor\":\"#E1E5ED\",\"showgrid\":false,\"tickfont\":{\"color\":\"#4D5663\"},\"title\":{\"font\":{\"color\":\"#4D5663\"},\"text\":\"\"},\"zerolinecolor\":\"#E1E5ED\"},\"xaxis9\":{\"anchor\":\"y9\",\"domain\":[0.0,0.2125],\"gridcolor\":\"#E1E5ED\",\"showgrid\":false,\"tickfont\":{\"color\":\"#4D5663\"},\"title\":{\"font\":{\"color\":\"#4D5663\"},\"text\":\"\"},\"zerolinecolor\":\"#E1E5ED\"},\"yaxis9\":{\"anchor\":\"x9\",\"domain\":[0.2675,0.465],\"gridcolor\":\"#E1E5ED\",\"showgrid\":false,\"tickfont\":{\"color\":\"#4D5663\"},\"title\":{\"font\":{\"color\":\"#4D5663\"},\"text\":\"\"},\"zerolinecolor\":\"#E1E5ED\"},\"xaxis10\":{\"anchor\":\"y10\",\"domain\":[0.2625,0.475],\"gridcolor\":\"#E1E5ED\",\"showgrid\":false,\"tickfont\":{\"color\":\"#4D5663\"},\"title\":{\"font\":{\"color\":\"#4D5663\"},\"text\":\"\"},\"zerolinecolor\":\"#E1E5ED\"},\"yaxis10\":{\"anchor\":\"x10\",\"domain\":[0.2675,0.465],\"gridcolor\":\"#E1E5ED\",\"showgrid\":false,\"tickfont\":{\"color\":\"#4D5663\"},\"title\":{\"font\":{\"color\":\"#4D5663\"},\"text\":\"\"},\"zerolinecolor\":\"#E1E5ED\"},\"xaxis11\":{\"anchor\":\"y11\",\"domain\":[0.525,0.7375],\"gridcolor\":\"#E1E5ED\",\"showgrid\":false,\"tickfont\":{\"color\":\"#4D5663\"},\"title\":{\"font\":{\"color\":\"#4D5663\"},\"text\":\"\"},\"zerolinecolor\":\"#E1E5ED\"},\"yaxis11\":{\"anchor\":\"x11\",\"domain\":[0.2675,0.465],\"gridcolor\":\"#E1E5ED\",\"showgrid\":false,\"tickfont\":{\"color\":\"#4D5663\"},\"title\":{\"font\":{\"color\":\"#4D5663\"},\"text\":\"\"},\"zerolinecolor\":\"#E1E5ED\"},\"xaxis12\":{\"anchor\":\"y12\",\"domain\":[0.7875,1.0],\"gridcolor\":\"#E1E5ED\",\"showgrid\":false,\"tickfont\":{\"color\":\"#4D5663\"},\"title\":{\"font\":{\"color\":\"#4D5663\"},\"text\":\"\"},\"zerolinecolor\":\"#E1E5ED\"},\"yaxis12\":{\"anchor\":\"x12\",\"domain\":[0.2675,0.465],\"gridcolor\":\"#E1E5ED\",\"showgrid\":false,\"tickfont\":{\"color\":\"#4D5663\"},\"title\":{\"font\":{\"color\":\"#4D5663\"},\"text\":\"\"},\"zerolinecolor\":\"#E1E5ED\"},\"xaxis13\":{\"anchor\":\"y13\",\"domain\":[0.0,0.2125],\"gridcolor\":\"#E1E5ED\",\"showgrid\":false,\"tickfont\":{\"color\":\"#4D5663\"},\"title\":{\"font\":{\"color\":\"#4D5663\"},\"text\":\"\"},\"zerolinecolor\":\"#E1E5ED\"},\"yaxis13\":{\"anchor\":\"x13\",\"domain\":[0.0,0.1975],\"gridcolor\":\"#E1E5ED\",\"showgrid\":false,\"tickfont\":{\"color\":\"#4D5663\"},\"title\":{\"font\":{\"color\":\"#4D5663\"},\"text\":\"\"},\"zerolinecolor\":\"#E1E5ED\"},\"xaxis14\":{\"anchor\":\"y14\",\"domain\":[0.2625,0.475],\"gridcolor\":\"#E1E5ED\",\"showgrid\":false,\"tickfont\":{\"color\":\"#4D5663\"},\"title\":{\"font\":{\"color\":\"#4D5663\"},\"text\":\"\"},\"zerolinecolor\":\"#E1E5ED\"},\"yaxis14\":{\"anchor\":\"x14\",\"domain\":[0.0,0.1975],\"gridcolor\":\"#E1E5ED\",\"showgrid\":false,\"tickfont\":{\"color\":\"#4D5663\"},\"title\":{\"font\":{\"color\":\"#4D5663\"},\"text\":\"\"},\"zerolinecolor\":\"#E1E5ED\"},\"xaxis15\":{\"anchor\":\"y15\",\"domain\":[0.525,0.7375],\"gridcolor\":\"#E1E5ED\",\"showgrid\":false,\"tickfont\":{\"color\":\"#4D5663\"},\"title\":{\"font\":{\"color\":\"#4D5663\"},\"text\":\"\"},\"zerolinecolor\":\"#E1E5ED\"},\"yaxis15\":{\"anchor\":\"x15\",\"domain\":[0.0,0.1975],\"gridcolor\":\"#E1E5ED\",\"showgrid\":false,\"tickfont\":{\"color\":\"#4D5663\"},\"title\":{\"font\":{\"color\":\"#4D5663\"},\"text\":\"\"},\"zerolinecolor\":\"#E1E5ED\"},\"xaxis16\":{\"anchor\":\"y16\",\"domain\":[0.7875,1.0],\"gridcolor\":\"#E1E5ED\",\"showgrid\":false,\"tickfont\":{\"color\":\"#4D5663\"},\"title\":{\"font\":{\"color\":\"#4D5663\"},\"text\":\"\"},\"zerolinecolor\":\"#E1E5ED\"},\"yaxis16\":{\"anchor\":\"x16\",\"domain\":[0.0,0.1975],\"gridcolor\":\"#E1E5ED\",\"showgrid\":false,\"tickfont\":{\"color\":\"#4D5663\"},\"title\":{\"font\":{\"color\":\"#4D5663\"},\"text\":\"\"},\"zerolinecolor\":\"#E1E5ED\"}},                        {\"showLink\": true, \"linkText\": \"Export to plot.ly\", \"plotlyServerURL\": \"https://plot.ly\", \"responsive\": true}                    ).then(function(){\n",
       "                            \n",
       "var gd = document.getElementById('030dcc40-5358-46f0-8969-7c73f50c5cab');\n",
       "var x = new MutationObserver(function (mutations, observer) {{\n",
       "        var display = window.getComputedStyle(gd).display;\n",
       "        if (!display || display === 'none') {{\n",
       "            console.log([gd, 'removed!']);\n",
       "            Plotly.purge(gd);\n",
       "            observer.disconnect();\n",
       "        }}\n",
       "}});\n",
       "\n",
       "// Listen for the removal of the full notebook cells\n",
       "var notebookContainer = gd.closest('#notebook-container');\n",
       "if (notebookContainer) {{\n",
       "    x.observe(notebookContainer, {childList: true});\n",
       "}}\n",
       "\n",
       "// Listen for the clearing of the current output cell\n",
       "var outputEl = gd.closest('.output');\n",
       "if (outputEl) {{\n",
       "    x.observe(outputEl, {childList: true});\n",
       "}}\n",
       "\n",
       "                        })                };                });            </script>        </div>"
      ]
     },
     "metadata": {},
     "output_type": "display_data"
    }
   ],
   "source": [
    "df.scatter_matrix()"
   ]
  },
  {
   "cell_type": "markdown",
   "metadata": {
    "collapsed": true
   },
   "source": [
    "# Great Job!"
   ]
  }
 ],
 "metadata": {
  "kernelspec": {
   "display_name": "Python 3",
   "language": "python",
   "name": "python3"
  },
  "language_info": {
   "codemirror_mode": {
    "name": "ipython",
    "version": 3
   },
   "file_extension": ".py",
   "mimetype": "text/x-python",
   "name": "python",
   "nbconvert_exporter": "python",
   "pygments_lexer": "ipython3",
   "version": "3.11.4"
  }
 },
 "nbformat": 4,
 "nbformat_minor": 0
}
